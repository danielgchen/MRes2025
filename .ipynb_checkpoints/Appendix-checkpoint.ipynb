{
 "cells": [
  {
   "cell_type": "markdown",
   "id": "bfaac70a-8ff7-41ca-9724-42671384562f",
   "metadata": {},
   "source": [
    "### setup packages"
   ]
  },
  {
   "cell_type": "code",
   "execution_count": null,
   "id": "2dedf67f-e7d1-4778-8459-1768f5368eb3",
   "metadata": {},
   "outputs": [],
   "source": [
    "# import packages\n",
    "from glob import glob\n",
    "import matplotlib.pyplot as plt\n",
    "import numpy as np\n",
    "import os\n",
    "import pandas as pd\n",
    "import scanpy as sc\n",
    "import scipy.stats as ss\n",
    "import seaborn as sns\n",
    "sc.settings.set_figure_params(dpi=100)"
   ]
  },
  {
   "cell_type": "markdown",
   "id": "55efa687-6523-428c-811d-09ea5622d0c7",
   "metadata": {},
   "source": [
    "### genetic constraints"
   ]
  },
  {
   "cell_type": "code",
   "execution_count": null,
   "id": "a64cb6a6-9b21-4fb7-b3d6-2fa404e7ec52",
   "metadata": {},
   "outputs": [],
   "source": [
    "# gnomad v4.1, pLI=0.853\n",
    "# constraint metrics based on MANE Select transcript (ENST00000424100.2)\n",
    "mut = pd.DataFrame(index=['syn','mis','plof'], columns=['expected_SNVs','observed_SNVs','z_score','obs/exp','lbound','ubound'])\n",
    "mut.loc['syn'] = [173.725, 167, 0.278, 0.961, 0.847, 1.093]\n",
    "mut.loc['mis'] = [467.904, 299, 0, 0.639, 0.581, 0.703]\n",
    "mut.loc['plof'] = [22.128, 7, 0.853, 0.316, 0.179, 0.594]  # right is LOEUF\n",
    "\n",
    "# create forest plots\n",
    "fig, ax = plt.subplots(figsize=[4, 2.5]); ax.grid(False)\n",
    "colors = ['tab:red','tab:orange','tab:green']\n",
    "for idx_, idx in enumerate(mut.index[::-1]):\n",
    "    ax.scatter(mut.loc[idx, 'obs/exp'], idx, color=colors[idx_], s=75)\n",
    "    ax.plot([mut.loc[idx, 'lbound'], mut.loc[idx, 'ubound']], [idx]*2, color=colors[idx_], lw=2.5)\n",
    "    ax.plot([mut.loc[idx, 'lbound']]*2, [idx_-0.1, idx_+0.1], color=colors[idx_], lw=2.5)\n",
    "    ax.plot([mut.loc[idx, 'ubound']]*2, [idx_-0.1, idx_+0.1], color=colors[idx_], lw=2.5)\n",
    "ax.set_xlim(0.1, 1.15)\n",
    "ax.plot([1]*2, [-1, 3], linestyle='--', color='k')\n",
    "ax.set_ylim(-1, 3)\n",
    "ax.set_yticklabels(['Synonmous','Missense','pLOF'][::-1])\n",
    "ax.set_xlabel('Observed / Expected')"
   ]
  },
  {
   "cell_type": "markdown",
   "id": "cb633edf-126b-4f8a-b7d8-24572729c34a",
   "metadata": {},
   "source": [
    "### oGPCR spatial interactions (... continued from Main.ipynb)"
   ]
  },
  {
   "cell_type": "code",
   "execution_count": null,
   "id": "ac31c78a-a9cc-47c1-9278-24a5b7c85b31",
   "metadata": {
    "tags": []
   },
   "outputs": [],
   "source": [
    "# compile the results for z-score of orphan LRs\n",
    "df_zs = []\n",
    "for result, tag in zip(results, df_info['tag']):\n",
    "    if result is None: continue\n",
    "    # grab the file id\n",
    "    file_id = list(result.keys())[0]\n",
    "    # grab the result object\n",
    "    result = result[file_id]\n",
    "    # retrieve the proper dataframe\n",
    "    df_z = result['orphan']['z'].copy()\n",
    "    df_z.name = tag\n",
    "    df_zs.append(df_z)"
   ]
  },
  {
   "cell_type": "code",
   "execution_count": null,
   "id": "fb295e77-1f46-4fa2-bf53-71621ec7be15",
   "metadata": {},
   "outputs": [],
   "source": [
    "# average per organ\n",
    "df_z = pd.concat(df_zs, axis=1).T.fillna(0)\n",
    "df_z['organ'] = df_z.index.map(anno[['tag','organ']].value_counts().reset_index().set_index('tag')['organ'])\n",
    "df_z['organ'] += ':' + df_z.index.map(anno[['tag','age_cat']].value_counts().reset_index().set_index('tag')['age_cat'])\n",
    "df_z['organ'] = df_z['organ'].str.replace('Adult (≥60)', 'adult').str.replace('Adult (<60)', 'adult').str.replace('Unknown (likely adult)','adult').str.replace('Fetal','fetal').str.replace(':', ' – ')\n",
    "df_z = df_z.groupby('organ').mean()\n",
    "df_z = (df_z.T / baseline_random_organ).T"
   ]
  },
  {
   "cell_type": "code",
   "execution_count": null,
   "id": "46f5cbf8-67d8-453f-a9d9-13be6de977ee",
   "metadata": {
    "tags": []
   },
   "outputs": [],
   "source": [
    "# groupby receptor\n",
    "df_z_r = df_z.T.copy()\n",
    "df_z_r['receptor'] = df_z_r.index.to_series().str.split(':', expand=True)[1]\n",
    "df_z_rmean = df_z_r.groupby('receptor').mean()"
   ]
  },
  {
   "cell_type": "code",
   "execution_count": null,
   "id": "b02e9125-2499-490a-8cac-578de383c396",
   "metadata": {
    "tags": []
   },
   "outputs": [],
   "source": [
    "# highlight the blank\n",
    "g = sns.clustermap(df_z_rmean.T, vmin=-5, vmax=5, cmap='RdBu_r', method='ward', cbar_pos=(0, 1, .01, .1),\n",
    "                   xticklabels=1, yticklabels=1, figsize=[6, 15][::-1], dendrogram_ratio=(.2, .05)[::-1])\n",
    "g.ax_heatmap.grid(False); g.ax_heatmap.tick_params(labelsize=10)\n",
    "g.ax_heatmap.tick_params(axis='y', labelrotation=180, labelsize=10)\n",
    "labels = pd.Series([x.get_text() for x in g.ax_heatmap.get_yticklabels()])\n",
    "_ = g.ax_heatmap.set_yticklabels(labels.str.capitalize().str.replace(' – ', ' in ')\\\n",
    ".str.replace('Cns','CNS').str.replace('avn','atrioventricular node').str.replace('Prostate','Reproductive (prostate)'))\n",
    "g.ax_heatmap.set_xlabel('Orphan GPCR', fontsize=10, rotation=180)\n",
    "g.ax_heatmap.set_ylabel('Tissue', fontsize=10)"
   ]
  },
  {
   "cell_type": "markdown",
   "id": "5660a37a-5533-4b8a-9fa2-d329f420db4a",
   "metadata": {},
   "source": [
    "#### compute PCA for oGPCR spatial interaction profiles"
   ]
  },
  {
   "cell_type": "code",
   "execution_count": null,
   "id": "20cb112d-0d66-4c8f-adee-62c0325cc80a",
   "metadata": {
    "tags": []
   },
   "outputs": [],
   "source": [
    "from sklearn.decomposition import PCA\n",
    "data = df_z_rmean.copy().T\n",
    "data -= data.mean()\n",
    "data /= data.std()\n",
    "pca = PCA(n_components=5)\n",
    "pca.fit(data.T)\n",
    "comps = pd.DataFrame(pca.transform(data.T), index=df_z_rmean.index)\n",
    "evr = pca.explained_variance_ratio_"
   ]
  },
  {
   "cell_type": "code",
   "execution_count": null,
   "id": "8edf6c1c-65cc-4356-b49f-e8978de8e4f0",
   "metadata": {
    "tags": []
   },
   "outputs": [],
   "source": [
    "# color on the data\n",
    "fig, ax = plt.subplots(figsize=[2.5, 4]); ax.grid(False)\n",
    "ax.bar([f'PC{x}' for x in range(1, 5+1)], evr, edgecolor='xkcd:bright lilac', color='xkcd:pale lavender', lw=1.5)\n",
    "ax.set_ylabel('Explained variance ratio'); ax.tick_params(axis='x', labelrotation=90)"
   ]
  },
  {
   "cell_type": "code",
   "execution_count": null,
   "id": "843a05db-1821-48aa-b6bd-b77c9e81c7a2",
   "metadata": {
    "tags": []
   },
   "outputs": [],
   "source": [
    "# report the weights\n",
    "weights = pd.DataFrame(pca.components_, columns=df_z_rmean.columns).T"
   ]
  },
  {
   "cell_type": "code",
   "execution_count": null,
   "id": "4c6b5a15-264a-4ef2-a2e8-b4dba77e1fe7",
   "metadata": {
    "tags": []
   },
   "outputs": [],
   "source": [
    "# figure out the order\n",
    "fig, ax = plt.subplots(figsize=[4, 4]); ax.grid(False)\n",
    "ax.scatter(comps.loc['GPR85', 0], comps.loc['GPR85', 1], s=1e2, label='GPR85', lw=1.5,\n",
    "           color='xkcd:pale lavender', edgecolor='xkcd:bright lilac', marker='s')\n",
    "ax.scatter(comps.loc[comps.index != 'GPR85', 0], comps.loc[comps.index != 'GPR85', 1],\n",
    "           s=50, color='lightgray', edgecolor='grey', label='Orphan\\nGPCR', lw=1.5)\n",
    "ax.set(xlabel='PC1', ylabel='PC2')\n",
    "ax.legend(bbox_to_anchor=(.99, 1.05), bbox_transform=ax.transAxes, frameon=False)"
   ]
  },
  {
   "cell_type": "code",
   "execution_count": null,
   "id": "726c4125-59da-4088-8722-967d560f04d9",
   "metadata": {
    "tags": []
   },
   "outputs": [],
   "source": [
    "# figure out the order\n",
    "fig, ax = plt.subplots(figsize=[4, 4]); ax.grid(False)\n",
    "ax.scatter(comps[0], comps[1], s=50, c=df_z_rmean['heart (right atrium) – adult'], vmax=5, vmin=-5, cmap='RdBu_r', edgecolor='grey')\n",
    "ax.set(xlabel='PC1', ylabel='PC2', title='Heart (right atrium) – adult')"
   ]
  },
  {
   "cell_type": "code",
   "execution_count": null,
   "id": "8c3b6cf9-e3df-4e39-a83f-3370f9b38243",
   "metadata": {
    "tags": []
   },
   "outputs": [],
   "source": [
    "# figure out the order\n",
    "fig, ax = plt.subplots(figsize=[4, 4]); ax.grid(False)\n",
    "ax.scatter(comps[0], comps[1], s=50, c=df_z_rmean['cns (cerebral cortex) – adult'], vmax=2, vmin=-2, cmap='RdBu_r', edgecolor='grey')\n",
    "ax.set(xlabel='PC1', ylabel='PC2', title='CNS (cerebral cortex) in adult')"
   ]
  },
  {
   "cell_type": "code",
   "execution_count": null,
   "id": "45087a74-05db-4f41-a4d8-49e306ffadd3",
   "metadata": {
    "tags": []
   },
   "outputs": [],
   "source": [
    "# figure out the order\n",
    "fig, ax = plt.subplots(figsize=[4, 4]); ax.grid(False)\n",
    "ax.scatter(comps[0], comps[1], s=50, c=df_z_rmean['lung – adult'], vmax=2, vmin=-2, cmap='RdBu_r', edgecolor='grey')\n",
    "ax.set(xlabel='PC1', ylabel='PC2', title='Lung in adult')"
   ]
  },
  {
   "cell_type": "code",
   "execution_count": null,
   "id": "f44ac9f6-9cec-4df6-b410-b0f1b8042800",
   "metadata": {
    "tags": []
   },
   "outputs": [],
   "source": [
    "# figure out the order\n",
    "fig, ax = plt.subplots(figsize=[4, 4]); ax.grid(False)\n",
    "ax.scatter(comps[0], comps[1], s=50, c=df_z_rmean['thymus – fetal'], vmax=5, vmin=-5, cmap='RdBu_r', edgecolor='grey')\n",
    "ax.set(xlabel='PC1', ylabel='PC2', title='Thymus in fetal')"
   ]
  },
  {
   "cell_type": "markdown",
   "id": "211cd55a-265c-4da3-bae1-52e16d8b4beb",
   "metadata": {},
   "source": [
    "#### interrogate for PC weights"
   ]
  },
  {
   "cell_type": "code",
   "execution_count": null,
   "id": "5b4274ef-a90d-4027-8a52-24227af9b7df",
   "metadata": {
    "tags": []
   },
   "outputs": [],
   "source": [
    "# plot the data\n",
    "fig, ax = plt.subplots(figsize=[8, 4]); ax.grid(False)\n",
    "data = weights[1].sort_values()\n",
    "ax.bar(data.index, data, edgecolor='xkcd:bright lilac', color='xkcd:pale lavender', lw=1.5)\n",
    "ax.set(xlabel='Tissue', ylabel='Contribution to PC2')\n",
    "ax.plot([-1, len(data)], [0]*2, color='k', linestyle='--'); ax.set_xlim(-1, len(data))\n",
    "# retrieve labels\n",
    "ax.tick_params(axis='x', labelrotation=90)\n",
    "ax.set_xticklabels(data.index.str.capitalize().str.replace(' – ', ' in ')\\\n",
    ".str.replace('Cns','CNS').str.replace('avn','atrioventricular node').str.replace('Prostate','Reproductive (prostate)'))"
   ]
  },
  {
   "cell_type": "markdown",
   "id": "11705ca6-e4e4-496a-878d-44062c60d358",
   "metadata": {},
   "source": [
    "#### visualize GPR85 specific spatial interaction profiles"
   ]
  },
  {
   "cell_type": "code",
   "execution_count": null,
   "id": "ff052d82-f489-40d8-87e2-90c7a60d27e4",
   "metadata": {},
   "outputs": [],
   "source": [
    "# average per organ\n",
    "df_z = pd.concat(df_zs, axis=1).T.fillna(0)\n",
    "df_z['organ'] = df_z.index.map(anno[['tag','organ']].value_counts().reset_index().set_index('tag')['organ'])\n",
    "df_z['organ'] += ':' + df_z.index.map(anno[['tag','age_cat']].value_counts().reset_index().set_index('tag')['age_cat'])\n",
    "df_z['organ'] = df_z['organ'].str.replace('Adult (≥60)', 'adult').str.replace('Adult (<60)', 'adult').str.replace('Unknown (likely adult)','adult').str.replace('Fetal','fetal').str.replace(':', ' – ')\n",
    "df_z = df_z.groupby('organ').mean()\n",
    "df_z = (df_z.T / baseline_random_organ).T\n",
    "df_z = df_z.loc[:, df_z.columns.str.endswith(':GPR85')]\n",
    "df_z.columns = df_z.columns.str.replace(':GPR85','')\n",
    "# calculate linkages\n",
    "from scipy.cluster.hierarchy import linkage, fcluster\n",
    "print('calculating linkages for rows')\n",
    "Z_row = linkage(df_z, method='ward')\n",
    "Z_row_organ_gpr85 = Z_row.copy()\n",
    "print('calculating linkages for columns')\n",
    "Z_col = linkage(df_z.T, method='ward')\n",
    "Z_col_organ_gpr85 = Z_col.copy()"
   ]
  },
  {
   "cell_type": "code",
   "execution_count": null,
   "id": "a1364734-5fa4-4334-8eb4-0d2fda55e630",
   "metadata": {},
   "outputs": [],
   "source": [
    "# create clustermap\n",
    "g = sns.clustermap(df_z, figsize=[20, 8], vmin=-15, vmax=15, cmap='RdBu_r', cbar_pos=(0, 1, .01, .1), dendrogram_ratio=(.05, .1),\n",
    "                   row_linkage=Z_row_organ_gpr85, col_linkage=Z_col_organ_gpr85, xticklabels=0, yticklabels=1)\n",
    "g.ax_heatmap.grid(False)"
   ]
  },
  {
   "cell_type": "code",
   "execution_count": null,
   "id": "7608f669-7483-4402-bf89-4be61b3a1a99",
   "metadata": {
    "tags": []
   },
   "outputs": [],
   "source": [
    "# create clustermap\n",
    "col_colors = df_z.columns.to_series().str.startswith('Acetylcholine').map({True:'tab:red'}).fillna('lightgray')\n",
    "g = sns.clustermap(df_z, figsize=[20, 8], vmin=-15, vmax=15, cmap='RdBu_r', cbar_pos=(0, 1, .01, .1), dendrogram_ratio=(.05, .1),\n",
    "                   row_linkage=Z_row_organ_gpr85, col_linkage=Z_col_organ_gpr85, xticklabels=0, yticklabels=1,\n",
    "                   col_colors=col_colors, colors_ratio=0.02)\n",
    "g.ax_heatmap.grid(False); g.ax_col_colors.grid(False)"
   ]
  },
  {
   "cell_type": "code",
   "execution_count": null,
   "id": "b0ef4b3b-c5d3-4de7-890d-97e03d62f47f",
   "metadata": {},
   "outputs": [],
   "source": [
    "# melt the gpr85 dataframe\n",
    "df_z_melt = df_z.reset_index().melt(id_vars='organ')\n",
    "# rename accordingly\n",
    "df_z_melt['organ_renamed'] = df_z_melt['organ'].str.capitalize().str.replace(' – ', ' in ')\\\n",
    ".str.replace('Cns','CNS').str.replace('avn','atrioventricular node').str.replace('Prostate','Reproductive (prostate)')\n",
    "# create a bar plot of the expression\n",
    "fig, ax = plt.subplots(figsize=[10, 4]); ax.grid(False)\n",
    "order = df_z_melt.groupby('organ_renamed').mean(numeric_only=True)['value'].sort_values().index\n",
    "sns.barplot(x='organ_renamed', y='value', data=df_z_melt, color='xkcd:pale lavender',\n",
    "            edgecolor='xkcd:bright lilac', errcolor='xkcd:bright lilac', ci=68,\n",
    "            linewidth=1.5, capsize=0.3, errwidth=1.5, saturation=1, order=order)\n",
    "ax.tick_params(axis='x', labelrotation=90)\n",
    "ax.plot([-1, len(order)], [0]*2, color='k')\n",
    "ax.set_xlim(-1, len(order))\n",
    "ax.set(xlabel='Tissue', ylabel='Interaction Z-score (normalized)')"
   ]
  },
  {
   "cell_type": "code",
   "execution_count": null,
   "id": "b2495d07-f48a-4b8a-b008-f8c56a5811f5",
   "metadata": {},
   "outputs": [],
   "source": [
    "# compare the CNS and non-CNS adult and non-adult\n",
    "df_z_melt['cat_simple'] = 'CNS'\n",
    "df_z_melt.loc[~df_z_melt['organ'].str.startswith('cns'), 'cat_simple'] = 'Non-CNS'\n",
    "df_z_melt.loc[df_z_melt['organ'].str.endswith('adult'), 'cat_simple'] += ' in adult'\n",
    "df_z_melt.loc[df_z_melt['organ'].str.endswith('fetal'), 'cat_simple'] += ' in fetal'\n",
    "# get the color of the different organs\n",
    "fig, ax = plt.subplots(figsize=[2, 4]); ax.grid(False)\n",
    "order = sorted(df_z_melt['cat_simple'].unique())\n",
    "sns.barplot(x='cat_simple', y='value', data=df_z_melt, order=order, color='xkcd:pale lavender',\n",
    "            ci=68, errwidth=1.5, capsize=0.3, edgecolor='xkcd:bright lilac', errcolor='xkcd:bright lilac', linewidth=1.5)\n",
    "ax.tick_params(axis='x', labelrotation=90)\n",
    "ax.set_xlim(-1, len(order))\n",
    "ax.set(xlabel='', ylabel='Interaction Z-score (normalized)')\n",
    "ax.legend(bbox_to_anchor=(1.05, .99), bbox_transform=ax.transAxes, frameon=False, loc='upper left')\n",
    "# perform all p-value comparisons\n",
    "for tag in df_z_melt['cat_simple'].unique():\n",
    "    if tag == 'CNS in adult': continue\n",
    "    p = ss.mannwhitneyu(df_z_melt.loc[df_z_melt['cat_simple'] == 'CNS in adult', 'value'],\n",
    "                        df_z_melt.loc[df_z_melt['cat_simple'] == tag, 'value'])[1]\n",
    "    print(tag, p)"
   ]
  },
  {
   "cell_type": "markdown",
   "id": "8d604cfa-5325-461c-ad14-ac403481459e",
   "metadata": {},
   "source": [
    "### examine bulk RNA-seq and spatial interaction profiles for GPR85"
   ]
  },
  {
   "cell_type": "code",
   "execution_count": null,
   "id": "bfb0a25a-5bfc-40c8-b086-d7ed45d0eb1f",
   "metadata": {},
   "outputs": [],
   "source": [
    "# read in the data from HPA\n",
    "df = pd.read_table('/home/dchen2/LITERATURE/HPA/rna_tissue_gtex.tsv.zip')\n",
    "# retrieve the data and order\n",
    "data = df.loc[df['Gene name'] == 'GPR85']\n",
    "data = data.sort_values('TPM')\n",
    "# create CNS buckets\n",
    "non_cns = ['pancreas','skeletal muscle','liver','ovary','esophagus','stomach','skin','adrenal gland','small intestine','cervix','vagina','thyroid gland','colon','breast','salivary gland','kidney','fallopian tube','prostate','adipose tissue','lung','endometrium','urinary bladder','heart muscle','pituitary gland','spleen','testis']\n",
    "cns = ['amygdala','spinal cord','hypothalamus','substantia nigra','nucleus accumbens','hippocampus','cerebral cortex','caudate','putamen','cerebellum','retina']\n",
    "data['is_cns'] = 'CNS'\n",
    "data.loc[data['Tissue'].isin(non_cns), 'is_cns'] = 'Non-CNS'\n",
    "# plot the data\n",
    "fig, ax = plt.subplots(figsize=[12, 4]); ax.grid(False)\n",
    "ax.bar(data['Tissue'].str.capitalize(), data['TPM'], edgecolor='xkcd:bright lilac', color='xkcd:pale lavender', lw=1.5)\n",
    "ax.set(xlabel='Tissue', ylabel='Transcripts per million from GTEx')\n",
    "# retrieve labels\n",
    "ax.tick_params(axis='x', labelrotation=90)"
   ]
  },
  {
   "cell_type": "code",
   "execution_count": null,
   "id": "037b60e4-73af-400d-9253-ecd517d182a8",
   "metadata": {},
   "outputs": [],
   "source": [
    "# get the color of the different organs\n",
    "fig, ax = plt.subplots(figsize=[1.5, 4]); ax.grid(False)\n",
    "order = ['CNS','Non-CNS']\n",
    "# purely set for visualization purposes\n",
    "np.random.seed(3)\n",
    "# derive the bar and stripplots\n",
    "sns.barplot(x='is_cns', y='TPM', data=data, order=order, color='xkcd:pale lavender',\n",
    "            ci=68, errwidth=1.5, capsize=0.3, edgecolor='xkcd:bright lilac', errcolor='xkcd:bright lilac', linewidth=1.5)\n",
    "sns.stripplot(x='is_cns', y='TPM', data=data, order=order, jitter=0.4, alpha=0.5,\n",
    "              color='xkcd:pale lavender', edgecolor='xkcd:bright lilac', linewidth=1.5)\n",
    "ax.tick_params(axis='x', labelrotation=90)\n",
    "ax.set_xlim(-1, len(order))\n",
    "ax.legend(bbox_to_anchor=(1.05, .99), bbox_transform=ax.transAxes, frameon=False, loc='upper left')\n",
    "ax.set_ylim(0, 20)\n",
    "ss.mannwhitneyu(data['TPM'][data['is_cns'] == 'CNS'], data['TPM'][data['is_cns'] == 'Non-CNS'])[1]"
   ]
  },
  {
   "cell_type": "code",
   "execution_count": null,
   "id": "2a621e3a-10d7-4da9-be07-3fc836f3ff5f",
   "metadata": {
    "scrolled": true
   },
   "outputs": [],
   "source": [
    "# derive an order of expression for GPR85\n",
    "order = df_z_melt.loc[df_z_melt['organ'].str.startswith('cns')].groupby('variable').mean(numeric_only=True)['value'].sort_values()[::-1]\n",
    "# look through neurotransmitters\n",
    "neurotransmitters = ['Acetylcholine','Glutamate','GABA','Adenosine','Histamine']\n",
    "diffs = pd.Series(); ps = pd.Series()\n",
    "for neurotransmitter in neurotransmitters:\n",
    "    # gather the data\n",
    "    df_z_tmp = df_z_plot.loc[df_z_plot['protein_vs_metabolite'] != 'Random']\n",
    "    # look at muscarinic receptors\n",
    "    mask = df_z_tmp.index == ''\n",
    "    for receptor in [neurotransmitter]:\n",
    "        mask = mask | df_z_tmp['variable'].str.startswith(receptor) | df_z_tmp['variable'].str.endswith(receptor)\n",
    "    df_z_tmp = df_z_tmp.loc[mask].groupby(['organ_simple','variable']).mean(numeric_only=True)['value'].astype(float).reset_index()\n",
    "    df_z_tmp = df_z_tmp.loc[df_z_tmp['organ_simple'].str.startswith('cns')].groupby('variable').mean(numeric_only=True)['value'].sort_values()[::-1]\n",
    "    # examine both distributions\n",
    "    x1s = order.loc[order.index.str.startswith(neurotransmitter)][::-1].tolist()\n",
    "    x2s = df_z_tmp.tolist()\n",
    "    diffs.loc[neurotransmitter] = np.mean(x1s) - np.mean(x2s)\n",
    "    # plot the data and report the pvalue\n",
    "    fig, ax = plt.subplots(figsize=[2, 4]); ax.grid(False)\n",
    "    sns.barplot(x=['GPR85']*len(x1s)+['Known']*len(x2s), y=x1s+x2s,\n",
    "                palette=['xkcd:bright lilac', 'lightgray'], errwidth=1.5,\n",
    "                errcolor='k', edgecolor='k', linewidth=1.5, capsize=0.3)\n",
    "    ax.set_xlim(-1, 2); ax.tick_params(axis='x', labelrotation=90)\n",
    "    ax.set_ylim(np.array(ax.get_ylim())*1.3)\n",
    "    p = ss.mannwhitneyu(x1s, x2s)[1]; ps.loc[neurotransmitter] = p\n",
    "    ax.text(0.5, ax.get_ylim()[1]/1.3*1.125, 'p=%.2e' % p, va='center', ha='center')\n",
    "    ax.set_ylabel(f'Average interaction Z-score\\n(normalized) against\\n{neurotransmitter.lower()} in the CNS')"
   ]
  },
  {
   "cell_type": "code",
   "execution_count": null,
   "id": "14473ccf-7c3e-48d3-b403-e16ed14b000c",
   "metadata": {},
   "outputs": [],
   "source": [
    "# color on the data\n",
    "fig, ax = plt.subplots(figsize=[3, 4]); ax.grid(False)\n",
    "diffs = diffs.sort_values()\n",
    "ax.bar(diffs.index, 1 / -diffs, edgecolor='xkcd:bright lilac', color='xkcd:pale lavender', lw=1.5)\n",
    "ax.tick_params(axis='x', labelrotation=90)\n",
    "ax.set_ylabel('Interaction strength similarity\\nto known (1 / (Known - Obs))')"
   ]
  },
  {
   "cell_type": "code",
   "execution_count": null,
   "id": "f0d11433-ad58-402f-ba14-44699cecc55d",
   "metadata": {},
   "outputs": [],
   "source": [
    "from adjustText import adjust_text\n",
    "# color on the data\n",
    "fig, ax = plt.subplots(figsize=[4, 4]); ax.grid(False)\n",
    "diffs = diffs.sort_values()\n",
    "xs, ys = -np.log10(ps.loc[diffs.index]), 1 / -diffs\n",
    "avoid = ax.scatter(xs, ys, edgecolor='xkcd:bright lilac', color='xkcd:pale lavender', lw=1.5)\n",
    "ax.set_ylabel('Interaction strength similarity\\nto known (1 / (Known - Obs))')\n",
    "ax.set_xlabel('Interaction strength difference\\nto known (-log10(p-value))')\n",
    "# annotate the texts of interest\n",
    "TEXTS = []\n",
    "for text in xs.index:\n",
    "    TEXTS.append(ax.text(xs.loc[text], ys.loc[text], text))\n",
    "adjust_text(TEXTS, arrowprops=dict(arrowstyle='-', color='k', lw=1), ax=ax, objects=avoid, expand_axes=True, expand=(1.7, 1.7))"
   ]
  },
  {
   "cell_type": "code",
   "execution_count": null,
   "id": "fdc92da5-e84f-4d57-9b52-659e9adbe0c5",
   "metadata": {
    "tags": []
   },
   "outputs": [],
   "source": [
    "# assemble dataframe\n",
    "df_stat = pd.DataFrame(columns=['gpr85','known','diff','pval'])\n",
    "for neurotransmitter in neurotransmitters:\n",
    "    # gather the data\n",
    "    df_z_tmp = df_z_plot.loc[df_z_plot['protein_vs_metabolite'] != 'Random']\n",
    "    # look at muscarinic receptors\n",
    "    mask = df_z_tmp.index == ''\n",
    "    for receptor in [neurotransmitter]:\n",
    "        mask = mask | df_z_tmp['variable'].str.startswith(receptor) | df_z_tmp['variable'].str.endswith(receptor)\n",
    "    df_z_tmp = df_z_tmp.loc[mask].groupby(['organ_simple','variable']).mean(numeric_only=True)['value'].astype(float).reset_index()\n",
    "    df_z_tmp = df_z_tmp.loc[df_z_tmp['organ_simple'].str.startswith('cns')].groupby('variable').mean(numeric_only=True)['value'].sort_values()[::-1]\n",
    "    # examine both distributions\n",
    "    x1s = order.loc[order.index.str.startswith(neurotransmitter)][::-1].tolist()\n",
    "    x2s = df_z_tmp.tolist()\n",
    "    gpr85, known = np.mean(x1s), np.mean(x2s)\n",
    "    p = ss.mannwhitneyu(x1s, x2s)[1]\n",
    "    df_stat.loc[neurotransmitter] = gpr85, known, gpr85 - known, p\n",
    "df_stat.to_csv('~/TMP/SI_Table.ST_RINTENSITY.csv')"
   ]
  },
  {
   "cell_type": "markdown",
   "id": "0ec7ac14-aaf1-43ac-9337-d605f93c4f05",
   "metadata": {},
   "source": [
    "### pathway enrichment bar plots for spatial interaction modules"
   ]
  },
  {
   "cell_type": "code",
   "execution_count": null,
   "id": "3bd7c16e-b837-4578-91a8-71a7a65550d9",
   "metadata": {},
   "outputs": [],
   "source": [
    "from matplotlib.colors import to_hex\n",
    "from matplotlib.cm import get_cmap\n",
    "# read in the enrichments (for non-enrichments)\n",
    "pathways = '''Inflammatory Response (GO:0006954)\n",
    "Granulocyte Chemotaxis (GO:0071621)\n",
    "Lymphocyte Migration (GO:0072676)\n",
    "Chemokine-Mediated Signaling Pathway (GO:0070098)\n",
    "Cellular Response To Chemokine (GO:1990869)\n",
    "Positive Regulation Of ERK1 And ERK2 Cascade (GO:0070374)\n",
    "Positive Regulation Of Calcium Ion Transport (GO:0051928)\n",
    "Cellular Response To Type II Interferon (GO:0071346)\n",
    "Macrophage Chemotaxis (GO:0048246)\n",
    "Response To Tumor Necrosis Factor (GO:0034612)'''.split('\\n')\n",
    "fdrs = [float(x) for x in '''1.51E-18\n",
    "2.61E-10\n",
    "2.61E-10\n",
    "1.28E-09\n",
    "1.45E-09\n",
    "6.43E-08\n",
    "8.78E-08\n",
    "1.03E-07\n",
    "1.28E-07\n",
    "1.31E-06'''.split('\\n')]\n",
    "\n",
    "# retrieve the colors\n",
    "ys = -np.log10(fdrs)\n",
    "colors = [y/15 for y in ys]\n",
    "cmap = get_cmap('Reds')\n",
    "colors = [to_hex(cmap(c)) for c in colors]\n",
    "# plot the colored bars\n",
    "fig, ax = plt.subplots(figsize=[3, 2]); ax.grid(False)\n",
    "ax.bar(pathways, ys, edgecolor='k', linewidth=1.5, color=colors)\n",
    "ax.tick_params(axis='x', labelrotation=90)"
   ]
  },
  {
   "cell_type": "code",
   "execution_count": null,
   "id": "5aeca332-6bff-4259-a360-7c5fb7c74138",
   "metadata": {},
   "outputs": [],
   "source": [
    "# read in the enrichments (for non-enrichments)\n",
    "pathways = '''Inflammatory Response (GO:0006954)\n",
    "Granulocyte Chemotaxis (GO:0071621)\n",
    "Lymphocyte Chemotaxis (GO:0048247)\n",
    "Chemokine-Mediated Signaling Pathway (GO:0070098)\n",
    "Response To Interleukin-1 (GO:0070555)\n",
    "Cellular Response To Prostaglandin Stimulus (GO:0071379)\n",
    "Macrophage Chemotaxis (GO:0048246)\n",
    "Regulation Of ERK1 And ERK2 Cascade (GO:0070372)\n",
    "Response To Tumor Necrosis Factor (GO:0034612)\n",
    "Positive Regulation Of MAPK Cascade (GO:0043410)'''.split('\\n')\n",
    "fdrs = [float(x) for x in '''1.51E-18\n",
    "2.61E-10\n",
    "3.32E-10\n",
    "1.28E-09\n",
    "1.15E-08\n",
    "6.20E-08\n",
    "1.28E-07\n",
    "4.87E-07\n",
    "1.31E-06\n",
    "2.39E-06'''.split('\\n')]\n",
    "\n",
    "# retrieve the colors\n",
    "ys = -np.log10(fdrs)\n",
    "colors = [y/15 for y in ys]\n",
    "cmap = get_cmap('Reds')\n",
    "colors = [to_hex(cmap(c)) for c in colors]\n",
    "# plot the colored bars\n",
    "fig, ax = plt.subplots(figsize=[3, 2]); ax.grid(False)\n",
    "ax.bar(pathways, ys, edgecolor='k', linewidth=1.5, color=colors)\n",
    "ax.tick_params(axis='x', labelrotation=90)"
   ]
  },
  {
   "cell_type": "markdown",
   "id": "7f976e53-83da-411f-822e-03f8dd9f4a69",
   "metadata": {},
   "source": [
    "### save data for supplementary tables"
   ]
  },
  {
   "cell_type": "code",
   "execution_count": null,
   "id": "98b2880a-8f77-4604-82f9-e4c3dbb09b75",
   "metadata": {},
   "outputs": [],
   "source": [
    "# compile the results for z-score of known LRs\n",
    "df_zs = []\n",
    "for result, tag in zip(results, df_info['tag']):\n",
    "    if result is None: continue\n",
    "    # grab the file id\n",
    "    file_id = list(result.keys())[0]\n",
    "    # grab the result object\n",
    "    result = result[file_id]\n",
    "    # retrieve the proper dataframe\n",
    "    df_z = result['known']['z']\n",
    "    df_z.name = tag\n",
    "    df_zs.append(df_z)\n",
    "# compute the expression profiles\n",
    "df_z = pd.concat(df_zs, axis=1).T.fillna(0)\n",
    "df_z['organ'] = df_z.index.map(anno[['tag','organ']].value_counts().reset_index().set_index('tag')['organ'])\n",
    "df_z['organ'] += ':' + df_z.index.map(anno[['tag','age_cat']].value_counts().reset_index().set_index('tag')['age_cat'])\n",
    "df_z['organ'] = df_z['organ'].str.replace('Adult (≥60)', 'adult').str.replace('Adult (<60)', 'adult').str.replace('Unknown (likely adult)','adult').str.replace('Fetal','fetal').str.replace(':', ' – ')\n",
    "# save the results\n",
    "df_z.T.to_csv('/path/to/SI_Table_Known.csv')"
   ]
  },
  {
   "cell_type": "code",
   "execution_count": null,
   "id": "d3f476a4-ba32-45c3-a046-0fb630b3d15b",
   "metadata": {},
   "outputs": [],
   "source": [
    "# compile the results for z-score of rand LRs\n",
    "df_zs = []\n",
    "for result, tag in zip(results, df_info['tag']):\n",
    "    if result is None: continue\n",
    "    # grab the file id\n",
    "    file_id = list(result.keys())[0]\n",
    "    # grab the result object\n",
    "    result = result[file_id]\n",
    "    # retrieve the proper dataframe\n",
    "    df_z = result['rand']['z']\n",
    "    df_z.name = tag\n",
    "    df_zs.append(df_z)\n",
    "# compute the expression profiles\n",
    "df_z = pd.concat(df_zs, axis=1).T.fillna(0)\n",
    "df_z['organ'] = df_z.index.map(anno[['tag','organ']].value_counts().reset_index().set_index('tag')['organ'])\n",
    "df_z['organ'] += ':' + df_z.index.map(anno[['tag','age_cat']].value_counts().reset_index().set_index('tag')['age_cat'])\n",
    "df_z['organ'] = df_z['organ'].str.replace('Adult (≥60)', 'adult').str.replace('Adult (<60)', 'adult').str.replace('Unknown (likely adult)','adult').str.replace('Fetal','fetal').str.replace(':', ' – ')\n",
    "# save the results\n",
    "df_z.T.to_csv('/path/to/SI_Table_Rand.csv')"
   ]
  },
  {
   "cell_type": "code",
   "execution_count": null,
   "id": "1e650361-d2ed-4a86-bd0a-d77dbb150d52",
   "metadata": {},
   "outputs": [],
   "source": [
    "# compile the results for z-score of orphan LRs\n",
    "df_zs = []\n",
    "for result, tag in zip(results, df_info['tag']):\n",
    "    if result is None: continue\n",
    "    # grab the file id\n",
    "    file_id = list(result.keys())[0]\n",
    "    # grab the result object\n",
    "    result = result[file_id]\n",
    "    # retrieve the proper dataframe\n",
    "    df_z = result['orphan']['z']\n",
    "    df_z.name = tag\n",
    "    df_zs.append(df_z)\n",
    "# compute the expression profiles\n",
    "df_z = pd.concat(df_zs, axis=1).T.fillna(0)\n",
    "df_z['organ'] = df_z.index.map(anno[['tag','organ']].value_counts().reset_index().set_index('tag')['organ'])\n",
    "df_z['organ'] += ':' + df_z.index.map(anno[['tag','age_cat']].value_counts().reset_index().set_index('tag')['age_cat'])\n",
    "df_z['organ'] = df_z['organ'].str.replace('Adult (≥60)', 'adult').str.replace('Adult (<60)', 'adult').str.replace('Unknown (likely adult)','adult').str.replace('Fetal','fetal').str.replace(':', ' – ')\n",
    "# save the results\n",
    "df_z.T.to_csv('/path/to/SI_Table_Orphan.csv')"
   ]
  },
  {
   "cell_type": "markdown",
   "id": "36030bed-cc2e-4d3e-8dd9-64a15a0d02a0",
   "metadata": {},
   "source": [
    "### receptor and ACh contact and conservation analysis"
   ]
  },
  {
   "cell_type": "code",
   "execution_count": null,
   "id": "24d8827d-2af0-4085-a82d-eb48533edd4b",
   "metadata": {},
   "outputs": [],
   "source": [
    "# read in the conservation information\n",
    "cf = pd.read_table('</path/to/conservation_data>/output.txt', header=0, index_col=0)\n",
    "cf.index = cf.index.astype(str)"
   ]
  },
  {
   "cell_type": "code",
   "execution_count": null,
   "id": "86bd179e-d85c-4dfa-ad38-af8b77faf96a",
   "metadata": {},
   "outputs": [],
   "source": [
    "# read in the contacts, #1 is GPR85\n",
    "df = pd.read_table('</path/to/contact_data>/contacts_letFOUR.tsv', skiprows=1, header=None)\n",
    "df[['start_model','rest']] = df[0].str.split('/', expand=True)\n",
    "df[['start_chain','rest']] = df['rest'].str.split(':', expand=True)\n",
    "df[['start_position','start_atom']] = df['rest'].str.split('@', expand=True)\n",
    "df[['end_model','rest']] = df[1].str.split('/', expand=True)\n",
    "df[['end_chain','rest']] = df['rest'].str.split(':', expand=True)\n",
    "df[['end_position','end_atom']] = df['rest'].str.split('@', expand=True)\n",
    "del df['rest']\n",
    "df.shape"
   ]
  },
  {
   "cell_type": "code",
   "execution_count": null,
   "id": "9a277b5c-1b97-47f8-8e50-50446544292e",
   "metadata": {},
   "outputs": [],
   "source": [
    "# restrict to models #1 and #2 (7t94)\n",
    "df = df.loc[(df[['start_model','end_model']].isin(['#1','#2'])).all(axis=1)]\n",
    "df = df.loc[(df[['start_position','end_position']] == '501').sum(1) == 1]\n",
    "df[['start_position','end_position']] = df[['start_position','end_position']].astype(int)\n",
    "df = df.loc[(df[['start_position','end_position']] <= 501).all(axis=1)]\n",
    "df.shape"
   ]
  },
  {
   "cell_type": "code",
   "execution_count": null,
   "id": "8d3b1e2d-fe99-42af-8e0c-9a250d08a518",
   "metadata": {},
   "outputs": [],
   "source": [
    "# retrieve GPCRdb positions\n",
    "df['GPCRdb position'] = ''; df['Ligand atom'] = ''\n",
    "# create a custom mapping for GPR85\n",
    "mapping = {'102':'3.33x33','105':'3.36x36','106':'3.37x37', '190':'U45.68',\n",
    "           '298':'6.48x48','301':'6.51x51', '302':'6.52x52','325':'7.39x38',\n",
    "           '328':'7.42x41','329':'7.43x42'}\n",
    "backgak = {v:k for k,v in mapping.items()}\n",
    "mask = df['end_model'] == '#1'\n",
    "df.loc[mask, 'GPCRdb position'] = df.loc[mask, 'end_position'].astype(str).map(mapping)\n",
    "mapping = {'C6':'C3','C5':'C2','C3':'C1','C2':'C7', 'O7':'O2','O4':'O1','N1':'N1', 'C8':'C4','C9':'C5','C10':'C6'}\n",
    "assert len(list(mapping.values())) == len(set(list(mapping.values())))\n",
    "df.loc[mask, 'Ligand atom'] = df.loc[mask, 'start_atom'].astype(str).map(mapping)\n",
    "# create a custom mapping for the crystal\n",
    "mapping = {'72':'2.53x53','103':'3.32x32','104':'3.33x33','107':'3.36x36',\n",
    "           '108':'3.37x37','111':'3.40x40','155':'4.57x57','194':'5.46x461',\n",
    "           '400':'6.48x48','403':'6.51x51','426':'7.39x38','429':'7.42x41',\n",
    "           '430':'7.43x42'}\n",
    "mask = df['end_position'] == 501\n",
    "df.loc[mask, 'GPCRdb position'] = df.loc[mask, 'start_position'].astype(str).map(mapping)\n",
    "assert df.loc[df['end_model'] == '#2', 'end_position'].unique().tolist() == [501]\n",
    "assert df.index[mask].intersection(df.index[df['end_model'] == '#1']).shape[0] == 0\n",
    "assert df.index[mask].union(df.index[df['end_model'] == '#1']).shape[0] == df.shape[0]\n",
    "mapping = {'C6':'C3','C5':'C2','C3':'C1','C2':'C7', 'O7':'O2','O4':'O1','N1':'N1', 'C8':'C4','C9':'C5','C10':'C6'}\n",
    "df.loc[mask, 'Ligand atom'] = df.loc[mask, 'end_atom'].astype(str).map(mapping)\n",
    "df['count'] = 1"
   ]
  },
  {
   "cell_type": "code",
   "execution_count": null,
   "id": "d79abf87-bf6e-4d6e-a35b-119fb4b3ba29",
   "metadata": {
    "scrolled": true
   },
   "outputs": [],
   "source": [
    "# create the two structures\n",
    "mask = (df[['start_model','end_model']] == '#2').all(axis=1)\n",
    "df_crystal = df.loc[mask].pivot_table(index='GPCRdb position', columns='Ligand atom', values='count', aggfunc=np.sum).fillna(0)\n",
    "mask = (df[['start_model','end_model']] == '#1').any(axis=1)\n",
    "df_gpr85 = df.loc[mask].pivot_table(index='GPCRdb position', columns='Ligand atom', values='count', aggfunc=np.sum).fillna(0)"
   ]
  },
  {
   "cell_type": "code",
   "execution_count": null,
   "id": "9f41054e-7673-40a7-ae4a-af3c1ab4bc02",
   "metadata": {},
   "outputs": [],
   "source": [
    "from scipy.cluster.hierarchy import linkage\n",
    "# perform plotting\n",
    "idxs = df_crystal.index.union(df_gpr85.index); idys = df_crystal.columns.union(df_gpr85.columns)\n",
    "Z = linkage(pd.concat([df_gpr85.reindex(idxs).T.reindex(idys).T.fillna(0),\n",
    "                       df_crystal.reindex(idxs).T.reindex(idys).T.fillna(0)], axis=0).T.fillna(0), method='ward')\n",
    "# > in silico gpr85\n",
    "g = sns.clustermap(df_gpr85.reindex(idxs).fillna(0).T.reindex(idys).T.fillna(0),\n",
    "                   cmap='Blues', method='ward', row_cluster=False, col_linkage=Z, dendrogram_ratio=.1,\n",
    "                   xticklabels=1, yticklabels=1, figsize=[4, 3.4], cbar_pos=(0, 1, .01, .08), vmax=3)\n",
    "g.ax_heatmap.grid(False); g.ax_heatmap.tick_params(axis='x', labelrotation=90)\n",
    "g = sns.clustermap(df_crystal.reindex(idxs).fillna(0).T.reindex(idys).T.fillna(0),\n",
    "                   cmap='Blues', method='ward', row_cluster=False, col_linkage=Z, dendrogram_ratio=.1,\n",
    "                   xticklabels=1, yticklabels=1, figsize=[4, 3.4], cbar_pos=(0, 1, .01, .08), vmax=3)\n",
    "g.ax_heatmap.grid(False); g.ax_heatmap.tick_params(axis='x', labelrotation=90)"
   ]
  },
  {
   "cell_type": "code",
   "execution_count": null,
   "id": "07edfcc4-d439-471d-b6a3-303b154c8304",
   "metadata": {},
   "outputs": [],
   "source": [
    "# retrieve the conservation for these sites\n",
    "xs = df_gpr85.sum(1)\n",
    "xs.index = xs.index.map(backgak)\n",
    "xs = cf.loc[xs.index]\n",
    "# retrieve the expected conservation for this residue\n",
    "avg_score_per_residue = cf.groupby('SEQ').mean(numeric_only=True)['SCORE']\n",
    "diffs = xs['SCORE'].values - avg_score_per_residue.loc[xs['SEQ']].values\n",
    "# calculate the p-value\n",
    "p = ss.wilcoxon(xs['SCORE'].values, avg_score_per_residue.loc[xs['SEQ']].values)[1]\n",
    "print(p)\n",
    "# plot the boxplot\n",
    "fig, ax = plt.subplots(figsize=[2, 4]); ax.grid(False)\n",
    "ys = xs['SCORE'].values.tolist() + avg_score_per_residue.loc[xs['SEQ']].values.tolist()\n",
    "sns.boxplot(x=['Obs']*xs.shape[0]+['Exp']*xs.shape[0], y=ys, saturation=1, showfliers=False, zorder=0,\n",
    "            linewidth=1.5, linecolor='k', order=['Obs','Exp'], palette=['xkcd:bright lilac', 'lightgray'])\n",
    "ax.scatter(x=['Exp']*xs.shape[0], y=ys[xs.shape[0]:], zorder=2, edgecolor='k', lw=1.5, facecolors='grey', alpha=0.5)\n",
    "ax.scatter(x=['Obs']*xs.shape[0], y=ys[:xs.shape[0]], zorder=2, edgecolor='k', lw=1.5, facecolors='xkcd:bright lilac', alpha=0.5)\n",
    "for idx in range(xs.shape[0]):\n",
    "    idx1, idx2 = idx, idx + xs.shape[0]\n",
    "    ax.plot(['Obs', 'Exp'], [ys[idx1], ys[idx2]], lw=1, color='k', zorder=1, alpha=0.5)\n",
    "ax.plot([-1, 2], [0]*2, color='k', linestyle='--', lw=1.5, zorder=2)\n",
    "ax.set_xlim(-1, 2)\n",
    "ax.set(xlabel='Contacts', ylabel='Conservation score')"
   ]
  },
  {
   "cell_type": "code",
   "execution_count": null,
   "id": "bda7a117-a924-412a-97bf-05624b78bc21",
   "metadata": {},
   "outputs": [],
   "source": [
    "# color the average profile with lines at the contact sites\n",
    "fig, ax = plt.subplots(figsize=[12, 4]); ax.grid(False)\n",
    "xs = cf.index.astype(int)\n",
    "ax.scatter(xs, cf['SCORE'], s=5, color='xkcd:pale lavender')\n",
    "ax.plot(xs, cf['AVG_W5'], color='xkcd:bright lilac', lw=1.5)\n",
    "xlim, ylim = ax.get_xlim(), ax.get_ylim()\n",
    "ax.plot(xlim, [0]*2, color='k', lw=1.5, linestyle='-')\n",
    "positions = df_gpr85.index.map(backgak).astype(int)\n",
    "for pos in positions:\n",
    "    ax.plot([pos]*2, ylim, color='r', lw=1.5, linestyle='--')\n",
    "ax.set_xlim(*xlim); ax.set_ylim(*ylim)\n",
    "ax.set(xlabel='Position in GPR85', ylabel='Conservation score')"
   ]
  },
  {
   "cell_type": "code",
   "execution_count": null,
   "id": "98c8d75d-16e5-4ecc-bd35-4191c1e92f54",
   "metadata": {},
   "outputs": [],
   "source": [
    "# list out positions so we may search them up for annotation\n",
    "positions"
   ]
  },
  {
   "cell_type": "code",
   "execution_count": null,
   "id": "d45eb0c8-23ea-4831-a1a3-50d2654eaab2",
   "metadata": {},
   "outputs": [],
   "source": [
    "# given M total objects, n is the number from truth, drawing a sample of N from the population then k are matching\n",
    "# thus M is the total possible interactions observed in both structures\n",
    "# given a set of n true interactions from CHRM2:ACh crystal\n",
    "# if we are to draw N interactions observed in GPR85:ACh in silico\n",
    "# how many of N, k, are matching those from the crystal\n",
    "tags1, tags2 = [], []\n",
    "for idx, idy in zip(*np.where(df_crystal > 0)):\n",
    "    tag = ']-['.join([df_crystal.index[idx], df_crystal.columns[idy]])\n",
    "    tags1.append(tag)\n",
    "for idx, idy in zip(*np.where(df_gpr85 > 0)):\n",
    "    tag = ']-['.join([df_gpr85.index[idx], df_gpr85.columns[idy]])\n",
    "    tags2.append(tag)\n",
    "k = len(set(tags1) & set(tags2))\n",
    "M = df_crystal.index.union(df_gpr85.index).shape[0] * df_crystal.columns.union(df_gpr85.columns).shape[0]\n",
    "n = len(tags2)\n",
    "N = len(tags1)\n",
    "p = 1 - ss.hypergeom.cdf(k, M, n, N)\n",
    "print('p=%.4e considering total population as true interactions in both' % p)"
   ]
  },
  {
   "cell_type": "code",
   "execution_count": null,
   "id": "e3bdbbb7-5a4c-4747-8c04-d88e6017b3cc",
   "metadata": {},
   "outputs": [],
   "source": [
    "# library\n",
    "import matplotlib.pyplot as plt\n",
    "from matplotlib_venn import venn2\n",
    "\n",
    "# call it out via a venn\n",
    "x1 = len([x for x in tags1 if x not in tags2])\n",
    "x2 = len([x for x in tags1 if x in tags2])\n",
    "x3 = len([x for x in tags2 if x in tags1])\n",
    "venn2(subsets = (x1, x3, x2), set_labels = ('GPR85:ACh', 'CHRM2:ACh'))"
   ]
  },
  {
   "cell_type": "code",
   "execution_count": null,
   "id": "bc00ea2c-19b7-431d-b422-5228f498a6fb",
   "metadata": {},
   "outputs": [],
   "source": [
    "# read in the data\n",
    "ef = pd.read_table('</path/to/sasa_data>/gpr85_to_7t94_gpcr.sasa.txt', sep=' ', header=None)[[2, 4]]\n",
    "ef['position'] = ef[2].str.split(':', expand=True).iloc[:, 1]\n",
    "ef[4] = ef[4].astype(float)\n",
    "# retrieve the conservation for these sites\n",
    "xs = df_gpr85.sum(1)\n",
    "xs.index = xs.index.map(backgak)\n",
    "xs = cf.loc[xs.index]\n",
    "# derive the expected\n",
    "xs['exp'] = np.nan\n",
    "for pos in xs.index:\n",
    "    # derive SASA for this residue's pos\n",
    "    SASA_pos = ef.loc[ef['position'] == pos, 4].iloc[0]\n",
    "    # convert the SASA distance from others to a weight\n",
    "    ef['abs_dist'] = (ef[4] - SASA_pos).abs()\n",
    "    cf['abs_dist'] = ef.set_index('position')['abs_dist']\n",
    "    subset = cf.loc[cf['SEQ'] == cf.loc[pos, 'SEQ']].dropna()[['abs_dist','SCORE']]\n",
    "    subset['abs_dist'] -= subset['abs_dist'].min(); subset['abs_dist'] /= subset['abs_dist'].sum()\n",
    "    xs.loc[pos, 'exp'] = (subset['SCORE'] * (1 - subset['abs_dist'])).mean()\n",
    "# retrieve the expected conservation for this residue\n",
    "diffs = xs['SCORE'].values - xs['exp'].values\n",
    "# calculate the p-value\n",
    "p = ss.wilcoxon(xs['SCORE'].values, xs['exp'].values)[1]\n",
    "print(p)\n",
    "# plot the boxplot\n",
    "fig, ax = plt.subplots(figsize=[2, 4]); ax.grid(False)\n",
    "ys = xs['SCORE'].values.tolist() + xs['exp'].values.tolist()\n",
    "sns.boxplot(x=['Obs']*xs.shape[0]+['Exp']*xs.shape[0], y=ys, saturation=1, showfliers=False, zorder=0,\n",
    "            linewidth=1.5, linecolor='k', order=['Obs','Exp'], palette=['xkcd:bright lilac', 'lightgray'])\n",
    "ax.scatter(x=['Exp']*xs.shape[0], y=ys[xs.shape[0]:], zorder=2, edgecolor='k', lw=1.5, facecolors='grey', alpha=0.5)\n",
    "ax.scatter(x=['Obs']*xs.shape[0], y=ys[:xs.shape[0]], zorder=2, edgecolor='k', lw=1.5, facecolors='xkcd:bright lilac', alpha=0.5)\n",
    "for idx in range(xs.shape[0]):\n",
    "    idx1, idx2 = idx, idx + xs.shape[0]\n",
    "    ax.plot(['Obs', 'Exp'], [ys[idx1], ys[idx2]], lw=1, color='k', zorder=1, alpha=0.5)\n",
    "ax.plot([-1, 2], [0]*2, color='k', linestyle='--', lw=1.5, zorder=2)\n",
    "ax.set_xlim(-1, 2)\n",
    "ax.set(xlabel='Contacts', ylabel='Conservation score')"
   ]
  },
  {
   "cell_type": "code",
   "execution_count": null,
   "id": "3ab80198-baa7-42f3-8ac2-14073b99c009",
   "metadata": {},
   "outputs": [],
   "source": [
    "# read in the contacts, #1 is GPR85\n",
    "df = pd.read_table('</path/to/contact_data>/contacts_letFIVE.tsv', skiprows=1, header=None)\n",
    "df[['start_model','rest']] = df[0].str.split('/', expand=True)\n",
    "df[['start_chain','rest']] = df['rest'].str.split(':', expand=True)\n",
    "df[['start_position','start_atom']] = df['rest'].str.split('@', expand=True)\n",
    "df[['end_model','rest']] = df[1].str.split('/', expand=True)\n",
    "df[['end_chain','rest']] = df['rest'].str.split(':', expand=True)\n",
    "df[['end_position','end_atom']] = df['rest'].str.split('@', expand=True)\n",
    "del df['rest']\n",
    "df.shape"
   ]
  },
  {
   "cell_type": "code",
   "execution_count": null,
   "id": "b71852fa-f86e-4843-8544-f984b3a4f2ff",
   "metadata": {},
   "outputs": [],
   "source": [
    "# restrict to models #1 and #2 (7t94)\n",
    "df = df.loc[(df[['start_model','end_model']].isin(['#1','#2'])).all(axis=1)]\n",
    "df = df.loc[(df[['start_position','end_position']] == '501').sum(1) == 1]\n",
    "df[['start_position','end_position']] = df[['start_position','end_position']].astype(int)\n",
    "df = df.loc[(df[['start_position','end_position']] <= 501).all(axis=1)]\n",
    "df.shape"
   ]
  },
  {
   "cell_type": "code",
   "execution_count": null,
   "id": "e6628204-5ced-4999-96a7-80361700aa58",
   "metadata": {},
   "outputs": [],
   "source": [
    "# retrieve GPCRdb positions\n",
    "df['GPCRdb position'] = ''; df['Ligand atom'] = ''\n",
    "# create a custom mapping for GPR85\n",
    "mapping = {'102':'3.33x33','105':'3.36x36','106':'3.37x37', '190':'U45.68',\n",
    "           '298':'6.48x48','301':'6.51x51', '302':'6.52x52','325':'7.39x38',\n",
    "           '328':'7.42x41','329':'7.43x42'}\n",
    "backgak = {v:k for k,v in mapping.items()}\n",
    "mask = df['end_model'] == '#1'\n",
    "df.loc[mask, 'GPCRdb position'] = df.loc[mask, 'end_position'].astype(str).map(mapping)\n",
    "mapping = {'C6':'C3','C5':'C2','C3':'C1','C2':'C7', 'O7':'O2','O4':'O1','N1':'N1', 'C8':'C4','C9':'C5','C10':'C6'}\n",
    "assert len(list(mapping.values())) == len(set(list(mapping.values())))\n",
    "df.loc[mask, 'Ligand atom'] = df.loc[mask, 'start_atom'].astype(str).map(mapping)\n",
    "# create a custom mapping for the crystal\n",
    "mapping = {'72':'2.53x53','103':'3.32x32','104':'3.33x33','107':'3.36x36',\n",
    "           '108':'3.37x37','111':'3.40x40','155':'4.57x57','194':'5.46x461',\n",
    "           '400':'6.48x48','403':'6.51x51','426':'7.39x38','429':'7.42x41',\n",
    "           '430':'7.43x42'}\n",
    "mask = df['end_position'] == 501\n",
    "df.loc[mask, 'GPCRdb position'] = df.loc[mask, 'start_position'].astype(str).map(mapping)\n",
    "assert df.loc[df['end_model'] == '#2', 'end_position'].unique().tolist() == [501]\n",
    "assert df.index[mask].intersection(df.index[df['end_model'] == '#1']).shape[0] == 0\n",
    "assert df.index[mask].union(df.index[df['end_model'] == '#1']).shape[0] == df.shape[0]\n",
    "mapping = {'C6':'C3','C5':'C2','C3':'C1','C2':'C7', 'O7':'O2','O4':'O1','N1':'N1', 'C8':'C4','C9':'C5','C10':'C6'}\n",
    "df.loc[mask, 'Ligand atom'] = df.loc[mask, 'end_atom'].astype(str).map(mapping)\n",
    "df['count'] = 1"
   ]
  },
  {
   "cell_type": "code",
   "execution_count": null,
   "id": "01ccc632-9d65-477c-ac24-928f487c612d",
   "metadata": {
    "scrolled": true
   },
   "outputs": [],
   "source": [
    "# create the two structures\n",
    "mask = (df[['start_model','end_model']] == '#2').all(axis=1)\n",
    "df_crystal = df.loc[mask].pivot_table(index='GPCRdb position', columns='Ligand atom', values='count', aggfunc=np.sum).fillna(0)\n",
    "mask = (df[['start_model','end_model']] == '#1').any(axis=1)\n",
    "df_gpr85 = df.loc[mask].pivot_table(index='GPCRdb position', columns='Ligand atom', values='count', aggfunc=np.sum).fillna(0)"
   ]
  },
  {
   "cell_type": "code",
   "execution_count": null,
   "id": "4ec625a8-e1eb-4967-8a34-0ddb3c78bdc6",
   "metadata": {},
   "outputs": [],
   "source": [
    "from scipy.cluster.hierarchy import linkage\n",
    "# perform plotting\n",
    "idxs = df_crystal.index.union(df_gpr85.index); idys = df_crystal.columns.union(df_gpr85.columns)\n",
    "idxs = ['2.53x53', '3.32x32', '3.33x33', '3.36x36', '3.37x37', '3.40x40',\n",
    "       '4.57x57', 'U45.68', '5.46x461', '6.48x48', '6.51x51', '6.52x52', '7.39x38',\n",
    "       '7.42x41', '7.43x42']\n",
    "Z = linkage(pd.concat([df_gpr85.reindex(idxs).T.reindex(idys).T.fillna(0),\n",
    "                       df_crystal.reindex(idxs).T.reindex(idys).T.fillna(0)], axis=0).T.fillna(0), method='ward')\n",
    "# > in silico gpr85\n",
    "g = sns.clustermap(df_gpr85.reindex(idxs).fillna(0).T.reindex(idys).T.fillna(0),\n",
    "                   cmap='Blues', method='ward', row_cluster=False, col_linkage=Z, dendrogram_ratio=.1,\n",
    "                   xticklabels=1, yticklabels=1, figsize=[4, 4.5], cbar_pos=(0, 1, .01, .08), vmax=4)\n",
    "g.ax_heatmap.grid(False); g.ax_heatmap.tick_params(axis='x', labelrotation=90)\n",
    "g = sns.clustermap(df_crystal.reindex(idxs).fillna(0).T.reindex(idys).T.fillna(0),\n",
    "                   cmap='Blues', method='ward', row_cluster=False, col_linkage=Z, dendrogram_ratio=.1,\n",
    "                   xticklabels=1, yticklabels=1, figsize=[4, 4.5], cbar_pos=(0, 1, .01, .08), vmax=4)\n",
    "g.ax_heatmap.grid(False); g.ax_heatmap.tick_params(axis='x', labelrotation=90)"
   ]
  },
  {
   "cell_type": "code",
   "execution_count": null,
   "id": "250e4fbd-a06a-4244-856a-5aa6cd3f316d",
   "metadata": {},
   "outputs": [],
   "source": [
    "# > in silico gpr85\n",
    "g = sns.clustermap(df_gpr85.reindex(idxs).fillna(0).T.reindex(idys).T.fillna(0),\n",
    "                   cmap='Blues', method='ward', row_cluster=False, col_linkage=Z, dendrogram_ratio=.1,\n",
    "                   xticklabels=1, yticklabels=1, figsize=[4, 4.5], cbar_pos=(0, 1, .01, .08), vmax=4)\n",
    "g.ax_heatmap.grid(False); g.ax_heatmap.tick_params(axis='x', labelrotation=270)\n",
    "g.ax_heatmap.set_ylabel('GPCRdb position', rotation=270, labelpad=16)\n",
    "g = sns.clustermap(df_crystal.reindex(idxs).fillna(0).T.reindex(idys).T.fillna(0),\n",
    "                   cmap='Blues', method='ward', row_cluster=False, col_linkage=Z, dendrogram_ratio=.1,\n",
    "                   xticklabels=1, yticklabels=1, figsize=[4, 4.5], cbar_pos=(0, 1, .01, .08), vmax=4)\n",
    "g.ax_heatmap.grid(False); g.ax_heatmap.tick_params(axis='x', labelrotation=270)\n",
    "g.ax_heatmap.set_ylabel('GPCRdb position', rotation=270, labelpad=16)"
   ]
  },
  {
   "cell_type": "code",
   "execution_count": null,
   "id": "1d024982-f902-4a0c-8b84-8f298f5a29ad",
   "metadata": {},
   "outputs": [],
   "source": [
    "# retrieve the conservation for these sites\n",
    "xs = df_gpr85.sum(1)\n",
    "xs.index = xs.index.map(backgak)\n",
    "xs = cf.loc[xs.index]\n",
    "# retrieve the expected conservation for this residue\n",
    "avg_score_per_residue = cf.groupby('SEQ').mean(numeric_only=True)['SCORE']\n",
    "diffs = xs['SCORE'].values - avg_score_per_residue.loc[xs['SEQ']].values\n",
    "# calculate the p-value\n",
    "p = ss.wilcoxon(xs['SCORE'].values, avg_score_per_residue.loc[xs['SEQ']].values)[1]\n",
    "print(p)\n",
    "# plot the boxplot\n",
    "fig, ax = plt.subplots(figsize=[2, 4]); ax.grid(False)\n",
    "ys = xs['SCORE'].values.tolist() + avg_score_per_residue.loc[xs['SEQ']].values.tolist()\n",
    "sns.boxplot(x=['Obs']*xs.shape[0]+['Exp']*xs.shape[0], y=ys, saturation=1, showfliers=False, zorder=0,\n",
    "            linewidth=1.5, linecolor='k', order=['Obs','Exp'], palette=['xkcd:bright lilac', 'lightgray'])\n",
    "ax.scatter(x=['Exp']*xs.shape[0], y=ys[xs.shape[0]:], zorder=2, edgecolor='k', lw=1.5, facecolors='grey', alpha=0.5)\n",
    "ax.scatter(x=['Obs']*xs.shape[0], y=ys[:xs.shape[0]], zorder=2, edgecolor='k', lw=1.5, facecolors='xkcd:bright lilac', alpha=0.5)\n",
    "for idx in range(xs.shape[0]):\n",
    "    idx1, idx2 = idx, idx + xs.shape[0]\n",
    "    ax.plot(['Obs', 'Exp'], [ys[idx1], ys[idx2]], lw=1, color='k', zorder=1, alpha=0.5)\n",
    "ax.plot([-1, 2], [0]*2, color='k', linestyle='--', lw=1.5, zorder=2)\n",
    "ax.set_xlim(-1, 2)\n",
    "ax.set(xlabel='Contacts', ylabel='Conservation score')\n",
    "print(ss.pearsonr(df_gpr85.sum(1), xs['SCORE']), ss.spearmanr(df_gpr85.sum(1), xs['SCORE']))\n",
    "xs_v2 = df_gpr85.sum(1); xs_v2.index = xs_v2.index.map(backgak)\n",
    "print(ss.pearsonr(xs_v2.reindex(cf.index).fillna(0), cf['SCORE']), \\\n",
    "      ss.spearmanr(xs_v2.reindex(cf.index).fillna(0), cf['SCORE']))"
   ]
  },
  {
   "cell_type": "code",
   "execution_count": null,
   "id": "ec6ba425-4883-406d-b844-f1e47b37e623",
   "metadata": {},
   "outputs": [],
   "source": [
    "# color the average profile with lines at the contact sites\n",
    "fig, ax = plt.subplots(figsize=[12, 4]); ax.grid(False)\n",
    "xs = cf.index.astype(int)\n",
    "ax.scatter(xs, cf['SCORE'], s=5, color='xkcd:pale lavender')\n",
    "ax.plot(xs, cf['AVG_W5'], color='xkcd:bright lilac', lw=1.5)\n",
    "xlim, ylim = ax.get_xlim(), ax.get_ylim()\n",
    "ax.plot(xlim, [0]*2, color='k', lw=1.5, linestyle='-')\n",
    "positions = df_gpr85.index.map(backgak).astype(int)\n",
    "for pos in positions:\n",
    "    ax.plot([pos]*2, ylim, color='r', lw=1.5, linestyle='--')\n",
    "ax.set_xlim(*xlim); ax.set_ylim(*ylim)\n",
    "ax.set(xlabel='Position in GPR85', ylabel='Conservation score')"
   ]
  },
  {
   "cell_type": "code",
   "execution_count": null,
   "id": "176f1835-ea49-467a-8754-e28ecef1222a",
   "metadata": {},
   "outputs": [],
   "source": [
    "# given M total objects, n is the number from truth, drawing a sample of N from the population then k are matching\n",
    "# thus M is the total possible interactions observed in both structures\n",
    "# given a set of n true interactions from CHRM2:ACh crystal\n",
    "# if we are to draw N interactions observed in GPR85:ACh in silico\n",
    "# how many of N, k, are matching those from the crystal\n",
    "tags1, tags2 = [], []\n",
    "for idx, idy in zip(*np.where(df_crystal > 0)):\n",
    "    tag = ']-['.join([df_crystal.index[idx], df_crystal.columns[idy]])\n",
    "    tags1.append(tag)\n",
    "for idx, idy in zip(*np.where(df_gpr85 > 0)):\n",
    "    tag = ']-['.join([df_gpr85.index[idx], df_gpr85.columns[idy]])\n",
    "    tags2.append(tag)\n",
    "k = len(set(tags1) & set(tags2))\n",
    "M = df_crystal.index.union(df_gpr85.index).shape[0] * df_crystal.columns.union(df_gpr85.columns).shape[0]\n",
    "n = len(tags2)\n",
    "N = len(tags1)\n",
    "p = 1 - ss.hypergeom.cdf(k, M, n, N)\n",
    "print('p=%.4e considering total population as true interactions in both' % p)"
   ]
  },
  {
   "cell_type": "code",
   "execution_count": null,
   "id": "d1351fe7-8811-4faf-a00e-724e81f73965",
   "metadata": {},
   "outputs": [],
   "source": [
    "# library\n",
    "import matplotlib.pyplot as plt\n",
    "from matplotlib_venn import venn2\n",
    "\n",
    "# call it out via a venn\n",
    "x1 = len([x for x in tags1 if x not in tags2])\n",
    "x2 = len([x for x in tags1 if x in tags2])\n",
    "x3 = len([x for x in tags2 if x in tags1])\n",
    "venn2(subsets = (x1, x3, x2), set_labels = ('GPR85:ACh', 'CHRM2:ACh'))"
   ]
  },
  {
   "cell_type": "code",
   "execution_count": null,
   "id": "05475a74-a4e3-4f30-8454-617b51bf628c",
   "metadata": {},
   "outputs": [],
   "source": [
    "# read in the data\n",
    "ef = pd.read_table('</path/to/sasa_data>/gpr85_to_7t94_gpcr.sasa.txt', sep=' ', header=None)[[2, 4]]\n",
    "ef['position'] = ef[2].str.split(':', expand=True).iloc[:, 1]\n",
    "ef[4] = ef[4].astype(float)\n",
    "# retrieve the conservation for these sites\n",
    "xs = df_gpr85.sum(1)\n",
    "xs.index = xs.index.map(backgak)\n",
    "xs = cf.loc[xs.index]\n",
    "# derive the expected\n",
    "xs['exp'] = np.nan\n",
    "for pos in xs.index:\n",
    "    # derive SASA for this residue's pos\n",
    "    SASA_pos = ef.loc[ef['position'] == pos, 4].iloc[0]\n",
    "    # convert the SASA distance from others to a weight\n",
    "    ef['abs_dist'] = (ef[4] - SASA_pos).abs()\n",
    "    cf['abs_dist'] = ef.set_index('position')['abs_dist']\n",
    "    subset = cf.loc[cf['SEQ'] == cf.loc[pos, 'SEQ']].dropna()[['abs_dist','SCORE']]\n",
    "    subset['abs_dist'] -= subset['abs_dist'].min(); subset['abs_dist'] /= subset['abs_dist'].sum()\n",
    "    xs.loc[pos, 'exp'] = (subset['SCORE'] * (1 - subset['abs_dist'])).mean()\n",
    "# retrieve the expected conservation for this residue\n",
    "diffs = xs['SCORE'].values - xs['exp'].values\n",
    "# calculate the p-value\n",
    "p = ss.wilcoxon(xs['SCORE'].values, xs['exp'].values)[1]\n",
    "print(p)\n",
    "# plot the boxplot\n",
    "fig, ax = plt.subplots(figsize=[2, 4]); ax.grid(False)\n",
    "ys = xs['SCORE'].values.tolist() + xs['exp'].values.tolist()\n",
    "sns.boxplot(x=['Obs']*xs.shape[0]+['Exp']*xs.shape[0], y=ys, saturation=1, showfliers=False, zorder=0,\n",
    "            linewidth=1.5, linecolor='k', order=['Obs','Exp'], palette=['xkcd:bright lilac', 'lightgray'])\n",
    "ax.scatter(x=['Exp']*xs.shape[0], y=ys[xs.shape[0]:], zorder=2, edgecolor='k', lw=1.5, facecolors='grey', alpha=0.5)\n",
    "ax.scatter(x=['Obs']*xs.shape[0], y=ys[:xs.shape[0]], zorder=2, edgecolor='k', lw=1.5, facecolors='xkcd:bright lilac', alpha=0.5)\n",
    "for idx in range(xs.shape[0]):\n",
    "    idx1, idx2 = idx, idx + xs.shape[0]\n",
    "    ax.plot(['Obs', 'Exp'], [ys[idx1], ys[idx2]], lw=1, color='k', zorder=1, alpha=0.5)\n",
    "ax.plot([-1, 2], [0]*2, color='k', linestyle='--', lw=1.5, zorder=2)\n",
    "ax.set_xlim(-1, 2)\n",
    "ax.set(xlabel='Contacts', ylabel='Conservation score')"
   ]
  },
  {
   "cell_type": "markdown",
   "id": "e31c6990-f1c3-4f03-90d6-37255f76426b",
   "metadata": {},
   "source": [
    "### in vitro validation of receptor internalization and cAMP quantification"
   ]
  },
  {
   "cell_type": "code",
   "execution_count": null,
   "id": "f7348c0e-05b6-448f-96f1-9c68f79be0e3",
   "metadata": {},
   "outputs": [],
   "source": [
    "from scipy.optimize import curve_fit\n",
    "# create sigmoidal modeling\n",
    "def sigmoid(x, L ,x0, k, b):\n",
    "    y = L / (1 + np.exp(-k*(x-x0))) + b\n",
    "    return (y)"
   ]
  },
  {
   "cell_type": "code",
   "execution_count": null,
   "id": "2a103d21-ecdb-4811-876d-fce975cf05ad",
   "metadata": {},
   "outputs": [],
   "source": [
    "# create array to capture the data for cAMP ACh+F\n",
    "arr = ['2.33E+06\t2.42E+06\t3.26E+06',\n",
    "'3.77E+06\t2.62E+06\t2.30E+06',\n",
    "'2.37E+06\t3.32E+06\t3.03E+06',\n",
    "'2.71E+06\t3.51E+06\t2.78E+06',\n",
    "'3.21E+06\t3.86E+06\t3.24E+06',\n",
    "'3.44E+06\t4.71E+06\t4.18E+06',\n",
    "'4.00E+06\t4.13E+06\t3.75E+06',\n",
    "'4.30E+06\t4.04E+06\t3.97E+06',\n",
    "'3.73E+06\t4.07E+06\t4.32E+06']\n",
    "# convert into array\n",
    "arr = [np.array(row.split('\\t')).astype(float) for row in arr]\n",
    "# plot the results\n",
    "arr = pd.DataFrame(arr, columns=['GPR85_1','GPR85_2','GPR85_3'],\n",
    "                   index=np.arange(-12, -4)[::-1].tolist()+[0]).T\n",
    "\n",
    "# set up the figure for GPR85\n",
    "for gene in ['GPR85']:\n",
    "    fig, ax = plt.subplots(figsize=[5, 4]); ax.grid(False)\n",
    "    mask = arr.index.str.startswith(gene)\n",
    "    # plot the average\n",
    "    ax.scatter(arr.columns[:-1], arr.loc[mask, arr.columns[:-1]].mean(0),\n",
    "               color='xkcd:pale lavender', edgecolor='xkcd:bright lilac', s=50, zorder=1, lw=1.5)\n",
    "    # plot the standard error\n",
    "    ci_pad = 0.1\n",
    "    for col in arr.columns[:-1]:\n",
    "        x = col; y = arr.loc[mask, col].mean()\n",
    "        ci = arr[col].std() / np.sqrt(4)\n",
    "        ax.plot([x]*2, [y-ci, y+ci], color='xkcd:bright lilac', zorder=0, lw=1.5)\n",
    "        ax.plot([x-ci_pad, x+ci_pad], [y-ci]*2, color='xkcd:bright lilac', zorder=0, lw=1.5)\n",
    "        ax.plot([x-ci_pad, x+ci_pad], [y+ci]*2, color='xkcd:bright lilac', zorder=0, lw=1.5)\n",
    "        \n",
    "    # define the parameters\n",
    "    xdata = arr.columns[:-1].tolist()*3\n",
    "    ydata = arr.loc[mask, arr.columns[:-1]].values.flatten()\n",
    "    vmin, vmax = ydata.min(), ydata.max() - ydata.min()\n",
    "    ydata = (ydata - vmin) / vmax\n",
    "    # model the sigmoidal curve\n",
    "    p0 = [max(ydata), np.median(xdata), 1, min(ydata)] # this is an mandatory initial guess\n",
    "    popt, pcov = curve_fit(sigmoid, xdata, ydata, p0, method='dogbox')\n",
    "    # set up the fit\n",
    "    xl = np.linspace(-13, -3, 1000)\n",
    "    yl = sigmoid(xl, *popt)\n",
    "    ax.plot(xl, yl * vmax + vmin, color='k', linestyle='--', lw=2)\n",
    "    # utilize the ten closest values to estimate an EC50\n",
    "    xs_ = xl[np.argsort(abs(yl - 0.5))[:10]]\n",
    "    ys_ = yl[np.argsort(abs(yl - 0.5))[:10]]\n",
    "    weights = abs(ys_ - 0.5); weights /= weights.sum()\n",
    "    estimated_ec50 = sum(xs_ * weights)\n",
    "    print(f'EC50={round(10**estimated_ec50 * 1e9,2)}nM via dogbox')\n",
    "\n",
    "    # plot the non ligand\n",
    "    ax.plot([-13, -3], [arr.loc[mask, 0].mean()]*2, color='xkcd:bright lilac', lw=2, linestyle='--')\n",
    "    \n",
    "    # setup the ticks\n",
    "    ax.set_xticks(arr.columns)\n",
    "    ax.set_xlim(-12.5, -4.5)\n",
    "    ax.set(xlabel='log$_{10}$(ACh conc.) in M')\n"
   ]
  },
  {
   "cell_type": "code",
   "execution_count": null,
   "id": "789f24b1-2638-44e8-a646-2fc826a35590",
   "metadata": {},
   "outputs": [],
   "source": [
    "# create array to capture the data for cAMP Glu+F\n",
    "arr = ['5.77E+05\t340706\t349120\t293306',\n",
    "'4.29E+05\t4.10E+05\t349120\t314468',\n",
    "'7.16E+05\t6.30E+05\t4.90E+05\t358991',\n",
    "'7.04E+05\t4.23E+05\t4.46E+05\t4.29E+05',\n",
    "'5.83E+05\t4.75E+05\t4.11E+05\t329038',\n",
    "'4.16E+05\t4.52E+05\t358991\t380908',\n",
    "'4.61E+05\t5.21E+05\t364032\t367858',\n",
    "'4.66E+05\t5.21E+05\t4.26E+05\t373024',\n",
    "'4.85E+05\t4.76E+05\t5.02E+05\t4.19E+05']\n",
    "# convert into array\n",
    "arr = [np.array(row.split('\\t')).astype(float) for row in arr]\n",
    "# plot the results\n",
    "arr = pd.DataFrame(arr, columns=['GPR85_1','GPR85_2','GPR85_3','GPR85_4'],\n",
    "                   index=np.arange(-12, -4)[::-1].tolist()+[0]).T\n",
    "\n",
    "# set up the figure for GPR85\n",
    "for gene in ['GPR85']:\n",
    "    fig, ax = plt.subplots(figsize=[5, 4]); ax.grid(False)\n",
    "    mask = arr.index.str.startswith(gene)\n",
    "    # plot the average\n",
    "    ax.scatter(arr.columns[:-1], arr.loc[mask, arr.columns[:-1]].mean(0),\n",
    "               color='xkcd:pale lavender', edgecolor='xkcd:bright lilac', s=50, zorder=1, lw=1.5)\n",
    "    # plot the standard error\n",
    "    ci_pad = 0.1\n",
    "    for col in arr.columns[:-1]:\n",
    "        x = col; y = arr.loc[mask, col].mean()\n",
    "        ci = arr[col].std() / np.sqrt(4)\n",
    "        ax.plot([x]*2, [y-ci, y+ci], color='xkcd:bright lilac', zorder=0, lw=1.5)\n",
    "        ax.plot([x-ci_pad, x+ci_pad], [y-ci]*2, color='xkcd:bright lilac', zorder=0, lw=1.5)\n",
    "        ax.plot([x-ci_pad, x+ci_pad], [y+ci]*2, color='xkcd:bright lilac', zorder=0, lw=1.5)\n",
    "        \n",
    "    # plot the non ligand\n",
    "    ax.plot([-13, -3], [arr.loc[mask, 0].mean()]*2, color='xkcd:bright lilac', lw=2, linestyle='--')\n",
    "    \n",
    "    # setup the ticks\n",
    "    ax.set_xticks(arr.columns)\n",
    "    ax.set_xlim(-12.5, -4.5)\n",
    "    ax.set(xlabel='log$_{10}$(Glu conc.) in M')"
   ]
  },
  {
   "cell_type": "code",
   "execution_count": null,
   "id": "9667ebc4-7568-4b4c-8ea2-ae0da0b3d691",
   "metadata": {},
   "outputs": [],
   "source": [
    "# create array to capture the data for RI ACh\n",
    "arr = ['12237\t11925\t11622\t12080\t12929\t12396\t12158\t14347',\n",
    "'14253\t12477\t12277\t12929\t13055\t13978\t13618\t14441',\n",
    "'11964\t11182\t14441\t11660\t13618\t13183\t12277\t12080',\n",
    "'13355\t13140\t13442\t13978\t13183\t14023\t14823\t16957',\n",
    "'15067\t14630\t15166\t17295\t14394\t14969\t16462\t19288',\n",
    "'15067\t13842\t13399\t18972\t15878\t16790\t16516\t19611',\n",
    "'15067\t16462\t14969\t17875\t16846\t18537\t16790\t17353',\n",
    "'15366\t17069\t16247\t16735\t16462\t15826\t15266\t16957',\n",
    "'16194\t16408\t14871\t17239\t17699\t15983\t15266\t19352']\n",
    "# convert into array\n",
    "arr = [np.array(row.split('\\t')).astype(float) for row in arr]\n",
    "# plot the results\n",
    "arr = pd.DataFrame(arr, columns=['GPR85_1','GPR85_2','GPR85_3','GPR85_4',\n",
    "                                 'CHRM2_1','CHRM2_2','CHRM2_3','CHRM2_4'],\n",
    "                   index=np.arange(-12, -4)[::-1].tolist()+[0]).T\n",
    "\n",
    "# set up the figure for GPR85 and CHRM2\n",
    "for gene in ['GPR85','CHRM2']:\n",
    "    fig, ax = plt.subplots(figsize=[5, 4]); ax.grid(False)\n",
    "    mask = arr.index.str.startswith(gene)\n",
    "    # plot the average\n",
    "    ax.scatter(arr.columns[:-1], arr.loc[mask, arr.columns[:-1]].mean(0),\n",
    "               color='xkcd:pale lavender', edgecolor='xkcd:bright lilac', s=50, zorder=1, lw=1.5)\n",
    "    # plot the standard error\n",
    "    ci_pad = 0.1\n",
    "    for col in arr.columns[:-1]:\n",
    "        x = col; y = arr.loc[mask, col].mean()\n",
    "        ci = arr[col].std() / np.sqrt(4)\n",
    "        ax.plot([x]*2, [y-ci, y+ci], color='xkcd:bright lilac', zorder=0, lw=1.5)\n",
    "        ax.plot([x-ci_pad, x+ci_pad], [y-ci]*2, color='xkcd:bright lilac', zorder=0, lw=1.5)\n",
    "        ax.plot([x-ci_pad, x+ci_pad], [y+ci]*2, color='xkcd:bright lilac', zorder=0, lw=1.5)\n",
    "        \n",
    "    # define the parameters\n",
    "    xdata = arr.columns[:-1].tolist()*4\n",
    "    ydata = arr.loc[mask, arr.columns[:-1]].values.flatten()\n",
    "    vmin, vmax = ydata.min(), ydata.max() - ydata.min()\n",
    "    ydata = (ydata - vmin) / vmax\n",
    "    # model the sigmoidal curve\n",
    "    p0 = [max(ydata), np.median(xdata), 1, min(ydata)] # this is an mandatory initial guess\n",
    "    popt, pcov = curve_fit(sigmoid, xdata, ydata, p0, method='dogbox')\n",
    "    # set up the fit\n",
    "    xl = np.linspace(-13, -3, 1000)\n",
    "    yl = sigmoid(xl, *popt)\n",
    "    ax.plot(xl, yl * vmax + vmin, color='k', linestyle='--', lw=2)\n",
    "    # utilize the ten closest values to estimate an EC50\n",
    "    xs_ = xl[np.argsort(abs(yl - 0.5))[:10]]\n",
    "    ys_ = yl[np.argsort(abs(yl - 0.5))[:10]]\n",
    "    weights = abs(ys_ - 0.5); weights /= weights.sum()\n",
    "    estimated_ec50 = sum(xs_ * weights)\n",
    "    print(f'EC50={round(10**estimated_ec50 * 1e9,2)}nM via dogbox')\n",
    "\n",
    "    # plot the non ligand\n",
    "    ax.plot([-13, -3], [arr.loc[mask, 0].mean()]*2, color='xkcd:bright lilac', lw=2, linestyle='--')\n",
    "    \n",
    "    # setup the ticks\n",
    "    ax.set_xticks(arr.columns)\n",
    "    ax.set_xlim(-12.5, -4.5)\n",
    "    ax.set(xlabel='log$_{10}$(ACh conc.) in M')\n"
   ]
  },
  {
   "cell_type": "code",
   "execution_count": null,
   "id": "d8653eb6-f46e-4cc1-9bca-590f84d16cad",
   "metadata": {},
   "outputs": [],
   "source": [
    "# create array to capture the data for RI Glu\n",
    "arr = ['11811\t13013\t12971\t13226\t14969\t14871\t13752\t16194',\n",
    "'11005\t12763\t12477\t14394\t15316\t14969\t12158\t15826',\n",
    "'12003\t12639\t12356\t14253\t12680\t16035\t14583\t14347',\n",
    "'12396\t15117\t12003\t12396\t12804\t13618\t13312\t16247',\n",
    "'12277\t12558\t11811\t11697\t12558\t14488\t13932\t15774',\n",
    "'12119\t16301\t12598\t12598\t15166\t13355\t12080\t13797',\n",
    "'11925\t13752\t15878\t12763\t13486\t13055\t15723\t13978',\n",
    "'12639\t12558\t12680\t12436\t13269\t13486\t13098\t17641',\n",
    "'13797\t13887\t12804\t12929\t13752\t13355\t14023\t17069']\n",
    "# convert into array\n",
    "arr = [np.array(row.split('\\t')).astype(float) for row in arr]\n",
    "# plot the results\n",
    "arr = pd.DataFrame(arr, columns=['GPR85_1','GPR85_2','GPR85_3','GPR85_4',\n",
    "                                 'CHRM2_1','CHRM2_2','CHRM2_3','CHRM2_4'],\n",
    "                   index=np.arange(-12, -4)[::-1].tolist()+[0]).T\n",
    "\n",
    "# set up the figure for GPR85 and CHRM2\n",
    "for gene in ['GPR85','CHRM2']:\n",
    "    fig, ax = plt.subplots(figsize=[5, 4]); ax.grid(False)\n",
    "    mask = arr.index.str.startswith(gene)\n",
    "    # plot the average\n",
    "    ax.scatter(arr.columns[:-1], arr.loc[mask, arr.columns[:-1]].mean(0),\n",
    "               color='xkcd:pale lavender', edgecolor='xkcd:bright lilac', s=50, zorder=1, lw=1.5)\n",
    "    # plot the standard error\n",
    "    ci_pad = 0.1\n",
    "    for col in arr.columns[:-1]:\n",
    "        x = col; y = arr.loc[mask, col].mean()\n",
    "        ci = arr[col].std() / np.sqrt(4)\n",
    "        ax.plot([x]*2, [y-ci, y+ci], color='xkcd:bright lilac', zorder=0, lw=1.5)\n",
    "        ax.plot([x-ci_pad, x+ci_pad], [y-ci]*2, color='xkcd:bright lilac', zorder=0, lw=1.5)\n",
    "        ax.plot([x-ci_pad, x+ci_pad], [y+ci]*2, color='xkcd:bright lilac', zorder=0, lw=1.5)\n",
    "        \n",
    "    # plot the non ligand\n",
    "    ax.plot([-13, -3], [arr.loc[mask, 0].mean()]*2, color='xkcd:bright lilac', lw=2, linestyle='--')\n",
    "    \n",
    "    # setup the ticks\n",
    "    ax.set_xticks(arr.columns)\n",
    "    ax.set_xlim(-12.5, -4.5)\n",
    "    ax.set(xlabel='log$_{10}$(Glu conc.) in M')"
   ]
  },
  {
   "cell_type": "markdown",
   "id": "0d369061-5638-40f5-baab-fc2ca3802f30",
   "metadata": {},
   "source": [
    "### verify GPR85 surface expression upon transduction"
   ]
  },
  {
   "cell_type": "code",
   "execution_count": null,
   "id": "f2ab9646-5a98-43c0-89ba-b02ac3a212fe",
   "metadata": {},
   "outputs": [],
   "source": [
    "# transduced, from ACh RI\n",
    "transduced = [float(x) for x in '16194\t16408\t14871\t17239'.split('\\t')]\n",
    "untransduced = [float(x) for x in '4326\t3597\t3977\t4377'.split('\\t')]\n",
    "ys = transduced + untransduced\n",
    "xs = ['Tx']*4+['UnTx']*4\n",
    "# construct the plot\n",
    "fig, ax = plt.subplots(figsize=[2, 4]); ax.grid(False)\n",
    "sns.boxplot(x=xs, y=ys, order=['UnTx','Tx'], palette=['lightgray','xkcd:bright lilac'],\n",
    "            linewidth=1.5, linecolor='k')\n",
    "ax.scatter(x=['UnTx']*4, y=ys[-4:], zorder=2, edgecolor='k', lw=1.5, facecolors='grey', alpha=0.5)\n",
    "ax.scatter(x=['Tx']*4, y=ys[:4], zorder=2, edgecolor='k', lw=1.5, facecolors='xkcd:bright lilac', alpha=0.5)\n",
    "for idx in range(4):\n",
    "    ax.plot(['UnTx','Tx'], [untransduced[idx], transduced[idx]], lw=1, color='k', zorder=1, alpha=0.5)\n",
    "ylim = ax.get_ylim()\n",
    "ax.set_ylim(ylim[0], ylim[1]+(ylim[1]-ylim[0])*0.3)\n",
    "ax.set_xlim(-1, 2)\n",
    "# calculate the p-value\n",
    "print('shapiro', ss.shapiro(untransduced)[1], ss.shapiro(transduced)[1])\n",
    "print('wilcoxon', ss.wilcoxon(transduced, untransduced)[1])\n",
    "print('mannwhitneyu', ss.mannwhitneyu(transduced, untransduced)[1])\n",
    "print('ttest_rel', ss.ttest_rel(transduced, untransduced)[1])\n",
    "print('ttest_ind', ss.ttest_ind(transduced, untransduced)[1])"
   ]
  },
  {
   "cell_type": "markdown",
   "id": "d810059c-3295-46ad-bc31-0cdee6874136",
   "metadata": {},
   "source": [
    "### download single-cell atlases"
   ]
  },
  {
   "cell_type": "code",
   "execution_count": null,
   "id": "f781ab95-c1f8-4705-8248-e45c0ee1ca94",
   "metadata": {
    "tags": []
   },
   "outputs": [],
   "source": [
    "# Dementia https://cellxgene.cziscience.com/collections/c53573b2-eff4-4c5e-9ad0-b24d422dfd9b\n",
    "# read in the data, subset for GPR85, write and delete to save space\n",
    "DN = '/lustre/scratch126/cellgen/team205/dc20/proj_GPR85'\n",
    "print('reading in data...')\n",
    "adata = sc.read_h5ad(f'{DN}/ext_data/cxg_dementia_snrnaseq/2808a16d-64c5-451b-91a5-c1a2d9f270d5.h5ad')\n",
    "# reassign the variable names\n",
    "print('reassigning variable names...')\n",
    "adata.var['ensembl_id'] = adata.var.index\n",
    "adata.var.index = adata.var['feature_name'].astype(str)\n",
    "adata.var_names_make_unique()\n",
    "# notes: ethnicity is self reported, suspension type indicates snRNA-seq\n",
    "print('keeping relevant variables...')\n",
    "assert adata.raw.shape[1] ==  adata.shape[1]\n",
    "org_columns = ['donor_id','disease','development_stage','self_reported_ethnicity','sex',\n",
    "               'assay','tissue','ct_subcluster','cell_type']\n",
    "obs_columns = ['donor','disease_state','developmental_stage','reported_ethnicity','reported_sex',\n",
    "               'sequencing_kit','tissue','cell_type_broad','cell_type_fine']\n",
    "adata.obs = adata.obs[org_columns]\n",
    "adata.obs.columns = obs_columns\n",
    "adata.obs['sequencing_kit'] = adata.obs['sequencing_kit'].astype(str) + ' snRNAseq'\n",
    "adata.obs['study'] = 'Rexach et al. 2024 (Cell)'\n",
    "adata.var = adata.var[['ensembl_id']]\n",
    "# store the raw counts\n",
    "print('cleaning up raw counts...')\n",
    "adata.X = adata.raw.X\n",
    "adata.layers['raw_counts'] = adata.X\n",
    "# clean the raw loadings\n",
    "adata.raw.var.index = adata.var.index\n",
    "adata.raw = adata\n",
    "import seaborn as sns\n",
    "# retrieve the frequency of the GPR85 gene\n",
    "print('finding GPR85+ cells...')\n",
    "freq = adata[:, adata.var.index == 'GPR85'].X.sum(1).A1 / adata.X.sum(1).A1\n",
    "# subset the data by cutoff to only get high confidence GPR85 positive cells\n",
    "fig, ax = plt.subplots(figsize=[6, 3]); ax.grid(False)\n",
    "sns.kdeplot(freq * 100, fill=True, bw_adjust=0.1, color='k', lw=1.5)\n",
    "ax.set(xlabel='GPR85+ % of counts')\n",
    "# perform the cutting\n",
    "np.random.seed(0)\n",
    "idxs_pos = adata.obs.index[freq >= 5e-4].copy()\n",
    "idxs_leftover = adata.obs.index[~adata.obs.index.isin(idxs_pos)]\n",
    "idxs_neg = np.random.choice(idxs_leftover, size=len(idxs_pos), replace=False)\n",
    "# save the data\n",
    "adata = adata[idxs_pos.union(idxs_neg)].copy()\n",
    "adata.write(f'{DN}/ext_data/cxg_dementia_snrnaseq/GPR85.mixed.h5ad')"
   ]
  },
  {
   "cell_type": "code",
   "execution_count": null,
   "id": "534fb6f3-4de4-43f5-8067-6de446cb8e2c",
   "metadata": {
    "tags": []
   },
   "outputs": [],
   "source": [
    "# Brain census V1.0 https://cellxgene.cziscience.com/collections/283d65eb-dd53-496d-adb7-7570c7caa443\n",
    "# read in the data, subset for GPR85, write and delete to save space\n",
    "DN = '/lustre/scratch126/cellgen/team205/dc20/proj_GPR85'\n",
    "group_name = 'cxg_brain_census'\n",
    "fns = [f'{DN}/ext_data/{group_name}/c2f66cd5-4ff4-4578-876c-55783a57cf8f.h5ad',\n",
    "       f'{DN}/ext_data/{group_name}/99f27be8-9fac-451e-9723-9e4c7191589e.h5ad']\n",
    "out_fns = [f'{DN}/ext_data/{group_name}/GPR85.mixed.neuronal.h5ad',\n",
    "           f'{DN}/ext_data/{group_name}/GPR85.mixed.nonneuronal.h5ad']\n",
    "for fn, out_fn in zip(fns[1:], out_fns[1:]):\n",
    "    print('reading in data...')\n",
    "    adata = sc.read_h5ad(fn)\n",
    "    # reassign the variable names\n",
    "    print('reassigning variable names...')\n",
    "    adata.var['ensembl_id'] = adata.var.index\n",
    "    adata.var.index = adata.var['feature_name'].astype(str)\n",
    "    adata.var_names_make_unique()\n",
    "    # notes: dissection added to tissue for more information, X is raw\n",
    "    print('keeping relevant variables...')\n",
    "    org_columns = ['donor_id','disease','development_stage','self_reported_ethnicity','sex',\n",
    "                   'assay','tissue','supercluster_term','cell_type','dissection']\n",
    "    obs_columns = ['donor','disease_state','developmental_stage','reported_ethnicity','reported_sex',\n",
    "                   'sequencing_kit','tissue','cell_type_broad','cell_type_fine','dissection']\n",
    "    adata.obs = adata.obs[org_columns]\n",
    "    adata.obs.columns = obs_columns\n",
    "    adata.obs['tissue'] = adata.obs[['tissue','dissection']].astype(str).agg(':'.join, axis=1)\n",
    "    del adata.obs['dissection']\n",
    "    adata.obs['sequencing_kit'] = adata.obs['sequencing_kit'].astype(str) + ' snRNAseq'\n",
    "    adata.obs['study'] = 'Siletti et al. 2023 (Science)'\n",
    "    adata.var = adata.var[['ensembl_id']]\n",
    "    adata.obsm['X_umap'] = adata.obsm['X_UMAP']\n",
    "    adata.obsm['X_tsne'] = adata.obsm['X_tSNE']\n",
    "    del adata.obsm['X_UMAP'], adata.obsm['X_tSNE']    \n",
    "    # store the raw counts\n",
    "    print('cleaning up raw counts...')\n",
    "    adata.layers['raw_counts'] = adata.X\n",
    "    # clean the raw loadings\n",
    "    adata.raw = adata\n",
    "    # retrieve the frequency of the GPR85 gene\n",
    "    print('finding GPR85+ cells...')\n",
    "    freq = adata[:, adata.var.index == 'GPR85'].X.sum(1).A1 / adata.X.sum(1).A1\n",
    "    # subset the data by cutoff to only get high confidence GPR85 positive cells\n",
    "    fig, ax = plt.subplots(figsize=[6, 3]); ax.grid(False)\n",
    "    sns.kdeplot(freq * 100, fill=True, bw_adjust=0.1, color='k', lw=1.5)\n",
    "    ax.set(xlabel='GPR85+ % of counts')\n",
    "    # perform the cutting\n",
    "    np.random.seed(0)\n",
    "    idxs_pos = adata.obs.index[freq >= 5e-4].copy()\n",
    "    idxs_leftover = adata.obs.index[~adata.obs.index.isin(idxs_pos)]\n",
    "    idxs_neg = np.random.choice(idxs_leftover, size=len(idxs_pos), replace=False)\n",
    "    # save the data\n",
    "    adata = adata[idxs_pos.union(idxs_neg)].copy()\n",
    "    adata.write(out_fn)\n",
    "    !rm -rf '{fn}'"
   ]
  },
  {
   "cell_type": "code",
   "execution_count": null,
   "id": "8788928e-94df-4b44-bf57-af72990b833b",
   "metadata": {
    "tags": []
   },
   "outputs": [],
   "source": [
    "# Neocortex https://cellxgene.cziscience.com/collections/d17249d2-0e6e-4500-abb8-e6c93fa1ac6f\n",
    "# read in the data, subset for GPR85, write and delete to save space\n",
    "DN = '/lustre/scratch126/cellgen/team205/dc20/proj_GPR85'\n",
    "group_name = 'cxg_neocortex_organization'\n",
    "fns = [f'{DN}/ext_data/{group_name}/b33ff5a3-527e-41c3-83ce-012a8ad2d2c1.h5ad',\n",
    "       f'{DN}/ext_data/{group_name}/cc14c567-83a5-4e24-974e-9dfdb14dee5a.h5ad',\n",
    "       f'{DN}/ext_data/{group_name}/35df8878-f72d-400b-9626-58062590ef22.h5ad',\n",
    "       f'{DN}/ext_data/{group_name}/a8f46fa6-3d16-4a86-865e-5611a9dcf0ae.h5ad',\n",
    "       f'{DN}/ext_data/{group_name}/bdfa0cf3-7e2a-4794-90d0-7ef337011766.h5ad']\n",
    "out_fns = [f'{DN}/ext_data/{group_name}/GPR85.mixed.itprojex.h5ad',\n",
    "           f'{DN}/ext_data/{group_name}/GPR85.mixed.mgein.h5ad',\n",
    "           f'{DN}/ext_data/{group_name}/GPR85.mixed.cgein.h5ad',\n",
    "           f'{DN}/ext_data/{group_name}/GPR85.mixed.nonneuronal.h5ad',\n",
    "           f'{DN}/ext_data/{group_name}/GPR85.mixed.deepnonitex.h5ad']\n",
    "for fn, out_fn in zip(fns, out_fns):\n",
    "    print('reading in data...')\n",
    "    adata = sc.read_h5ad(fn)\n",
    "    # reassign the variable names\n",
    "    print('reassigning variable names...')\n",
    "    adata.var['ensembl_id'] = adata.var.index\n",
    "    adata.var.index = adata.var['feature_name'].astype(str)\n",
    "    adata.var_names_make_unique()\n",
    "    # notes: suspension type indicates snRNA-seq, generating tissue with region and subregion\n",
    "    # to add more information on cell type broad we add in the x area subclass/cluster then the w/in area\n",
    "    org_columns = ['donor_id','disease','development_stage','self_reported_ethnicity','sex',\n",
    "                   'assay','tissue','Class','cell_type','Region','Subregion',\n",
    "                   'CrossArea_subclass','CrossArea_cluster','WithinArea_subclass','WithinArea_cluster']\n",
    "    obs_columns = ['donor','disease_state','developmental_stage','reported_ethnicity','reported_sex',\n",
    "                   'sequencing_kit','tissue','cell_type_broad','cell_type_fine',\n",
    "                   'Region','Subregion','CrossArea_subclass','CrossArea_cluster','WithinArea_subclass','WithinArea_cluster']\n",
    "    adata.obs = adata.obs[org_columns]\n",
    "    adata.obs.columns = obs_columns\n",
    "    adata.obs['tissue'] = adata.obs[['tissue','Region','Subregion']].astype(str).agg(':'.join, axis=1)\n",
    "    adata.obs['cell_type_broad'] = adata.obs[['cell_type_broad','CrossArea_subclass','CrossArea_cluster','WithinArea_subclass','WithinArea_cluster']].astype(str).agg(':'.join, axis=1)\n",
    "    del adata.obs['Region'], adata.obs['Subregion'], adata.obs['CrossArea_subclass'], adata.obs['CrossArea_cluster'], adata.obs['WithinArea_subclass'], adata.obs['WithinArea_cluster']\n",
    "    adata.obs['sequencing_kit'] = adata.obs['sequencing_kit'].astype(str) + ' snRNAseq'\n",
    "    adata.obs['study'] = 'Jorstad et al. 2023 (Science)'\n",
    "    adata.var = adata.var[['ensembl_id']]    \n",
    "    # store the raw counts\n",
    "    print('cleaning up raw counts...')\n",
    "    adata.X = adata.raw.X\n",
    "    adata.layers['raw_counts'] = adata.X\n",
    "    # clean the raw loadings\n",
    "    adata.raw = adata\n",
    "    # retrieve the frequency of the GPR85 gene\n",
    "    print('finding GPR85+ cells...')\n",
    "    freq = adata[:, adata.var.index == 'GPR85'].X.sum(1).A1 / adata.X.sum(1).A1\n",
    "    # subset the data by cutoff to only get high confidence GPR85 positive cells\n",
    "    fig, ax = plt.subplots(figsize=[6, 3]); ax.grid(False)\n",
    "    sns.kdeplot(freq * 100, fill=True, bw_adjust=0.1, color='k', lw=1.5)\n",
    "    ax.set(xlabel='GPR85+ % of counts')\n",
    "    # perform the cutting\n",
    "    np.random.seed(0)\n",
    "    idxs_pos = adata.obs.index[freq >= 5e-4].copy()\n",
    "    idxs_leftover = adata.obs.index[~adata.obs.index.isin(idxs_pos)]\n",
    "    idxs_neg = np.random.choice(idxs_leftover, size=len(idxs_pos), replace=False)\n",
    "    # save the data\n",
    "    adata = adata[idxs_pos.union(idxs_neg)].copy()\n",
    "    adata.obsm['X_umap'] = adata.obsm['X_UMAP']\n",
    "    adata.write(out_fn)\n",
    "    !rm -rf '{fn}'"
   ]
  },
  {
   "cell_type": "code",
   "execution_count": null,
   "id": "ac656ec7-206c-422a-9fc7-d7df5ed959ed",
   "metadata": {
    "tags": []
   },
   "outputs": [],
   "source": [
    "# Seattle AD https://cellxgene.cziscience.com/collections/1ca90a2d-2943-483d-b678-b809bf464c30\n",
    "# read in the data, subset for GPR85, write and delete to save space\n",
    "DN = '/lustre/scratch126/cellgen/team205/dc20/proj_GPR85'\n",
    "group_name = 'cxg_alzheimers_seattle'\n",
    "fns = [f'{DN}/ext_data/{group_name}/c32964d2-3339-441f-8e56-7177234c7876.h5ad',\n",
    "       f'{DN}/ext_data/{group_name}/d3427e8c-c55d-4d4e-b15b-1a8774cd3a4b.h5ad']\n",
    "out_fns = [f'{DN}/ext_data/{group_name}/GPR85.mixed.mtg.h5ad',\n",
    "           f'{DN}/ext_data/{group_name}/GPR85.mixed.dlpfc.h5ad']\n",
    "for fn, out_fn in zip(fns, out_fns):\n",
    "    print('reading in data...')\n",
    "    adata = sc.read_h5ad(fn)\n",
    "    # reassign the variable names\n",
    "    print('reassigning variable names...')\n",
    "    adata.var['ensembl_id'] = adata.var.index\n",
    "    adata.var.index = adata.var['feature_name'].astype(str)\n",
    "    adata.var_names_make_unique()\n",
    "    # notes: suspension type indicates snRNA-seq, cell type broad becomes finer\n",
    "    assert adata.raw.shape[1] ==  adata.shape[1]\n",
    "    org_columns = ['donor_id','disease','development_stage','self_reported_ethnicity','sex',\n",
    "                   'assay','tissue','Class','cell_type','Age at death',\n",
    "                   'Subclass','Supertype','Years of education','Cognitive status','ADNC','Braak stage',\n",
    "                   'Thal phase','CERAD score','APOE4 status','Lewy body disease pathology','LATE-NC stage','Microinfarct pathology',]\n",
    "    obs_columns = ['donor','disease_state','developmental_stage','reported_ethnicity','reported_sex',\n",
    "                   'sequencing_kit','tissue','cell_type_broad','cell_type_fine','Age at death',\n",
    "                   'Subclass','Supertype','Years of education','Cognitive status','ADNC','Braak stage',\n",
    "                   'Thal phase','CERAD score','APOE4 status','Lewy body disease pathology','LATE-NC stage','Microinfarct pathology',]\n",
    "    adata.obs = adata.obs[org_columns]\n",
    "    adata.obs.columns = obs_columns\n",
    "    adata.obs['cell_type_broad'] = adata.obs[['cell_type_broad','Subclass','Supertype']].astype(str).agg(':'.join, axis=1)\n",
    "    adata.obs['developmental_stage'] = adata.obs[['developmental_stage','Age at death']].astype(str).agg(':'.join, axis=1)\n",
    "    del adata.obs['Age at death'], adata.obs['Subclass'], adata.obs['Supertype']\n",
    "    adata.obs['sequencing_kit'] = adata.obs['sequencing_kit'].astype(str) + ' snRNAseq'\n",
    "    adata.obs['study'] = 'Gabitto and Travaglini et al. 2024 (bioRxiv)'\n",
    "    adata.var = adata.var[['ensembl_id']]   \n",
    "    # store the raw counts\n",
    "    print('cleaning up raw counts...')\n",
    "    adata.X = adata.raw.X\n",
    "    # retrieve the frequency of the GPR85 gene\n",
    "    print('finding GPR85+ cells...')\n",
    "    freq = adata[:, adata.var.index == 'GPR85'].X.sum(1).A1 / adata.X.sum(1).A1\n",
    "    # subset the data by cutoff to only get high confidence GPR85 positive cells\n",
    "    fig, ax = plt.subplots(figsize=[6, 3]); ax.grid(False)\n",
    "    sns.kdeplot(freq * 100, fill=True, bw_adjust=0.1, color='k', lw=1.5)\n",
    "    ax.set(xlabel='GPR85+ % of counts')\n",
    "    # perform the cutting\n",
    "    np.random.seed(0)\n",
    "    idxs_pos = adata.obs.index[freq >= 5e-4].copy()\n",
    "    idxs_leftover = adata.obs.index[~adata.obs.index.isin(idxs_pos)]\n",
    "    idxs_neg = np.random.choice(idxs_leftover, size=len(idxs_pos), replace=False)\n",
    "    # save the data\n",
    "    adata = adata[idxs_pos.union(idxs_neg)].copy()\n",
    "    # do delayed cleaning to avoid memory issues\n",
    "    adata.layers['raw_counts'] = adata.X\n",
    "    # clean the raw loadings\n",
    "    adata.raw.var.index = adata.var.index\n",
    "    adata.raw = adata\n",
    "    adata.write(out_fn)\n",
    "    !rm -rf '{fn}'"
   ]
  },
  {
   "cell_type": "code",
   "execution_count": null,
   "id": "f9f48337-f917-474c-a3b6-2d3554a7913d",
   "metadata": {
    "tags": []
   },
   "outputs": [],
   "source": [
    "# Brain matters https://cellxgene.cziscience.com/collections/9d63fcf1-5ca0-4006-8d8f-872f3327dbe9\n",
    "# read in the data, subset for GPR85, write and delete to save space\n",
    "DN = '/lustre/scratch126/cellgen/team205/dc20/proj_GPR85'\n",
    "group_name = 'cxg_brain_matters'\n",
    "fns = [f'{DN}/ext_data/{group_name}/4bb40321-d632-474d-805d-6b665b70a7cf.h5ad']\n",
    "out_fns = [f'{DN}/ext_data/{group_name}/GPR85.mixed.h5ad']\n",
    "for fn, out_fn in zip(fns, out_fns):\n",
    "    print('reading in data...')\n",
    "    adata = sc.read_h5ad(fn)\n",
    "    # reassign the variable names\n",
    "    print('reassigning variable names...')\n",
    "    adata.var['ensembl_id'] = adata.var.index\n",
    "    adata.var.index = adata.var['feature_name'].astype(str)\n",
    "    adata.var_names_make_unique()\n",
    "    # notes: snRNAseq\n",
    "    assert adata.raw.shape[1] == adata.shape[1]\n",
    "    org_columns = ['donor_id','disease','development_stage','self_reported_ethnicity','sex',\n",
    "                   'assay','tissue','broad_cell_type','cell_type','author_cell_type','donor_cause_of_death','CauseOfDeath_category']\n",
    "    obs_columns = ['donor','disease_state','developmental_stage','reported_ethnicity','reported_sex',\n",
    "                   'sequencing_kit','tissue','cell_type_broad','cell_type_fine','author_cell_type','donor_cause_of_death','CauseOfDeath_category']\n",
    "    adata.obs = adata.obs[org_columns]\n",
    "    adata.obs.columns = obs_columns\n",
    "    adata.obs['tissue'] = adata.obs[['tissue']].astype(str).agg(':'.join, axis=1)\n",
    "    adata.obs['cell_type_broad'] = adata.obs[['cell_type_broad','author_cell_type']].astype(str).agg(':'.join, axis=1)\n",
    "    del adata.obs['author_cell_type']\n",
    "    adata.obs['sequencing_kit'] = adata.obs['sequencing_kit'].astype(str) + ' snRNAseq'\n",
    "    adata.obs['study'] = 'Seeker et al. 2023 (Acta Neuropathol. Commun.)'\n",
    "    adata.var = adata.var[['ensembl_id']]    \n",
    "    # store the raw counts\n",
    "    print('cleaning up raw counts...')\n",
    "    adata.X = adata.raw.X\n",
    "    adata.layers['raw_counts'] = adata.X\n",
    "    # clean the raw loadings\n",
    "    adata.raw = adata\n",
    "    # retrieve the frequency of the GPR85 gene\n",
    "    print('finding GPR85+ cells...')\n",
    "    freq = adata[:, adata.var.index == 'GPR85'].X.sum(1).A1 / adata.X.sum(1).A1\n",
    "    # subset the data by cutoff to only get high confidence GPR85 positive cells\n",
    "    fig, ax = plt.subplots(figsize=[6, 3]); ax.grid(False)\n",
    "    sns.kdeplot(freq * 100, fill=True, bw_adjust=0.1, color='k', lw=1.5)\n",
    "    ax.set(xlabel='GPR85+ % of counts')\n",
    "    # perform the cutting\n",
    "    np.random.seed(0)\n",
    "    idxs_pos = adata.obs.index[freq >= 5e-4].copy()\n",
    "    idxs_leftover = adata.obs.index[~adata.obs.index.isin(idxs_pos)]\n",
    "    idxs_neg = np.random.choice(idxs_leftover, size=len(idxs_pos), replace=False)\n",
    "    # save the data\n",
    "    adata = adata[idxs_pos.union(idxs_neg)].copy()\n",
    "    adata.write(out_fn)\n",
    "    !rm -rf '{fn}'"
   ]
  },
  {
   "cell_type": "code",
   "execution_count": null,
   "id": "ec7fcedf-6c76-4890-a8db-5d3f1e61bd5f",
   "metadata": {
    "tags": []
   },
   "outputs": [],
   "source": [
    "# photoreceptor https://cellxgene.cziscience.com/collections/e9c73b68-e980-49c2-8d0d-1c9cab21507e\n",
    "# NOT UTILIZED IN THIS STUDY (for future extensions, but we read it in nonetheless so kept for transparency)\n",
    "# read in the data, subset for GPR85, write and delete to save space\n",
    "DN = '/lustre/scratch126/cellgen/team205/dc20/proj_GPR85'\n",
    "group_name = 'cxg_photoreceptor'\n",
    "fns = [f'{DN}/ext_data/{group_name}/3ba8c0d4-89c2-4c84-9d66-bb8e1a816286.h5ad']\n",
    "out_fns = [f'{DN}/ext_data/{group_name}/GPR85.mixed.h5ad']\n",
    "for fn, out_fn in zip(fns, out_fns):\n",
    "    print('reading in data...')\n",
    "    adata = sc.read_h5ad(fn)\n",
    "    # the rest have been checked for this\n",
    "    assert adata.obs['is_primary_data'].sum() == adata.shape[0]\n",
    "    # reassign the variable names\n",
    "    print('reassigning variable names...')\n",
    "    adata.var['ensembl_id'] = adata.var.index\n",
    "    adata.var.index = adata.var['feature_name'].astype(str)\n",
    "    adata.var_names_make_unique()\n",
    "    # notes: snRNAseq\n",
    "    assert adata.raw.shape[1] == adata.shape[1]\n",
    "    org_columns = ['donor_id','disease','development_stage','self_reported_ethnicity','sex',\n",
    "                   'assay','tissue','author_cell_type','cell_type']\n",
    "    obs_columns = ['donor','disease_state','developmental_stage','reported_ethnicity','reported_sex',\n",
    "                   'sequencing_kit','tissue','cell_type_broad','cell_type_fine']\n",
    "    adata.obs = adata.obs[org_columns]\n",
    "    adata.obs.columns = obs_columns\n",
    "    adata.obs['sequencing_kit'] = adata.obs['sequencing_kit'].astype(str) + ' snRNAseq'\n",
    "    adata.obs['study'] = 'Voigt et al. 2021 (Hum. Mol. Genet.)'\n",
    "    adata.var = adata.var[['ensembl_id']]    \n",
    "    # store the raw counts\n",
    "    print('cleaning up raw counts...')\n",
    "    adata.X = adata.raw.X\n",
    "    adata.layers['raw_counts'] = adata.X\n",
    "    # clean the raw loadings\n",
    "    adata.raw = adata\n",
    "    # retrieve the frequency of the GPR85 gene\n",
    "    print('finding GPR85+ cells...')\n",
    "    freq = adata[:, adata.var.index == 'GPR85'].X.sum(1).A1 / adata.X.sum(1).A1\n",
    "    # subset the data by cutoff to only get high confidence GPR85 positive cells\n",
    "    fig, ax = plt.subplots(figsize=[6, 3]); ax.grid(False)\n",
    "    sns.kdeplot(freq * 100, fill=True, bw_adjust=0.1, color='k', lw=1.5)\n",
    "    ax.set(xlabel='GPR85+ % of counts')\n",
    "    # perform the cutting\n",
    "    np.random.seed(0)\n",
    "    idxs_pos = adata.obs.index[freq >= 5e-4].copy()\n",
    "    idxs_leftover = adata.obs.index[~adata.obs.index.isin(idxs_pos)]\n",
    "    idxs_neg = np.random.choice(idxs_leftover, size=len(idxs_pos), replace=False)\n",
    "    # save the data\n",
    "    adata = adata[idxs_pos.union(idxs_neg)].copy()\n",
    "    adata.write(out_fn)\n",
    "    !rm -rf '{fn}'"
   ]
  },
  {
   "cell_type": "code",
   "execution_count": null,
   "id": "51156c1c-7bc3-4be8-9587-415ca47287a2",
   "metadata": {
    "tags": []
   },
   "outputs": [],
   "source": [
    "# fetal retina https://cellxgene.cziscience.com/collections/5900dda8-2dc3-4770-b604-084eac1c2c82\n",
    "# NOT UTILIZED IN THIS STUDY (for future extensions, but we read it in nonetheless so kept for transparency)\n",
    "# read in the data, subset for GPR85, write and delete to save space\n",
    "DN = '/lustre/scratch126/cellgen/team205/dc20/proj_GPR85'\n",
    "group_name = 'cxg_fetal_retina'\n",
    "fns = [f'{DN}/ext_data/{group_name}/8aa25b63-8f8e-47ef-af65-7ad951169e93.h5ad']\n",
    "out_fns = [f'{DN}/ext_data/{group_name}/GPR85.mixed.h5ad']\n",
    "for fn, out_fn in zip(fns, out_fns):\n",
    "    print('reading in data...')\n",
    "    adata = sc.read_h5ad(fn)\n",
    "    # the rest have been checked for this\n",
    "    assert adata.obs['is_primary_data'].sum() == adata.shape[0]\n",
    "    # reassign the variable names\n",
    "    print('reassigning variable names...')\n",
    "    adata.var['ensembl_id'] = adata.var.index\n",
    "    adata.var.index = adata.var['feature_name'].astype(str)\n",
    "    adata.var_names_make_unique()\n",
    "    # notes: snRNAseq\n",
    "    assert adata.raw.shape[1] == adata.shape[1]\n",
    "    org_columns = ['donor_id','disease','development_stage','self_reported_ethnicity','sex',\n",
    "                   'assay','tissue','author_cell_type','cell_type','majorclass','subclass']\n",
    "    obs_columns = ['donor','disease_state','developmental_stage','reported_ethnicity','reported_sex',\n",
    "                   'sequencing_kit','tissue','cell_type_broad','cell_type_fine','majorclass','subclass']\n",
    "    adata.obs = adata.obs[org_columns]\n",
    "    adata.obs.columns = obs_columns\n",
    "    adata.obs['cell_type_broad'] = adata.obs[['cell_type_broad','majorclass','subclass']].astype(str).agg(':'.join, axis=1)\n",
    "    del adata.obs['majorclass'], adata.obs['subclass']\n",
    "    adata.obs['sequencing_kit'] = adata.obs['sequencing_kit'].astype(str) + ' snRNAseq'\n",
    "    adata.obs['study'] = 'Zuo, Cheng, Ferdous et al. 2024 (Nat. Commun.)'\n",
    "    adata.var = adata.var[['ensembl_id']]    \n",
    "    # store the raw counts\n",
    "    print('cleaning up raw counts...')\n",
    "    adata.X = adata.raw.X\n",
    "    adata.layers['raw_counts'] = adata.X\n",
    "    # clean the raw loadings\n",
    "    adata.raw = adata\n",
    "    # retrieve the frequency of the GPR85 gene\n",
    "    print('finding GPR85+ cells...')\n",
    "    freq = adata[:, adata.var.index == 'GPR85'].X.sum(1).A1 / adata.X.sum(1).A1\n",
    "    # subset the data by cutoff to only get high confidence GPR85 positive cells\n",
    "    fig, ax = plt.subplots(figsize=[6, 3]); ax.grid(False)\n",
    "    sns.kdeplot(freq * 100, fill=True, bw_adjust=0.1, color='k', lw=1.5)\n",
    "    ax.set(xlabel='GPR85+ % of counts')\n",
    "    # perform the cutting\n",
    "    np.random.seed(0)\n",
    "    idxs_pos = adata.obs.index[freq >= 5e-4].copy()\n",
    "    idxs_leftover = adata.obs.index[~adata.obs.index.isin(idxs_pos)]\n",
    "    idxs_neg = np.random.choice(idxs_leftover, size=len(idxs_pos), replace=False)\n",
    "    # save the data\n",
    "    adata = adata[idxs_pos.union(idxs_neg)].copy()\n",
    "    adata.write(out_fn)\n",
    "    !rm -rf '{fn}'"
   ]
  },
  {
   "cell_type": "code",
   "execution_count": null,
   "id": "ec082078-4ef5-498f-baee-c9dc8a539321",
   "metadata": {
    "tags": []
   },
   "outputs": [],
   "source": [
    "# human retina https://cellxgene.cziscience.com/collections/4c6eaf5c-6d57-4c76-b1e9-60df8c655f1e\n",
    "# NOT UTILIZED IN THIS STUDY (for future extensions, but we read it in nonetheless so kept for transparency)\n",
    "# this includes the ### adult retina https://cellxgene.cziscience.com/collections/af893e86-8e9f-41f1-a474-ef05359b1fb7\n",
    "# data and thus we do not include the adult retina data additionally\n",
    "# read in the data, subset for GPR85, write and delete to save space\n",
    "DN = '/lustre/scratch126/cellgen/team205/dc20/proj_GPR85'\n",
    "group_name = 'cxg_human_retina'\n",
    "fns = [f'{DN}/ext_data/{group_name}/488d9376-5b2f-4557-93ed-8524903aa00a.h5ad']\n",
    "out_fns = [f'{DN}/ext_data/{group_name}/GPR85.mixed.h5ad']\n",
    "for fn, out_fn in zip(fns, out_fns):\n",
    "    print('reading in data...')\n",
    "    adata = sc.read_h5ad(fn)\n",
    "    # reassign the variable names\n",
    "    print('reassigning variable names...')\n",
    "    adata.var['ensembl_id'] = adata.var.index\n",
    "    adata.var.index = adata.var['feature_name'].astype(str)\n",
    "    adata.var_names_make_unique()\n",
    "    # notes: snRNAseq\n",
    "    assert adata.raw.shape[1] == adata.shape[1]\n",
    "    org_columns = ['donor_id','disease','development_stage','self_reported_ethnicity','sex',\n",
    "                   'assay','tissue','author_cell_type','cell_type','study_name','AC_subclass','AC_cluster','BC_subclass','RGC_cluster']\n",
    "    obs_columns = ['donor','disease_state','developmental_stage','reported_ethnicity','reported_sex',\n",
    "                   'sequencing_kit','tissue','cell_type_broad','cell_type_fine','study_name','AC_subclass','AC_cluster','BC_subclass','RGC_cluster']\n",
    "    adata.obs = adata.obs[org_columns]\n",
    "    adata.obs.columns = obs_columns\n",
    "    adata.obs['cell_type_broad'] = adata.obs[['cell_type_broad','AC_subclass','AC_cluster','BC_subclass','RGC_cluster']].astype(str).agg(':'.join, axis=1)\n",
    "    del adata.obs['AC_subclass'], adata.obs['AC_cluster'], adata.obs['BC_subclass'], adata.obs['RGC_cluster']\n",
    "    adata.obs['sequencing_kit'] = adata.obs['sequencing_kit'].astype(str) + ' snRNAseq'\n",
    "    adata.obs['study'] = 'Li, Wang, Ibarra, and Cheng et al. 2023 (Bioarxiv)'\n",
    "    adata.obs.loc[adata.obs['study_name'] == 'Shekhar_GSE237204','study'] = 'Hahn and Monavarfeshani et al. 2023 (Nature)'\n",
    "    adata.obs.loc[adata.obs['study_name'] == 'Chen_b_GSE226108','study'] = 'Liang et al. 2023 (Cell Genom.)'\n",
    "    adata.obs.loc[adata.obs['study_name'] == 'Chen_c_GSE247157','study'] = 'Wang and Cheng et al. 2023 (Genome Biol.)'\n",
    "    del adata.obs['study_name']\n",
    "    adata.var = adata.var[['ensembl_id']]  \n",
    "    # store the raw counts\n",
    "    print('cleaning up raw counts...')\n",
    "    adata.X = adata.raw.X\n",
    "    # retrieve the frequency of the GPR85 gene\n",
    "    print('finding GPR85+ cells...')\n",
    "    freq = adata[:, adata.var.index == 'GPR85'].X.sum(1).A1 / adata.X.sum(1).A1\n",
    "    # subset the data by cutoff to only get high confidence GPR85 positive cells\n",
    "    fig, ax = plt.subplots(figsize=[6, 3]); ax.grid(False)\n",
    "    sns.kdeplot(freq * 100, fill=True, bw_adjust=0.1, color='k', lw=1.5)\n",
    "    ax.set(xlabel='GPR85+ % of counts')\n",
    "    # perform the cutting\n",
    "    np.random.seed(0)\n",
    "    idxs_pos = adata.obs.index[freq >= 5e-4].copy()\n",
    "    idxs_leftover = adata.obs.index[~adata.obs.index.isin(idxs_pos)]\n",
    "    idxs_neg = np.random.choice(idxs_leftover, size=len(idxs_pos), replace=False)\n",
    "    # save the data\n",
    "    adata = adata[idxs_pos.union(idxs_neg)].copy()\n",
    "    # clean the raw loadings\n",
    "    adata.raw = adata\n",
    "    adata.layers['raw_counts'] = adata.X\n",
    "    adata.write(out_fns[0])\n",
    "    !rm -rf '{fn}'"
   ]
  },
  {
   "cell_type": "code",
   "execution_count": null,
   "id": "794fb56d-29eb-4013-b235-99193e874dea",
   "metadata": {
    "tags": []
   },
   "outputs": [],
   "source": [
    "# NOT UTILIZED IN THIS STUDY (for future extensions, but we read it in nonetheless so kept for transparency)\n",
    "# this includes the ### adult retina https://cellxgene.cziscience.com/collections/af893e86-8e9f-41f1-a474-ef05359b1fb7\n",
    "# data and thus we do not include the adult retina data additionally\n",
    "# read in the data, subset for GPR85, write and delete to save space\n",
    "DN = '/lustre/scratch126/cellgen/team205/dc20/proj_GPR85'\n",
    "group_name = 'cxg_human_retina'\n",
    "fns = [f'{DN}/ext_data/{group_name}/64175889-d600-4b58-97ea-e74be80206e5.h5ad']\n",
    "out_fns = [f'{DN}/ext_data/{group_name}/GPR85.mixed.supp.h5ad']\n",
    "for fn, out_fn in zip(fns, out_fns):\n",
    "    print('reading in data...')\n",
    "    adata = sc.read_h5ad(fn)\n",
    "    # reassign the variable names\n",
    "    print('reassigning variable names...')\n",
    "    adata.var['ensembl_id'] = adata.var.index\n",
    "    adata.var.index = adata.var['feature_name'].astype(str)\n",
    "    adata.var_names_make_unique()\n",
    "    # notes: scRNAseq\n",
    "    assert adata.raw.shape[1] == adata.shape[1]\n",
    "    org_columns = ['donor_id','disease','development_stage','self_reported_ethnicity','sex',\n",
    "                   'assay','tissue','author_cell_type','cell_type','majorclass','study_name']\n",
    "    obs_columns = ['donor','disease_state','developmental_stage','reported_ethnicity','reported_sex',\n",
    "                   'sequencing_kit','tissue','cell_type_broad','cell_type_fine','majorclass','study_name']\n",
    "    adata.obs = adata.obs[org_columns]\n",
    "    adata.obs.columns = obs_columns\n",
    "    adata.obs['cell_type_broad'] = adata.obs[['cell_type_broad','majorclass']].astype(str).agg(':'.join, axis=1)\n",
    "    del adata.obs['majorclass']\n",
    "    adata.obs['sequencing_kit'] = adata.obs['sequencing_kit'].astype(str) + ' scRNAseq'\n",
    "    adata.obs['study'] = adata.obs['study_name'].astype(str)\n",
    "    adata.obs.loc[adata.obs['study_name'] == 'Roska_EGAS00001004561','study'] = 'Cowan and Renner et al. 2020 (Cell)'\n",
    "    adata.obs.loc[adata.obs['study_name'] == 'Sanes_GSE148077','study'] = 'Yang, Peng, and van Zyl et al. 2020 (Sci. Rep.)'\n",
    "    adata.obs.loc[adata.obs['study_name'] == 'Wong_E-MTAB-7316','study'] = 'Lukowski and Lo et al. 2019 (EMBO J)'\n",
    "    adata.obs.loc[adata.obs['study_name'] == 'Hafler_GSE137537','study'] = 'Menon et al. 2019 (Nat. Commun.)'\n",
    "    adata.obs.loc[adata.obs['study_name'] == 'Scheetz_GSE130636','study'] = 'Voigt et al. 2019 (Exp. Eye Res.)'\n",
    "    del adata.obs['study_name']\n",
    "    adata.var = adata.var[['ensembl_id']]  \n",
    "    # store the raw counts\n",
    "    print('cleaning up raw counts...')\n",
    "    adata.X = adata.raw.X\n",
    "    # retrieve the frequency of the GPR85 gene\n",
    "    print('finding GPR85+ cells...')\n",
    "    freq = adata[:, adata.var.index == 'GPR85'].X.sum(1).A1 / adata.X.sum(1).A1\n",
    "    # subset the data by cutoff to only get high confidence GPR85 positive cells\n",
    "    fig, ax = plt.subplots(figsize=[6, 3]); ax.grid(False)\n",
    "    sns.kdeplot(freq * 100, fill=True, bw_adjust=0.1, color='k', lw=1.5)\n",
    "    ax.set(xlabel='GPR85+ % of counts')\n",
    "    # perform the cutting\n",
    "    np.random.seed(0)\n",
    "    idxs_pos = adata.obs.index[freq >= 5e-4].copy()\n",
    "    idxs_leftover = adata.obs.index[~adata.obs.index.isin(idxs_pos)]\n",
    "    idxs_neg = np.random.choice(idxs_leftover, size=len(idxs_pos), replace=False)\n",
    "    # save the data\n",
    "    adata = adata[idxs_pos.union(idxs_neg)].copy()\n",
    "    # clean the raw loadings\n",
    "    adata.raw = adata\n",
    "    adata.layers['raw_counts'] = adata.X\n",
    "    adata.write(out_fn)\n",
    "    !rm -rf '{fn}'"
   ]
  },
  {
   "cell_type": "code",
   "execution_count": null,
   "id": "71fcd331-7333-4407-afed-665b347cc5ba",
   "metadata": {
    "tags": []
   },
   "outputs": [],
   "source": [
    "# developing neocortex https://cellxgene.cziscience.com/collections/c8565c6a-01a1-435b-a549-f11b452a83a8\n",
    "# define the inputs\n",
    "DN = '/lustre/scratch126/cellgen/team205/dc20/proj_GPR85'\n",
    "group_name = 'cxg_dev_neoc'\n",
    "fns = [f'{DN}/ext_data/{group_name}/50d3a96e-b0cc-4c40-a105-cd4ca0dbab78.h5ad']\n",
    "out_fns = [f'{DN}/ext_data/{group_name}/GPR85.mixed.h5ad']\n",
    "for fn, out_fn in zip(fns, out_fns):\n",
    "    print('reading in data...')\n",
    "    adata = sc.read_h5ad(fn)\n",
    "    # reassign the variable names\n",
    "    print('reassigning variable names...')\n",
    "    adata.var['ensembl_id'] = adata.var.index\n",
    "    adata.var.index = adata.var['feature_name'].astype(str)\n",
    "    adata.var_names_make_unique()\n",
    "    # notes: snRNAseq\n",
    "    assert adata.raw.shape[1] == adata.shape[1]\n",
    "    org_columns = ['donor_id','disease','development_stage','self_reported_ethnicity','sex',\n",
    "                   'assay','tissue','cluster_label','cell_type','brain_region','cortical_area']\n",
    "    obs_columns = ['donor','disease_state','developmental_stage','reported_ethnicity','reported_sex',\n",
    "                   'sequencing_kit','tissue','cell_type_broad','cell_type_fine','brain_region','cortical_area']\n",
    "    adata.obs = adata.obs[org_columns]\n",
    "    adata.obs.columns = obs_columns\n",
    "    adata.obs['tissue'] = adata.obs[['tissue','brain_region','cortical_area']].astype(str).agg(':'.join, axis=1)\n",
    "    del adata.obs['brain_region'], adata.obs['cortical_area']\n",
    "    adata.obs['sequencing_kit'] = adata.obs['sequencing_kit'].astype(str) + ' scRNAseq'\n",
    "    adata.obs['study'] = 'Bhaduri and Saandoval-Espinosa et al. 2021 (Nature)'\n",
    "    adata.var = adata.var[['ensembl_id']]  \n",
    "    # store the raw counts\n",
    "    print('cleaning up raw counts...')\n",
    "    adata.X = adata.raw.X\n",
    "    # retrieve the frequency of the GPR85 gene\n",
    "    print('finding GPR85+ cells...')\n",
    "    freq = adata[:, adata.var.index == 'GPR85'].X.sum(1).A1 / adata.X.sum(1).A1\n",
    "    # subset the data by cutoff to only get high confidence GPR85 positive cells\n",
    "    fig, ax = plt.subplots(figsize=[6, 3]); ax.grid(False)\n",
    "    sns.kdeplot(freq * 100, fill=True, bw_adjust=0.1, color='k', lw=1.5)\n",
    "    ax.set(xlabel='GPR85+ % of counts')\n",
    "    # perform the cutting\n",
    "    np.random.seed(0)\n",
    "    idxs_pos = adata.obs.index[freq >= 5e-4].copy()\n",
    "    idxs_leftover = adata.obs.index[~adata.obs.index.isin(idxs_pos)]\n",
    "    idxs_neg = np.random.choice(idxs_leftover, size=len(idxs_pos), replace=False)\n",
    "    # save the data\n",
    "    adata = adata[idxs_pos.union(idxs_neg)].copy()\n",
    "    # clean the raw loadings\n",
    "    adata.raw = adata\n",
    "    adata.layers['raw_counts'] = adata.X\n",
    "    adata.write(out_fn)\n",
    "    !rm -rf '{fn}'"
   ]
  },
  {
   "cell_type": "code",
   "execution_count": null,
   "id": "05b07efe-4e92-4420-afc7-e11987043fa3",
   "metadata": {
    "tags": []
   },
   "outputs": [],
   "source": [
    "# developing cerebral cortex https://cellxgene.cziscience.com/collections/ceb895f4-ff9f-403a-b7c3-187a9657ac2c\n",
    "# define the inputs\n",
    "DN = '/lustre/scratch126/cellgen/team205/dc20/proj_GPR85'\n",
    "group_name = 'cxg_dev_cc'\n",
    "fns = [f'{DN}/ext_data/{group_name}/484dbc33-c7dc-4e5e-9954-7f2a1cc849bc.h5ad']\n",
    "out_fns = [f'{DN}/ext_data/{group_name}/GPR85.mixed.h5ad']\n",
    "for fn, out_fn in zip(fns, out_fns):\n",
    "    print('reading in data...')\n",
    "    adata = sc.read_h5ad(fn)\n",
    "    # reassign the variable names\n",
    "    print('reassigning variable names...')\n",
    "    adata.var['ensembl_id'] = adata.var.index\n",
    "    adata.var.index = adata.var['feature_name'].astype(str)\n",
    "    adata.var_names_make_unique()\n",
    "    # notes: snRNAseq\n",
    "    assert adata.raw.shape[1] == adata.shape[1]\n",
    "    org_columns = ['donor_id','disease','development_stage','self_reported_ethnicity','sex',\n",
    "                   'assay','tissue','author_cell_type','cell_type']\n",
    "    obs_columns = ['donor','disease_state','developmental_stage','reported_ethnicity','reported_sex',\n",
    "                   'sequencing_kit','tissue','cell_type_broad','cell_type_fine']\n",
    "    adata.obs = adata.obs[org_columns]\n",
    "    adata.obs.columns = obs_columns\n",
    "    adata.obs['sequencing_kit'] = adata.obs['sequencing_kit'].astype(str) + ' snRNAseq'\n",
    "    adata.obs['study'] = 'Zhu and Bendl et al. 2023 (Sci. Adv.)'\n",
    "    adata.var = adata.var[['ensembl_id']]  \n",
    "    # store the raw counts\n",
    "    print('cleaning up raw counts...')\n",
    "    adata.X = adata.raw.X\n",
    "    # retrieve the frequency of the GPR85 gene\n",
    "    print('finding GPR85+ cells...')\n",
    "    freq = adata[:, adata.var.index == 'GPR85'].X.sum(1).A1 / adata.X.sum(1).A1\n",
    "    # subset the data by cutoff to only get high confidence GPR85 positive cells\n",
    "    fig, ax = plt.subplots(figsize=[6, 3]); ax.grid(False)\n",
    "    sns.kdeplot(freq * 100, fill=True, bw_adjust=0.1, color='k', lw=1.5)\n",
    "    ax.set(xlabel='GPR85+ % of counts')\n",
    "    # perform the cutting\n",
    "    np.random.seed(0)\n",
    "    idxs_pos = adata.obs.index[freq >= 5e-4].copy()\n",
    "    idxs_leftover = adata.obs.index[~adata.obs.index.isin(idxs_pos)]\n",
    "    idxs_neg = np.random.choice(idxs_leftover, size=len(idxs_pos), replace=False)\n",
    "    # save the data\n",
    "    adata = adata[idxs_pos.union(idxs_neg)].copy()\n",
    "    # clean the raw loadings\n",
    "    adata.raw = adata\n",
    "    adata.layers['raw_counts'] = adata.X\n",
    "    adata.write(out_fn)\n",
    "    !rm -rf '{fn}'"
   ]
  },
  {
   "cell_type": "code",
   "execution_count": null,
   "id": "86d372fe-ed57-4df5-880c-d8190b753616",
   "metadata": {
    "tags": []
   },
   "outputs": [],
   "source": [
    "# astrocytoma https://cellxgene.cziscience.com/collections/10bf5c50-8d85-4c5f-94b4-22c1363d9f31\n",
    "# define the inputs\n",
    "DN = '/lustre/scratch126/cellgen/team205/dc20/proj_GPR85'\n",
    "group_name = 'cxg_astrocytoma'\n",
    "fns = [f'{DN}/ext_data/{group_name}/c3d6b166-5864-49d2-a843-b2993f0885ed.h5ad']\n",
    "out_fns = [f'{DN}/ext_data/{group_name}/GPR85.mixed.h5ad']\n",
    "for fn, out_fn in zip(fns, out_fns):\n",
    "    print('reading in data...')\n",
    "    adata = sc.read_h5ad(fn)\n",
    "    # reassign the variable names\n",
    "    print('reassigning variable names...')\n",
    "    adata.var['ensembl_id'] = adata.var.index\n",
    "    adata.var.index = adata.var['feature_name'].astype(str)\n",
    "    adata.var_names_make_unique()\n",
    "    # notes: snRNAseq\n",
    "    assert adata.raw.shape[1] == adata.shape[1]\n",
    "    org_columns = ['donor_id','disease','development_stage','self_reported_ethnicity','sex',\n",
    "                   'assay','tissue','customclassif','cell_type']\n",
    "    obs_columns = ['donor','disease_state','developmental_stage','reported_ethnicity','reported_sex',\n",
    "                   'sequencing_kit','tissue','cell_type_broad','cell_type_fine']\n",
    "    adata.obs = adata.obs[org_columns]\n",
    "    adata.obs.columns = obs_columns\n",
    "    adata.obs['sequencing_kit'] = adata.obs['sequencing_kit'].astype(str) + ' snRNAseq'\n",
    "    adata.obs['study'] = 'Hernández-Hernández et al. 2022 (HCA)'\n",
    "    adata.var = adata.var[['ensembl_id']]  \n",
    "    # store the raw counts\n",
    "    print('cleaning up raw counts...')\n",
    "    adata.X = adata.raw.X\n",
    "    # retrieve the frequency of the GPR85 gene\n",
    "    print('finding GPR85+ cells...')\n",
    "    freq = adata[:, adata.var.index == 'GPR85'].X.sum(1).A1 / adata.X.sum(1).A1\n",
    "    # subset the data by cutoff to only get high confidence GPR85 positive cells\n",
    "    fig, ax = plt.subplots(figsize=[6, 3]); ax.grid(False)\n",
    "    sns.kdeplot(freq * 100, fill=True, bw_adjust=0.1, color='k', lw=1.5)\n",
    "    ax.set(xlabel='GPR85+ % of counts')\n",
    "    # perform the cutting\n",
    "    np.random.seed(0)\n",
    "    idxs_pos = adata.obs.index[freq >= 5e-4].copy()\n",
    "    idxs_leftover = adata.obs.index[~adata.obs.index.isin(idxs_pos)]\n",
    "    idxs_neg = np.random.choice(idxs_leftover, size=len(idxs_pos), replace=False)\n",
    "    # save the data\n",
    "    adata = adata[idxs_pos.union(idxs_neg)].copy()\n",
    "    # clean the raw loadings\n",
    "    adata.raw = adata\n",
    "    adata.layers['raw_counts'] = adata.X\n",
    "    adata.write(out_fn)\n",
    "    !rm -rf '{fn}'"
   ]
  },
  {
   "cell_type": "code",
   "execution_count": null,
   "id": "d1823145-320a-4fc7-a522-202c526ec60b",
   "metadata": {
    "tags": []
   },
   "outputs": [],
   "source": [
    "# first trimester brain https://cellxgene.cziscience.com/collections/4d8fed08-2d6d-4692-b5ea-464f1d072077\n",
    "# define the inputs\n",
    "DN = '/lustre/scratch126/cellgen/team205/dc20/proj_GPR85'\n",
    "group_name = 'cxg_first_trim'\n",
    "fns = [f'{DN}/ext_data/{group_name}/58f2940e-49f7-4b5e-87b1-0e191af1fbfd.h5ad']\n",
    "out_fns = [f'{DN}/ext_data/{group_name}/GPR85.mixed.h5ad']\n",
    "for fn, out_fn in zip(fns, out_fns):\n",
    "    print('reading in data...')\n",
    "    adata = sc.read_h5ad(fn)\n",
    "    # reassign the variable names\n",
    "    print('reassigning variable names...')\n",
    "    adata.var['ensembl_id'] = adata.var.index\n",
    "    adata.var.index = adata.var['feature_name'].astype(str)\n",
    "    adata.var_names_make_unique()\n",
    "    # notes: we check the suspension type to determine\n",
    "    org_columns = ['donor_id','disease','development_stage','self_reported_ethnicity','sex',\n",
    "                   'assay','tissue','CellClass','cell_type','Region','Subregion']\n",
    "    obs_columns = ['donor','disease_state','developmental_stage','reported_ethnicity','reported_sex',\n",
    "                   'sequencing_kit','tissue','cell_type_broad','cell_type_fine','Region','Subregion']\n",
    "    adata.obs = adata.obs[org_columns]\n",
    "    adata.obs.columns = obs_columns\n",
    "    adata.obs['tissue'] = adata.obs['tissue'].astype(str)\n",
    "    adata.obs['tissue'] = adata.obs[['tissue','Region','Subregion']].astype(str).agg(':'.join, axis=1)\n",
    "    del adata.obs['Region'], adata.obs['Subregion']\n",
    "    adata.obs['sequencing_kit'] = adata.obs['sequencing_kit'].astype(str) + ' scRNAseq'\n",
    "    adata.obs['study'] = 'Braun and Danan-Gottthold et al. 2023 (Science)'\n",
    "    adata.var = adata.var[['ensembl_id']]  \n",
    "    # store the raw counts\n",
    "    print('cleaning up raw counts...')\n",
    "    # retrieve the frequency of the GPR85 gene\n",
    "    print('finding GPR85+ cells...')\n",
    "    freq = adata[:, adata.var.index == 'GPR85'].X.sum(1).A1 / adata.X.sum(1).A1\n",
    "    # subset the data by cutoff to only get high confidence GPR85 positive cells\n",
    "    fig, ax = plt.subplots(figsize=[6, 3]); ax.grid(False)\n",
    "    sns.kdeplot(freq * 100, fill=True, bw_adjust=0.1, color='k', lw=1.5)\n",
    "    ax.set(xlabel='GPR85+ % of counts')\n",
    "    # perform the cutting\n",
    "    np.random.seed(0)\n",
    "    idxs_pos = adata.obs.index[freq >= 5e-4].copy()\n",
    "    idxs_leftover = adata.obs.index[~adata.obs.index.isin(idxs_pos)]\n",
    "    idxs_neg = np.random.choice(idxs_leftover, size=len(idxs_pos), replace=False)\n",
    "    # save the data\n",
    "    adata = adata[idxs_pos.union(idxs_neg)].copy()\n",
    "    # clean the raw loadings\n",
    "    adata.raw = adata\n",
    "    adata.layers['raw_counts'] = adata.X\n",
    "    adata.write(out_fn)\n",
    "    !rm -rf '{fn}'"
   ]
  },
  {
   "cell_type": "code",
   "execution_count": null,
   "id": "6f325648-4604-4f22-b018-9ef9787b5acf",
   "metadata": {
    "tags": []
   },
   "outputs": [],
   "source": [
    "# mammalian cerebellum https://cellxgene.cziscience.com/collections/72d37bc9-76cc-442d-9131-da0e273862db\n",
    "# define the inputs\n",
    "DN = '/lustre/scratch126/cellgen/team205/dc20/proj_GPR85'\n",
    "group_name = 'cxg_mam_cer'\n",
    "fns = [f'{DN}/ext_data/{group_name}/b23a3e02-d6f9-43a3-bb1b-38af6860c092.h5ad']\n",
    "out_fns = [f'{DN}/ext_data/{group_name}/GPR85.mixed.h5ad']\n",
    "for fn, out_fn in zip(fns, out_fns):\n",
    "    print('reading in data...')\n",
    "    adata = sc.read_h5ad(fn)\n",
    "    # reassign the variable names\n",
    "    print('reassigning variable names...')\n",
    "    adata.var['ensembl_id'] = adata.var.index\n",
    "    adata.var.index = adata.var['feature_name'].astype(str)\n",
    "    adata.var_names_make_unique()\n",
    "    # notes: we check the suspension type to determine\n",
    "    org_columns = ['donor_id','disease','development_stage','self_reported_ethnicity','sex',\n",
    "                   'assay','tissue','author_cell_type','cell_type']\n",
    "    obs_columns = ['donor','disease_state','developmental_stage','reported_ethnicity','reported_sex',\n",
    "                   'sequencing_kit','tissue','cell_type_broad','cell_type_fine']\n",
    "    adata.obs = adata.obs[org_columns]\n",
    "    adata.obs.columns = obs_columns\n",
    "    adata.obs['sequencing_kit'] = adata.obs['sequencing_kit'].astype(str) + ' snRNAseq'\n",
    "    adata.obs['study'] = 'Sepp and Leiss et al. 2023 (Nature)'\n",
    "    adata.var = adata.var[['ensembl_id']]\n",
    "    # store the raw counts\n",
    "    print('cleaning up raw counts...')\n",
    "    # retrieve the frequency of the GPR85 gene\n",
    "    print('finding GPR85+ cells...')\n",
    "    freq = adata[:, adata.var.index == 'GPR85'].X.sum(1).A1 / adata.X.sum(1).A1\n",
    "    # subset the data by cutoff to only get high confidence GPR85 positive cells\n",
    "    fig, ax = plt.subplots(figsize=[6, 3]); ax.grid(False)\n",
    "    sns.kdeplot(freq * 100, fill=True, bw_adjust=0.1, color='k', lw=1.5)\n",
    "    ax.set(xlabel='GPR85+ % of counts')\n",
    "    # perform the cutting\n",
    "    np.random.seed(0)\n",
    "    idxs_pos = adata.obs.index[freq >= 5e-4].copy()\n",
    "    idxs_leftover = adata.obs.index[~adata.obs.index.isin(idxs_pos)]\n",
    "    idxs_neg = np.random.choice(idxs_leftover, size=len(idxs_pos), replace=False)\n",
    "    # save the data\n",
    "    adata = adata[idxs_pos.union(idxs_neg)].copy()\n",
    "    # clean the raw loadings\n",
    "    adata.raw = adata\n",
    "    adata.layers['raw_counts'] = adata.X\n",
    "    adata.write(out_fn)\n",
    "    !rm -rf '{fn}'"
   ]
  },
  {
   "cell_type": "code",
   "execution_count": null,
   "id": "6f52e2d2-f322-45b7-b976-1ca4fab5cb31",
   "metadata": {
    "tags": []
   },
   "outputs": [],
   "source": [
    "# brain vasculture mixture https://cells-test.gi.ucsc.edu/?ds=brain-vasc-atlas https://www.nature.com/articles/s41586-021-04369-3\n",
    "from scipy.sparse import csr_matrix\n",
    "from scipy.io import mmread\n",
    "# read in the data accordingly\n",
    "dn = '/lustre/scratch126/cellgen/team205/dc20/proj_GPR85/ext_data/ucsc_brain_vasc/'\n",
    "X = csr_matrix(mmread(f'{dn}/matrix.mtx.gz'))\n",
    "obs_names = pd.read_table(f'{dn}/barcodes.tsv.gz', header=None, index_col=None)[0]\n",
    "var_names = pd.read_table(f'{dn}/features.tsv.gz', header=None, index_col=None)[0]\n",
    "meta = pd.read_table(f'{dn}/meta.tsv', index_col=0)\n",
    "umap = pd.read_table(f'{dn}/UMAP.coords.tsv.gz', header=None, index_col=0)"
   ]
  },
  {
   "cell_type": "code",
   "execution_count": null,
   "id": "a33edf0e-07c4-4865-b7db-519264ec4397",
   "metadata": {
    "tags": []
   },
   "outputs": [],
   "source": [
    "from anndata import AnnData\n",
    "# convert into anndata object and rename accordingly\n",
    "adata = AnnData(X.T)\n",
    "adata.obs_names = obs_names\n",
    "adata.var_names = var_names\n",
    "adata.obs = meta\n",
    "adata.obsm['X_umap'] = umap.values\n",
    "adata.obs = adata.obs[['Gender','Sample','Treat','Region','Cell_Type','Age','APOE4','APOE34','APOE_Number']]\n",
    "adata.obs.columns = ['reported_sex','donor','disease_state','tissue','cell_type_fine','developmental_stage','APOE4','APOE34','APOE_Number']\n",
    "adata.obs['study'] = 'Yang et al. 2022 (Nature)'\n",
    "adata.obs['sequencing_kit'] = '10x 3ʹ v3 snRNAseq'"
   ]
  },
  {
   "cell_type": "code",
   "execution_count": null,
   "id": "95874708-3248-423e-9c3d-658f6b7e06c2",
   "metadata": {
    "tags": []
   },
   "outputs": [],
   "source": [
    "# store the raw counts\n",
    "print('cleaning up raw counts...')\n",
    "# retrieve the frequency of the GPR85 gene\n",
    "print('finding GPR85+ cells...')\n",
    "freq = adata[:, adata.var.index == 'GPR85'].X.sum(1).A1 / adata.X.sum(1).A1\n",
    "# subset the data by cutoff to only get high confidence GPR85 positive cells\n",
    "fig, ax = plt.subplots(figsize=[6, 3]); ax.grid(False)\n",
    "sns.kdeplot(freq * 100, fill=True, bw_adjust=0.1, color='k', lw=1.5)\n",
    "ax.set(xlabel='GPR85+ % of counts')\n",
    "# perform the cutting\n",
    "np.random.seed(0)\n",
    "idxs_pos = adata.obs.index[freq >= 5e-4].copy()\n",
    "idxs_leftover = adata.obs.index[~adata.obs.index.isin(idxs_pos)]\n",
    "idxs_neg = np.random.choice(idxs_leftover, size=len(idxs_pos), replace=False)\n",
    "# save the data\n",
    "adata = adata[idxs_pos.union(idxs_neg)].copy()\n",
    "# clean the raw loadings\n",
    "adata.raw = adata\n",
    "adata.layers['raw_counts'] = adata.X\n",
    "adata.write(f'{dn}/GPR85.mixed.h5ad')"
   ]
  },
  {
   "cell_type": "code",
   "execution_count": null,
   "id": "0dc47b0e-6bf9-4fb2-814e-b8f668f16fbd",
   "metadata": {
    "tags": []
   },
   "outputs": [],
   "source": [
    "# brain endothelial cell https://cells-test.gi.ucsc.edu/?ds=brain-vasc https://www.nature.com/articles/s41586-024-07493-y/figures/1\n",
    "from scipy.sparse import csr_matrix\n",
    "from scipy.io import mmread\n",
    "# read in the data accordingly\n",
    "dn = '/lustre/scratch126/cellgen/team205/dc20/proj_GPR85/ext_data/ucsc_brain_ec_sorted'\n",
    "X = csr_matrix(mmread(f'{dn}/counts_matrix.mtx.gz'))\n",
    "obs_names = pd.read_table(f'{dn}/counts_barcodes.tsv.gz', header=None, index_col=None)[0]\n",
    "var_names = pd.read_table(f'{dn}/counts_features.tsv.gz', header=None, index_col=None)[0]\n",
    "meta = pd.read_table(f'{dn}/meta.tsv', index_col=0)\n",
    "umap = pd.read_table(f'{dn}/UMAP.coords.tsv.gz', header=None, index_col=0)"
   ]
  },
  {
   "cell_type": "code",
   "execution_count": null,
   "id": "94f5dee5-49cc-421d-b344-0f9694eebdd0",
   "metadata": {
    "tags": []
   },
   "outputs": [],
   "source": [
    "from anndata import AnnData\n",
    "# convert into anndata object and rename accordingly\n",
    "adata = AnnData(X.T)\n",
    "adata.obs_names = obs_names\n",
    "adata.var_names = var_names\n",
    "adata.obs = meta\n",
    "adata.obsm['X_umap'] = umap.values\n",
    "del adata.obs['PATH2'], adata.obs['PATH3']\n",
    "adata.obs.columns = ['disease_state','cell_type_fine','donor','reported_sex','developmental_stage']\n",
    "adata.obs['study'] = 'Wälchli and Ghobrial et al. 2024 (Nature)'\n",
    "adata.obs['sequencing_kit'] = '10x 3ʹ v3 scRNAseq'"
   ]
  },
  {
   "cell_type": "code",
   "execution_count": null,
   "id": "e975f88a-23e7-4794-ae67-eb6520bb11b5",
   "metadata": {
    "tags": []
   },
   "outputs": [],
   "source": [
    "# store the raw counts\n",
    "print('cleaning up raw counts...')\n",
    "# retrieve the frequency of the GPR85 gene\n",
    "print('finding GPR85+ cells...')\n",
    "freq = adata[:, adata.var.index == 'GPR85'].X.sum(1).A1 / adata.X.sum(1).A1\n",
    "# subset the data by cutoff to only get high confidence GPR85 positive cells\n",
    "fig, ax = plt.subplots(figsize=[6, 3]); ax.grid(False)\n",
    "sns.kdeplot(freq * 100, fill=True, bw_adjust=0.1, color='k', lw=1.5)\n",
    "ax.set(xlabel='GPR85+ % of counts')\n",
    "# perform the cutting\n",
    "np.random.seed(0)\n",
    "idxs_pos = adata.obs.index[freq >= 5e-4].copy()\n",
    "idxs_leftover = adata.obs.index[~adata.obs.index.isin(idxs_pos)]\n",
    "idxs_neg = np.random.choice(idxs_leftover, size=len(idxs_pos), replace=False)\n",
    "# save the data\n",
    "adata = adata[idxs_pos.union(idxs_neg)].copy()\n",
    "# clean the raw loadings\n",
    "adata.raw = adata\n",
    "adata.layers['raw_counts'] = adata.X\n",
    "adata.write(f'{dn}/GPR85.mixed.h5ad')"
   ]
  },
  {
   "cell_type": "markdown",
   "id": "2a9ea3f6-2259-44fb-bce8-b837263d8242",
   "metadata": {},
   "source": [
    "### integrate single-cell atlases - concatenate data"
   ]
  },
  {
   "cell_type": "code",
   "execution_count": null,
   "id": "e868908c-0c8b-4c96-b484-a12edeb2b0de",
   "metadata": {
    "tags": []
   },
   "outputs": [],
   "source": [
    "from glob import glob\n",
    "# retrieve filenames\n",
    "DN = '/lustre/scratch126/cellgen/team205/dc20/proj_GPR85'\n",
    "fns = glob(f'{DN}/ext_data/*/GPR85*.h5ad')\n",
    "# load in files sequentially creating a batch key called path_to_data\n",
    "adatas, batch_categories = [], []\n",
    "for fn in fns:\n",
    "    adata = sc.read_h5ad(fn)\n",
    "    print(fn, adata.shape, adata.var.index.intersection(['PECAM1','GPR85','ACTA2','GLS','OLIG1','ITGAM']).shape[0])\n",
    "    adatas.append(adata)\n",
    "    batch_categories.append(fn)"
   ]
  },
  {
   "cell_type": "code",
   "execution_count": null,
   "id": "75484bfd-f4f8-47ae-ad33-d7920e9f9dc7",
   "metadata": {
    "tags": []
   },
   "outputs": [],
   "source": [
    "# concatentate the objects together\n",
    "adata = adatas[0].concatenate(adatas[1:], batch_key='path_to_data', batch_categories=batch_categories)\n",
    "adata.var.columns = adata.var.columns.str.replace('ensembl_id-/lustre/scratch126/cellgen/team205/dc20/proj_GPR85/ext_data/','')\n",
    "adata.var.columns = adata.var.columns.str.replace('/GPR85.mixed','').str.replace('.h5ad','')\n",
    "adata.obs['developmental_stage'] = adata.obs['developmental_stage'].astype(str)\n",
    "adata"
   ]
  },
  {
   "cell_type": "code",
   "execution_count": null,
   "id": "659974e4-fbca-4a8b-b397-82369b9ef81b",
   "metadata": {
    "tags": []
   },
   "outputs": [],
   "source": [
    "# confirm there are all raw counts, get total cell number\n",
    "adata.obs['path_to_data'].value_counts()"
   ]
  },
  {
   "cell_type": "code",
   "execution_count": null,
   "id": "83fc57bb-7425-4f2b-b461-6ed1c8dd9100",
   "metadata": {
    "tags": []
   },
   "outputs": [],
   "source": [
    "# confirm there are all raw counts, get non-integer cell number\n",
    "adata.obs.loc[(adata.X.sum(1) * 10).A1 % 10 != 0, 'path_to_data'].value_counts()"
   ]
  },
  {
   "cell_type": "markdown",
   "id": "4adb7e70-58f6-4396-84f9-3063512a07d3",
   "metadata": {},
   "source": [
    "### integrate single-cell atlases – preprocessing for dimension reduction"
   ]
  },
  {
   "cell_type": "code",
   "execution_count": null,
   "id": "a1e326e4-960d-40ef-953c-9757b45acb64",
   "metadata": {
    "tags": []
   },
   "outputs": [],
   "source": [
    "# check for any outliers and unannotated prior and remove them\n",
    "outliers = [x for x in adata.obs['cell_type_broad'].astype(str).unique() if 'outlier' in x.lower()]\n",
    "unknowns = [x for x in adata.obs['cell_type_fine'].astype(str).unique() if 'unknown' in x.lower()]\n",
    "mask = adata.obs['cell_type_broad'].isin(outliers) | adata.obs['cell_type_fine'].isin(unknowns)\n",
    "adata = adata[~mask].copy()\n",
    "adata"
   ]
  },
  {
   "cell_type": "code",
   "execution_count": null,
   "id": "74993990-8397-4ffd-a81c-be2ec3685c87",
   "metadata": {
    "tags": []
   },
   "outputs": [],
   "source": [
    "# filter for robustly expressed genes\n",
    "sc.pp.filter_genes(adata, min_cells=1)\n",
    "# calculate qc metrics\n",
    "adata.obs['total_counts'] = adata.X.sum(1).A1\n",
    "# quantify the percentages\n",
    "mt_mask = adata.var.index.str.startswith('MT-')\n",
    "rp_mask = adata.var.index.str.startswith('RPS') | adata.var.index.str.startswith('RPL')\n",
    "adata.obs['perc_mito'] = adata[:, mt_mask].X.sum(1).A1 / adata.obs['total_counts']\n",
    "adata.obs['perc_ribo'] = adata[:, rp_mask].X.sum(1).A1 / adata.obs['total_counts']\n",
    "# normalize the data to 1e4-summed ln1p\n",
    "sc.pp.normalize_total(adata, target_sum=1e4)\n",
    "sc.pp.log1p(adata)"
   ]
  },
  {
   "cell_type": "code",
   "execution_count": null,
   "id": "2f9c7d5f-5ed6-4088-bb7a-abb31f3cbce1",
   "metadata": {
    "tags": []
   },
   "outputs": [],
   "source": [
    "# define the suspension type\n",
    "adata.obs['suspension_type'] = 'cell'\n",
    "adata.obs.loc[adata.obs['sequencing_kit'].str.endswith('snRNAseq'), 'suspension_type'] = 'nuclei'\n",
    "# find highly variable genes\n",
    "adata_ = adata[adata.obs['suspension_type'] == 'cell'].copy()\n",
    "sc.pp.highly_variable_genes(adata_)\n",
    "hvgs_cells = adata_.var.index[adata_.var['highly_variable']]\n",
    "adata_ = adata[adata.obs['suspension_type'] == 'nuclei'].copy()\n",
    "sc.pp.highly_variable_genes(adata_)\n",
    "hvgs_nuclei = adata_.var.index[adata_.var['highly_variable']]\n",
    "hvgs = hvgs_cells.union(hvgs_nuclei)\n",
    "adata.var['highly_variable'] = adata.var.index.isin(hvgs)\n",
    "print(adata.var['highly_variable'].sum())"
   ]
  },
  {
   "cell_type": "markdown",
   "id": "d61567e3-e356-4255-9396-dc6a90444812",
   "metadata": {},
   "source": [
    "### integrate single-cell atlases – dimension reduction and batch correction via scVI initial review"
   ]
  },
  {
   "cell_type": "code",
   "execution_count": null,
   "id": "6163e0c0-baf9-4027-a41f-659c1c2289ad",
   "metadata": {
    "tags": []
   },
   "outputs": [],
   "source": [
    "# use scVI to compute dimension reduction\n",
    "import scvi\n",
    "# derive a batch agg variable to account for donor differences due to issues in large-scale integration without it\n",
    "adata.obs['batch_agg'] = adata.obs[['study','sequencing_kit']].astype(str).agg(':'.join, axis=1)\n",
    "# subset for highly variable genes\n",
    "adata_scvi = adata[:, adata.var['highly_variable']].copy()\n",
    "del adata_scvi.raw\n",
    "# setup the parameters\n",
    "params = {\n",
    "    'encode_covariates': True,\n",
    "    'dropout_rate': 0.2,\n",
    "    'n_layers': 3,\n",
    "    'n_latent': 50,\n",
    "    'dispersion': 'gene-batch'\n",
    "}\n",
    "# create the actual model\n",
    "scvi.model.SCVI.setup_anndata(adata_scvi, batch_key='suspension_type', categorical_covariate_keys=['batch_agg'],\n",
    "                              layer='raw_counts', continuous_covariate_keys=['total_counts','perc_mito','perc_ribo'])\n",
    "vae = scvi.model.SCVI(adata_scvi, **params)\n",
    "# train the model\n",
    "vae.train(early_stopping=True, accelerator='gpu', max_epochs=100)\n",
    "adata.obsm['X_scvi'] = vae.get_latent_representation()\n",
    "adata.write(f'{DN}/out_data/h5ads/int.nrm.h5ad')"
   ]
  },
  {
   "cell_type": "code",
   "execution_count": null,
   "id": "1825af0c-bf6a-40c0-a86f-aa9d03b25878",
   "metadata": {
    "tags": []
   },
   "outputs": [],
   "source": [
    "# plot the training and validation loss\n",
    "for loss in ['train_loss_epoch','validation_loss']:\n",
    "    fig, ax = plt.subplots()\n",
    "    ax.grid(False)\n",
    "    ax.plot(vae.history_[loss], label=loss)\n",
    "    ax.set(xlabel='Epoch', ylabel='Loss')\n",
    "    ax.legend(frameon=False)"
   ]
  },
  {
   "cell_type": "code",
   "execution_count": null,
   "id": "bdf09d54-606d-4108-b3aa-a4b429ca57f9",
   "metadata": {
    "tags": []
   },
   "outputs": [],
   "source": [
    "# compute knn, umap, and leiden\n",
    "print('computing neighbors...')\n",
    "sc.pp.neighbors(adata, random_state=0, use_rep='X_scvi')\n",
    "print('computing umap...')\n",
    "sc.tl.umap(adata, random_state=0)\n",
    "print('computing leiden...')\n",
    "sc.tl.leiden(adata, random_state=0, key_added='leiden_scvi')\n",
    "adata.write(f'{DN}/out_data/h5ads/int.nrm.h5ad')"
   ]
  },
  {
   "cell_type": "code",
   "execution_count": null,
   "id": "be9ed56c-1930-47b7-bf74-91095abac9c4",
   "metadata": {
    "tags": []
   },
   "outputs": [],
   "source": [
    "# plot the final projection\n",
    "sc.pl.umap(adata, color=['sequencing_kit', 'study'], ncols=1)"
   ]
  },
  {
   "cell_type": "code",
   "execution_count": null,
   "id": "78ddc484-007d-43fe-bba8-a9231fe73b6b",
   "metadata": {
    "tags": []
   },
   "outputs": [],
   "source": [
    "# look at the expression\n",
    "sc.pl.umap(adata, color=['PECAM1','ACTA2','GPR85'], use_raw=False)"
   ]
  },
  {
   "cell_type": "code",
   "execution_count": null,
   "id": "a7f1e287-8340-4088-8d45-4cfb76ceb796",
   "metadata": {
    "tags": []
   },
   "outputs": [],
   "source": [
    "# look at the expression\n",
    "sc.pl.umap(adata, color=['PECAM1','ACTA2','GPR85'], use_raw=False, vmin=2, vmax=3, cmap='Reds')"
   ]
  },
  {
   "cell_type": "code",
   "execution_count": null,
   "id": "a117183c-b36c-44bb-bc16-ff88c953195c",
   "metadata": {
    "tags": []
   },
   "outputs": [],
   "source": [
    "# remove retinal atlases for this study\n",
    "retinal_studies = ['Li, Wang, Ibarra, and Cheng et al. 2023 (Bioarxiv)',\n",
    "                   'Hahn and Monavarfeshani et al. 2023 (Nature)',\n",
    "                   'Liang et al. 2023 (Cell Genom.)',\n",
    "                   'Wang and Cheng et al. 2023 (Genome Biol.)',\n",
    "                   'Cowan and Renner et al. 2020 (Cell)',\n",
    "                   'Yang, Peng, and van Zyl et al. 2020 (Sci. Rep.)',\n",
    "                   'Lukowski and Lo et al. 2019 (EMBO J)',\n",
    "                   'Menon et al. 2019 (Nat. Commun.)',\n",
    "                   'Voigt et al. 2019 (Exp. Eye Res.)',\n",
    "                   'Zuo, Cheng, Ferdous et al. 2024 (Nat. Commun.)',\n",
    "                   'Voigt et al. 2021 (Hum. Mol. Genet.)']\n",
    "adata_ = adata[adata.obs['study'].isin(retinal_studies)].copy()\n",
    "adata_.write(f'{DN}/out_data/h5ads/int.nrm.retinal.h5ad')\n",
    "adata_ = adata[~adata.obs['study'].isin(retinal_studies)].copy()\n",
    "adata_.write(f'{DN}/out_data/h5ads/int.nrm.neural.h5ad')\n",
    "del adata_"
   ]
  },
  {
   "cell_type": "markdown",
   "id": "9a104ad8-21f2-4297-9d24-8c9caeb4bbcd",
   "metadata": {},
   "source": [
    "### integrate single-cell atlases – whole brain batch correction and dimension reduction via scVI"
   ]
  },
  {
   "cell_type": "code",
   "execution_count": null,
   "id": "e5dba63b-89b3-4849-a093-df38af39ff20",
   "metadata": {
    "tags": []
   },
   "outputs": [],
   "source": [
    "# let's try this again\n",
    "adata = sc.read_h5ad(f'{DN}/out_data/h5ads/int.nrm.neural.h5ad')\n",
    "# remove the poor mitochondrial cells\n",
    "adata = adata[adata.obs['cell_type_fine'] != 'Mitochondrial'].copy()"
   ]
  },
  {
   "cell_type": "code",
   "execution_count": null,
   "id": "6925bad6-c9e0-4d8e-8d2e-bc7a5db53083",
   "metadata": {
    "tags": []
   },
   "outputs": [],
   "source": [
    "# define the suspension type\n",
    "adata.obs['suspension_type'] = 'cell'\n",
    "adata.obs.loc[adata.obs['sequencing_kit'].str.endswith('snRNAseq'), 'suspension_type'] = 'nuclei'\n",
    "# find highly variable genes\n",
    "adata_ = adata[adata.obs['suspension_type'] == 'cell'].copy()\n",
    "sc.pp.highly_variable_genes(adata_)\n",
    "hvgs_cells = adata_.var.index[adata_.var['highly_variable']]\n",
    "adata_ = adata[adata.obs['suspension_type'] == 'nuclei'].copy()\n",
    "sc.pp.highly_variable_genes(adata_)\n",
    "hvgs_nuclei = adata_.var.index[adata_.var['highly_variable']]\n",
    "hvgs = hvgs_cells.union(hvgs_nuclei)\n",
    "adata.var['highly_variable'] = adata.var.index.isin(hvgs)\n",
    "print(adata.var['highly_variable'].sum())"
   ]
  },
  {
   "cell_type": "code",
   "execution_count": null,
   "id": "e191cd23-4977-40dc-89fa-d46b3e38538c",
   "metadata": {
    "tags": []
   },
   "outputs": [],
   "source": [
    "# use scVI to compute dimension reduction\n",
    "import scvi\n",
    "# derive a batch agg variable to account for donor differences due to issues in large-scale integration without it\n",
    "adata.obs['batch_agg'] = adata.obs[['study','sequencing_kit']].astype(str).agg(':'.join, axis=1)\n",
    "# subset for highly variable genes\n",
    "adata_scvi = adata[:, adata.var['highly_variable']].copy()\n",
    "del adata_scvi.raw\n",
    "# setup the parameters\n",
    "params = {\n",
    "    'encode_covariates': True,\n",
    "    'dropout_rate': 0.2,\n",
    "    'n_layers': 3,\n",
    "    'n_latent': 50,\n",
    "    'dispersion': 'gene-batch'\n",
    "}\n",
    "# create the actual model\n",
    "scvi.model.SCVI.setup_anndata(adata_scvi, batch_key='suspension_type', categorical_covariate_keys=['batch_agg'],\n",
    "                              layer='raw_counts', continuous_covariate_keys=['total_counts','perc_mito','perc_ribo'])\n",
    "vae = scvi.model.SCVI(adata_scvi, **params)\n",
    "# train the model\n",
    "vae.train(early_stopping=True, accelerator='gpu', max_epochs=100)\n",
    "adata.obsm['X_scvi'] = vae.get_latent_representation()\n",
    "adata.write(f'{DN}/out_data/h5ads/int.nrm.neural.h5ad')"
   ]
  },
  {
   "cell_type": "code",
   "execution_count": null,
   "id": "38d8c4c1-7dc9-4830-a528-48b1f8a898fc",
   "metadata": {
    "tags": []
   },
   "outputs": [],
   "source": [
    "# plot the training and validation loss\n",
    "for loss in ['train_loss_epoch','validation_loss']:\n",
    "    fig, ax = plt.subplots()\n",
    "    ax.grid(False)\n",
    "    ax.plot(vae.history_[loss], label=loss)\n",
    "    ax.set(xlabel='Epoch', ylabel='Loss')\n",
    "    ax.legend(frameon=False)"
   ]
  },
  {
   "cell_type": "code",
   "execution_count": null,
   "id": "b89c3497-300f-455a-be3e-2ecbaf29e7e0",
   "metadata": {
    "tags": []
   },
   "outputs": [],
   "source": [
    "# compute knn, umap, and leiden\n",
    "print('computing neighbors...')\n",
    "sc.pp.neighbors(adata, random_state=0, use_rep='X_scvi')\n",
    "print('computing umap...')\n",
    "sc.tl.umap(adata, random_state=0)\n",
    "print('computing leiden...')\n",
    "sc.tl.leiden(adata, random_state=0, key_added='leiden_scvi')\n",
    "adata.write(f'{DN}/out_data/h5ads/int.nrm.neural.h5ad')"
   ]
  },
  {
   "cell_type": "code",
   "execution_count": null,
   "id": "f29b9d95-52c2-4db1-b730-1da473a8d08c",
   "metadata": {
    "tags": []
   },
   "outputs": [],
   "source": [
    "# plot the final projection\n",
    "sc.pl.umap(adata, color=['sequencing_kit', 'study'], ncols=1)"
   ]
  },
  {
   "cell_type": "markdown",
   "id": "63573ce5-be27-43da-9c44-dea5a6e8aa7c",
   "metadata": {},
   "source": [
    "### harmonize single-cell annotations"
   ]
  },
  {
   "cell_type": "code",
   "execution_count": null,
   "id": "180c4b59-7d2e-430b-b357-923de67deec1",
   "metadata": {
    "tags": []
   },
   "outputs": [],
   "source": [
    "import cellhint\n",
    "alignment = cellhint.harmonize(adata, 'study', 'cell_type_fine', use_rep='X_scvi',\n",
    "                               use_pct=True, p_thres=1e-3, random_state=0,\n",
    "                               minimum_unique_percents=(0.75, 0.80, 0.85, 0.90, 0.95),\n",
    "                               minimum_divide_percents=(0.010, 0.025, 0.050, 0.075, 0.100),\n",
    "                               maximum_novel_percent=(0.50))"
   ]
  },
  {
   "cell_type": "code",
   "execution_count": null,
   "id": "35968179-1ffa-4ac1-91ce-4293c6227000",
   "metadata": {
    "tags": []
   },
   "outputs": [],
   "source": [
    "# add on the cellhint annotation\n",
    "adata.obs['cellhint_reannotation'] = alignment.reannotation['reannotation']\n",
    "# resolve the mapping\n",
    "mapping = {'UNRESOLVED = UNRESOLVED = UNRESOLVED = glutamatergic neuron = UNRESOLVED ∋ L2/3-6 intratelencephalic projecting glutamatergic neuron = NONE = NONE = NONE = NONE = NONE = NONE':'glutamatergic neuron',\n",
    "'NONE = NONE = NONE = NONE = NONE = pvalb GABAergic cortical interneuron = NONE = NONE = NONE = NONE = NONE = NONE':'GABAergic interneuron',\n",
    "'UNRESOLVED = UNRESOLVED = UNRESOLVED = capillary endothelial cell = cerebral cortex endothelial cell = cerebral cortex endothelial cell = endothelial cell = NONE = NONE = NONE = NONE = NONE':'endothelial',\n",
    "'astrocyte = astrocyte = Astrocyte = astrocyte = astrocyte of the cerebral cortex = astrocyte of the cerebral cortex = astrocyte = NONE = NONE = NONE = NONE = NONE':'astrocyte',\n",
    "'UNRESOLVED = UNRESOLVED = UNRESOLVED = UNRESOLVED = oligodendrocyte precursor cell = oligodendrocyte precursor cell = oligodendrocyte precursor cell = NONE = NONE = NONE = NONE = NONE':'oligodendrocyte',\n",
    "'UNRESOLVED = UNRESOLVED = UNRESOLVED = GABAergic neuron = UNRESOLVED ∋ microglial cell = NONE = NONE = NONE = NONE = NONE = NONE':'GABAergic interneuron/microglia',\n",
    "'NONE = NONE = NONE = NONE = NONE = VIP GABAergic cortical interneuron = NONE = NONE = NONE = NONE = NONE = NONE':'GABAergic interneuron',\n",
    "'UNRESOLVED = UNRESOLVED = UNRESOLVED = UNRESOLVED = caudal ganglionic eminence derived interneuron = caudal ganglionic eminence derived interneuron = NONE = NONE = NONE = NONE = NONE = NONE':'GABAergic interneuron',\n",
    "'oligodendrocyte = oligodendrocyte = Oligo = oligodendrocyte = oligodendrocyte = oligodendrocyte = oligodendrocyte = UNRESOLVED = NONE = NONE = NONE = NONE':'oligodendrocyte',\n",
    "'UNRESOLVED = UNRESOLVED = UNRESOLVED = GABAergic neuron = UNRESOLVED ∋ sncg GABAergic cortical interneuron = NONE = NONE = NONE = NONE = NONE = NONE':'GABAergic interneuron',\n",
    "'UNRESOLVED = UNRESOLVED = UNRESOLVED = UNRESOLVED = UNRESOLVED = chandelier pvalb GABAergic cortical interneuron = NONE = NONE = NONE = NONE = NONE = NONE':'GABAergic interneuron',\n",
    "'UNRESOLVED = UNRESOLVED = UNRESOLVED = UNRESOLVED = UNRESOLVED = lamp5 GABAergic cortical interneuron = NONE = NONE = NONE = NONE = NONE = NONE':'GABAergic interneuron',\n",
    "'UNRESOLVED = UNRESOLVED = UNRESOLVED = GABAergic neuron = UNRESOLVED ∋ sst GABAergic cortical interneuron = NONE = NONE = NONE = NONE = NONE = NONE':'GABAergic interneuron',\n",
    "'UNRESOLVED = UNRESOLVED = UNRESOLVED = glutamatergic neuron = UNRESOLVED ∋ corticothalamic-projecting glutamatergic cortical neuron = NONE = NONE = NONE = NONE = NONE = NONE':'glutamatergic neuron',\n",
    "'UNRESOLVED = UNRESOLVED = UNRESOLVED = glutamatergic neuron = UNRESOLVED ∋ L6b glutamatergic cortical neuron = NONE = NONE = NONE = NONE = NONE = NONE':'glutamatergic neuron',\n",
    "'NONE = NONE = NONE = NONE = NONE = near-projecting glutamatergic cortical neuron = NONE = NONE = NONE = NONE = NONE = NONE':'glutamatergic neuron',\n",
    "'UNRESOLVED = UNRESOLVED = UNRESOLVED = mural cell = vascular leptomeningeal cell = vascular leptomeningeal cell = UNRESOLVED = NONE = NONE = NONE = NONE = NONE':'VLMC',\n",
    "'NONE = NONE = NONE = NONE = NONE = L5 extratelencephalic projecting glutamatergic cortical neuron = NONE = NONE = NONE = NONE = NONE = NONE':'glutamatergic neuron',\n",
    "'glutamatergic neuron = neuron = NONE = UNRESOLVED = NONE = NONE ∋ glutamatergic neuron = NONE = NONE = NONE = NONE = NONE':'glutamatergic neuron',\n",
    "'glutamatergic neuron = neuron = NONE = UNRESOLVED = NONE = NONE ∋ inhibitory interneuron = NONE = NONE = NONE = NONE = NONE':'glutamatergic neuron/GABAergic interneuron',\n",
    "'NONE = leukocyte = NONE = NONE = NONE = NONE = NONE = NONE = NONE = NONE = NONE = NONE':'leukocyte',\n",
    "'microglial cell = central nervous system macrophage = Microglia/Mφ = microglial cell = microglial cell = NONE = microglial cell = UNRESOLVED = NONE = NONE = NONE = NONE':'microglia',\n",
    "'endothelial cell of vascular tree = endothelial cell = Capillary = UNRESOLVED = NONE = NONE = NONE = NONE = NONE = NONE = NONE = NONE':'endothelial',\n",
    "'oligodendrocyte precursor cell = oligodendrocyte precursor cell = OPC = oligodendrocyte precursor cell = UNRESOLVED = NONE = NONE = NONE = NONE = NONE = NONE = NONE':'oligodendrocyte precursor',\n",
    "'NONE = Bergmann glial cell = NONE = NONE = NONE = NONE = NONE = NONE = NONE = NONE = NONE = NONE':'bergmann glia',\n",
    "'pericyte = fibroblast = NONE = NONE = NONE = NONE = UNRESOLVED = NONE = NONE = NONE = NONE = NONE':'VSMC/fibroblast',\n",
    "'NONE = pericyte = NONE = NONE = NONE = NONE = NONE = UNRESOLVED = NONE = NONE = NONE = NONE':'VSMC',\n",
    "'NONE = vascular associated smooth muscle cell ∋ P. Fibro = NONE = NONE = NONE = NONE = NONE = NONE = NONE = NONE = NONE':'VSMC',\n",
    "'NONE = choroid plexus epithelial cell = NONE = NONE = NONE = NONE = NONE = NONE = NONE = NONE = NONE = NONE':'choroid plexus epithelial',\n",
    "'NONE = ependymal cell = NONE = NONE = NONE = NONE = NONE = NONE = NONE = NONE = NONE = NONE':'ependymal',\n",
    "'NONE = vascular associated smooth muscle cell ∋ Pericyte = NONE = NONE = NONE = NONE = NONE = NONE = NONE = NONE = NONE':'VSMC',\n",
    "'UNRESOLVED = UNRESOLVED = UNRESOLVED = endothelial cell of artery = NONE = NONE = NONE = UNRESOLVED = NONE = NONE = NONE = NONE':'endothelial',\n",
    "'NONE = NONE = NONE = vascular associated smooth muscle cell = NONE = NONE = NONE = NONE = NONE = NONE = NONE = NONE':'VSMC',\n",
    "'NONE = NONE = NONE = cerebellar granule cell = NONE = NONE = NONE = NONE = NONE = NONE = NONE = NONE':'cerebellar granule cell',\n",
    "'NONE = NONE = NONE = differentiation-committed oligodendrocyte precursor = NONE = NONE = NONE = UNRESOLVED = NONE = NONE = NONE = NONE':'oligodendrocyte precursor (differentiation-committed)',\n",
    "'UNRESOLVED = UNRESOLVED = UNRESOLVED = leukocyte = NONE = NONE = NONE = UNRESOLVED = NONE = NONE = NONE = NONE':'leukocyte',\n",
    "'NONE = NONE = NONE = central nervous system macrophage = NONE = NONE = NONE = NONE = NONE = NONE = NONE = NONE':'microglia',\n",
    "'NONE = NONE = NONE = neuron = NONE = NONE = NONE = UNRESOLVED = NONE = NONE = NONE = NONE':'neuron',\n",
    "'UNRESOLVED = UNRESOLVED = UNRESOLVED = UNRESOLVED = UNRESOLVED = UNRESOLVED = UNRESOLVED = UNRESOLVED = UNRESOLVED = UNRESOLVED = glutamatergic neuron = NONE':'glutamatergic neuron',\n",
    "'NONE = NONE = NONE = NONE = NONE = NONE = NONE = NONE = NONE = NONE = progenitor cell = NONE':'progenitor',\n",
    "'UNRESOLVED = UNRESOLVED = UNRESOLVED = UNRESOLVED = UNRESOLVED = UNRESOLVED = UNRESOLVED = UNRESOLVED = UNRESOLVED = Stem-to-EC ∋ forebrain radial glial cell ∈ interneuron':'stem-to-ec/radial glia/interneuron',\n",
    "'UNRESOLVED = UNRESOLVED = UNRESOLVED = UNRESOLVED = UNRESOLVED = UNRESOLVED = UNRESOLVED = UNRESOLVED = UNRESOLVED = Stem-to-EC ∋ oligodendrocyte precursor cell ∈ interneuron':'opc/interneuron',\n",
    "'UNRESOLVED = UNRESOLVED = UNRESOLVED = UNRESOLVED = UNRESOLVED = UNRESOLVED = UNRESOLVED = UNRESOLVED = UNRESOLVED = Stem-to-EC ∋ microglial cell = NONE':'microglia',\n",
    "'UNRESOLVED = UNRESOLVED = UNRESOLVED = UNRESOLVED = UNRESOLVED = UNRESOLVED = UNRESOLVED = UNRESOLVED = UNRESOLVED = UNRESOLVED = blood vessel endothelial cell = NONE':'endothelial',\n",
    "'UNRESOLVED = UNRESOLVED = UNRESOLVED = UNRESOLVED = UNRESOLVED = UNRESOLVED = UNRESOLVED = UNRESOLVED = UNRESOLVED = UNRESOLVED = cerebral cortex GABAergic interneuron = NONE':'GABAergic interneuron',\n",
    "'NONE = NONE = NONE = NONE = NONE = NONE = NONE = NONE = NONE = NONE = cerebral cortex endothelial cell = NONE':'endothelial',\n",
    "'NONE = NONE = NONE = NONE = NONE = NONE = NONE = NONE = NONE = NONE = Cajal-Retzius cell = NONE':'cajal-retzius',\n",
    "'UNRESOLVED = UNRESOLVED = UNRESOLVED = UNRESOLVED = UNRESOLVED = UNRESOLVED = UNRESOLVED = UNRESOLVED = UNRESOLVED = UNRESOLVED = UNRESOLVED = neuron':'neuron',\n",
    "'UNRESOLVED = UNRESOLVED = UNRESOLVED = UNRESOLVED = UNRESOLVED = UNRESOLVED = UNRESOLVED = UNRESOLVED = UNRESOLVED = UNRESOLVED = UNRESOLVED = macrophage':'macrophage',\n",
    "'NONE = NONE = NONE = NONE = NONE = NONE = NONE = NONE = NONE = NONE = NONE = endothelial cell':'endothelial',\n",
    "'UNRESOLVED = UNRESOLVED = UNRESOLVED = UNRESOLVED = UNRESOLVED = UNRESOLVED = UNRESOLVED = UNRESOLVED = UNRESOLVED = UNRESOLVED = UNRESOLVED = oligodendrocyte precursor cell':'oligodendrocyte precursor',\n",
    "'UNRESOLVED = UNRESOLVED = UNRESOLVED = UNRESOLVED = UNRESOLVED = UNRESOLVED = UNRESOLVED = UNRESOLVED = UNRESOLVED = UNRESOLVED = UNRESOLVED = T cell':'T cell',\n",
    "'NONE = NONE = NONE = NONE = NONE = NONE = NONE = NONE = NONE = NONE = NONE = astrocyte':'astrocyte',\n",
    "'NONE = NONE = NONE = NONE = NONE = NONE = NONE = NONE = NONE = NONE = NONE = Bergmann glial cell':'bergmann glia',\n",
    "'NONE = NONE = NONE = NONE = NONE = NONE = NONE = NONE = NONE = NONE = NONE = oligodendrocyte':'oligodendrocyte',\n",
    "'NONE = NONE = NONE = NONE = NONE = NONE = radial glial cell = NONE = NONE = NONE = NONE = NONE':'radial glia',\n",
    "'NONE = NONE = NONE = NONE = NONE = NONE = caudal ganglionic eminence derived interneuron = NONE = NONE = NONE = NONE = NONE':'GABAergic interneuron',\n",
    "'UNRESOLVED = UNRESOLVED = UNRESOLVED = UNRESOLVED = UNRESOLVED = UNRESOLVED = medial ganglionic eminence derived interneuron = NONE = NONE = NONE = NONE = NONE':'GABAergic interneuron',\n",
    "'NONE = NONE = NONE = NONE = NONE = NONE = pericyte = NONE = NONE = NONE = NONE = NONE':'VSMC',\n",
    "'NONE = NONE = NONE = NONE = NONE = NONE = neural progenitor cell = NONE = NONE = NONE = NONE = NONE':'neural progenitor',\n",
    "'UNRESOLVED = UNRESOLVED = UNRESOLVED = UNRESOLVED = UNRESOLVED = UNRESOLVED = vascular associated smooth muscle cell = NONE = NONE = NONE = NONE = NONE':'VSMC',\n",
    "'UNRESOLVED = UNRESOLVED = UNRESOLVED = UNRESOLVED = UNRESOLVED = UNRESOLVED = UNRESOLVED = Purkinje cell = NONE = NONE = NONE = NONE':'purkinje cell',\n",
    "'NONE = NONE = NONE = NONE = NONE = NONE = NONE = glutamatergic neuron = NONE = NONE = NONE = NONE':'glutamatergic neuron',\n",
    "'UNRESOLVED = UNRESOLVED = UNRESOLVED = UNRESOLVED = UNRESOLVED = UNRESOLVED = UNRESOLVED = macroglial cell ∋ glioblast = NONE = NONE = NONE':'macroglia/glioblast',\n",
    "'UNRESOLVED = UNRESOLVED = UNRESOLVED = UNRESOLVED = UNRESOLVED = UNRESOLVED = UNRESOLVED = neuroblast (sensu Vertebrata) ∋ neuroblast (sensu Vertebrata) = NONE = NONE = NONE':'neuroblast',\n",
    "'UNRESOLVED = UNRESOLVED = UNRESOLVED = UNRESOLVED = UNRESOLVED = UNRESOLVED = UNRESOLVED = neuroblast (sensu Vertebrata) ∋ neuron = NONE = NONE = NONE':'neuroblast',\n",
    "'UNRESOLVED = UNRESOLVED = UNRESOLVED = UNRESOLVED = UNRESOLVED = UNRESOLVED = UNRESOLVED = GABAergic neuron = NONE = NONE = NONE = NONE':'GABAergic neuron',\n",
    "'UNRESOLVED = UNRESOLVED = UNRESOLVED = UNRESOLVED = UNRESOLVED = UNRESOLVED = UNRESOLVED = macroglial cell ∋ neuroblast (sensu Nematoda and Protostomia) = NONE = NONE = NONE':'macroglia/neuroblast',\n",
    "'UNRESOLVED = UNRESOLVED = UNRESOLVED = UNRESOLVED = UNRESOLVED = UNRESOLVED = UNRESOLVED = macroglial cell ∋ radial glial cell = NONE = NONE = NONE':'macroglia/radial glia',\n",
    "'NONE = NONE = NONE = NONE = NONE = NONE = NONE = progenitor cell = NONE = NONE = NONE = NONE':'progenitor',\n",
    "'UNRESOLVED = UNRESOLVED = UNRESOLVED = UNRESOLVED = UNRESOLVED = UNRESOLVED = UNRESOLVED = microglial cell = NONE = NONE = NONE = NONE':'microglia',\n",
    "'UNRESOLVED = UNRESOLVED = UNRESOLVED = UNRESOLVED = UNRESOLVED = UNRESOLVED = UNRESOLVED = cerebellar granule cell = NONE = NONE = NONE = NONE':'cerebellar granule cell',\n",
    "'NONE = NONE = NONE = NONE = NONE = NONE = NONE = cerebellar granule cell precursor = NONE = NONE = NONE = NONE':'cerebellar granule cell precursor',\n",
    "'NONE = NONE = NONE = NONE = NONE = NONE = NONE = central nervous system macrophage = NONE = NONE = NONE = NONE':'microglia',\n",
    "'NONE = NONE = NONE = NONE = NONE = NONE = NONE = interneuron = NONE = NONE = NONE = NONE':'GABAergic interneuron',\n",
    "'NONE = NONE = NONE = NONE = NONE = NONE = NONE = oligodendrocyte precursor cell = NONE = NONE = NONE = NONE':'oligodendrocyte precursor',\n",
    "'UNRESOLVED = UNRESOLVED = UNRESOLVED = UNRESOLVED = UNRESOLVED = UNRESOLVED = UNRESOLVED = unipolar brush cell = NONE = NONE = NONE = NONE':'unipolar brush cell',\n",
    "'NONE = NONE = NONE = NONE = NONE = NONE = NONE = noradrenergic cell = NONE = NONE = NONE = NONE':'noradrenergic cell',\n",
    "'UNRESOLVED = UNRESOLVED = UNRESOLVED = UNRESOLVED = UNRESOLVED = UNRESOLVED = UNRESOLVED = erythroid lineage cell = NONE = NONE = NONE = NONE':'erythroid',\n",
    "'UNRESOLVED = UNRESOLVED = UNRESOLVED = UNRESOLVED = UNRESOLVED = UNRESOLVED = UNRESOLVED = immature astrocyte = NONE = NONE = NONE = NONE':'immature astrocyte',\n",
    "'NONE = NONE = NONE = NONE = NONE = NONE = NONE = Bergmann glial cell = NONE = NONE = NONE = NONE':'bergmann glia',\n",
    "'UNRESOLVED = UNRESOLVED = UNRESOLVED = UNRESOLVED = UNRESOLVED = UNRESOLVED = UNRESOLVED = oligodendrocyte = NONE = NONE = NONE = NONE':'oligodendrocyte',\n",
    "'NONE = NONE = NONE = NONE = NONE = NONE = NONE = brain vascular cell = NONE = NONE = NONE = NONE':'endothelial (?)',\n",
    "'NONE = NONE = NONE = NONE = NONE = NONE = NONE = glioblast = NONE = NONE = NONE = NONE':'glioblast',\n",
    "'NONE = NONE = NONE = NONE = NONE = NONE = NONE = meningeal macrophage = NONE = NONE = NONE = NONE':'macrophage (meningeal)',\n",
    "'UNRESOLVED = UNRESOLVED = UNRESOLVED = UNRESOLVED = UNRESOLVED = UNRESOLVED = UNRESOLVED = differentiation-committed oligodendrocyte precursor = NONE = NONE = NONE = NONE':'oligodendrocyte precursor (differentiation-committed)',\n",
    "'NONE = NONE = NONE = NONE = NONE = NONE = NONE = leukocyte = NONE = NONE = NONE = NONE':'leukocyte',\n",
    "'NONE = NONE = NONE = NONE = NONE = NONE = NONE = T cell = NONE = NONE = NONE = NONE':'T cell',\n",
    "'UNRESOLVED = UNRESOLVED = UNRESOLVED = UNRESOLVED = near-projecting glutamatergic cortical neuron = NONE = NONE = UNRESOLVED = NONE = NONE = NONE = NONE':'glutamatergic neuron',\n",
    "'NONE = NONE = NONE = NONE = corticothalamic-projecting glutamatergic cortical neuron = NONE = NONE = NONE = NONE = NONE = NONE = NONE':'glutamatergic neuron',\n",
    "'UNRESOLVED = UNRESOLVED = UNRESOLVED = UNRESOLVED = L6b glutamatergic cortical neuron = NONE = NONE = NONE = NONE = NONE = NONE = NONE':'glutamatergic neuron',\n",
    "'NONE = NONE = NONE = NONE = L5 extratelencephalic projecting glutamatergic cortical neuron = NONE = NONE = NONE = NONE = NONE = NONE = NONE':'glutamatergic neuron',\n",
    "'NONE = NONE = NONE = NONE = VIP GABAergic cortical interneuron = NONE = NONE = NONE = NONE = NONE = NONE = NONE':'GABAergic interneuron',\n",
    "'NONE = NONE = NONE = NONE = sncg GABAergic cortical interneuron = NONE = NONE = NONE = NONE = NONE = NONE = NONE':'GABAergic interneuron',\n",
    "'NONE = NONE = NONE = NONE = lamp5 GABAergic cortical interneuron = NONE = NONE = NONE = NONE = NONE = NONE = NONE':'GABAergic interneuron',\n",
    "'NONE = NONE = NONE = NONE = sst GABAergic cortical interneuron = NONE = NONE = NONE = NONE = NONE = NONE = NONE':'GABAergic interneuron',\n",
    "'NONE = NONE = NONE = NONE = pvalb GABAergic cortical interneuron = NONE = NONE = NONE = NONE = NONE = NONE = NONE':'GABAergic interneuron',\n",
    "'NONE = NONE = NONE = NONE = chandelier pvalb GABAergic cortical interneuron = NONE = NONE = NONE = NONE = NONE = NONE = NONE':'GABAergic interneuron',\n",
    "'NONE = NONE = NONE = NONE = L2/3-6 intratelencephalic projecting glutamatergic neuron = NONE = NONE = NONE = NONE = NONE = NONE = NONE':'glutamatergic neuron',\n",
    "'NONE = NONE = Veinous = NONE = NONE = NONE = NONE = NONE = NONE = NONE = NONE = NONE':'endothelial',\n",
    "'NONE = NONE = SMC = NONE = NONE = NONE = NONE = NONE = NONE = NONE = NONE = NONE':'endothelial',\n",
    "'NONE = NONE = Arterial = NONE = NONE = NONE = NONE = NONE = NONE = NONE = NONE = NONE':'endothelial',\n",
    "'inhibitory interneuron = NONE = Neuron = NONE = NONE = NONE = NONE = UNRESOLVED = NONE = NONE = NONE = NONE':'GABAergic interneuron',\n",
    "'NONE = NONE = Ependymal = NONE = NONE = NONE = NONE = NONE = NONE = NONE = NONE = NONE':'ependymal cell',\n",
    "'NONE = NONE = M. Fibro = NONE = NONE = NONE = NONE = NONE = NONE = NONE = NONE = NONE':'fibroblast (m.)',\n",
    "'UNRESOLVED = UNRESOLVED = T cell = UNRESOLVED = NONE = NONE = NONE = NONE = NONE = NONE = NONE = NONE':'T cell',\n",
    "'T cell = NONE = NONE = NONE = NONE = NONE = NONE = NONE = NONE = NONE = NONE = NONE':'T cell',\n",
    "'NONE = NONE = NONE = NONE = NONE = NONE = NONE = NONE = NONE = Large vein = NONE = NONE':'endothelial',\n",
    "'NONE = NONE = NONE = NONE = NONE = NONE = NONE = NONE = NONE = Capillary = NONE = NONE':'endothelial',\n",
    "'NONE = NONE = NONE = NONE = NONE = NONE = NONE = NONE = NONE = Vein = NONE = NONE':'endothelial',\n",
    "'NONE = NONE = NONE = NONE = NONE = NONE = NONE = NONE = NONE = Angiogenic capillary = NONE = NONE':'endothelial',\n",
    "'NONE = NONE = NONE = NONE = NONE = NONE = NONE = NONE = NONE = Artery = NONE = NONE':'endothelial',\n",
    "'NONE = NONE = NONE = NONE = NONE = NONE = NONE = NONE = NONE = Large artery = NONE = NONE':'endothelial',\n",
    "'NONE = NONE = NONE = NONE = NONE = NONE = NONE = NONE = NONE = Arteriole = NONE = NONE':'endothelial',\n",
    "'NONE = NONE = NONE = NONE = NONE = NONE = NONE = NONE = NONE = Venule = NONE = NONE':'endothelial',\n",
    "'NONE = NONE = NONE = NONE = NONE = NONE = NONE = NONE = NONE = Proliferating cell = NONE = NONE':'endothelial',\n",
    "'UNRESOLVED = UNRESOLVED = UNRESOLVED = UNRESOLVED = UNRESOLVED = UNRESOLVED = UNRESOLVED = UNRESOLVED = UNRESOLVED = EndoMT = NONE = NONE':'endothelial',\n",
    "'NONE = NONE = NONE = NONE = NONE = NONE = NONE = NONE = NONE = Proliferating Stem-to-EC = NONE = NONE':'endothelial',\n",
    "'NONE = NONE = NONE = NONE = NONE = NONE = NONE = NONE = NONE = Proliferating EndoMT = NONE = NONE':'endothelial',\n",
    "'UNRESOLVED = UNRESOLVED = UNRESOLVED = UNRESOLVED = UNRESOLVED = UNRESOLVED = UNRESOLVED = UNRESOLVED = cell = NONE = NONE = NONE':'cell',\n",
    "'NONE = NONE = NONE = NONE = NONE = NONE = NONE = NONE = erythrocyte = NONE = NONE = NONE':'erythroid',\n",
    "'UNRESOLVED = UNRESOLVED = UNRESOLVED = UNRESOLVED = UNRESOLVED = UNRESOLVED = UNRESOLVED = UNRESOLVED = oligodendrocyte = NONE = NONE = NONE':'oligodendrocyte',\n",
    "'UNRESOLVED = UNRESOLVED = UNRESOLVED = UNRESOLVED = UNRESOLVED = UNRESOLVED = UNRESOLVED = UNRESOLVED = macrophage = NONE = NONE = NONE':'macrophage (?)',\n",
    "'NONE = NONE = NONE = NONE = NONE = NONE = NONE = NONE = neuroplacodal cell = NONE = NONE = NONE':'neuroplacodal',\n",
    "'NONE = NONE = NONE = NONE = NONE = NONE = NONE = NONE = fibroblast = UNRESOLVED = NONE = NONE':'fibroblast',\n",
    "'NONE = NONE = NONE = NONE = NONE = NONE = NONE = NONE = neural crest cell = UNRESOLVED = NONE = NONE':'neural crest'}\n",
    "adata.obs['cell_type_int'] = adata.obs['cellhint_reannotation'].map(mapping)\n",
    "# these are all endothelial\n",
    "mask = adata.obs['study'] == 'Wälchli and Ghobrial et al. 2024 (Nature)'\n",
    "adata.obs.loc[mask, 'cell_type_int'] = 'endothelial'"
   ]
  },
  {
   "cell_type": "code",
   "execution_count": null,
   "id": "084d6648-92d3-453e-94f0-5c0ec4092dc0",
   "metadata": {
    "tags": []
   },
   "outputs": [],
   "source": [
    "# color the data on for the preliminary integration\n",
    "sc.pl.umap(adata, color=['cell_type_int'])"
   ]
  },
  {
   "cell_type": "code",
   "execution_count": null,
   "id": "696a2d74-37b2-453f-9bd1-04e03ca37ef4",
   "metadata": {
    "tags": []
   },
   "outputs": [],
   "source": [
    "# perform dendorgram clustering to confirm our assignment and resolve the unresolved\n",
    "sc.tl.dendrogram(adata, groupby='cell_type_int', use_rep='X_scvi')\n",
    "fig, ax = plt.subplots(figsize=[10, 4]); ax.grid(False)\n",
    "sc.pl.dendrogram(adata, groupby='cell_type_int', ax=ax)"
   ]
  },
  {
   "cell_type": "code",
   "execution_count": null,
   "id": "2ffc94d4-b0a4-4741-a7c4-17b7b735f1cc",
   "metadata": {},
   "outputs": [],
   "source": [
    "# validate the main contributors are well annotated\n",
    "adata.obs['cell_type_int'].value_counts()"
   ]
  },
  {
   "cell_type": "code",
   "execution_count": null,
   "id": "53ce8490-07e9-4dd5-8851-946a175fa5b2",
   "metadata": {
    "tags": []
   },
   "outputs": [],
   "source": [
    "# rename accordingly\n",
    "renamer = {'neural progenitor':'progenitor', 'oligodendrocyte precursor (differentiation-committed)':'oligodendrocyte precursor',\n",
    "           'fibroblast (m.)':'fibroblast', 'GABAergic neuron':'GABAergic interneuron', 'endothelial (?)':'VLMC/VSMC',\n",
    "           'macrophage (?)':'microglia', 'GABAergic interneuron/microglia':'microglia', 'macrophage (meningeal)':'microglia',\n",
    "           'immature astrocyte':'glioblast', 'ependymal cell':'ependymal', 'cell':'erythroid', 'VLMC':'VLMC/VSMC',\n",
    "           'VSMC/fibroblast':'VLMC/VSMC', 'neuron':'oligodendrocyte precursor', 'VSMC':'VLMC/VSMC',\n",
    "           'glutamatergic neuron/GABAergic interneuron':'glutamatergic neuron', 'macroglia/radial glia':'radial glia',\n",
    "           'stem-to-ec/radial glia/interneuron':'radial glia','macroglia/glioblast':'radial glia',\n",
    "           'macroglia/neuroblast':'oligodendrocyte', 'macrophage':'microglia', 'T cell':'leukocyte',\n",
    "           'opc/interneuron':'glioblast'}\n",
    "adata.obs['cell_type_int'] = adata.obs['cell_type_int'].astype(str)\n",
    "for k,v in renamer.items():\n",
    "    adata.obs.loc[adata.obs['cell_type_int'] == k, 'cell_type_int'] = v\n",
    "# color the data on\n",
    "del adata.uns['cell_type_int_colors']\n",
    "sc.pl.umap(adata, color=['cell_type_int'])"
   ]
  },
  {
   "cell_type": "markdown",
   "id": "cae1022f-1cd7-4088-90e6-3e5654e11653",
   "metadata": {},
   "source": [
    "### validate annotations via celltypist"
   ]
  },
  {
   "cell_type": "code",
   "execution_count": null,
   "id": "d78157be-e7a4-4ee3-8ff8-9b22a9daf636",
   "metadata": {
    "tags": []
   },
   "outputs": [],
   "source": [
    "# train a celltypist model to validate these annotations\n",
    "adata_ref = adata.copy()\n",
    "# find highly variable genes\n",
    "sc.pp.filter_genes(adata_ref, min_cells=1)\n",
    "sc.pp.highly_variable_genes(adata_ref, n_top_genes=10000)\n",
    "sc.pl.highly_variable_genes(adata_ref)\n",
    "print(adata_ref.var['highly_variable'].sum())\n",
    "# sample 500 cells from each cell type for `adata_ref`.\n",
    "# all cells from a given cell type will be selected if the cell type size is < 500.\n",
    "sampled_cell_index = celltypist.samples.downsample_adata(adata_ref, mode='each', n_cells=500, by='cell_type_int', return_index=True)\n",
    "print(f'Number of downsampled cells for training: {len(sampled_cell_index)}')\n",
    "# use `celltypist.train` to quickly train a rough CellTypist model.\n",
    "model_fs = celltypist.train(adata_ref[sampled_cell_index], 'cell_type_int', n_jobs=1, max_iter=10, use_SGD=True)"
   ]
  },
  {
   "cell_type": "code",
   "execution_count": null,
   "id": "7bf1e21f-c447-4cb5-a956-8e0c7ff5cc75",
   "metadata": {
    "tags": []
   },
   "outputs": [],
   "source": [
    "# use the medium trained model to derive genes\n",
    "gene_index = np.argpartition(np.abs(model_fs.classifier.coef_), -100, axis = 1)[:, -100:]\n",
    "gene_index = np.unique(gene_index)\n",
    "print(f'Number of genes selected: {len(gene_index)}')\n",
    "# add `check_expression = False` to bypass expression check with only a subset of genes.\n",
    "model = celltypist.train(adata_ref[sampled_cell_index], 'cell_type_int', check_expression=False, n_jobs=1, max_iter=100)\n",
    "# save the model.\n",
    "model.write(f'{DN}/out_data/celltypist/model_from_neural.pkl')"
   ]
  },
  {
   "cell_type": "code",
   "execution_count": null,
   "id": "02d7794f-30e1-46ef-aa8a-20079ff89bf4",
   "metadata": {
    "tags": []
   },
   "outputs": [],
   "source": [
    "# perform the predictions\n",
    "adata_ref = celltypist.annotate(adata_ref, model=f'{DN}/out_data/celltypist/model_from_neural.pkl', majority_voting=True, mode='best match')\n",
    "adata_ref = adata_ref.to_adata(insert_prob=True)"
   ]
  },
  {
   "cell_type": "code",
   "execution_count": null,
   "id": "2f753eec-f083-435c-887d-edc7aa842941",
   "metadata": {
    "tags": []
   },
   "outputs": [],
   "source": [
    "# write down the data\n",
    "adata.write(f'{DN}/out_data/h5ads/int.nrm.neural.h5ad')\n",
    "adata_ref.write(f'{DN}/out_data/h5ads/int.nrm.neural.w_celltypist.h5ad')"
   ]
  },
  {
   "cell_type": "markdown",
   "id": "2d512c28-92f1-4833-8cd4-8e14021c0083",
   "metadata": {},
   "source": [
    "### examine for GPR85 bias"
   ]
  },
  {
   "cell_type": "code",
   "execution_count": null,
   "id": "81db78ff-daab-43b1-a885-6e31dfca3861",
   "metadata": {
    "tags": []
   },
   "outputs": [],
   "source": [
    "from tqdm import tqdm\n",
    "# attempt to examine this on a per donor scale\n",
    "adata.obs['donor_study'] = adata.obs[['donor','study']].agg(':'.join, axis=1)\n",
    "diffs = []\n",
    "for donor in tqdm(adata.obs['donor_study'].unique()):\n",
    "    mask = adata.obs['donor_study'] == donor\n",
    "    counts_high = adata.obs.loc[(adata.obs['GPR85_binary'] == 'High')&mask, 'cell_type_int'].value_counts()\n",
    "    counts_low = adata.obs.loc[(adata.obs['GPR85_binary'] == 'Negative')&mask, 'cell_type_int'].value_counts()\n",
    "    diff = counts_high - counts_low\n",
    "    diff = diff / adata.obs.loc[mask, 'cell_type_int'].value_counts()\n",
    "    diff = pd.DataFrame(diff)\n",
    "    diff.columns = ['diff']\n",
    "    diff['donor_study'] = donor\n",
    "    diff['disease_state'] = adata.obs.loc[mask, 'disease_state'].unique()[0]\n",
    "    assert len(adata.obs.loc[mask, 'disease_state'].unique()) == 1\n",
    "    diffs.append(diff)"
   ]
  },
  {
   "cell_type": "code",
   "execution_count": null,
   "id": "5fef8956-5f3c-46f9-8c6d-83d98bee9271",
   "metadata": {
    "tags": []
   },
   "outputs": [],
   "source": [
    "# remove cell types that have less than ten cells\n",
    "mask = adata_ref.obs['disease_state'].isin(['normal','Control','TL'])\n",
    "counts = adata_ref.obs.loc[mask, 'cell_type_int'].value_counts()\n",
    "percs = counts / counts.sum()\n",
    "valids = percs.index[percs >= 0.01]"
   ]
  },
  {
   "cell_type": "code",
   "execution_count": null,
   "id": "670b150e-afa8-4756-a648-5e4a7f83e4c9",
   "metadata": {
    "tags": []
   },
   "outputs": [],
   "source": [
    "# get the plot, for normal conditions\n",
    "fig, ax = plt.subplots(figsize=[5, 4]); ax.grid(False)\n",
    "# retrieve the data\n",
    "data = pd.concat(diffs, axis=0).reset_index()\n",
    "mask = data['disease_state'].isin(['normal','Control','TL'])\n",
    "diffs_normal = data[mask].groupby('index').mean(numeric_only=True).iloc[:, 0]\n",
    "order = [x for x in diffs_normal.sort_values().index if x in valids]\n",
    "# retrieve the colors\n",
    "cmap = get_cmap('RdBu_r')\n",
    "colors = (diffs_normal.loc[order] + 1) / 2\n",
    "colors = [to_hex(cmap(x)) for x in colors]\n",
    "sns.barplot(x='index', y='diff', data=data[mask], order=order,\n",
    "            ci=68, errwidth=1.5, capsize=0.3, errcolor='k',\n",
    "            linewidth=1.5, edgecolor='k', saturation=1, palette=colors)\n",
    "ax.set(xlabel='Cell type', ylabel='GPR85 expression')\n",
    "ax.plot([-1, len(order)], [0]*2, color='k')\n",
    "ax.set_xlim(-1, len(order))\n",
    "ax.tick_params(axis='x', labelrotation=90)"
   ]
  },
  {
   "cell_type": "markdown",
   "id": "9c874882-bb30-4122-9a33-d8ca41706fc8",
   "metadata": {},
   "source": [
    "### validate celltypist predictions for whole brain"
   ]
  },
  {
   "cell_type": "code",
   "execution_count": null,
   "id": "f6e128e1-1e06-42f0-a3d4-8552696f4360",
   "metadata": {
    "tags": []
   },
   "outputs": [],
   "source": [
    "# read in the data\n",
    "DN = '/lustre/scratch126/cellgen/team205/dc20/proj_GPR85'\n",
    "adata = sc.read_h5ad(f'{DN}/out_data/h5ads/int.nrm.neural.h5ad')\n",
    "adata_ref = sc.read_h5ad(f'{DN}/out_data/h5ads/int.nrm.neural.w_celltypist.h5ad')"
   ]
  },
  {
   "cell_type": "code",
   "execution_count": null,
   "id": "11dac130-1f46-44f5-bc27-0dca4469020a",
   "metadata": {
    "tags": []
   },
   "outputs": [],
   "source": [
    "# compare the annotations\n",
    "df = pd.concat([adata.obs['cell_type_int'], adata_ref.obs['predicted_labels']], axis=1)\n",
    "df.columns = ['manual','automatic']\n",
    "df = df.value_counts().reset_index()\n",
    "df.columns = ['manual','automatic','counts']\n",
    "print(df.loc[df['manual'] == df['automatic'], 'counts'].sum() / df['counts'].sum())\n",
    "# flip the results\n",
    "df = df.pivot_table(index='manual', columns='automatic', values='counts', aggfunc=np.sum).fillna(0)\n",
    "df = (df.T / df.sum(1)).T\n",
    "g = sns.clustermap(df, cmap='viridis', vmin=0, vmax=1, row_cluster=False, col_cluster=False,\n",
    "                   xticklabels=1, yticklabels=1, figsize=[10, 10], cbar_pos=(.07, .77, .01, .08))\n",
    "g.ax_heatmap.grid(False)"
   ]
  },
  {
   "cell_type": "markdown",
   "id": "92b01ba9-dc6a-481d-b46d-5f647ab9d8f8",
   "metadata": {},
   "source": [
    "### examine for cross tissue cell type GPR85 bias"
   ]
  },
  {
   "cell_type": "code",
   "execution_count": null,
   "id": "63406a3e-9431-41ad-8e5d-8e47a4ee136d",
   "metadata": {
    "tags": []
   },
   "outputs": [],
   "source": [
    "from tqdm import tqdm\n",
    "# prepare the data\n",
    "adata.obs['tissue_simple'] = adata.obs['tissue'].str.split(':', expand=True).iloc[:, 0].str.lower()\n",
    "adata.obs['tag'] = adata.obs[['tissue_simple','cell_type_int']].astype(str).agg(':'.join, axis=1)\n",
    "# examine per donor as per before\n",
    "adata.obs['donor_study'] = adata.obs[['donor','study']].agg(':'.join, axis=1)\n",
    "diffs = []\n",
    "for donor in tqdm(adata.obs['donor_study'].unique()):\n",
    "    mask = adata.obs['donor_study'] == donor\n",
    "    counts_high = adata.obs.loc[(adata.obs['GPR85_binary'] == 'High')&mask, 'tag'].value_counts()\n",
    "    counts_low = adata.obs.loc[(adata.obs['GPR85_binary'] == 'Negative')&mask, 'tag'].value_counts()\n",
    "    diff = counts_high - counts_low\n",
    "    diff = diff / adata.obs.loc[mask, 'tag'].value_counts()\n",
    "    diff = pd.DataFrame(diff)\n",
    "    diff.columns = ['diff']\n",
    "    diff['donor_study'] = donor\n",
    "    diff['disease_state'] = adata.obs.loc[mask, 'disease_state'].unique()[0]\n",
    "    assert len(adata.obs.loc[mask, 'disease_state'].unique()) == 1\n",
    "    diffs.append(diff)\n",
    "data = pd.concat(diffs, axis=0).reset_index()\n",
    "data[['tissue','cell type']] = data['index'].str.split(':', expand=True)\n",
    "mask = adata.obs['disease_state'].isin(['normal','Control','TL'])\n",
    "diffs = data[data['disease_state'].isin(['normal','Control','TL'])].pivot_table(index='tissue', columns='cell type', values='diff')\n",
    "diffs = diffs.loc[diffs.index.astype(str) != 'nan'].T\n",
    "diffs = diffs.loc[diffs.index.astype(str) != 'nan'].T"
   ]
  },
  {
   "cell_type": "code",
   "execution_count": null,
   "id": "95473837-947c-4b34-96a3-48d70ec32ab2",
   "metadata": {
    "tags": []
   },
   "outputs": [],
   "source": [
    "# create plot\n",
    "diffs_fillna = diffs.fillna(0)\n",
    "g = sns.clustermap(diffs_fillna, vmin=-1, vmax=1, cmap='RdBu_r', method='ward',\n",
    "                   figsize=[9*1.15, 12*1.15], xticklabels=1, yticklabels=1,\n",
    "                   dendrogram_ratio=(.1, .07), cbar_pos=(0, 1, .01, .04), mask=diffs.isna())\n",
    "g.ax_heatmap.grid(False); g.ax_heatmap.set_facecolor('lightgray')"
   ]
  },
  {
   "cell_type": "code",
   "execution_count": null,
   "id": "3b96cbb2-5419-402d-b790-04b09d37a8a9",
   "metadata": {
    "tags": []
   },
   "outputs": [],
   "source": [
    "# retrieve the data for statistical plots\n",
    "mask = (~adata.obs['cell_type_int'].isin(['endothelial','VLMC/VSMC','fibroblast']))&(adata.obs['disease_state'].isin(['normal','Control','TL']))\n",
    "percs = adata.obs.loc[mask, 'tissue_simple'].value_counts() / sum(mask)\n",
    "valids = percs.index[percs >= 0.01]\n",
    "mask = (data['cell type'] == 'glutamatergic neuron')&(data['disease_state'].isin(['normal','Control','TL']))\n",
    "order = data[mask].groupby('tissue').mean(numeric_only=True)['diff'].sort_values().index\n",
    "order = [x for x in order if x in valids]"
   ]
  },
  {
   "cell_type": "code",
   "execution_count": null,
   "id": "c5384e27-d1c4-4b36-b3bb-916efb3e0914",
   "metadata": {
    "tags": []
   },
   "outputs": [],
   "source": [
    "from matplotlib.cm import get_cmap\n",
    "from matplotlib.colors import to_hex\n",
    "# get the plot, for normal conditions\n",
    "fig, ax = plt.subplots(figsize=[6, 4]); ax.grid(False)\n",
    "cmap = get_cmap('RdBu_r')\n",
    "diffs_normal = data[mask].groupby('tissue').mean(numeric_only=True)['diff']\n",
    "colors = (diffs_normal.loc[order] + 1) / 2\n",
    "colors = [to_hex(cmap(x)) for x in colors]\n",
    "sns.barplot(x='tissue', y='diff', data=data[mask], order=order,\n",
    "            ci=68, errwidth=1.5, capsize=0.3, errcolor='k',\n",
    "            linewidth=1.5, edgecolor='k', saturation=1, palette=colors)\n",
    "ax.set(xlabel='Cell type', ylabel='GPR85 expression')\n",
    "ax.set_xlim(-1, len(order))\n",
    "ax.tick_params(axis='x', labelrotation=90)"
   ]
  },
  {
   "cell_type": "markdown",
   "id": "5e7f6225-ca52-4d6b-8bd9-60b5708192e7",
   "metadata": {},
   "source": [
    "### subset and examine hippocampal related tissues"
   ]
  },
  {
   "cell_type": "code",
   "execution_count": null,
   "id": "75a19b4a-8a77-4ca6-80a9-86af86e24f68",
   "metadata": {
    "tags": []
   },
   "outputs": [],
   "source": [
    "# read in the data\n",
    "DN = '/lustre/scratch126/cellgen/team205/dc20/proj_GPR85'\n",
    "adata = sc.read_h5ad(f'{DN}/out_data/h5ads/int.nrm.neural.h5ad')\n",
    "adata.obs['tissue_simple'] = adata.obs['tissue'].str.split(':', expand=True).iloc[:, 0].str.lower()\n",
    "# subset for relevant cell type\n",
    "adata = adata[adata.obs['tissue_simple'].isin(['hippocampal formation','hippocampus'])].copy()\n",
    "print(adata.obs['tissue_simple'].unique())\n",
    "adata"
   ]
  },
  {
   "cell_type": "code",
   "execution_count": null,
   "id": "0048f7e6-1091-4ad5-b717-f08aeb2dab97",
   "metadata": {
    "tags": []
   },
   "outputs": [],
   "source": [
    "# find highly variable genes\n",
    "adata_ = adata[adata.obs['suspension_type'] == 'cell'].copy()\n",
    "sc.pp.highly_variable_genes(adata_)\n",
    "hvgs_cells = adata_.var.index[adata_.var['highly_variable']]\n",
    "adata_ = adata[adata.obs['suspension_type'] == 'nuclei'].copy()\n",
    "sc.pp.highly_variable_genes(adata_)\n",
    "hvgs_nuclei = adata_.var.index[adata_.var['highly_variable']]\n",
    "hvgs = hvgs_cells.union(hvgs_nuclei)\n",
    "adata.var['highly_variable'] = adata.var.index.isin(hvgs)\n",
    "print(adata.var['highly_variable'].sum())"
   ]
  },
  {
   "cell_type": "code",
   "execution_count": null,
   "id": "8311e041-14c1-4036-a769-e61926d808f9",
   "metadata": {
    "tags": []
   },
   "outputs": [],
   "source": [
    "# use scVI to compute dimension reduction\n",
    "import scvi\n",
    "# derive a batch agg variable to account for donor differences due to issues in large-scale integration without it\n",
    "adata.obs['batch_agg'] = adata.obs[['study','sequencing_kit']].astype(str).agg(':'.join, axis=1)\n",
    "# subset for highly variable genes\n",
    "adata_scvi = adata[:, adata.var['highly_variable']].copy()\n",
    "del adata_scvi.raw\n",
    "# setup the parameters\n",
    "params = {\n",
    "    'encode_covariates': True,\n",
    "    'dropout_rate': 0.2,\n",
    "    'n_layers': 2,\n",
    "    'n_latent': 50,\n",
    "    'dispersion': 'gene-batch'\n",
    "}\n",
    "# create the actual model\n",
    "scvi.model.SCVI.setup_anndata(adata_scvi, batch_key='suspension_type', categorical_covariate_keys=['batch_agg'],\n",
    "                              layer='raw_counts', continuous_covariate_keys=['total_counts','perc_mito','perc_ribo'])\n",
    "vae = scvi.model.SCVI(adata_scvi, **params)\n",
    "# train the model\n",
    "vae.train(early_stopping=True, accelerator='gpu', max_epochs=200)\n",
    "adata.obsm['X_scvi'] = vae.get_latent_representation()\n",
    "adata.write(f'{DN}/out_data/h5ads/int.nrm.neural_hippocampal.h5ad')"
   ]
  },
  {
   "cell_type": "code",
   "execution_count": null,
   "id": "219dfc04-3c70-454d-8ef1-40338b6f5d09",
   "metadata": {
    "tags": []
   },
   "outputs": [],
   "source": [
    "# plot the training and validation loss\n",
    "for loss in ['train_loss_epoch','validation_loss']:\n",
    "    fig, ax = plt.subplots()\n",
    "    ax.grid(False)\n",
    "    ax.plot(vae.history_[loss], label=loss)\n",
    "    ax.set(xlabel='Epoch', ylabel='Loss')\n",
    "    ax.legend(frameon=False)"
   ]
  },
  {
   "cell_type": "code",
   "execution_count": null,
   "id": "7ce40c02-901d-4be4-b132-5247d70acb3f",
   "metadata": {
    "tags": []
   },
   "outputs": [],
   "source": [
    "# compute knn, umap, and leiden\n",
    "print('computing neighbors...')\n",
    "sc.pp.neighbors(adata, random_state=0, use_rep='X_scvi')\n",
    "print('computing umap...')\n",
    "sc.tl.umap(adata, random_state=0)\n",
    "print('computing leiden...')\n",
    "sc.tl.leiden(adata, random_state=0, key_added='leiden_scvi')\n",
    "adata.write(f'{DN}/out_data/h5ads/int.nrm.neural_hippocampal.h5ad')"
   ]
  },
  {
   "cell_type": "markdown",
   "id": "1689d8e9-61cd-43eb-acec-e9341318223e",
   "metadata": {},
   "source": [
    "### examine hippocampal expression of ACh receptors"
   ]
  },
  {
   "cell_type": "code",
   "execution_count": null,
   "id": "ab71cb76-a7e9-42d0-ad59-f35eb2c558cd",
   "metadata": {
    "tags": []
   },
   "outputs": [],
   "source": [
    "# show dot plot expression\n",
    "genes = adata.var.index[adata.var.index.str.startswith('CHRM') | adata.var.index.str.startswith('CHRN')].tolist() + ['GPR85']\n",
    "sc.pl.dotplot(adata, groupby='cell_type_int', var_names=genes, use_raw=False)"
   ]
  },
  {
   "cell_type": "markdown",
   "id": "913af18e-0394-478c-a878-3aa3814c8094",
   "metadata": {},
   "source": [
    "### examine GPR85 bias within cells of the hippocampal formation"
   ]
  },
  {
   "cell_type": "code",
   "execution_count": null,
   "id": "883b5f66-8e8f-40b9-b42d-227c94bd69d1",
   "metadata": {
    "tags": []
   },
   "outputs": [],
   "source": [
    "from tqdm import tqdm\n",
    "# attempt to examine this on a per donor scale\n",
    "adata.obs['donor_study'] = adata.obs[['donor','study']].agg(':'.join, axis=1)\n",
    "diffs = []\n",
    "for donor in tqdm(adata.obs['donor_study'].unique()):\n",
    "    mask = adata.obs['donor_study'] == donor\n",
    "    counts_high = adata.obs.loc[(adata.obs['GPR85_binary'] == 'High')&mask, 'cell_type_int'].value_counts()\n",
    "    counts_low = adata.obs.loc[(adata.obs['GPR85_binary'] == 'Negative')&mask, 'cell_type_int'].value_counts()\n",
    "    diff = counts_high - counts_low\n",
    "    diff = diff / adata.obs.loc[mask, 'cell_type_int'].value_counts()\n",
    "    diff = pd.DataFrame(diff)\n",
    "    diff.columns = ['diff']\n",
    "    diff['donor_study'] = donor\n",
    "    diff['disease_state'] = adata.obs.loc[mask, 'disease_state'].unique()[0]\n",
    "    assert len(adata.obs.loc[mask, 'disease_state'].unique()) == 1\n",
    "    diffs.append(diff)"
   ]
  },
  {
   "cell_type": "code",
   "execution_count": null,
   "id": "6fca2a09-fcec-4305-9ae3-b48075a59c5b",
   "metadata": {
    "tags": []
   },
   "outputs": [],
   "source": [
    "# get the plot, for normal conditions\n",
    "fig, ax = plt.subplots(figsize=[6, 4]); ax.grid(False)\n",
    "cmap = get_cmap('RdBu_r')\n",
    "colors = (diffs_normal.loc[order] + 1) / 2\n",
    "colors = [to_hex(cmap(x)) for x in colors]\n",
    "sns.barplot(x='index', y='diff', data=data[mask], order=order,\n",
    "            ci=68, errwidth=1.5, capsize=0.3, errcolor='k',\n",
    "            linewidth=1.5, edgecolor='k', saturation=1, palette=colors)\n",
    "ax.set(xlabel='Cell type', ylabel='GPR85 expression')\n",
    "ax.set_xlim(-1, len(order))\n",
    "ax.tick_params(axis='x', labelrotation=90)"
   ]
  },
  {
   "cell_type": "markdown",
   "id": "e4fb6ca1-1e47-40d8-9a84-2de4bac04650",
   "metadata": {},
   "source": [
    "### subset for microglia populations"
   ]
  },
  {
   "cell_type": "code",
   "execution_count": null,
   "id": "76c494a0-3b39-4485-af36-2d90f38c35f5",
   "metadata": {
    "tags": []
   },
   "outputs": [],
   "source": [
    "# read in the data\n",
    "DN = '/lustre/scratch126/cellgen/team205/dc20/proj_GPR85'\n",
    "adata = sc.read_h5ad(f'{DN}/out_data/h5ads/int.nrm.neural.h5ad')\n",
    "# subset for relevant cell type\n",
    "adata = adata[adata.obs['cell_type_int'].isin(['microglia'])].copy()\n",
    "adata"
   ]
  },
  {
   "cell_type": "code",
   "execution_count": null,
   "id": "da75c05d-f61e-4121-955f-a3bb6b0386ac",
   "metadata": {
    "tags": []
   },
   "outputs": [],
   "source": [
    "# find highly variable genes\n",
    "adata_ = adata[adata.obs['suspension_type'] == 'cell'].copy()\n",
    "sc.pp.highly_variable_genes(adata_)\n",
    "hvgs_cells = adata_.var.index[adata_.var['highly_variable']]\n",
    "adata_ = adata[adata.obs['suspension_type'] == 'nuclei'].copy()\n",
    "sc.pp.highly_variable_genes(adata_)\n",
    "hvgs_nuclei = adata_.var.index[adata_.var['highly_variable']]\n",
    "hvgs = hvgs_cells.union(hvgs_nuclei)\n",
    "adata.var['highly_variable'] = adata.var.index.isin(hvgs)\n",
    "print(adata.var['highly_variable'].sum())"
   ]
  },
  {
   "cell_type": "code",
   "execution_count": null,
   "id": "7c86598c-7304-425f-af1d-a0013353934b",
   "metadata": {
    "tags": []
   },
   "outputs": [],
   "source": [
    "# use scVI to compute dimension reduction\n",
    "import scvi\n",
    "# derive a batch agg variable to account for donor differences due to issues in large-scale integration without it\n",
    "adata.obs['batch_agg'] = adata.obs[['study','sequencing_kit']].astype(str).agg(':'.join, axis=1)\n",
    "# subset for highly variable genes\n",
    "adata_scvi = adata[:, adata.var['highly_variable']].copy()\n",
    "del adata_scvi.raw\n",
    "# setup the parameters\n",
    "params = {\n",
    "    'encode_covariates': True,\n",
    "    'dropout_rate': 0.2,\n",
    "    'n_layers': 2,\n",
    "    'n_latent': 50,\n",
    "    'dispersion': 'gene-batch'\n",
    "}\n",
    "# create the actual model\n",
    "scvi.model.SCVI.setup_anndata(adata_scvi, batch_key='suspension_type', categorical_covariate_keys=['batch_agg'],\n",
    "                              layer='raw_counts', continuous_covariate_keys=['total_counts','perc_mito','perc_ribo'])\n",
    "vae = scvi.model.SCVI(adata_scvi, **params)\n",
    "# train the model\n",
    "vae.train(early_stopping=True, accelerator='gpu', max_epochs=200)\n",
    "adata.obsm['X_scvi'] = vae.get_latent_representation()\n",
    "adata.write(f'{DN}/out_data/h5ads/int.nrm.neural_microglia.h5ad')"
   ]
  },
  {
   "cell_type": "code",
   "execution_count": null,
   "id": "cdd6ac14-c5a0-43a8-bc82-cc8c7b572a89",
   "metadata": {
    "tags": []
   },
   "outputs": [],
   "source": [
    "# plot the training and validation loss\n",
    "for loss in ['train_loss_epoch','validation_loss']:\n",
    "    fig, ax = plt.subplots()\n",
    "    ax.grid(False)\n",
    "    ax.plot(vae.history_[loss], label=loss)\n",
    "    ax.set(xlabel='Epoch', ylabel='Loss')\n",
    "    ax.legend(frameon=False)"
   ]
  },
  {
   "cell_type": "code",
   "execution_count": null,
   "id": "e04e157b-c2ef-4b02-a6cc-3519fd107136",
   "metadata": {
    "tags": []
   },
   "outputs": [],
   "source": [
    "# compute knn, umap, and leiden\n",
    "print('computing neighbors...')\n",
    "sc.pp.neighbors(adata, random_state=0, use_rep='X_scvi')\n",
    "print('computing umap...')\n",
    "sc.tl.umap(adata, random_state=0)\n",
    "print('computing leiden...')\n",
    "sc.tl.leiden(adata, random_state=0, key_added='leiden_scvi')\n",
    "adata.write(f'{DN}/out_data/h5ads/int.nrm.neural_microglia.h5ad')"
   ]
  },
  {
   "cell_type": "markdown",
   "id": "44131d15-be3c-4b43-9868-a26101c31d54",
   "metadata": {},
   "source": [
    "### examine for GPR85 correlated genes in microglia"
   ]
  },
  {
   "cell_type": "code",
   "execution_count": null,
   "id": "24005be4-068b-4b35-9e5f-186b95334bff",
   "metadata": {
    "scrolled": true,
    "tags": []
   },
   "outputs": [],
   "source": [
    "# plot the relevant data\n",
    "DN = '/lustre/scratch126/cellgen/team205/dc20/proj_GPR85'\n",
    "adata = sc.read_h5ad(f'{DN}/out_data/h5ads/int.nrm.neural_microglia.h5ad')"
   ]
  },
  {
   "cell_type": "code",
   "execution_count": null,
   "id": "759bf1e3-0e62-4a1c-81dc-eaaea4b8db48",
   "metadata": {
    "tags": []
   },
   "outputs": [],
   "source": [
    "from tqdm import tqdm\n",
    "import scipy.stats as ss\n",
    "# look at the correlative profiles\n",
    "df = sc.get.obs_df(adata, keys=adata.var.index.tolist())\n",
    "df = df.loc[:, df.nunique(0) > 1]\n",
    "df_corr = pd.DataFrame(columns=['gene','r','p'])\n",
    "for x in tqdm(df.columns):\n",
    "    if x == 'GPR85': continue\n",
    "    r, p = ss.spearmanr(df['GPR85'], df[x])\n",
    "    df_corr.loc[df_corr.shape[0]] = x, r, p"
   ]
  },
  {
   "cell_type": "code",
   "execution_count": null,
   "id": "0efd2456-7c07-4e0e-b954-9b876f3528c2",
   "metadata": {
    "tags": []
   },
   "outputs": [],
   "source": [
    "# define mask\n",
    "mask = df_corr['gene'].str.startswith('MT-') | df_corr['gene'].str.startswith('MRPS')\n",
    "mask = mask | df_corr['gene'].str.startswith('RPS') | df_corr['gene'].str.startswith('MRPL')\n",
    "mask = mask | df_corr['gene'].str.startswith('RPL')\n",
    "for x in df_corr[~mask].sort_values('r')['gene'][::-1][:100]:\n",
    "    print(x)"
   ]
  },
  {
   "cell_type": "code",
   "execution_count": null,
   "id": "0f2871b5-e0ae-4457-8169-7fa4a5e54525",
   "metadata": {
    "tags": []
   },
   "outputs": [],
   "source": [
    "# define mask\n",
    "mask = df_corr['gene'].str.startswith('MT-') | df_corr['gene'].str.startswith('MRPS')\n",
    "mask = mask | df_corr['gene'].str.startswith('RPS') | df_corr['gene'].str.startswith('MRPL')\n",
    "mask = mask | df_corr['gene'].str.startswith('RPL')\n",
    "for x in df_corr[~mask].sort_values('r')['gene'][:100]:\n",
    "    print(x)"
   ]
  },
  {
   "cell_type": "markdown",
   "id": "158faac9-cbfb-4f60-ad7c-54db0a3ed358",
   "metadata": {},
   "source": [
    "### examine for ACh receptor expression in microglia"
   ]
  },
  {
   "cell_type": "code",
   "execution_count": null,
   "id": "ba6da788-81e7-4a45-a6d1-4155120debc5",
   "metadata": {
    "tags": []
   },
   "outputs": [],
   "source": [
    "# show dot plot expression\n",
    "genes = adata.var.index[adata.var.index.str.startswith('CHRM') | adata.var.index.str.startswith('CHRN')].tolist() + ['GPR85']\n",
    "sc.pl.dotplot(adata, groupby='cell_type_int', var_names=genes, use_raw=False)"
   ]
  },
  {
   "cell_type": "markdown",
   "id": "9df8041e-9b89-4e2c-9bc6-c2bb0082c9e9",
   "metadata": {},
   "source": [
    "### subset for vasculature related populations and create new dimension reduction"
   ]
  },
  {
   "cell_type": "code",
   "execution_count": null,
   "id": "569ecf0f-1fa3-442b-b536-1dd368fd5150",
   "metadata": {
    "tags": []
   },
   "outputs": [],
   "source": [
    "# read in the data\n",
    "DN = '/lustre/scratch126/cellgen/team205/dc20/proj_GPR85'\n",
    "adata = sc.read_h5ad(f'{DN}/out_data/h5ads/int.nrm.neural.h5ad')\n",
    "# subset for relevant cell type\n",
    "adata = adata[adata.obs['cell_type_int'].isin(['fibroblast','VLMC/VSMC','endothelial'])].copy()\n",
    "adata"
   ]
  },
  {
   "cell_type": "code",
   "execution_count": null,
   "id": "12caa14e-7ba5-48d7-8b22-157b8372dc26",
   "metadata": {
    "tags": []
   },
   "outputs": [],
   "source": [
    "# remove the fetal periph samples\n",
    "adata.obs['disease_simple'] = adata.obs['disease_state'].astype(str)\n",
    "kvs = {'Alzheimer disease':'AD','normal':'Control','acute myocardial infarction':'Control','heart failure':'Control', 'TL':'Control'}\n",
    "for k, v in kvs.items():\n",
    "    adata.obs['disease_simple'] = adata.obs['disease_simple'].str.replace(k, v)\n",
    "adata.obs['disease_simple'] = adata.obs['disease_simple'].str.capitalize()\n",
    "adata.obs['disease_simple'] = adata.obs['disease_simple'].str.replace('Ad','AD')\n",
    "# multiple rounds were used to verify proper renaming\n",
    "adata.obs['disease_simple'] = adata.obs['disease_simple'].astype(str)\n",
    "kvs = {'Control':'Control (adult)', 'Fetalperiph':'Control (fetal periph.)',\n",
    "       'Fetalcns':'Control (fetal CNS)','Met':'Cancer (lung metastasis)',\n",
    "       'Avm':'Atrioventricular malformation','AD':'Alzheimer\\'s disease',\n",
    "       'Gbm':'Cancer (GBM)','Lgg':'Cancer (lower-grade glioma)','Men':'Cancer (meningioma)',}\n",
    "for k, v in kvs.items():\n",
    "    adata.obs['disease_simple'] = adata.obs['disease_simple'].str.replace(k, v)\n",
    "# actual removal because these are not CNS\n",
    "adata = adata[adata.obs['disease_simple'] != 'Control (fetal periph.)'].copy()"
   ]
  },
  {
   "cell_type": "code",
   "execution_count": null,
   "id": "b1c6ff98-40a2-4d4f-ad28-bbd106ef986e",
   "metadata": {
    "tags": []
   },
   "outputs": [],
   "source": [
    "# find highly variable genes\n",
    "adata_ = adata[adata.obs['suspension_type'] == 'cell'].copy()\n",
    "sc.pp.highly_variable_genes(adata_)\n",
    "hvgs_cells = adata_.var.index[adata_.var['highly_variable']]\n",
    "adata_ = adata[adata.obs['suspension_type'] == 'nuclei'].copy()\n",
    "sc.pp.highly_variable_genes(adata_)\n",
    "hvgs_nuclei = adata_.var.index[adata_.var['highly_variable']]\n",
    "hvgs = hvgs_cells.union(hvgs_nuclei)\n",
    "adata.var['highly_variable'] = adata.var.index.isin(hvgs)\n",
    "print(adata.var['highly_variable'].sum())"
   ]
  },
  {
   "cell_type": "code",
   "execution_count": null,
   "id": "8997fbeb-923c-4858-965b-d7100deacec9",
   "metadata": {
    "tags": []
   },
   "outputs": [],
   "source": [
    "# use scVI to compute dimension reduction\n",
    "import scvi\n",
    "# derive a batch agg variable to account for donor differences due to issues in large-scale integration without it\n",
    "adata.obs['batch_agg'] = adata.obs[['study','sequencing_kit']].astype(str).agg(':'.join, axis=1)\n",
    "# subset for highly variable genes\n",
    "adata_scvi = adata[:, adata.var['highly_variable']].copy()\n",
    "del adata_scvi.raw\n",
    "# setup the parameters\n",
    "params = {\n",
    "    'encode_covariates': True,\n",
    "    'dropout_rate': 0.2,\n",
    "    'n_layers': 2,\n",
    "    'n_latent': 50,\n",
    "    'dispersion': 'gene-batch'\n",
    "}\n",
    "# create the actual model\n",
    "scvi.model.SCVI.setup_anndata(adata_scvi, batch_key='suspension_type', categorical_covariate_keys=['batch_agg'],\n",
    "                              layer='raw_counts', continuous_covariate_keys=['total_counts','perc_mito','perc_ribo'])\n",
    "vae = scvi.model.SCVI(adata_scvi, **params)\n",
    "# train the model\n",
    "vae.train(early_stopping=True, accelerator='gpu', max_epochs=200)\n",
    "adata.obsm['X_scvi'] = vae.get_latent_representation()\n",
    "adata.write(f'{DN}/out_data/h5ads/int.nrm.neural_endothelial.h5ad')"
   ]
  },
  {
   "cell_type": "code",
   "execution_count": null,
   "id": "9cbfaf63-66bc-4ef6-8331-967dd07ba696",
   "metadata": {
    "tags": []
   },
   "outputs": [],
   "source": [
    "# plot the training and validation loss\n",
    "for loss in ['train_loss_epoch','validation_loss']:\n",
    "    fig, ax = plt.subplots()\n",
    "    ax.grid(False)\n",
    "    ax.plot(vae.history_[loss], label=loss)\n",
    "    ax.set(xlabel='Epoch', ylabel='Loss')\n",
    "    ax.legend(frameon=False)"
   ]
  },
  {
   "cell_type": "code",
   "execution_count": null,
   "id": "253e118b-2178-4df1-8e7a-a859aedb4466",
   "metadata": {
    "tags": []
   },
   "outputs": [],
   "source": [
    "# compute knn, umap, and leiden\n",
    "print('computing neighbors...')\n",
    "sc.pp.neighbors(adata, random_state=0, use_rep='X_scvi')\n",
    "print('computing umap...')\n",
    "sc.tl.umap(adata, random_state=0)\n",
    "print('computing leiden...')\n",
    "sc.tl.leiden(adata, random_state=0, key_added='leiden_scvi')\n",
    "adata.write(f'{DN}/out_data/h5ads/int.nrm.neural_endothelial.h5ad')"
   ]
  },
  {
   "cell_type": "markdown",
   "id": "cabbf53d-476b-4c32-996b-c8d9c85c444b",
   "metadata": {},
   "source": [
    "### remove outliers in vasculature embedding"
   ]
  },
  {
   "cell_type": "code",
   "execution_count": null,
   "id": "cdec5ab0-0f98-41c5-a985-72a2d6c1c779",
   "metadata": {
    "tags": []
   },
   "outputs": [],
   "source": [
    "# read in the data\n",
    "adata = sc.read_h5ad(f'{DN}/out_data/h5ads/int.nrm.neural_endothelial.h5ad')\n",
    "# identify the outlier population needs to be removed\n",
    "sc.pl.umap(adata, color=['leiden_scvi'])\n",
    "# remove the outlier\n",
    "adata = adata[adata.obs['leiden_scvi'] != '27'].copy()"
   ]
  },
  {
   "cell_type": "markdown",
   "id": "c863d606-c3e2-44ab-82a3-edb4520943d3",
   "metadata": {},
   "source": [
    "### compute new clean dimension reduction for vasculature populations"
   ]
  },
  {
   "cell_type": "code",
   "execution_count": null,
   "id": "f307ccfb-29a3-4c90-8fa3-6343edcb76cf",
   "metadata": {
    "tags": []
   },
   "outputs": [],
   "source": [
    "# find highly variable genes\n",
    "adata_ = adata[adata.obs['suspension_type'] == 'cell'].copy()\n",
    "sc.pp.highly_variable_genes(adata_)\n",
    "hvgs_cells = adata_.var.index[adata_.var['highly_variable']]\n",
    "adata_ = adata[adata.obs['suspension_type'] == 'nuclei'].copy()\n",
    "sc.pp.highly_variable_genes(adata_)\n",
    "hvgs_nuclei = adata_.var.index[adata_.var['highly_variable']]\n",
    "hvgs = hvgs_cells.union(hvgs_nuclei)\n",
    "adata.var['highly_variable'] = adata.var.index.isin(hvgs)\n",
    "print(adata.var['highly_variable'].sum())"
   ]
  },
  {
   "cell_type": "code",
   "execution_count": null,
   "id": "a6c610de-0687-48cc-a7f5-ea9c9618f9ef",
   "metadata": {
    "tags": []
   },
   "outputs": [],
   "source": [
    "# use scVI to compute dimension reduction\n",
    "import scvi\n",
    "# derive a batch agg variable to account for donor differences due to issues in large-scale integration without it\n",
    "adata.obs['batch_agg'] = adata.obs[['study','sequencing_kit']].astype(str).agg(':'.join, axis=1)\n",
    "# subset for highly variable genes\n",
    "adata_scvi = adata[:, adata.var['highly_variable']].copy()\n",
    "del adata_scvi.raw\n",
    "# setup the parameters\n",
    "params = {\n",
    "    'encode_covariates': True,\n",
    "    'dropout_rate': 0.2,\n",
    "    'n_layers': 2,\n",
    "    'n_latent': 50,\n",
    "    'dispersion': 'gene-batch'\n",
    "}\n",
    "# create the actual model\n",
    "scvi.model.SCVI.setup_anndata(adata_scvi, batch_key='suspension_type', categorical_covariate_keys=['batch_agg'],\n",
    "                              layer='raw_counts', continuous_covariate_keys=['total_counts','perc_mito','perc_ribo'])\n",
    "vae = scvi.model.SCVI(adata_scvi, **params)\n",
    "# train the model\n",
    "vae.train(early_stopping=True, accelerator='gpu', max_epochs=200)\n",
    "adata.obsm['X_scvi'] = vae.get_latent_representation()\n",
    "adata.write(f'{DN}/out_data/h5ads/int.nrm.neural_endothelial.h5ad')"
   ]
  },
  {
   "cell_type": "code",
   "execution_count": null,
   "id": "002e1412-be76-4a8d-b7ff-039878eb7fb6",
   "metadata": {
    "tags": []
   },
   "outputs": [],
   "source": [
    "# plot the training and validation loss\n",
    "for loss in ['train_loss_epoch','validation_loss']:\n",
    "    fig, ax = plt.subplots()\n",
    "    ax.grid(False)\n",
    "    ax.plot(vae.history_[loss], label=loss)\n",
    "    ax.set(xlabel='Epoch', ylabel='Loss')\n",
    "    ax.legend(frameon=False)"
   ]
  },
  {
   "cell_type": "code",
   "execution_count": null,
   "id": "b389af1d-9398-41cd-9c17-78de4cc4c147",
   "metadata": {
    "tags": []
   },
   "outputs": [],
   "source": [
    "# compute knn, umap, and leiden\n",
    "print('computing neighbors...')\n",
    "sc.pp.neighbors(adata, random_state=0, use_rep='X_scvi')\n",
    "print('computing umap...')\n",
    "sc.tl.umap(adata, random_state=0)\n",
    "print('computing leiden...')\n",
    "sc.tl.leiden(adata, random_state=0, key_added='leiden_scvi')\n",
    "adata.write(f'{DN}/out_data/h5ads/int.nrm.neural_endothelial.h5ad')"
   ]
  },
  {
   "cell_type": "markdown",
   "id": "923bf752-9353-4666-90ac-6ee4756a9beb",
   "metadata": {},
   "source": [
    "### identify differentially expressed genes between cell types of the whole brain"
   ]
  },
  {
   "cell_type": "code",
   "execution_count": null,
   "id": "20bd07a1-5b66-43ba-9da5-651f14fd662c",
   "metadata": {
    "tags": []
   },
   "outputs": [],
   "source": [
    "# read in the data\n",
    "DN = '/lustre/scratch126/cellgen/team205/dc20/proj_GPR85'\n",
    "adata = sc.read_h5ad(f'{DN}/out_data/h5ads/int.nrm.neural.h5ad')"
   ]
  },
  {
   "cell_type": "code",
   "execution_count": null,
   "id": "11fef159-814e-4f26-9e2a-c94473002d19",
   "metadata": {
    "tags": []
   },
   "outputs": [],
   "source": [
    "# compute unbiased differential genes\n",
    "mask = adata.var_names.str.startswith('MT-')\n",
    "mask = mask | adata.var_names.str.startswith('MRPS') | adata.var_names.str.startswith('MRPL')\n",
    "mask = mask | adata.var_names.str.startswith('RPS') | adata.var_names.str.startswith('RPL')\n",
    "adata_tmp = adata[:, ~mask].copy()\n",
    "sc.tl.rank_genes_groups(adata_tmp, method='wilcoxon', use_raw=False, n_genes=adata_tmp.shape[1], groupby='cell_type_int')\n",
    "sc.pl.rank_genes_groups(adata_tmp, n_genes=25, sharey=False)"
   ]
  },
  {
   "cell_type": "code",
   "execution_count": null,
   "id": "f2a6e767-0a1c-4cc6-bbe4-9a890f593f0b",
   "metadata": {
    "tags": []
   },
   "outputs": [],
   "source": [
    "# plot these unbiased differential genes and write them to a table\n",
    "names = pd.DataFrame(adata_tmp.uns['rank_genes_groups']['names'])\n",
    "scores = pd.DataFrame(adata_tmp.uns['rank_genes_groups']['scores'])\n",
    "pvals = pd.DataFrame(adata_tmp.uns['rank_genes_groups']['pvals'])\n",
    "fdrs = pd.DataFrame(adata_tmp.uns['rank_genes_groups']['pvals_adj'])\n",
    "# derive the plot first\n",
    "df_gex = sc.get.obs_df(adata, keys=list(set(names.iloc[:5].values.flatten()))+['cell_type_int'])\n",
    "df_gex = df_gex.groupby('cell_type_int').mean()\n",
    "df_gex -= df_gex.min(); df_gex /= df_gex.max()\n",
    "# look at the distribution\n",
    "g = sns.clustermap(df_gex, cmap='viridis', method='ward', dendrogram_ratio=(.05, .2), figsize=[16*1.5, 5*1.5],\n",
    "                   cbar_pos=(0, 1.05, .008, .12), xticklabels=1, yticklabels=1)\n",
    "g.ax_heatmap.grid(False); g.ax_cbar.grid(False)"
   ]
  },
  {
   "cell_type": "markdown",
   "id": "45e4966e-a9b5-4241-8dc6-2ca01f1e07cb",
   "metadata": {},
   "source": [
    "### harmonize subpopulations of the neurovasculature subset"
   ]
  },
  {
   "cell_type": "code",
   "execution_count": null,
   "id": "b3a7da32-c38e-4157-9a13-3aa450f181f9",
   "metadata": {
    "tags": []
   },
   "outputs": [],
   "source": [
    "# read in the data\n",
    "DN = '/lustre/scratch126/cellgen/team205/dc20/proj_GPR85'\n",
    "adata = sc.read_h5ad(f'{DN}/out_data/h5ads/int.nrm.neural_endothelial.h5ad')\n",
    "adata.obs['tissue_simple'] = adata.obs['tissue'].str.split(':', expand=True).iloc[:, 0].str.lower()\n",
    "# integrate the data\n",
    "adata.obs[['study','cell_type_fine']] = adata.obs[['study','cell_type_fine']].astype(str)"
   ]
  },
  {
   "cell_type": "code",
   "execution_count": null,
   "id": "0ef220ce-eec7-428d-82ee-ad62814b004e",
   "metadata": {
    "tags": []
   },
   "outputs": [],
   "source": [
    "import cellhint\n",
    "alignment = cellhint.harmonize(adata, 'study', 'cell_type_fine', use_rep='X_scvi',\n",
    "                               p_thres=1e-3, random_state=0,\n",
    "                               minimum_unique_percents=(0.75, 0.80, 0.85, 0.90, 0.95),\n",
    "                               minimum_divide_percents=(0.010, 0.025, 0.050, 0.075, 0.100),\n",
    "                               maximum_novel_percent=(0.50))\n",
    "# color on the cellhint annotation\n",
    "adata.obs['cellhint_reannotation'] = alignment.reannotation['reannotation']"
   ]
  },
  {
   "cell_type": "code",
   "execution_count": null,
   "id": "e01da71f-d0ca-48d1-a50b-c467a67e12b4",
   "metadata": {
    "tags": []
   },
   "outputs": [],
   "source": [
    "# resolve the mapping\n",
    "mapping = {'NONE = NONE = NONE = cerebral cortex endothelial cell ∈ cerebral cortex endothelial cell = endothelial cell of vascular tree = cerebral cortex endothelial cell ∈ endothelial cell = endothelial cell ∋ endothelial cell of artery = Veinous = NONE':'Capillary',\n",
    "'NONE = NONE = NONE = cerebral cortex endothelial cell ∈ cerebral cortex endothelial cell = endothelial cell of vascular tree = cerebral cortex endothelial cell ∈ endothelial cell = endothelial cell ∋ capillary endothelial cell = Capillary = Capillary':'Capillary',\n",
    "'NONE = NONE = NONE = NONE = vascular leptomeningeal cell = pericyte = vascular leptomeningeal cell = pericyte = pericyte = UNRESOLVED = NONE = NONE':'Pericyte',\n",
    "'NONE = NONE = NONE = NONE = NONE = NONE = NONE = vascular associated smooth muscle cell = fibroblast = NONE = P. Fibro = UNRESOLVED':'Fibroblast',\n",
    "'NONE = NONE = NONE = NONE = NONE = NONE = NONE = NONE = vascular associated smooth muscle cell = vascular associated smooth muscle cell = SMC = NONE':'VSMC',\n",
    "'UNRESOLVED = UNRESOLVED = UNRESOLVED = UNRESOLVED = UNRESOLVED = UNRESOLVED = UNRESOLVED = UNRESOLVED = UNRESOLVED = mural cell = Pericyte = UNRESOLVED':'Pericyte',\n",
    "'fibroblast = endothelial cell = brain vascular cell = blood vessel endothelial cell ∈ cerebral cortex endothelial cell = NONE = NONE ∈ endothelial cell = NONE = NONE = NONE = NONE':'Fibroblast',\n",
    "'NONE = NONE = NONE = NONE = NONE = NONE = NONE = NONE = NONE = NONE = Arterial = Artery':'Artery',\n",
    "'NONE = NONE = NONE = NONE = NONE = NONE = NONE = NONE = NONE = NONE = M. Fibro = NONE':'Fibroblast',\n",
    "'UNRESOLVED = UNRESOLVED = UNRESOLVED = UNRESOLVED = UNRESOLVED = UNRESOLVED = UNRESOLVED = UNRESOLVED = UNRESOLVED = UNRESOLVED = UNRESOLVED = Vein':'Vein',\n",
    "'NONE = NONE = NONE = NONE = NONE = NONE = NONE = NONE = NONE = NONE = NONE = Large artery':'Large artery',\n",
    "'NONE = NONE = NONE = NONE = NONE = NONE = NONE = NONE = NONE = NONE = NONE = Angiogenic capillary':'Angiogenic capillary',\n",
    "'NONE = NONE = NONE = NONE = NONE = NONE = NONE = NONE = NONE = NONE = NONE = Arteriole':'Arteriole',\n",
    "'NONE = NONE = NONE = NONE = NONE = NONE = NONE = NONE = NONE = NONE = NONE = Large vein':'Large vein',\n",
    "'NONE = NONE = NONE = NONE = NONE = NONE = NONE = NONE = NONE = NONE = NONE = Venule':'Venule',\n",
    "'UNRESOLVED = UNRESOLVED = UNRESOLVED = UNRESOLVED = UNRESOLVED = UNRESOLVED = UNRESOLVED = UNRESOLVED = UNRESOLVED = UNRESOLVED = UNRESOLVED = Proliferating cell':'Proliferating cell',\n",
    "'NONE = NONE = NONE = NONE = NONE = NONE = NONE = NONE = NONE = NONE = NONE = Proliferating Stem-to-EC':'Proliferating Stem-to-EC',\n",
    "'NONE = NONE = NONE = NONE = NONE = NONE = NONE = NONE = NONE = NONE = NONE = Stem-to-EC':'Stem-to-EC',\n",
    "'UNRESOLVED = UNRESOLVED = UNRESOLVED = UNRESOLVED = UNRESOLVED = UNRESOLVED = UNRESOLVED = UNRESOLVED = UNRESOLVED = UNRESOLVED = UNRESOLVED = EndoMT':'EndoMT',\n",
    "'NONE = NONE = NONE = NONE = NONE = NONE = NONE = NONE = NONE = NONE = NONE = Proliferating EndoMT':'Proliferating EndoMT'}\n",
    "adata.obs['cell_type_int_v2'] = adata.obs['cellhint_reannotation'].map(mapping).astype(str)"
   ]
  },
  {
   "cell_type": "markdown",
   "id": "10ca253c-9a49-400f-81c6-3fcbd33cf1f1",
   "metadata": {},
   "source": [
    "### annotate larger categories"
   ]
  },
  {
   "cell_type": "code",
   "execution_count": null,
   "id": "914bdda3-6507-4a8b-b2bd-83f043f7a107",
   "metadata": {
    "tags": []
   },
   "outputs": [],
   "source": [
    "# derive the categories\n",
    "adata.obs['cell_type_int_revised'] = 'Endothelial'\n",
    "adata.obs.loc[adata.obs['cell_type_int_v2'].isin(['Pericyte','VSMC','Fibroblast']), 'cell_type_int_revised'] = 'Mesenchymal'\n",
    "adata.obs.loc[adata.obs['cell_type_int_v2'].isin(['EndoMT','Proliferating EndoMT']), 'cell_type_int_revised'] = 'Endo-to-Mesen'\n",
    "adata.obs.loc[adata.obs['cell_type_int_v2'].isin(['Stem-to-EC','Proliferating Stem-to-EC']), 'cell_type_int_revised'] = 'Stem-to-Endo'"
   ]
  },
  {
   "cell_type": "code",
   "execution_count": null,
   "id": "0e374c80-f7b8-4c97-9861-819385317eaf",
   "metadata": {
    "tags": []
   },
   "outputs": [],
   "source": [
    "# plot the colors\n",
    "adata.uns['cell_type_int_revised_colors'] = ['#8da0cb', '#e78ac3', '#66c2a5','#fc8d62',]\n",
    "sc.pl.umap(adata, color=['cell_type_int_revised'])"
   ]
  },
  {
   "cell_type": "code",
   "execution_count": null,
   "id": "89a8d041-f7b0-484f-a8be-55dec195c4db",
   "metadata": {},
   "outputs": [],
   "source": [
    "# ^ renamed with coarse and fine suffixes in the public dataset"
   ]
  },
  {
   "cell_type": "markdown",
   "id": "db88af4a-e5be-4801-a2fe-00c40307e8ea",
   "metadata": {},
   "source": [
    "### examine the fine-grain annotations and verify cell type relationships via dendrogram"
   ]
  },
  {
   "cell_type": "code",
   "execution_count": null,
   "id": "adb83aac-d5ca-4015-bc3b-be8aa43335ae",
   "metadata": {
    "tags": []
   },
   "outputs": [],
   "source": [
    "# function for easier color editing\n",
    "def edit(a, b):\n",
    "    cats = adata.obs['cell_type_int_v2'].cat.categories.tolist()\n",
    "    idx1, idx2 = cats.index(a), cats.index(b)\n",
    "    col1, col2 = adata.uns['cell_type_int_v2_colors'][idx1], adata.uns['cell_type_int_v2_colors'][idx2]\n",
    "    adata.uns['cell_type_int_v2_colors'][idx1] = col2\n",
    "    adata.uns['cell_type_int_v2_colors'][idx2] = col1"
   ]
  },
  {
   "cell_type": "code",
   "execution_count": null,
   "id": "56774382-7a57-414e-b91d-be7ff9e1e7a3",
   "metadata": {
    "tags": []
   },
   "outputs": [],
   "source": [
    "# set the colors appropriately\n",
    "adata.uns['cell_type_int_v2_colors'] = ['xkcd:bright lilac', '#f7b6d2', '#ff9896', 'xkcd:pale lavender',\n",
    "                                        '#c49c94', '#c5b0d5', '#e377c2', '#1f77b4', 'tomato', 'tab:brown',\n",
    "                                        'tab:orange', '#aa40fc', '#ffbb78', 'tab:red', '#aec7e8', '#17becf']\n",
    "sc.pl.umap(adata, color=['cell_type_int_v2'], use_raw=False)\n",
    "# plot the dendrogram\n",
    "sc.tl.dendrogram(adata, use_rep='X_scvi', groupby='cell_type_int_v2')\n",
    "sc.pl.dendrogram(adata, groupby='cell_type_int_v2')"
   ]
  },
  {
   "cell_type": "markdown",
   "id": "f9c11817-bb06-49e9-9c9c-8a9978317d60",
   "metadata": {},
   "source": [
    "### examine ACh receptor expression in vasculature subpopulations"
   ]
  },
  {
   "cell_type": "code",
   "execution_count": null,
   "id": "fd22286c-5b82-42f3-98e3-fa08bfb046c0",
   "metadata": {},
   "outputs": [],
   "source": [
    "# show dot plot expression\n",
    "genes = adata.var.index[adata.var.index.str.startswith('CHRM') | adata.var.index.str.startswith('CHRN')].tolist() + ['GPR85']\n",
    "sc.pl.dotplot(adata, groupby='cell_type_int_v2', var_names=genes, use_raw=False)"
   ]
  },
  {
   "cell_type": "markdown",
   "id": "8f8bd4d3-0f56-47f9-a67c-e5dffed40f31",
   "metadata": {},
   "source": [
    "### identify genes and pathways correlated with GPR85 expression and PLVAP oppositional programs"
   ]
  },
  {
   "cell_type": "code",
   "execution_count": null,
   "id": "9acb0900-c954-487d-ac4b-1cfec2d73acb",
   "metadata": {
    "tags": []
   },
   "outputs": [],
   "source": [
    "import scipy.stats as ss\n",
    "from tqdm import tqdm\n",
    "# look at the correlative profiles\n",
    "mask = adata.obs['cell_type_int_revised'] == 'Endothelial'\n",
    "df = pd.DataFrame(adata[mask].X.toarray(), columns=adata.var.index, index=adata.obs.index[mask])\n",
    "df = df.loc[:, df.nunique(0) > 1]\n",
    "df_corr = pd.DataFrame(columns=['gene','r','p'])\n",
    "for x in tqdm(df.columns):\n",
    "    if x == 'GPR85': continue\n",
    "    r, p = ss.spearmanr(df['GPR85'], df[x])\n",
    "    df_corr.loc[df_corr.shape[0]] = x, r, p"
   ]
  },
  {
   "cell_type": "code",
   "execution_count": null,
   "id": "bd6b598c-5af8-442d-b88e-ab35b6171102",
   "metadata": {
    "tags": []
   },
   "outputs": [],
   "source": [
    "# impute the data\n",
    "adata_m = adata.copy()\n",
    "sc.external.pp.magic(adata_m, random_state=0)\n",
    "# look at the correlative profiles\n",
    "df_m = sc.get.obs_df(adata_m[mask], keys=adata_m.var.index.tolist())"
   ]
  },
  {
   "cell_type": "code",
   "execution_count": null,
   "id": "a3275254-9dc9-4570-aadd-817bf7979776",
   "metadata": {
    "tags": []
   },
   "outputs": [],
   "source": [
    "# find explanations that are sweet\n",
    "fig, ax = plt.subplots(); ax.grid(False)\n",
    "sc.pl.scatter(adata_m[mask], x='GPR85', y='PLVAP', color='cell_type_int_v2', use_raw=False, size=10, ax=ax, show=False)\n",
    "print(ss.spearmanr(df_m['PLVAP'], df_m['GPR85']))\n",
    "print(ss.spearmanr(df['PLVAP'], df['GPR85']))"
   ]
  },
  {
   "cell_type": "markdown",
   "id": "db882e1f-2e8e-46c5-82dd-d2b9e4c2ab0f",
   "metadata": {},
   "source": [
    "### calculate embedding densities for GPR85 vs. PLVAP scatterplots"
   ]
  },
  {
   "cell_type": "code",
   "execution_count": null,
   "id": "8eecee21-7de6-424f-be7c-60eb48e10ef1",
   "metadata": {
    "tags": []
   },
   "outputs": [],
   "source": [
    "# capillary\n",
    "all_X = df_m[['GPR85','PLVAP']].T\n",
    "mask = adata_m.obs['cell_type_int_v2'] == 'Capillary'\n",
    "input_X = df_m.loc[mask, ['GPR85','PLVAP']].T\n",
    "z_cap = ss.gaussian_kde(input_X, bw_method=0.5)(all_X)\n",
    "# angiogenic capillary\n",
    "mask = adata_m.obs['cell_type_int_v2'] == 'Angiogenic capillary'\n",
    "input_X = df_m.loc[mask, ['GPR85','PLVAP']].T\n",
    "z_angcap = ss.gaussian_kde(input_X, bw_method=0.5)(all_X)\n",
    "# normalize\n",
    "z_cap -= z_cap.mean(); z_cap /= z_cap.std()\n",
    "z_angcap -= z_angcap.mean(); z_angcap /= z_angcap.std()"
   ]
  },
  {
   "cell_type": "code",
   "execution_count": null,
   "id": "638d8d45-a8a5-4c53-85be-212b7c7dbe73",
   "metadata": {
    "tags": []
   },
   "outputs": [],
   "source": [
    "# find explanations that are sweet\n",
    "mask = adata.obs['cell_type_int_revised'] == 'Endothelial'\n",
    "adata_m.obs[['z_cap','z_angcap','z_cap-angcap']] = np.nan\n",
    "adata_m.obs.loc[mask, 'z_cap'] = z_cap; adata_m.obs.loc[mask, 'z_angcap'] = z_angcap\n",
    "adata_m.obs.loc[mask, 'z_cap-angcap'] = z_cap - z_angcap\n",
    "# plot the data\n",
    "fig, ax = plt.subplots(); ax.grid(False)\n",
    "cs = z_cap - z_angcap; order = np.argsort(abs(cs))\n",
    "ax.scatter(df_m['GPR85'][order], df_m['PLVAP'][order], c=cs[order], s=0.5, cmap='RdBu_r', vmin=-2, vmax=2)"
   ]
  },
  {
   "cell_type": "markdown",
   "id": "d8c4a702-13b7-4858-af5f-6975ecd01b97",
   "metadata": {},
   "source": [
    "### examine correlated gene programs amongst endothelial subpopulations"
   ]
  },
  {
   "cell_type": "code",
   "execution_count": null,
   "id": "929db4d1-fe3c-4c61-a569-fef4758f2d80",
   "metadata": {
    "tags": []
   },
   "outputs": [],
   "source": [
    "# define mask\n",
    "mask = df_corr['gene'].str.startswith('MT-') | df_corr['gene'].str.startswith('MRPS')\n",
    "mask = mask | df_corr['gene'].str.startswith('RPS') | df_corr['gene'].str.startswith('MRPL')\n",
    "mask = mask | df_corr['gene'].str.startswith('RPL')\n",
    "for x in df_corr[~mask].sort_values('r')['gene'][::-1][:100]:\n",
    "    print(x)"
   ]
  },
  {
   "cell_type": "code",
   "execution_count": null,
   "id": "84de9816-a473-4d13-a68e-fad53a7d6dbc",
   "metadata": {
    "tags": []
   },
   "outputs": [],
   "source": [
    "# define mask\n",
    "mask = df_corr['gene'].str.startswith('MT-') | df_corr['gene'].str.startswith('MRPS')\n",
    "mask = mask | df_corr['gene'].str.startswith('RPS') | df_corr['gene'].str.startswith('MRPL')\n",
    "mask = mask | df_corr['gene'].str.startswith('RPL')\n",
    "for x in df_corr[~mask].sort_values('r')['gene'][:100]:\n",
    "    print(x)"
   ]
  },
  {
   "cell_type": "markdown",
   "id": "49fa901c-2532-4292-97a3-3c5985d1828e",
   "metadata": {},
   "source": [
    "### examine genes correlated with GPR85 expression only considering non-angiogenic capillaries"
   ]
  },
  {
   "cell_type": "code",
   "execution_count": null,
   "id": "02b5bc9c-c57f-4adf-888e-acf67fedbee7",
   "metadata": {
    "tags": []
   },
   "outputs": [],
   "source": [
    "import scipy.stats as ss\n",
    "from tqdm import tqdm\n",
    "# look at the correlative profiles\n",
    "mask = adata.obs['cell_type_int_v2'] == 'Capillary'\n",
    "df = pd.DataFrame(adata[mask].X.toarray(), columns=adata.var.index, index=adata.obs.index[mask])\n",
    "df = df.loc[:, df.nunique(0) > 1]\n",
    "df_corr = pd.DataFrame(columns=['gene','r','p'])\n",
    "for x in tqdm(df.columns):\n",
    "    if x == 'GPR85': continue\n",
    "    r, p = ss.spearmanr(df['GPR85'], df[x])\n",
    "    df_corr.loc[df_corr.shape[0]] = x, r, p"
   ]
  },
  {
   "cell_type": "code",
   "execution_count": null,
   "id": "18fa126e-6c85-4f46-8349-e9ab8c58de1e",
   "metadata": {
    "tags": []
   },
   "outputs": [],
   "source": [
    "# define mask\n",
    "mask = df_corr['gene'].str.startswith('MT-') | df_corr['gene'].str.startswith('MRPS')\n",
    "mask = mask | df_corr['gene'].str.startswith('RPS') | df_corr['gene'].str.startswith('MRPL')\n",
    "mask = mask | df_corr['gene'].str.startswith('RPL')\n",
    "for x in df_corr[~mask].sort_values('r')['gene'][::-1][:100]:\n",
    "    print(x)"
   ]
  },
  {
   "cell_type": "code",
   "execution_count": null,
   "id": "8820fa0c-bd5f-4e9c-9da1-334dc622c89f",
   "metadata": {
    "tags": []
   },
   "outputs": [],
   "source": [
    "# define mask\n",
    "mask = df_corr['gene'].str.startswith('MT-') | df_corr['gene'].str.startswith('MRPS')\n",
    "mask = mask | df_corr['gene'].str.startswith('RPS') | df_corr['gene'].str.startswith('MRPL')\n",
    "mask = mask | df_corr['gene'].str.startswith('RPL')\n",
    "for x in df_corr[~mask].sort_values('r')['gene'][:100]:\n",
    "    print(x)"
   ]
  },
  {
   "cell_type": "markdown",
   "id": "af3ac4fd-8070-4f0d-a88a-e94b1f75d7e9",
   "metadata": {},
   "source": [
    "### validate the annotations between literature and this study"
   ]
  },
  {
   "cell_type": "code",
   "execution_count": null,
   "id": "9ef575f0-ddef-4548-bbeb-4dd5d72b5428",
   "metadata": {
    "tags": []
   },
   "outputs": [],
   "source": [
    "# compare the annotations\n",
    "mask = adata.obs['study'] == 'Wälchli and Ghobrial et al. 2024 (Nature)'\n",
    "df = pd.concat([adata[mask].obs['cell_type_int_v2'], adata_ref[mask].obs['cell_type_fine']], axis=1).astype(str)\n",
    "df.columns = ['manual','automatic']\n",
    "df = df.value_counts().reset_index()\n",
    "df.columns = ['manual','automatic','counts']\n",
    "print(df.loc[df['manual'] == df['automatic'], 'counts'].sum() / df['counts'].sum())\n",
    "# flip the results\n",
    "df = df.pivot_table(index='manual', columns='automatic', values='counts', aggfunc=np.sum).fillna(0)\n",
    "df = (df.T / df.sum(1)).T\n",
    "g = sns.clustermap(df, cmap='Purples', vmin=0, vmax=1, row_cluster=False, col_cluster=False,\n",
    "                   xticklabels=1, yticklabels=1, figsize=[6, 6], cbar_pos=(.07, .77, .01, .08))\n",
    "g.ax_heatmap.grid(False)"
   ]
  },
  {
   "cell_type": "markdown",
   "id": "17da7b18-af80-435b-a9c2-2e7c772ff32e",
   "metadata": {},
   "source": [
    "### compute differentially expressed genes between vasculature subpopulations for additional annotation validation"
   ]
  },
  {
   "cell_type": "code",
   "execution_count": null,
   "id": "ee4f63b1-edcd-46ee-95e5-34b535ffe5fe",
   "metadata": {
    "tags": []
   },
   "outputs": [],
   "source": [
    "# compute unbiased differential genes\n",
    "mask = adata.var_names.str.startswith('MT-')\n",
    "mask = mask | adata.var_names.str.startswith('MRPS') | adata.var_names.str.startswith('MRPL')\n",
    "mask = mask | adata.var_names.str.startswith('RPS') | adata.var_names.str.startswith('RPL')\n",
    "adata_tmp = adata[:, ~mask].copy()\n",
    "sc.tl.rank_genes_groups(adata_tmp, method='wilcoxon', use_raw=False, n_genes=adata_tmp.shape[1], groupby='cell_type_int_v2')\n",
    "sc.pl.rank_genes_groups(adata_tmp, n_genes=25, sharey=False)"
   ]
  },
  {
   "cell_type": "code",
   "execution_count": null,
   "id": "d2e7f4bd-9cfc-4860-9610-833a6cd4b6c9",
   "metadata": {
    "tags": []
   },
   "outputs": [],
   "source": [
    "# plot these unbiased differential genes and write them to a table\n",
    "names = pd.DataFrame(adata_tmp.uns['rank_genes_groups']['names'])\n",
    "scores = pd.DataFrame(adata_tmp.uns['rank_genes_groups']['scores'])\n",
    "pvals = pd.DataFrame(adata_tmp.uns['rank_genes_groups']['pvals'])\n",
    "fdrs = pd.DataFrame(adata_tmp.uns['rank_genes_groups']['pvals_adj'])\n",
    "# derive the plot first\n",
    "df_gex = sc.get.obs_df(adata, keys=list(set(names.iloc[:5].values.flatten()))+['cell_type_int_v2'])\n",
    "df_gex = df_gex.groupby('cell_type_int_v2').mean()\n",
    "df_gex -= df_gex.min(); df_gex /= df_gex.max()\n",
    "# look at the distribution\n",
    "g = sns.clustermap(df_gex, cmap='viridis', method='ward', dendrogram_ratio=(.05, .2), figsize=[16*1.5, 5*1.5],\n",
    "                   cbar_pos=(0, 1.05, .008, .12), xticklabels=1, yticklabels=1)\n",
    "g.ax_heatmap.grid(False); g.ax_cbar.grid(False)"
   ]
  },
  {
   "cell_type": "markdown",
   "id": "da0ccaee-412e-428c-b780-23550db74fb2",
   "metadata": {},
   "source": [
    "### produce individual marker gene bar plots between capillary subpopulations"
   ]
  },
  {
   "cell_type": "code",
   "execution_count": null,
   "id": "839804eb-9e48-40db-b4c1-679bfedc7f5c",
   "metadata": {
    "tags": []
   },
   "outputs": [],
   "source": [
    "df = sc.get.obs_df(adata, keys=['GPR85','cell_type_int_v2'])\n",
    "df['GPR85'] -= df['GPR85'].mean(); df['GPR85'] /= df['GPR85'].std()\n",
    "fig, ax = plt.subplots(figsize=[1.5, 4]); ax.grid(False)\n",
    "sns.barplot(x='cell_type_int_v2', y='GPR85', data=df,\n",
    "            order=['Capillary','Angiogenic capillary'], color='xkcd:pale lavender',\n",
    "            edgecolor='xkcd:bright lilac', errcolor='xkcd:bright lilac',\n",
    "            errwidth=1.5, capsize=0.3, linewidth=1.5)\n",
    "ax.tick_params(axis='x', labelrotation=90)\n",
    "ax.plot([-1, 2], [0]*2, color='k')\n",
    "ax.set_xlim(-1, 2)\n",
    "ylim = ax.get_ylim()\n",
    "ax.set_ylim(ylim[0], ylim[1]+(ylim[1]-ylim[0])*0.2)\n",
    "ss.mannwhitneyu(df['GPR85'][df['cell_type_int_v2'] == 'Capillary'],\n",
    "                df['GPR85'][df['cell_type_int_v2'] == 'Angiogenic capillary'])"
   ]
  },
  {
   "cell_type": "code",
   "execution_count": null,
   "id": "3afaa696-ee18-40e8-b1f7-f45a003551b3",
   "metadata": {
    "tags": []
   },
   "outputs": [],
   "source": [
    "df = sc.get.obs_df(adata, keys=['PLVAP','cell_type_int_v2'])\n",
    "df['PLVAP'] -= df['PLVAP'].mean(); df['PLVAP'] /= df['PLVAP'].std()\n",
    "fig, ax = plt.subplots(figsize=[1.5, 4]); ax.grid(False)\n",
    "sns.barplot(x='cell_type_int_v2', y='PLVAP', data=df,\n",
    "            order=['Capillary','Angiogenic capillary'], color='xkcd:pale lavender',\n",
    "            edgecolor='xkcd:bright lilac', errcolor='xkcd:bright lilac',\n",
    "            errwidth=1.5, capsize=0.3, linewidth=1.5)\n",
    "ax.tick_params(axis='x', labelrotation=90)\n",
    "ax.plot([-1, 2], [0]*2, color='k')\n",
    "ax.set_xlim(-1, 2)\n",
    "ylim = ax.get_ylim()\n",
    "ax.set_ylim(ylim[0], ylim[1]+(ylim[1]-ylim[0])*0.2)\n",
    "ss.mannwhitneyu(df['PLVAP'][df['cell_type_int_v2'] == 'Capillary'],\n",
    "                df['PLVAP'][df['cell_type_int_v2'] == 'Angiogenic capillary'])"
   ]
  },
  {
   "cell_type": "markdown",
   "id": "05dc98c1-3eed-4c04-a4b5-493e355675a1",
   "metadata": {},
   "source": [
    "### logistic regression of cell type and marker gene as controlled for sex and age to associate with cancer"
   ]
  },
  {
   "cell_type": "code",
   "execution_count": null,
   "id": "ac10f5ab-2b1e-4826-8545-fab271e15b47",
   "metadata": {
    "tags": []
   },
   "outputs": [],
   "source": [
    "import statsmodels.api as sm\n",
    "import scipy.stats as ss\n",
    "def test_output(output, df):\n",
    "    gene = df.columns[0]\n",
    "    # examine comparisons\n",
    "    mask = df['cat'].isin(['Control (adult)','Control (elder)']) | (df[output] == 1)\n",
    "    assert (df.loc[df[output] == 1, 'age_in_years'] >= 18).all()\n",
    "    input_X = df.loc[mask, [gene,'older_than_or_equal_to_60','is_female']]\n",
    "    output_X = df.loc[mask, output]\n",
    "    \n",
    "    # no sex consideration, all cases with cancer are male\n",
    "    mask_sex = input_X['is_female'] == 0\n",
    "    model = sm.Logit(output_X.loc[mask_sex], sm.add_constant(input_X.loc[mask_sex, [gene,'older_than_or_equal_to_60']]))\n",
    "    results = model.fit(); summary = results.summary()\n",
    "\n",
    "    fig, ax = plt.subplots(figsize=[2, 4]); ax.grid(False)\n",
    "    sns.boxplot(x=output_X, y=results.fittedvalues, color='xkcd:pale lavender', linecolor='xkcd:bright lilac', linewidth=1.5)\n",
    "    ax.set_xlim(-1, 2); ylim = ax.get_ylim(); ax.set_ylim(ylim[0], ylim[1]+(ylim[1]-ylim[0])*0.2)\n",
    "    print('M', ss.mannwhitneyu(results.fittedvalues[output_X == 0], results.fittedvalues[output_X == 1]))\n",
    "\n",
    "    pvalues_m = results.pvalues; coefs_m = results.params; cis_m = results.conf_int()\n",
    "    print(summary)\n",
    "    \n",
    "    # now plot them together\n",
    "    fig, ax = plt.subplots(figsize=[4, 4]); ax.grid(False)\n",
    "    for idx_, idx in enumerate([gene,'older_than_or_equal_to_60','const']):\n",
    "        c, p, cil, cih = coefs_m[idx], pvalues_m[idx], cis_m.loc[idx, 0], cis_m.loc[idx, 1]\n",
    "        ax.scatter(c, idx_, color='tab:cyan', edgecolor='dodgerblue', s=100, zorder=2, linewidth=2)\n",
    "        ax.plot([cil, cih], [idx_]*2, color='dodgerblue', lw=2, zorder=0)\n",
    "        ax.plot([cil]*2, [idx_-0.1, idx_+0.1], color='dodgerblue', lw=2, zorder=0)\n",
    "        ax.plot([cih]*2, [idx_-0.1, idx_+0.1], color='dodgerblue', lw=2, zorder=0)\n",
    "    ax.set_yticks([0, 1, 2]); ax.set_yticklabels([gene,'older_than_or_equal_to_60','const'])\n",
    "    ax.plot([0]*2, [-1, 3], color='k'); ax.set_ylim(-1, 3); xlim = ax.get_xlim()\n",
    "    \n",
    "    return pvalues_m, coefs_m, cis_m"
   ]
  },
  {
   "cell_type": "code",
   "execution_count": null,
   "id": "c81ec095-0eb5-4f88-ae87-430cdaa975d6",
   "metadata": {
    "tags": []
   },
   "outputs": [],
   "source": [
    "# reannotate the disease state to be sure of correctness\n",
    "adata.obs['disease_simple'] = adata.obs['disease_state'].astype(str)\n",
    "kvs = {'Alzheimer disease':'AD','normal':'Control','acute myocardial infarction':'Control','heart failure':'Control', 'TL':'Control'}\n",
    "for k, v in kvs.items():\n",
    "    adata.obs['disease_simple'] = adata.obs['disease_simple'].str.replace(k, v)\n",
    "adata.obs['disease_simple'] = adata.obs['disease_simple'].str.capitalize()\n",
    "adata.obs['disease_simple'] = adata.obs['disease_simple'].str.replace('Ad','AD')\n",
    "adata.obs['disease_simple'] = adata.obs['disease_simple'].astype(str)\n",
    "kvs = {'Control':'Control (adult)', 'Fetalperiph':'Control (fetal periph.)',\n",
    "       'Fetalcns':'Control (fetal CNS)','Met':'Cancer (lung metastasis)',\n",
    "       'Avm':'Atrioventricular malformation','AD':'Alzheimer\\'s disease',\n",
    "       'Gbm':'Cancer (GBM)','Lgg':'Cancer (lower-grade glioma)','Men':'Cancer (meningioma)',}\n",
    "for k, v in kvs.items():\n",
    "    adata.obs['disease_simple'] = adata.obs['disease_simple'].str.replace(k, v)"
   ]
  },
  {
   "cell_type": "code",
   "execution_count": null,
   "id": "40a147ad-cb42-4163-b88e-8ff0ce035251",
   "metadata": {
    "tags": []
   },
   "outputs": [],
   "source": [
    "# show associations with age and disease only considering endothelial cells\n",
    "adata.obs['donor_study'] = adata.obs[['donor','study']].agg(':'.join, axis=1)\n",
    "def analyze(column, mask):\n",
    "    df = sc.get.obs_df(adata[mask], keys=['donor_study','disease_simple','developmental_stage','reported_sex',column], use_raw=False)\n",
    "    df['developmental_stage'] = df['developmental_stage'].str.split(':', expand=True).iloc[:, 0]\n",
    "    df['developmental_stage'] = df['developmental_stage'].str.replace('-year-old stage','')\n",
    "    df['developmental_stage'] = df['developmental_stage'].str.replace(' years','')\n",
    "    df['developmental_stage'] = df['developmental_stage'].str.replace('80 year-old and over stage','65')\n",
    "    df['developmental_stage'] = df['developmental_stage'].str.replace('60-79 year-old stage','65')\n",
    "    df['developmental_stage'] = df['developmental_stage'].str.replace('sixth decade stage','65')\n",
    "    # change the data in accordance\n",
    "    pediatrics = ['pediatric stage','infant stage']\n",
    "    fetals = ['14th week post-fertilization stage','16th week post-fertilization stage','18th week post-fertilization stage',\n",
    "              '19th week post-fertilization stage','20th week post-fertilization stage','22nd week post-fertilization stage',\n",
    "              '25th week post-fertilization stage','17th week post-fertilization stage','9th week post-fertilization stage',\n",
    "              '12.4 gestational weeks','14.4 and 16.4 gestational weeks ','14.4 gestational weeks','15.5 gestational weeks',\n",
    "              '16.4 gestational weeks','18 gestational weeks','9 gestational weeks','10th week post-fertilization stage',\n",
    "              'Carnegie stage 20','Carnegie stage 15','12th week post-fertilization stage','15th week post-fertilization stage',\n",
    "              'Carnegie stage 16']\n",
    "    df['disease_simple'] = df['disease_simple'].astype(str)\n",
    "    df['disease_simple'][df['developmental_stage'].isin(pediatrics)&df['disease_simple'].str.startswith('Control')] = 'Control (pediatric)'\n",
    "    df['disease_simple'][df['developmental_stage'].isin(fetals)&df['disease_simple'].str.startswith('Control')] = 'Control (fetal)'\n",
    "    # control the controls\n",
    "    mask_base = df['disease_simple'] == 'Control (adult)'\n",
    "    pediatric_idxs = df.index[mask_base][df['developmental_stage'][mask_base].astype(float) < 18]\n",
    "    elder_idxs = df.index[mask_base][df['developmental_stage'][mask_base].astype(float) >= 60]\n",
    "    df.loc[pediatric_idxs, 'disease_simple'] = 'Control (pediatric)'\n",
    "    df.loc[elder_idxs, 'disease_simple'] = 'Control (elder)'\n",
    "    cats = df['disease_simple'].unique()\n",
    "    for disease in cats:\n",
    "        df[disease] = (df['disease_simple'] == disease) * 1\n",
    "    df['is_female'] = 1 * (df['reported_sex'] == 'female')\n",
    "    df['age_in_years'] = np.nan\n",
    "    mask_age = df['developmental_stage'].str.isnumeric()\n",
    "    df.loc[mask_age, 'age_in_years'] = df['developmental_stage'][mask_age].astype(float)\n",
    "    df['older_than_or_equal_to_60'] = np.nan\n",
    "    df.loc[mask_age, 'older_than_or_equal_to_60'] = 1 * (df.loc[mask_age, 'age_in_years'] >= 60)\n",
    "    df = df.groupby('donor_study').mean(numeric_only=True)\n",
    "    assert df[cats.tolist()].sum(1).max() == 1\n",
    "    assert df[cats.tolist()].sum(1).min() == 1\n",
    "    df['cat'] = df[cats.tolist()].idxmax(1)\n",
    "\n",
    "    # plot\n",
    "    order = ['Control (fetal)','Control (pediatric)','Control (adult)','Control (elder)']\n",
    "    fig, ax = plt.subplots(figsize=[2.5, 4]); ax.grid(False)\n",
    "    sns.barplot(x='cat', y=column, data=df, order=order,\n",
    "                ci=68, errwidth=1.5, capsize=0.3, color='xkcd:pale lavender',\n",
    "                edgecolor='xkcd:bright lilac', errcolor='xkcd:bright lilac',\n",
    "                linewidth=1.5)\n",
    "    ax.tick_params(axis='x', labelrotation=90)\n",
    "    ax.set_xlim(-1, 4)\n",
    "    ylim = ax.get_ylim()\n",
    "    ax.set_ylim(ylim[0], ylim[1]+(ylim[1]-ylim[0])*0.4)\n",
    "    ps = []\n",
    "    for cat in order[1:]:\n",
    "        p = ss.mannwhitneyu(df[column][df['cat'] == 'Control (fetal)'],\n",
    "                        df[column][df['cat'] == cat])[1]\n",
    "        print(cat, p)\n",
    "        ps.append(p)\n",
    "    print(max(ps))\n",
    "    df[column] -= df[column].min(); df[column] /= df[column].max()\n",
    "    df = df.dropna(); df['has_cancer'] = 1 * (df['cat'].str.startswith('Cancer')); assert df['has_cancer'].sum() > 0\n",
    "    return test_output('has_cancer', df)"
   ]
  },
  {
   "cell_type": "code",
   "execution_count": null,
   "id": "ce9d863a-9a93-4589-ab66-a9e948c2efbe",
   "metadata": {
    "tags": []
   },
   "outputs": [],
   "source": [
    "# create quantitative annotations\n",
    "adata.obs['is_Angiogenic_Capillary'] = 1 * (adata.obs['cell_type_int_v2'] == 'Angiogenic capillary')\n",
    "adata.obs['is_nonAngiogenic_Capillary'] = 1 * (adata.obs['cell_type_int_v2'] == 'Capillary')"
   ]
  },
  {
   "cell_type": "code",
   "execution_count": null,
   "id": "e011f209-03b4-484c-aecc-bbd5cb465455",
   "metadata": {},
   "outputs": [],
   "source": [
    "import scipy.stats as ss\n",
    "# endothelial populations\n",
    "mask = adata.obs['cell_type_int_revised'] == 'Endothelial'\n",
    "data = analyze('is_nonAngiogenic_Capillary', mask)\n",
    "data = analyze('is_Angiogenic_Capillary', mask)\n",
    "data = analyze('GPR85', mask)\n",
    "data = analyze('PLVAP', mask)\n",
    "# only considering capillaries that are not angiogenic\n",
    "mask = adata.obs['cell_type_int_v2'] == 'Capillary'\n",
    "data = analyze('GPR85', mask)\n",
    "data = analyze('PLVAP', mask)"
   ]
  },
  {
   "cell_type": "markdown",
   "id": "97e91136-2cab-4984-964e-12ae82a48310",
   "metadata": {},
   "source": [
    "### specifically interrogate for AD-related endothelial and BBB-related pathways from MSIGDB"
   ]
  },
  {
   "cell_type": "code",
   "execution_count": null,
   "id": "634b6f4a-c5bc-4364-8b3a-bf183c27877f",
   "metadata": {
    "tags": []
   },
   "outputs": [],
   "source": [
    "# compute the signaling pathways\n",
    "pathway_list = ['score_establish_bbb','score_maintain_bbb',\n",
    "                'score_AD_endothelial_up']\n",
    "# GOBP_ESTABLISHMENT_OF_BLOOD_BRAIN_BARRIER\thttps://www.gsea-msigdb.org/gsea/msigdb/human/geneset/GOBP_ESTABLISHMENT_OF_BLOOD_BRAIN_BARRIER\t\n",
    "genes_ebbb = 'ADGRA2\tBPGM\tCLDN3\tCTNNB1\tFOXP3\tFZD4\tLRP5\tLSR\tMFSD2A\tMXRA8\tNDP\tRECK\tTRPV1\tTTPA\tVPS4B\tWNT7A'.split('\\t')\n",
    "sc.tl.score_genes(adata, gene_list=genes_ebbb, use_raw=False, random_state=0, score_name='score_establish_bbb')\n",
    "# GOBP_MAINTENANCE_OF_BLOOD_BRAIN_BARRIER\thttps://www.gsea-msigdb.org/gsea/msigdb/human/geneset/GOBP_MAINTENANCE_OF_BLOOD_BRAIN_BARRIER\tABCC8\tACTB\tACTG1\tANGPT1\tCD2AP\tCDH5\tCLDN1\tCLDN12\tCLDN3\tCLDN5\tDMD\tESAM\tF11R\tGJA1\tGJB6\tIL6\tITGB1\tJAM2\tJAM3\tLAMA2\tLAMC1\tLSR\tMBP\tMFSD2A\tNAGLU\tOCLN\tPECAM1\tPTGS2\tSH3GL2\tSLC12A2\tSLC1A1\tTJP1\tTJP2\tTJP3\tTSPAN12\tVCL\tVEGFA\tWNK3\tZEB2\n",
    "genes_mbbb = 'ABCC8\tACTB\tACTG1\tANGPT1\tCD2AP\tCDH5\tCLDN1\tCLDN12\tCLDN3\tCLDN5\tDMD\tESAM\tF11R\tGJA1\tGJB6\tIL6\tITGB1\tJAM2\tJAM3\tLAMA2\tLAMC1\tLSR\tMBP\tMFSD2A\tNAGLU\tOCLN\tPECAM1\tPTGS2\tSH3GL2\tSLC12A2\tSLC1A1\tTJP1\tTJP2\tTJP3\tTSPAN12\tVCL\tVEGFA\tWNK3\tZEB2'.split('\\t')\n",
    "sc.tl.score_genes(adata, gene_list=genes_mbbb, use_raw=False, random_state=0, score_name='score_maintain_bbb')\n",
    "# WU_ALZHEIMER_DISEASE_UP\thttps://www.gsea-msigdb.org/gsea/msigdb/human/geneset/WU_ALZHEIMER_DISEASE_UP\t\n",
    "genes_ad_endo_up = 'ABTB2\tADGRB2\tAPEX2\tCBFA2T3\tCYP11B1\tENTPD1\tFKBP1A\tFOXO4\tH2AC7\tNRG1\tPCDH9\tPSPHP1\tSTEAP2-AS1\tTGM2'.split('\\t')\n",
    "sc.tl.score_genes(adata, gene_list=genes_ad_endo_up, use_raw=False, random_state=0, score_name='score_AD_endothelial_up')\n",
    "\n",
    "# plot the scores on the UMAP, convert into z-scores\n",
    "adata.obs[pathway_list] -= adata.obs[pathway_list].mean()\n",
    "adata.obs[pathway_list] /= adata.obs[pathway_list].std()"
   ]
  },
  {
   "cell_type": "code",
   "execution_count": null,
   "id": "a14d664f-fdd3-478d-a07e-be6c6b14b769",
   "metadata": {
    "tags": []
   },
   "outputs": [],
   "source": [
    "import scipy.stats as ss\n",
    "# perform clustering\n",
    "def get_r(xs, ys): return ss.pearsonr(xs.astype(float), ys.astype(float))[0]\n",
    "def get_p(xs, ys): return ss.pearsonr(xs.astype(float), ys.astype(float))[1]\n",
    "data = sc.get.obs_df(adata[adata.obs['cell_type_int_revised'] == 'Endothelial'],\n",
    "                     keys=pathway_list+['GPR85','PLVAP']).astype(float)\n",
    "data_p = data.corr(method=get_p)\n",
    "for idx in data_p.index: data_p.loc[idx, idx] = 0\n",
    "g = sns.clustermap(data.corr(method=get_r), vmin=-0.5, vmax=0.5,\n",
    "                   method='ward', figsize=[6, 6], cmap='RdBu_r',\n",
    "                   mask=data_p>=0.05, cbar_pos=(0, 1, .01, .1))\n",
    "g.ax_heatmap.grid(False); g.ax_heatmap.set_facecolor('lightgray')"
   ]
  },
  {
   "cell_type": "code",
   "execution_count": null,
   "id": "1663f497-099a-458a-8723-7d8b14dcb925",
   "metadata": {
    "tags": []
   },
   "outputs": [],
   "source": [
    "import scipy.stats as ss\n",
    "# perform clustering\n",
    "def get_r(xs, ys): return ss.pearsonr(xs.astype(float), ys.astype(float))[0]\n",
    "def get_p(xs, ys): return ss.pearsonr(xs.astype(float), ys.astype(float))[1]\n",
    "data = sc.get.obs_df(adata[adata.obs['cell_type_int_v2'] == 'Capillary'],\n",
    "                     keys=pathway_list+['GPR85','PLVAP']).astype(float)\n",
    "data_p = data.corr(method=get_p)\n",
    "for idx in data_p.index: data_p.loc[idx, idx] = 0\n",
    "g = sns.clustermap(data.corr(method=get_r), vmin=-0.5, vmax=0.5,\n",
    "                   method='ward', figsize=[6, 6], cmap='RdBu_r',\n",
    "                   mask=data_p>=0.05, cbar_pos=(0, 1, .01, .1))\n",
    "g.ax_heatmap.grid(False); g.ax_heatmap.set_facecolor('lightgray')"
   ]
  },
  {
   "cell_type": "markdown",
   "id": "761051de-fc40-4119-babf-0a9bda4f07a3",
   "metadata": {},
   "source": [
    "### plot pathways enriched in GPR85 correlated genes in endothelial populations"
   ]
  },
  {
   "cell_type": "code",
   "execution_count": null,
   "id": "ab4f5f75-6bde-4f23-bd56-28da1f98071e",
   "metadata": {},
   "outputs": [],
   "source": [
    "from matplotlib.colors import to_hex\n",
    "from matplotlib.cm import get_cmap\n",
    "\n",
    "# read in the enrichments (for endothelial)\n",
    "pathways = np.array('''Vascular Transport (GO:0010232)\n",
    "Transport Across Blood-Brain Barrier (GO:0150104)\n",
    "Neuromuscular Junction Development (GO:0007528)\n",
    "Synapse Organization (GO:0050808)\n",
    "Adherens Junction (GO:0005912)\n",
    "Cell-Cell Junction (GO:0005911)\n",
    "Apical Junction Complex (GO:0043296)\n",
    "Cadherin Binding (GO:0045296)'''.split('\\n'))\n",
    "ys = np.array([float(x) for x in '''0.025983577\n",
    "0.025983577\n",
    "0.032788749\n",
    "0.036858571\n",
    "0.010101972\n",
    "0.023840607\n",
    "0.026572157\n",
    "0.016710338'''.split('\\n')])\n",
    "\n",
    "# retrieve the colors\n",
    "ys = -np.log10(ys)\n",
    "colors = [y/2 for y in ys]\n",
    "cmap = get_cmap('Purples')\n",
    "colors = np.array([to_hex(cmap(c)) for c in colors])\n",
    "order = np.argsort(ys)[::-1]\n",
    "# plot the colored bars\n",
    "fig, ax = plt.subplots(figsize=[3, 2]); ax.grid(False)\n",
    "ax.bar(pathways[order], ys[order], edgecolor='k', linewidth=1.5, color=colors[order])\n",
    "ax.tick_params(axis='x', labelrotation=90)"
   ]
  },
  {
   "cell_type": "code",
   "execution_count": null,
   "id": "c3b147c7-1d9e-460b-8641-ba975fe27409",
   "metadata": {},
   "outputs": [],
   "source": [
    "# single-cell HEK data\n",
    "a = sc.read_10x_h5('/home/dchen2/LITERATURE/10x_hek_nih/20k_hgmm_3p_HT_nextgem_Chromium_X_filtered_feature_bc_matrix.h5', gex_only=False)\n",
    "a.var_names_make_unique()\n",
    "# retrieve the species counts\n",
    "a.obs['n_counts_human'] = a[:, a.var['genome'] == 'GRCh38'].X.sum(1).A1\n",
    "a.obs['n_counts_mouse'] = a[:, a.var['genome'] == 'mm10'].X.sum(1).A1\n",
    "# subset the data for human-like cells\n",
    "mask = (a.obs['n_counts_human'] > 500) & (a.obs['n_counts_mouse'] < 500)\n",
    "a = a[mask, a.var['genome'] == 'GRCh38'].copy()\n",
    "# rename the genes and quantify the number of human genes and percent mitochondrial\n",
    "a.var_names = a.var_names.str.replace('GRCh38_','')\n",
    "mt_genes = a.var.index.str.startswith('MT-')\n",
    "a.obs['perc_mito'] = a[:, mt_genes].X.sum(1).A1 / a.obs['n_counts_human']\n",
    "a.obs['n_genes_human'] = (a.X > 0).sum(1).A1\n",
    "# perform intense filtering with human and live cells\n",
    "mask = (a.obs['n_counts_human'] > 1000) & (a.obs['n_counts_human'] < 100000)\n",
    "mask = mask & (a.obs['n_genes_human'] > 500) & (a.obs['n_genes_human'] < 10000)\n",
    "mask = mask & (a.obs['perc_mito'] < 0.20)\n",
    "a = a[mask].copy()\n",
    "# normalize the data\n",
    "a.raw = a; sc.pp.normalize_total(a, target_sum=1e4); sc.pp.log1p(a)\n",
    "# project the data to exclude any non-HEK cells\n",
    "sc.pp.highly_variable_genes(a)\n",
    "sc.tl.pca(a, use_highly_variable=True)\n",
    "sc.pp.neighbors(a, n_pcs=20)\n",
    "sc.tl.umap(a)\n",
    "# exclude the low count clusters\n",
    "sc.tl.leiden(a)\n",
    "a = a[~a.obs['leiden'].isin(['10','12'])].copy()\n",
    "# present the normalized counts\n",
    "df = sc.get.obs_df(a, keys=['CHRM1','CHRM2','CHRM3','CHRM4','CHRM5','GPR85','VIM']).melt()\n",
    "fig, ax = plt.subplots(figsize=[3.5, 4]); ax.grid(False)\n",
    "sns.barplot(x='variable', y='value', data=df, saturation=1, linewidth=1.5,\n",
    "            edgecolor='k', errwidth=1.5, capsize=0.3, errcolor='k')\n",
    "ax.set_xlim(-1, 7); ax.tick_params(axis='x', labelrotation=90)\n",
    "ax.set(xlabel='Gene', ylabel='Gene expression (log-norm)', title='scRNA-seq from 10x')"
   ]
  },
  {
   "cell_type": "code",
   "execution_count": null,
   "id": "627628de-a31b-470f-9204-658974c65964",
   "metadata": {},
   "outputs": [],
   "source": [
    "# examine the bulkRNA-seq data\n",
    "# https://www.ncbi.nlm.nih.gov/geo/query/acc.cgi?acc=GSE186192\n",
    "df = pd.read_csv('/home/dchen2/LITERATURE/GSE186192_HEK/GSE186192_HEK_wt_kallisto_RNASeq.csv.gz')\n",
    "data = df.groupby('gene_id').sum()\n",
    "data = data.loc[data.index.isin(['GPR85','CHRM1','CHRM2','CHRM3','CHRM4','CHRM5','VIM'])]\n",
    "data = data.loc[:, data.columns.str.startswith('tpm_replicate')].reset_index().melt(id_vars='gene_id')\n",
    "# present the normalized counts\n",
    "fig, ax = plt.subplots(figsize=[3.5, 4]); ax.grid(False)\n",
    "sns.barplot(x='gene_id', y='value', data=data, saturation=1, linewidth=1.5,\n",
    "            edgecolor='k', errwidth=1.5, capsize=0.3, errcolor='k')\n",
    "ax.set_xlim(-1, 7); ax.tick_params(axis='x', labelrotation=90)\n",
    "ax.set(xlabel='Gene', ylabel='Gene expression (TPM)', title='bulkRNA-seq from GSE186192')"
   ]
  },
  {
   "cell_type": "code",
   "execution_count": null,
   "id": "39d6d639-7ed8-41ce-b488-07c65deb967c",
   "metadata": {},
   "outputs": [],
   "source": [
    "# read in the bulk data from HPA\n",
    "df = pd.read_table('/home/dchen2/LITERATURE/HPA/rna_celline.tsv.zip')\n",
    "# retrieve the data and order\n",
    "data = df.loc[df['Cell line'] == 'HEK293']\n",
    "data = data.loc[data['Gene name'].isin(['CHRM1','CHRM2','CHRM3','CHRM4','CHRM5','GPR85','VIM'])]\n",
    "data = data.set_index('Gene name').loc[['CHRM1','CHRM2','CHRM3','CHRM4','CHRM5','GPR85','VIM']].reset_index()\n",
    "# present the normalized counts\n",
    "fig, ax = plt.subplots(figsize=[3.5, 4]); ax.grid(False)\n",
    "sns.barplot(x='Gene name', y='TPM', data=data, saturation=1, linewidth=1.5,\n",
    "            edgecolor='k', errwidth=1.5, capsize=0.3, errcolor='k')\n",
    "ax.set_xlim(-1, 7); ax.tick_params(axis='x', labelrotation=90)\n",
    "ax.set(xlabel='Gene', ylabel='Gene expression (TPM)', title='bulkRNA-seq from HPA')"
   ]
  }
 ],
 "metadata": {
  "kernelspec": {
   "display_name": "Environment (base_py39)",
   "language": "python",
   "name": "base_py39"
  },
  "language_info": {
   "codemirror_mode": {
    "name": "ipython",
    "version": 3
   },
   "file_extension": ".py",
   "mimetype": "text/x-python",
   "name": "python",
   "nbconvert_exporter": "python",
   "pygments_lexer": "ipython3",
   "version": "3.9.18"
  }
 },
 "nbformat": 4,
 "nbformat_minor": 5
}
