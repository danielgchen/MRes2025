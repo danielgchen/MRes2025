{
 "cells": [
  {
   "cell_type": "code",
   "execution_count": null,
   "id": "d2bd2bdf-24b4-4d91-ba8e-857fe091ebb1",
   "metadata": {},
   "outputs": [],
   "source": [
    "print()"
   ]
  },
  {
   "cell_type": "markdown",
   "id": "f51b8a30-61ec-4d89-af2b-06e5c13f41f7",
   "metadata": {},
   "source": [
    "### setup packages"
   ]
  },
  {
   "cell_type": "code",
   "execution_count": null,
   "id": "041a51cf-0aca-4c7b-8217-a6ec205c2280",
   "metadata": {},
   "outputs": [],
   "source": [
    "# import packages\n",
    "from glob import glob\n",
    "import matplotlib.pyplot as plt\n",
    "import numpy as np\n",
    "import os\n",
    "import pandas as pd\n",
    "import scanpy as sc\n",
    "import scipy.stats as ss\n",
    "import seaborn as sns\n",
    "sc.settings.set_figure_params(dpi=100)"
   ]
  },
  {
   "cell_type": "markdown",
   "id": "db2f54f4-ce55-4e50-a084-9b64ede8c7d0",
   "metadata": {},
   "source": [
    "### compile spatial transcriptomic datasets"
   ]
  },
  {
   "cell_type": "code",
   "execution_count": null,
   "id": "db92d536-ea11-485c-b5a6-cf9bcde538f4",
   "metadata": {},
   "outputs": [],
   "source": [
    "# read in the mapping file for GPCRdb to filter for GPCRs\n",
    "gpcr_mapping = pd.read_table('gpcrdb_mapping.txt', header=None, sep=' ')\n",
    "gpcr_mapping.columns = ['uniprot','name']\n",
    "gpcr_mapping[['name','species']] = gpcr_mapping['name'].str.split('_', expand=True)\n",
    "# keep human uniprot IDs\n",
    "uniprots = gpcr_mapping.loc[gpcr_mapping['species'] == 'human', 'uniprot'].tolist()"
   ]
  },
  {
   "cell_type": "code",
   "execution_count": null,
   "id": "34d71cd2-ed48-44c4-872d-e0030995c5dc",
   "metadata": {},
   "outputs": [],
   "source": [
    "from glob import glob\n",
    "# compile the complete list of visiums to run\n",
    "adatas = []"
   ]
  },
  {
   "cell_type": "code",
   "execution_count": null,
   "id": "8a8baf0d-1480-4b2d-9cd1-27ef20fb2608",
   "metadata": {},
   "outputs": [],
   "source": [
    "# process heart atlas\n",
    "for fn in glob('/path/to/data/external/heartcellatlas/*.h5ad'):\n",
    "    # read in the file\n",
    "    adata = sc.read_h5ad(fn)\n",
    "    # define the spatial coordinates\n",
    "    adata.obsm['spatial'] = adata.obs[['array_row','array_col']].values\n",
    "    # add on the file id\n",
    "    adata.obs['file_id'] = fn.split('/')[-1]\n",
    "    # split by sanger id\n",
    "    for id in adata.obs['sangerID'].unique():\n",
    "        adatas.append(adata[adata.obs['sangerID'] == id].copy())"
   ]
  },
  {
   "cell_type": "code",
   "execution_count": null,
   "id": "ea0b21a5-3231-4786-9f7e-dae5da35aa00",
   "metadata": {
    "scrolled": true
   },
   "outputs": [],
   "source": [
    "# process fetal lung atlas\n",
    "for fn in glob('/path/to/data/external/fetallung/*.h5ad'):\n",
    "    # read in the file\n",
    "    adata = sc.read_h5ad(fn)\n",
    "    # define the spatial coordinates\n",
    "    adata.obsm['spatial'] = adata.obs[['array_row','array_col']].values\n",
    "    # add on the file id\n",
    "    adata.obs['file_id'] = fn.split('/')[-1]\n",
    "    # each sample is a separate file\n",
    "    adatas.append(adata)\n",
    "    assert len(list(adata.uns['spatial'].keys())) == 1"
   ]
  },
  {
   "cell_type": "code",
   "execution_count": null,
   "id": "8197ce52-db7f-47f2-85bf-7dfea7757c9b",
   "metadata": {},
   "outputs": [],
   "source": [
    "# process fetal immune atlas\n",
    "for fn in glob('/path/to/data/external/fetalimmune/*.h5ad'):\n",
    "    # read in the file\n",
    "    adata = sc.read_h5ad(fn)\n",
    "    # define the spatial coordinates\n",
    "    adata.obsm['spatial'] = adata.obs[['array_row','array_col']].values\n",
    "    # add on the file id\n",
    "    adata.obs['file_id'] = fn.split('/')[-1]\n",
    "    # split by sanger id\n",
    "    for id in adata.obs['sample_id'].unique():\n",
    "        adatas.append(adata[adata.obs['sample_id'] == id].copy())"
   ]
  },
  {
   "cell_type": "code",
   "execution_count": null,
   "id": "12dbcf78-a63f-4f52-ba2c-b88fb807e9d2",
   "metadata": {},
   "outputs": [],
   "source": [
    "# process kidney atlas\n",
    "for fn in glob('/path/to/data/external/kidneycellatlas/*.h5ad'):\n",
    "    # read in the file\n",
    "    adata = sc.read_h5ad(fn)\n",
    "    # define the spatial coordinates\n",
    "    adata.obsm['spatial'] = adata.obs[['array_row','array_col']].values\n",
    "    # add on the file id\n",
    "    adata.obs['file_id'] = fn.split('/')[-1]\n",
    "    # split by sanger id\n",
    "    for id in adata.obs['sample'].unique():\n",
    "        adatas.append(adata[adata.obs['sample'] == id].copy())"
   ]
  },
  {
   "cell_type": "code",
   "execution_count": null,
   "id": "b8d8e8d0-6903-4580-be69-8e6c423df781",
   "metadata": {},
   "outputs": [],
   "source": [
    "# process 10x genomics data\n",
    "fns = glob('/path/to/data/external/10x_multiorgans/*.h5ad') +\\\n",
    "glob('/path/to/data/external/10x_visium_v1_cancer/*.h5ad')\n",
    "for fn in fns:\n",
    "    # read in the file\n",
    "    adata = sc.read_h5ad(fn)\n",
    "    # define the spatial coordinates\n",
    "    adata.obsm['spatial'] = adata.obs[['row','col']].values\n",
    "    # add on the file id\n",
    "    adata.obs['file_id'] = fn.split('/')[-1]\n",
    "    # each sample is a separate file\n",
    "    adatas.append(adata)"
   ]
  },
  {
   "cell_type": "markdown",
   "id": "7841305a-ee73-4be9-acc1-915d29b08c8e",
   "metadata": {},
   "source": [
    "10x genomics derived data was log normalized via bayesspace in R via:\n",
    "```\n",
    "library(SingleCellExperiment)\n",
    "library(BayesSpace)\n",
    "# read in dataset\n",
    "dirname <- \"<path_to_raw_10x_genomics_data>\"\n",
    "sce <- readVisium(paste0(dirname, \"<name_of_dataset>\"))\n",
    "# compute PCA with HVGs\n",
    "sce <- spatialPreprocess(sce, platform=\"Visium\", n.PCs=15, n.HVGs=2000, log.normalize=TRUE)\n",
    "# write the data\n",
    "library(zellkonverter)\n",
    "writeH5AD(sce, file=\"<path_to_normalized_h5ad>\")\n",
    "```"
   ]
  },
  {
   "cell_type": "markdown",
   "id": "c0d65a7c-789d-4928-a804-e16dea0ee7d3",
   "metadata": {},
   "source": [
    "### calculate spatial interactions"
   ]
  },
  {
   "cell_type": "code",
   "execution_count": null,
   "id": "08b6bdcd-fdd8-44b5-9cc4-bc89ba2d7345",
   "metadata": {
    "tags": []
   },
   "outputs": [],
   "source": [
    "import spatialdm as sdm\n",
    "# define the method to derive the spatial correlations\n",
    "def calc_corr(adata):\n",
    "    try:\n",
    "        # make sure everything is unique\n",
    "        adata.var_names = adata.var_names.astype(str)\n",
    "        sc.pp.filter_genes(adata, min_cells=10)\n",
    "        adata.var_names_make_unique()\n",
    "        # define the weight matrix for the kernel\n",
    "        sdm.weight_matrix(adata, l=1.2, cutoff=0.2, single_cell=False)\n",
    "        # define the min n-spots filter\n",
    "        n_spots = 10\n",
    "\n",
    "        # assemble expression values of complexes\n",
    "        genes = df_complex.values.flatten().astype(str)[df_complex.values.flatten().astype(str) != 'nan']\n",
    "        genes = adata.var.index.intersection(genes)\n",
    "        df_gex = sc.get.obs_df(adata, keys=genes.tolist())\n",
    "        expr_complexs = []\n",
    "        for idx in df_complex.index:\n",
    "            genes = adata.var.index.intersection(df_complex.loc[idx].dropna())\n",
    "            if len(genes) == 0: continue\n",
    "            expr_complex = df_gex[genes].mean(1)\n",
    "            expr_complex.name = idx\n",
    "            expr_complexs.append(expr_complex)\n",
    "        expr_complex = pd.concat(expr_complexs, axis=1)\n",
    "        valid_complexes = expr_complex.columns[(expr_complex > 0).sum(0) >= n_spots]\n",
    "\n",
    "        # perform rapid filtering (random)\n",
    "        ligands = valid_rand_pairs['ligand'].unique()\n",
    "        ligands = adata.var.index.intersection(ligands)\n",
    "        try: valid_ligands = ligands[(adata[:, ligands].X > 0).sum(0).A1 >= n_spots].tolist()\n",
    "        except: valid_ligands = ligands[(adata[:, ligands].X > 0).sum(0) >= n_spots].tolist()\n",
    "        valid_ligands = valid_ligands + [x for x in valid_rand_pairs['ligand'].unique() if x in valid_complexes]\n",
    "        receptors = valid_rand_pairs['receptor'].unique()\n",
    "        receptors = adata.var.index.intersection(receptors)\n",
    "        try: valid_receptors = receptors[(adata[:, receptors].X > 0).sum(0).A1 >= n_spots].tolist()\n",
    "        except: valid_receptors = receptors[(adata[:, receptors].X > 0).sum(0) >= n_spots].tolist()\n",
    "        valid_receptors = valid_receptors + [x for x in valid_rand_pairs['receptor'].unique() if x in valid_complexes]\n",
    "        valid_rand_pairs_ = valid_rand_pairs.loc[valid_rand_pairs['ligand'].isin(valid_ligands) &\\\n",
    "        valid_rand_pairs['receptor'].isin(valid_receptors)].copy()\n",
    "        # extract and compute Z-scores for the known ligand-receptor pairs\n",
    "        sdm.extract_lr(adata, 'human', min_cell=10, datahost='user', df_intrxn=valid_rand_pairs_, df_complex=df_complex.copy())\n",
    "        sdm.spatialdm_global(adata, specified_ind=None, method='z-score', nproc=1)\n",
    "        zpval_rand, z_rand = adata.uns['global_res']['z_pval'], adata.uns['global_res']['z']\n",
    "\n",
    "        # perform rapid filtering (known)\n",
    "        ligands = df_intrxn_gpcrvsall['ligand'].unique()\n",
    "        ligands = adata.var.index.intersection(ligands)\n",
    "        try: valid_ligands = ligands[(adata[:, ligands].X > 0).sum(0).A1 >= n_spots].tolist()\n",
    "        except: valid_ligands = ligands[(adata[:, ligands].X > 0).sum(0) >= n_spots].tolist()\n",
    "        valid_ligands = valid_ligands + [x for x in df_intrxn_gpcrvsall['ligand'].unique() if x in valid_complexes]\n",
    "        receptors = df_intrxn_gpcrvsall['receptor'].unique()\n",
    "        receptors = adata.var.index.intersection(receptors)\n",
    "        try: valid_receptors = receptors[(adata[:, receptors].X > 0).sum(0).A1 >= n_spots].tolist()\n",
    "        except: valid_receptors = receptors[(adata[:, receptors].X > 0).sum(0) >= n_spots].tolist()\n",
    "        valid_receptors = valid_receptors + [x for x in df_intrxn_gpcrvsall['receptor'].unique() if x in valid_complexes]\n",
    "        df_intrxn_gpcrvsall_ = df_intrxn_gpcrvsall.loc[df_intrxn_gpcrvsall['ligand'].isin(valid_ligands) &\\\n",
    "        df_intrxn_gpcrvsall['receptor'].isin(valid_receptors)].copy()\n",
    "        # extract and compute Z-scores for the known ligand-receptor pairs\n",
    "        sdm.extract_lr(adata, 'human', min_cell=10, datahost='user', df_intrxn=df_intrxn_gpcrvsall_, df_complex=df_complex.copy())\n",
    "        sdm.spatialdm_global(adata, specified_ind=None, method='z-score', nproc=1)\n",
    "        zpval_known, z_known = adata.uns['global_res']['z_pval'], adata.uns['global_res']['z']\n",
    "        \n",
    "        # perform rapid filtering (orphan)\n",
    "        ligands = df_intrxn_orphan['ligand'].unique()\n",
    "        ligands = adata.var.index.intersection(ligands)\n",
    "        try: valid_ligands = ligands[(adata[:, ligands].X > 0).sum(0).A1 >= n_spots].tolist()\n",
    "        except: valid_ligands = ligands[(adata[:, ligands].X > 0).sum(0) >= n_spots].tolist()\n",
    "        valid_ligands = valid_ligands + [x for x in df_intrxn_orphan['ligand'].unique() if x in valid_complexes]\n",
    "        receptors = df_intrxn_orphan['receptor'].unique()\n",
    "        receptors = adata.var.index.intersection(receptors)\n",
    "        try: valid_receptors = receptors[(adata[:, receptors].X > 0).sum(0).A1 >= n_spots].tolist()\n",
    "        except: valid_receptors = receptors[(adata[:, receptors].X > 0).sum(0) >= n_spots].tolist()\n",
    "        valid_receptors = valid_receptors + [x for x in df_intrxn_orphan['receptor'].unique() if x in valid_complexes]\n",
    "        df_intrxn_orphan_ = df_intrxn_orphan.loc[df_intrxn_orphan['ligand'].isin(valid_ligands) &\\\n",
    "        df_intrxn_orphan['receptor'].isin(valid_receptors)].copy()\n",
    "        # extract and compute Z-scores for the orphan ligand-receptor pairs\n",
    "        sdm.extract_lr(adata, 'human', min_cell=10, datahost='user', df_intrxn=df_intrxn_orphan_, df_complex=df_complex.copy())\n",
    "        sdm.spatialdm_global(adata, specified_ind=None, method='z-score', nproc=1)\n",
    "        zpval_orphan, z_orphan = adata.uns['global_res']['z_pval'], adata.uns['global_res']['z']\n",
    "        \n",
    "        # assemble and return result\n",
    "        result = {adata.obs['file_id'][0]: {'rand': {'z_pval': zpval_rand, 'z': z_rand}, \n",
    "                                            'known': {'z_pval': zpval_known, 'z': z_known}, \n",
    "                                            'orphan': {'z_pval': zpval_orphan, 'z': z_orphan}}}\n",
    "        return result\n",
    "    except Exception as e:\n",
    "        print('!!!' + adata.obs['file_id'][0] + str(e))"
   ]
  },
  {
   "cell_type": "code",
   "execution_count": null,
   "id": "da3f3229-8e24-4f9f-88f2-2ce41202e5f8",
   "metadata": {
    "tags": []
   },
   "outputs": [],
   "source": [
    "# retrieve uniprot to gene name mapping\n",
    "df_conv = pd.read_csv('/home/dchen2/PACKAGES/cellphonedb-data-5.0.0/data/gene_input.csv')\n",
    "df_conv = df_conv[['uniprot','gene_name']].value_counts().reset_index()\n",
    "assert df_conv['uniprot'].value_counts().max() == 1\n",
    "uniprot2genename = df_conv.set_index('uniprot')['gene_name']\n",
    "# read in and process the complex\n",
    "df_complex = pd.read_csv('/home/dchen2/PACKAGES/cellphonedb-data-5.0.0/data/complex_input.csv', index_col=0)\n",
    "assert df_complex.index.value_counts().max() == 1; df_complex.index.name = None\n",
    "df_complex = df_complex.loc[:, df_complex.columns.str.startswith('uniprot')]\n",
    "df_complex.columns = df_complex.columns.str.replace('uniprot','subunit')\n",
    "for col in df_complex.columns: df_complex[col] = df_complex[col].map(uniprot2genename)\n",
    "# read in and process the interaction pairings\n",
    "df_intrxn = pd.read_csv('/home/dchen2/PACKAGES/cellphonedb-data-5.0.0/data/interaction_input.csv')\n",
    "for col, new_col in zip(['partner_a','partner_b'], ['ligand','receptor']):\n",
    "    conv = df_intrxn[col].map(uniprot2genename)\n",
    "    conv[conv.isna()] = df_intrxn.loc[conv.isna(), col]\n",
    "    df_intrxn[new_col] = conv\n",
    "df_intrxn['interaction_name'] = df_intrxn[['ligand','receptor']].agg(':'.join, axis=1)\n",
    "df_intrxn.index = df_intrxn['interaction_name']\n",
    "df_intrxn = df_intrxn[['interaction_name','ligand','receptor','is_ppi','directionality']]\n",
    "# identify secreted proteins to differentiate\n",
    "secreted_proteins = pd.read_csv('/home/dchen2/PACKAGES/cellphonedb-data-5.0.0/data/protein_input.csv', index_col=0)['secreted']\n",
    "secreted_complexes = pd.read_csv('/home/dchen2/PACKAGES/cellphonedb-data-5.0.0/data/complex_input.csv', index_col=0)['secreted']\n",
    "secreted_proteins.index = secreted_proteins.index.map(uniprot2genename)\n",
    "secreted = pd.concat([secreted_proteins, secreted_complexes], axis=0)\n",
    "secreted = secreted.index[secreted]\n",
    "df_intrxn['annotation'] = 'No Secretion'\n",
    "df_intrxn.loc[df_intrxn['ligand'].isin(secreted) | df_intrxn['receptor'].isin(secreted), 'annotation'] = 'Secretion'\n",
    "# reset name of the index\n",
    "df_intrxn.index.name = None\n",
    "# adjust to remove duplicates\n",
    "df_intrxn = df_intrxn.value_counts().reset_index().iloc[:, :-1]\n",
    "df_intrxn.index = df_intrxn['interaction_name'].values\n",
    "# derive a GPCR only subset\n",
    "assert df_complex.index[df_complex.isin(uniprots).any(axis=1)].shape[0] == 0\n",
    "df_conv_gpcrs = df_conv.loc[df_conv['uniprot'].isin(uniprots)]\n",
    "# derive a list of the interactions with GPCRs\n",
    "mask = df_intrxn['receptor'].isin(df_conv_gpcrs['gene_name'].unique())\n",
    "df_intrxn_gpcrs = df_intrxn.loc[mask]"
   ]
  },
  {
   "cell_type": "code",
   "execution_count": null,
   "id": "816b2c43-d38f-43ef-84f9-75442afc36b6",
   "metadata": {
    "tags": []
   },
   "outputs": [],
   "source": [
    "from tqdm import tqdm\n",
    "# get a list of the unique ligands from the entire database, we care about known for paralog\n",
    "ligands = df_intrxn['ligand'].unique()\n",
    "# receptors are known GPCRs, read in from GPCRdb\n",
    "receptors = df_intrxn_gpcrs['receptor'].unique()\n",
    "# fill in the possible interactions beyond known interactions\n",
    "df_intrxn_gpcrvsall = pd.DataFrame(columns=['ligand','receptor'])\n",
    "for receptor in tqdm(receptors):\n",
    "    for ligand in ligands:\n",
    "        df_intrxn_gpcrvsall.loc[df_intrxn_gpcrvsall.shape[0]] = ligand, receptor\n",
    "df_intrxn_gpcrvsall.insert(0, 'interaction_name', df_intrxn_gpcrvsall[['ligand','receptor']].agg(':'.join, axis=1))\n",
    "df_intrxn_gpcrvsall.index = df_intrxn_gpcrvsall['interaction_name']\n",
    "df_intrxn_gpcrvsall['annotation'] = 'No Secretion'\n",
    "df_intrxn_gpcrvsall.loc[df_intrxn_gpcrvsall['ligand'].isin(secreted), 'annotation'] = 'Secretion'\n",
    "# reset name of the index\n",
    "df_intrxn_gpcrvsall.index.name = None\n",
    "# adjust to remove duplicates\n",
    "df_intrxn_gpcrvsall = df_intrxn_gpcrvsall.value_counts().reset_index().iloc[:, :-1]\n",
    "df_intrxn_gpcrvsall.index = df_intrxn_gpcrvsall['interaction_name'].values"
   ]
  },
  {
   "cell_type": "code",
   "execution_count": null,
   "id": "7ef74ef3-3502-4c1b-806f-b2120f425080",
   "metadata": {
    "tags": []
   },
   "outputs": [],
   "source": [
    "# repeat for orphans from GPCRdb (class A and class c)\n",
    "with open('/path/to/orphans.all.txt', 'rt') as f:\n",
    "    receptors = [x.strip() for x in f.readlines()]\n",
    "# fill in the possible orphan interactions\n",
    "df_intrxn_orphan = pd.DataFrame(columns=['ligand','receptor'])\n",
    "for receptor in tqdm(receptors):\n",
    "    for ligand in ligands:\n",
    "        df_intrxn_orphan.loc[df_intrxn_orphan.shape[0]] = ligand, receptor\n",
    "df_intrxn_orphan.insert(0, 'interaction_name', df_intrxn_orphan[['ligand','receptor']].agg(':'.join, axis=1))\n",
    "df_intrxn_orphan.index = df_intrxn_orphan['interaction_name']\n",
    "df_intrxn_orphan['annotation'] = 'No Secretion'\n",
    "df_intrxn_orphan.loc[df_intrxn_orphan['ligand'].isin(secreted), 'annotation'] = 'Secretion'\n",
    "# reset name of the index\n",
    "df_intrxn_orphan.index.name = None\n",
    "# adjust to remove duplicates\n",
    "df_intrxn_orphan = df_intrxn_orphan.value_counts().reset_index().iloc[:, :-1]\n",
    "df_intrxn_orphan.index = df_intrxn_orphan['interaction_name'].values"
   ]
  },
  {
   "cell_type": "code",
   "execution_count": null,
   "id": "bb02adaf-7865-4ed2-8ff9-83f8cb151889",
   "metadata": {
    "tags": []
   },
   "outputs": [],
   "source": [
    "# generate random pairs for the GPCR subset of the known\n",
    "n_needed = df_intrxn_gpcrs.shape[0]\n",
    "np.random.seed(0)\n",
    "valid_rand_pairs = []; running_pairs = []\n",
    "while n_needed > 0:\n",
    "    # grab the data\n",
    "    ligands = np.random.choice(df_intrxn_gpcrs['ligand'].unique(), size=n_needed, replace=True)\n",
    "    receptors = np.random.choice(df_intrxn_gpcrs['receptor'].unique(), size=n_needed, replace=True)\n",
    "    rand_pairs = pd.Series(np.unique(ligands + '=X=' + receptors))\n",
    "    rand_pairs_intrxn_format = pd.Series(np.unique(ligands + ':' + receptors))\n",
    "    mask = (~rand_pairs_intrxn_format.isin(df_intrxn_gpcrs.index)) & (~rand_pairs.isin(running_pairs))\n",
    "    rand_pairs = rand_pairs[mask]\n",
    "    # create the dataframe and deduplicate\n",
    "    rand_pairs_split = rand_pairs.str.split('=X=', expand=True)\n",
    "    valid_rand_pairs.append(rand_pairs_split)\n",
    "    running_pairs += rand_pairs.tolist()\n",
    "    n_needed -= len(rand_pairs)\n",
    "valid_rand_pairs = pd.concat(valid_rand_pairs, axis=0)\n",
    "valid_rand_pairs.columns = ['ligand','receptor']"
   ]
  },
  {
   "cell_type": "code",
   "execution_count": null,
   "id": "55f0bb75-c0bb-4a09-be4a-59767923a2aa",
   "metadata": {
    "tags": []
   },
   "outputs": [],
   "source": [
    "# add on the proper annotation\n",
    "valid_rand_pairs = valid_rand_pairs.reset_index().iloc[:, 1:]\n",
    "valid_rand_pairs['annotation'] = 'No Secretion'\n",
    "valid_rand_pairs.loc[valid_rand_pairs['ligand'].isin(secreted) | valid_rand_pairs['receptor'].isin(secreted), 'annotation'] = 'Secretion'\n",
    "valid_rand_pairs['interaction_name'] = valid_rand_pairs[['ligand','receptor']].agg(':'.join, axis=1)\n",
    "valid_rand_pairs.index = valid_rand_pairs['interaction_name']\n",
    "valid_rand_pairs = valid_rand_pairs[['interaction_name','ligand','receptor','annotation']]"
   ]
  },
  {
   "cell_type": "code",
   "execution_count": null,
   "id": "6e1f491e-09c8-44db-8124-bb2bb6cde15f",
   "metadata": {},
   "outputs": [],
   "source": [
    "import multiprocessing as mp\n",
    "from tqdm import tqdm\n",
    "# leverage multiprocessing to clear the predictions\n",
    "results = []\n",
    "with mp.Pool(processes=36) as pool:\n",
    "    for result in tqdm(pool.map(calc_corr, adatas), total=len(adatas)):\n",
    "        results.append(result)"
   ]
  },
  {
   "cell_type": "markdown",
   "id": "9b3b9a99-ec9a-41cc-844b-c399e30de679",
   "metadata": {},
   "source": [
    "### retrieve annotations for spatial transcriptomic datasets"
   ]
  },
  {
   "cell_type": "code",
   "execution_count": null,
   "id": "61b4236e-cfe2-4980-b89b-8e465b789d77",
   "metadata": {
    "tags": []
   },
   "outputs": [],
   "source": [
    "# read in the annotations\n",
    "anno = pd.read_excel('/path/to/241111_visium_annotations.xlsx', sheet_name=0)\n",
    "# conversion for 10x\n",
    "file2sample = anno[['file_id','sample_id']].value_counts().reset_index().set_index('file_id')['sample_id']\n",
    "anno['tag'] = anno[['file_id','sample_id']].agg(':'.join, axis=1)\n",
    "# create an age category\n",
    "anno['age_cat'] = 'Unknown (likely adult)'\n",
    "anno.loc[anno['age'].astype(str).str.endswith('pcw'), 'age_cat'] = 'Fetal'\n",
    "anno.loc[anno['age'].isin(['55-60','45-50','40-45','50-55','20-25','51-60','41-50']), 'age_cat'] = 'Adult (<60)'\n",
    "anno.loc[anno['age'].isin(['60-70','73','70-75','65-70','60-65','71-80','71-70']), 'age_cat'] = 'Adult (≥60)'"
   ]
  },
  {
   "cell_type": "code",
   "execution_count": null,
   "id": "3d77597b-cfab-4698-a236-7df23cba92f2",
   "metadata": {
    "scrolled": true
   },
   "outputs": [],
   "source": [
    "# compile the information\n",
    "df_info = pd.DataFrame(columns=['file_id','sample_id'])\n",
    "for adata in adatas:\n",
    "    file_id = adata.obs['file_id'].iloc[0]\n",
    "    sample_col = 'sangerID'\n",
    "    if sample_col not in adata.obs: sample_col = 'sample_id'\n",
    "    if sample_col not in adata.obs: sample_col = 'sample'\n",
    "    if sample_col not in adata.obs:\n",
    "        sample_id = file2sample[file_id]\n",
    "    else:\n",
    "        sample_id = adata.obs[sample_col].iloc[0]\n",
    "    df_info.loc[df_info.shape[0]] = file_id, sample_id\n",
    "df_info['tag'] = df_info[['file_id','sample_id']].agg(':'.join, axis=1)"
   ]
  },
  {
   "cell_type": "markdown",
   "id": "a9ee9244-4ab0-4853-a8cc-e7d675291445",
   "metadata": {},
   "source": [
    "### visualize CCC dynamics across major organ systems and developmental stages"
   ]
  },
  {
   "cell_type": "code",
   "execution_count": null,
   "id": "172879f0-ae41-481c-88a5-3303f745b50b",
   "metadata": {},
   "outputs": [],
   "source": [
    "# compile the results for z-score of known LRs with rand LRs as control\n",
    "df_zs = []\n",
    "for result, tag in zip(results, df_info['tag']):\n",
    "    if result is None: continue\n",
    "    # grab the file id\n",
    "    file_id = list(result.keys())[0]\n",
    "    # grab the result object\n",
    "    result = result[file_id]\n",
    "    # retrieve the proper dataframe\n",
    "    known, rand = result['known']['z'].copy(), result['rand']['z'].copy()\n",
    "    known.index += '}{KNOWN'; rand.index += '}{RAND'\n",
    "    df_z = pd.concat([known, rand], axis=0).copy()\n",
    "    df_z.name = tag\n",
    "    df_zs.append(df_z)"
   ]
  },
  {
   "cell_type": "code",
   "execution_count": null,
   "id": "9fd3ef99-040a-40be-bedc-335267ac57ff",
   "metadata": {
    "scrolled": true
   },
   "outputs": [],
   "source": [
    "# compute the expression profiles\n",
    "df_z = pd.concat(df_zs, axis=1).T.fillna(0)\n",
    "df_z['organ'] = df_z.index.map(anno[['tag','organ']].value_counts().reset_index().set_index('tag')['organ'])\n",
    "df_z['organ'] += ':' + df_z.index.map(anno[['tag','age_cat']].value_counts().reset_index().set_index('tag')['age_cat'])\n",
    "df_z = df_z.melt(id_vars='organ').dropna().reset_index().iloc[:, 1:]\n",
    "df_z.columns = ['organ','variable','value']\n",
    "df_z[['variable','test']] = df_z['variable'].str.split('}{', expand=True, regex=False)\n",
    "df_z['secreted_vs_not'] = df_z['variable'].map(df_intrxn['annotation'])\n",
    "df_z['receptor_type'] = df_z['variable'].map(df_intrxn['directionality'])\n",
    "df_z['protein_vs_metabolite'] = df_z['variable'].map(df_intrxn['is_ppi']).map({True:'Protein (Secreted)', False:'Metabolite (Secreted)'})\n",
    "assert df_z.loc[df_z['secreted_vs_not'] == 'No Secretion', 'protein_vs_metabolite'].value_counts().index.tolist() == ['Protein (Secreted)']\n",
    "assert df_z.loc[df_z['receptor_type'] == 'Adhesion-Adhesion', 'protein_vs_metabolite'].value_counts().index.tolist() == ['Protein (Secreted)']\n",
    "# > gap junctions are not GPCRs so they are excluded from this analysis\n",
    "# assert df_z.loc[df_z['receptor_type'] == 'Gap-Gap', 'protein_vs_metabolite'].value_counts().index.tolist() == ['Protein (Secreted)']\n",
    "df_z.loc[df_z['secreted_vs_not'] == 'No Secretion', 'protein_vs_metabolite'] = 'Protein (Non-Secreted)'\n",
    "df_z.loc[df_z['receptor_type'] == 'Adhesion-Adhesion', 'protein_vs_metabolite'] = 'Protein (Adhesion)'\n",
    "df_z.loc[df_z['receptor_type'] == 'Gap-Gap', 'protein_vs_metabolite'] = 'Protein (Gap Junction)'\n",
    "df_z['protein_vs_metabolite'] = df_z['protein_vs_metabolite'].fillna('Random')\n",
    "df_z['organ_simple'] = df_z['organ'].str.replace('Adult (≥60)', 'adult').str.replace('Adult (<60)', 'adult').str.replace('Unknown (likely adult)','adult').str.replace('Fetal','fetal').str.replace(':', ' – ')\n",
    "# only look at known for now\n",
    "df_z_plot = df_z.loc[df_z['variable'].isin(df_intrxn.index) | (df_z['test'] == 'RAND')]"
   ]
  },
  {
   "cell_type": "code",
   "execution_count": null,
   "id": "250ed4a6-1c73-4a1a-8dee-01776b1a2060",
   "metadata": {
    "scrolled": true
   },
   "outputs": [],
   "source": [
    "# get the color of the different organs\n",
    "order = sorted(df_z_plot['organ_simple'].unique())\n",
    "order1 = [x for x in order if x.startswith('cns')]\n",
    "order2 = [x for x in order if x.startswith('heart')]\n",
    "order3 = [x for x in order if x not in order1 and x not in order2]\n",
    "hue_order = ['Metabolite (Secreted)','Protein (Secreted)','Protein (Non-Secreted)','Protein (Adhesion)', 'Random']\n",
    "# this is too long we have to separately plot\n",
    "# > cns\n",
    "fig, ax = plt.subplots(figsize=[6, 4]); ax.grid(False)\n",
    "sns.barplot(x='organ_simple', y='value', data=df_z_plot, hue='protein_vs_metabolite', order=order1,\n",
    "            ci=68, errwidth=1.5, capsize=0.3, edgecolor='k', errcolor='k', linewidth=1.5, hue_order=hue_order,\n",
    "            saturation=1, palette=['#cc78bc', '#56b4e9', '#de8f05', '#0173b2','lightgray'])\n",
    "ax.tick_params(axis='x', labelrotation=90); ax.set_xlim(-1, len(order1)); ax.legend(bbox_to_anchor=(1.05, .99), bbox_transform=ax.transAxes, frameon=False, loc='upper left')\n",
    "ax.set_ylim(0, 60)\n",
    "# > heart\n",
    "fig, ax = plt.subplots(figsize=[11, 4]); ax.grid(False)\n",
    "sns.barplot(x='organ_simple', y='value', data=df_z_plot, hue='protein_vs_metabolite', order=order2,\n",
    "            ci=68, errwidth=1.5, capsize=0.3, edgecolor='k', errcolor='k', linewidth=1.5, hue_order=hue_order,\n",
    "            saturation=1, palette=['#cc78bc', '#56b4e9', '#de8f05', '#0173b2','lightgray'])\n",
    "ax.tick_params(axis='x', labelrotation=90); ax.set_xlim(-1, len(order2)); ax.legend(bbox_to_anchor=(1.05, .99), bbox_transform=ax.transAxes, frameon=False, loc='upper left')\n",
    "ax.set_ylim(0, 60)\n",
    "# > rest\n",
    "fig, ax = plt.subplots(figsize=[18, 4]); ax.grid(False)\n",
    "sns.barplot(x='organ_simple', y='value', data=df_z_plot, hue='protein_vs_metabolite', order=order3,\n",
    "            ci=68, errwidth=1.5, capsize=0.3, edgecolor='k', errcolor='k', linewidth=1.5, hue_order=hue_order,\n",
    "            saturation=1, palette=['#cc78bc', '#56b4e9', '#de8f05', '#0173b2','lightgray'])\n",
    "ax.tick_params(axis='x', labelrotation=90); ax.set_xlim(-1, len(order3)); ax.legend(bbox_to_anchor=(1.05, .99), bbox_transform=ax.transAxes, frameon=False, loc='upper left')\n",
    "ax.set_ylim(0, 60)"
   ]
  },
  {
   "cell_type": "code",
   "execution_count": null,
   "id": "064acec9-e535-40f3-9543-15a2feefbae7",
   "metadata": {},
   "outputs": [],
   "source": [
    "# average per organ in the random data to get a baseline to normalize by\n",
    "df_z_tmp = df_z_plot.loc[df_z_plot['test'] == 'RAND'].copy()\n",
    "df_z_tmp['organ'] = df_z_tmp['organ'].str.replace('Adult (≥60)', 'adult').str.replace('Adult (<60)', 'adult').str.replace('Unknown (likely adult)','adult').str.replace('Fetal','fetal').str.replace(':', ' – ')\n",
    "df_z_tmp = df_z_tmp.groupby('organ').mean(numeric_only=True)\n",
    "# derive a baseline based on random\n",
    "baseline_random = df_z_tmp.mean(1)\n",
    "baseline_random_organ = baseline_random.copy()"
   ]
  },
  {
   "cell_type": "code",
   "execution_count": null,
   "id": "b575c852-fbad-4c55-bef7-7def0dffce0c",
   "metadata": {},
   "outputs": [],
   "source": [
    "# utilize this baseline to normalize all relevant values\n",
    "df_z_nrm = df_z_plot.loc[df_z_plot['test'] == 'KNOWN'].copy()\n",
    "df_z_nrm['organ'] = df_z_nrm['organ'].str.replace('Adult (≥60)', 'adult').str.replace('Adult (<60)', 'adult').str.replace('Unknown (likely adult)','adult').str.replace('Fetal','fetal').str.replace(':', ' – ')\n",
    "df_z_nrm['value'] /= df_z_nrm['organ'].map(baseline_random)\n",
    "df_z_nrm[['ligand','receptor']] = df_z_nrm['variable'].str.split(':', expand=True)\n",
    "assert df_z_nrm['variable'].str.split(':', expand=True).shape[1] == 2\n",
    "df_z_nrm_plot = df_z_nrm.pivot_table(index='organ', columns='variable', values='value')"
   ]
  },
  {
   "cell_type": "code",
   "execution_count": null,
   "id": "91722d88-0f79-4dd4-a64a-60ea339cdde7",
   "metadata": {},
   "outputs": [],
   "source": [
    "# calculate linkages\n",
    "from scipy.cluster.hierarchy import linkage, fcluster\n",
    "print('calculating linkages for rows')\n",
    "Z_row = linkage(df_z_nrm_plot, method='ward')\n",
    "print('calculating linkages for columns')\n",
    "Z_col = linkage(df_z_nrm_plot.T, method='ward')\n",
    "Z_col_organ_known = Z_col.copy()"
   ]
  },
  {
   "cell_type": "code",
   "execution_count": null,
   "id": "6176253f-2ec7-4f3e-b281-1bf676e197da",
   "metadata": {},
   "outputs": [],
   "source": [
    "from sklearn.metrics import silhouette_score\n",
    "# define clusters\n",
    "clusters = fcluster(Z_col_organ_known, criterion='maxclust', t=30)\n",
    "clusters = pd.Series(clusters, index=df_z_nrm_plot.columns).astype(str)\n",
    "# define the palette\n",
    "pal = sns.color_palette('hls', 30).as_hex()\n",
    "pal = {str(idx+1):color for idx, color in enumerate(pal)}\n",
    "colors = clusters.map(pal)"
   ]
  },
  {
   "cell_type": "code",
   "execution_count": null,
   "id": "b25e7f55-ba3c-4fdb-8156-61fe2baa240b",
   "metadata": {},
   "outputs": [],
   "source": [
    "# create clustermap\n",
    "pal = {str(idx):'r' for idx in range(25, 30+1)}\n",
    "g = sns.clustermap(df_z_nrm_plot, method='ward', figsize=[25, 15], vmin=-15, vmax=15, cmap='RdBu_r',\n",
    "                   col_colors=clusters.map(pal).fillna('lightgray'), colors_ratio=(.025),\n",
    "                   cbar_pos=(0, 1, .01, .1), yticklabels=1, dendrogram_ratio=(.05, .1))\n",
    "g.ax_heatmap.grid(False); g.ax_col_colors.grid(False)"
   ]
  },
  {
   "cell_type": "code",
   "execution_count": null,
   "id": "cbbea031-85e0-4bf7-8d2b-e7d81cd58155",
   "metadata": {},
   "outputs": [],
   "source": [
    "# create clustermap, this is the clean version\n",
    "g = sns.clustermap(df_z_nrm_plot, method='ward', figsize=[25, 15], vmin=-15, vmax=15, cmap='RdBu_r',\n",
    "                   cbar_pos=(0, 1, .01, .1), yticklabels=1, dendrogram_ratio=(.05, .1))\n",
    "g.ax_heatmap.grid(False)"
   ]
  },
  {
   "cell_type": "markdown",
   "id": "5e894329-8d60-4066-b4ba-0ba50a09dcce",
   "metadata": {},
   "source": [
    "### derive statistical profiles for spatial interactions"
   ]
  },
  {
   "cell_type": "code",
   "execution_count": null,
   "id": "2c78a53d-dc31-40ef-9cc0-657fbe2c5586",
   "metadata": {},
   "outputs": [],
   "source": [
    "# compare the CNS and non-CNS adult and non-adult\n",
    "df_z_nrm_melt = df_z_nrm.copy()\n",
    "df_z_nrm_melt['cat_simple'] = 'CNS'\n",
    "df_z_nrm_melt.loc[~df_z_nrm_melt['organ'].str.startswith('cns'), 'cat_simple'] = 'Non-CNS'\n",
    "df_z_nrm_melt.loc[df_z_nrm_melt['organ'].str.endswith('adult'), 'cat_simple'] += ' (Adult)'\n",
    "df_z_nrm_melt.loc[df_z_nrm_melt['organ'].str.endswith('fetal'), 'cat_simple'] += ' (Fetal)'\n",
    "# map on the interaction types\n",
    "df_z_nrm_melt['secreted_vs_not'] = df_z_nrm_melt['variable'].map(df_intrxn['annotation'])\n",
    "df_z_nrm_melt['receptor_type'] = df_z_nrm_melt['variable'].map(df_intrxn['directionality'])\n",
    "df_z_nrm_melt['protein_vs_metabolite'] = df_z_nrm_melt['variable'].map(df_intrxn['is_ppi']).map({True:'Protein (Secreted)', False:'Metabolite (Secreted)'})\n",
    "assert df_z_nrm_melt.loc[df_z_nrm_melt['secreted_vs_not'] == 'No Secretion', 'protein_vs_metabolite'].value_counts().index.tolist() == ['Protein (Secreted)']\n",
    "assert df_z_nrm_melt.loc[df_z_nrm_melt['receptor_type'] == 'Adhesion-Adhesion', 'protein_vs_metabolite'].value_counts().index.tolist() == ['Protein (Secreted)']\n",
    "df_z_nrm_melt.loc[df_z_nrm_melt['secreted_vs_not'] == 'No Secretion', 'protein_vs_metabolite'] = 'Protein (Non-Secreted)'\n",
    "df_z_nrm_melt.loc[df_z_nrm_melt['receptor_type'] == 'Adhesion-Adhesion', 'protein_vs_metabolite'] = 'Protein (Adhesion)'\n",
    "df_z_nrm_melt.loc[df_z_nrm_melt['receptor_type'] == 'Gap-Gap', 'protein_vs_metabolite'] = 'Protein (Gap Junction)'\n",
    "# get the color of the different organs\n",
    "fig, ax = plt.subplots(figsize=[8, 4]); ax.grid(False)\n",
    "order = sorted(df_z_nrm_melt['cat_simple'].unique())\n",
    "sns.barplot(x='cat_simple', y='value', data=df_z_nrm_melt, hue='protein_vs_metabolite', order=order,\n",
    "            ci=68, errwidth=1.5, capsize=0.3, edgecolor='k', errcolor='k', linewidth=1.5,\n",
    "            hue_order=['Metabolite (Secreted)','Protein (Secreted)','Protein (Non-Secreted)',\n",
    "                       'Protein (Adhesion)'], saturation=1,\n",
    "            palette=['#cc78bc', '#56b4e9', '#de8f05', '#0173b2'])\n",
    "ax.tick_params(axis='x', labelrotation=90)\n",
    "ax.set_xlim(-1, len(order))\n",
    "ax.legend(bbox_to_anchor=(1.05, .99), bbox_transform=ax.transAxes, frameon=False, loc='upper left')\n",
    "ax.set_yscale('log')\n",
    "ax.set_ylim(0, 100)\n",
    "# perform all p-value comparisons\n",
    "df_z_nrm_melt['tag'] = df_z_nrm_melt[['cat_simple', 'protein_vs_metabolite']].agg(':'.join, axis=1)\n",
    "for tag in sorted(df_z_nrm_melt['tag'].unique()):\n",
    "    if tag == 'CNS (Adult):Metabolite (Secreted)': continue\n",
    "    p = ss.mannwhitneyu(df_z_nrm_melt.loc[df_z_nrm_melt['tag'] == 'CNS (Adult):Metabolite (Secreted)', 'value'],\n",
    "                        df_z_nrm_melt.loc[df_z_nrm_melt['tag'] == tag, 'value'])[1]\n",
    "    print(tag, p)\n",
    "for tag in sorted(df_z_nrm_melt['tag'].unique()):\n",
    "    if tag == 'Non-CNS (Adult):Metabolite (Secreted)': continue\n",
    "    p = ss.mannwhitneyu(df_z_nrm_melt.loc[df_z_nrm_melt['tag'] == 'Non-CNS (Adult):Metabolite (Secreted)', 'value'],\n",
    "                        df_z_nrm_melt.loc[df_z_nrm_melt['tag'] == tag, 'value'])[1]\n",
    "    print(tag, p)\n",
    "for tag in sorted(df_z_nrm_melt['tag'].unique()):\n",
    "    if tag == 'Non-CNS (Fetal):Metabolite (Secreted)': continue\n",
    "    p = ss.mannwhitneyu(df_z_nrm_melt.loc[df_z_nrm_melt['tag'] == 'Non-CNS (Fetal):Metabolite (Secreted)', 'value'],\n",
    "                        df_z_nrm_melt.loc[df_z_nrm_melt['tag'] == tag, 'value'])[1]\n",
    "    print(tag, p)"
   ]
  },
  {
   "cell_type": "markdown",
   "id": "2cabdf71-eb02-4499-983c-7260296c28af",
   "metadata": {},
   "source": [
    "### derive tissue specificity scores from spatial interaction data"
   ]
  },
  {
   "cell_type": "code",
   "execution_count": null,
   "id": "b7726554-c084-4e1d-8363-1832d7a50a89",
   "metadata": {},
   "outputs": [],
   "source": [
    "# copy over the normalized data\n",
    "df_z_known = df_z_nrm.copy()\n",
    "# then average per receptor\n",
    "df_z_stat = df_z_known.groupby('variable').mean(numeric_only=True)['value'].reset_index()\n",
    "df_z_stat.columns = ['index','mean']\n",
    "# retrieve other statistics\n",
    "def custom(x): return ss.skew(x['value'])\n",
    "df_z_stat['skew'] = df_z_known.groupby('variable').apply(custom).abs().values\n",
    "df_z_stat['var'] = df_z_known.groupby('variable').var(numeric_only=True)['value'].fillna(0).values\n",
    "df_z_stat['max'] = df_z_known.groupby('variable').max(numeric_only=True)['value'].fillna(0).values\n",
    "df_z_stat_known = df_z_stat.copy()"
   ]
  },
  {
   "cell_type": "code",
   "execution_count": null,
   "id": "8f2d4b14-1c6e-48ad-81ab-a0d14285810d",
   "metadata": {},
   "outputs": [],
   "source": [
    "import statsmodels.api as sm\n",
    "# model max after mean\n",
    "model = sm.OLS(exog=sm.add_constant(df_z_stat['mean']), endog=df_z_stat['max'])\n",
    "model = model.fit()\n",
    "summary = model.summary()\n",
    "exp = model.predict(sm.add_constant(df_z_stat['mean']))\n",
    "obsmexp = df_z_stat['max'] - exp\n",
    "df_z_stat['max_obsmexp'] = obsmexp"
   ]
  },
  {
   "cell_type": "code",
   "execution_count": null,
   "id": "3d70fed2-6a58-47aa-b6f2-ffd7250233e0",
   "metadata": {},
   "outputs": [],
   "source": [
    "# mean against max\n",
    "fig, ax = plt.subplots(figsize=[6, 6]); ax.grid(False)\n",
    "ax.scatter(df_z_stat['mean'], df_z_stat['max'], s=2.5, alpha=0.5, color='xkcd:bright lilac')\n",
    "ax.set(xlabel='mean', ylabel='max')\n",
    "# retrieve axes\n",
    "xlim, ylim = ax.get_xlim(), ax.get_ylim()\n",
    "ax.plot([0]*2, ylim, color='k', linestyle='-', lw=1.5)\n",
    "ax.plot(xlim, [0]*2, color='k', linestyle='-', lw=1.5)\n",
    "# retrieve predictions\n",
    "xl = np.linspace(*xlim, 100)\n",
    "yl = model.predict(sm.add_constant(xl))\n",
    "ax.plot(xl, yl, color='k', linestyle='--', lw=1.5)\n",
    "ax.set_xlim(*xlim); ax.set_ylim(*ylim)\n",
    "# retrieve correlation\n",
    "print(ss.pearsonr(df_z_stat['mean'], df_z_stat['max']))"
   ]
  },
  {
   "cell_type": "code",
   "execution_count": null,
   "id": "45759536-960d-47de-b17b-92cbed19a291",
   "metadata": {},
   "outputs": [],
   "source": [
    "# define the correlations of the statistics\n",
    "def get_r(xs, ys): return ss.pearsonr(xs, ys)[0]\n",
    "def get_p(xs, ys): return ss.pearsonr(xs, ys)[1]\n",
    "mask = df_z_stat.iloc[:, 1:].corr(method=get_p) >= 0.05\n",
    "for idx in mask.index: mask.loc[idx, idx] = False\n",
    "g = sns.clustermap(df_z_stat.iloc[:, 1:].corr(method=get_r), vmin=-1, vmax=1, cmap='RdBu_r', annot=True, method='ward',\n",
    "                   figsize=[6, 6], fmt='.2f', cbar_pos=(0, .9, .015, .12), mask=mask)\n",
    "g.ax_heatmap.set_facecolor('lightgray'); g.ax_heatmap.grid(False); g.ax_cbar.grid(False)"
   ]
  },
  {
   "cell_type": "markdown",
   "id": "7816bf31-7126-428e-83dd-5df7d79767f5",
   "metadata": {},
   "source": [
    "### examine how tissue specificity and spatial interaction statistics behave across ligand-receptor classes"
   ]
  },
  {
   "cell_type": "code",
   "execution_count": null,
   "id": "56fb6f73-cd92-4f3f-bf92-a7def28fd027",
   "metadata": {},
   "outputs": [],
   "source": [
    "# map on the interaction types\n",
    "df_z_stat['secreted_vs_not'] = df_z_stat['index'].map(df_intrxn['annotation'])\n",
    "df_z_stat['receptor_type'] = df_z_stat['index'].map(df_intrxn['directionality'])\n",
    "df_z_stat['protein_vs_metabolite'] = df_z_stat['index'].map(df_intrxn['is_ppi']).map({True:'Protein (Secreted)', False:'Metabolite (Secreted)'})\n",
    "assert df_z_stat.loc[df_z_stat['secreted_vs_not'] == 'No Secretion', 'protein_vs_metabolite'].value_counts().index.tolist() == ['Protein (Secreted)']\n",
    "assert df_z_stat.loc[df_z_stat['receptor_type'] == 'Adhesion-Adhesion', 'protein_vs_metabolite'].value_counts().index.tolist() == ['Protein (Secreted)']\n",
    "df_z_stat.loc[df_z_stat['secreted_vs_not'] == 'No Secretion', 'protein_vs_metabolite'] = 'Protein (Non-Secreted)'\n",
    "df_z_stat.loc[df_z_stat['receptor_type'] == 'Adhesion-Adhesion', 'protein_vs_metabolite'] = 'Protein (Adhesion)'\n",
    "df_z_stat.loc[df_z_stat['receptor_type'] == 'Gap-Gap', 'protein_vs_metabolite'] = 'Protein (Gap Junction)'"
   ]
  },
  {
   "cell_type": "code",
   "execution_count": null,
   "id": "5c2f5edc-882d-455a-ba80-56ad2d4085b0",
   "metadata": {},
   "outputs": [],
   "source": [
    "# plot those of interest\n",
    "col = 'mean'\n",
    "fig, ax = plt.subplots(figsize=[3, 4]); ax.grid(False)\n",
    "order = ['Metabolite (Secreted)','Protein (Secreted)','Protein (Non-Secreted)',\n",
    "         'Protein (Adhesion)']\n",
    "palette = ['#cc78bc', '#56b4e9', '#de8f05', '#0173b2']\n",
    "sns.barplot(x='protein_vs_metabolite', y=col, data=df_z_stat, palette=palette,\n",
    "            errwidth=1.5, capsize=0.3, errcolor='k', ci=68,\n",
    "            linewidth=1.5, edgecolor='k', saturation=1, order=order)\n",
    "ax.tick_params(axis='x', labelrotation=90)\n",
    "ylim = ax.get_ylim()\n",
    "ax.set_xlim(-1, 4)\n",
    "ax.set_yscale('symlog')\n",
    "ax.set_ylim(0, 100)\n",
    "# plot the results\n",
    "for idx, tag1 in enumerate(df_z_stat['protein_vs_metabolite'].unique()[:-1]):\n",
    "    for tag2 in df_z_stat['protein_vs_metabolite'].unique()[idx+1:]:\n",
    "        p = ss.mannwhitneyu(df_z_stat.loc[df_z_stat['protein_vs_metabolite'] == tag1, col],\n",
    "                            df_z_stat.loc[df_z_stat['protein_vs_metabolite'] == tag2, col])[1]\n",
    "        print(tag1, tag2, p)"
   ]
  },
  {
   "cell_type": "code",
   "execution_count": null,
   "id": "ae2fceef-6a4f-45ba-aead-06e5654ebaf9",
   "metadata": {},
   "outputs": [],
   "source": [
    "# plot those of interest\n",
    "col = 'max_obsmexp'\n",
    "fig, ax = plt.subplots(figsize=[3, 4]); ax.grid(False)\n",
    "sns.barplot(x='protein_vs_metabolite', y=col, data=df_z_stat, palette=palette,\n",
    "            errwidth=1.5, capsize=0.3, errcolor='k', ci=68,\n",
    "            linewidth=1.5, edgecolor='k', saturation=1, order=order)\n",
    "ax.tick_params(axis='x', labelrotation=90)\n",
    "ylim = ax.get_ylim()\n",
    "ax.set_xlim(-1, 4)\n",
    "ax.set_yscale('symlog')\n",
    "ax.set_ylim(-10, 100)\n",
    "# plot the results\n",
    "for idx, tag1 in enumerate(df_z_stat['protein_vs_metabolite'].unique()[:-1]):\n",
    "    for tag2 in df_z_stat['protein_vs_metabolite'].unique()[idx+1:]:\n",
    "        p = ss.mannwhitneyu(df_z_stat.loc[df_z_stat['protein_vs_metabolite'] == tag1, col],\n",
    "                            df_z_stat.loc[df_z_stat['protein_vs_metabolite'] == tag2, col])[1]\n",
    "        print(tag1, tag2, p)"
   ]
  },
  {
   "cell_type": "markdown",
   "id": "0fade1c6-7e09-400b-8231-31f08df99d40",
   "metadata": {},
   "source": [
    "### examine average spatial interaction of CCC class and organ system and developmental stage"
   ]
  },
  {
   "cell_type": "code",
   "execution_count": null,
   "id": "e1e5c69e-6db0-4037-96c1-0b2698ce50d1",
   "metadata": {},
   "outputs": [],
   "source": [
    "# get the plot\n",
    "plot = df_z_nrm_melt.pivot_table(index='organ', columns='protein_vs_metabolite', values='value', aggfunc=np.mean)\n",
    "# get the plot – standardized\n",
    "g = sns.clustermap(plot, method='ward', cmap='Reds', figsize=[6, 9], yticklabels=1,\n",
    "                   dendrogram_ratio=(.2, .05), cbar_pos=(0, 1, .01, .1), standard_scale=0)\n",
    "g.ax_heatmap.grid(False)"
   ]
  },
  {
   "cell_type": "markdown",
   "id": "45863cd4-ceb0-43b9-be5d-ba4e7102caf4",
   "metadata": {},
   "source": [
    "### quantify the deorphanization capacity of spatial transcriptomics for known ligand-receptors"
   ]
  },
  {
   "cell_type": "code",
   "execution_count": null,
   "id": "74270307-d118-4f56-93c8-6a7d878c6ce5",
   "metadata": {
    "tags": []
   },
   "outputs": [],
   "source": [
    "# compile the results for z-score of gpcr screen LRs\n",
    "df_zs = []\n",
    "for result, tag in zip(results, df_info['tag']):\n",
    "    if result is None: continue\n",
    "    # grab the file id\n",
    "    file_id = list(result.keys())[0]\n",
    "    # grab the result object\n",
    "    result = result[file_id]\n",
    "    # retrieve the proper dataframe\n",
    "    df_z = result['known']['z'].copy()\n",
    "    df_z.name = tag\n",
    "    df_zs.append(df_z)"
   ]
  },
  {
   "cell_type": "code",
   "execution_count": null,
   "id": "f99452ce-5fc6-4803-8846-d835d3980830",
   "metadata": {
    "tags": []
   },
   "outputs": [],
   "source": [
    "# average per organ\n",
    "df_z = pd.concat(df_zs, axis=1).T.fillna(0)\n",
    "df_z['organ'] = df_z.index.map(anno[['tag','organ']].value_counts().reset_index().set_index('tag')['organ'])\n",
    "df_z['organ'] += ':' + df_z.index.map(anno[['tag','age_cat']].value_counts().reset_index().set_index('tag')['age_cat'])\n",
    "df_z['organ'] = df_z['organ'].str.replace('Adult (≥60)', 'adult').str.replace('Adult (<60)', 'adult').str.replace('Unknown (likely adult)','adult').str.replace('Fetal','fetal').str.replace(':', ' – ')\n",
    "df_z = df_z.groupby('organ').mean()\n",
    "df_z = (df_z.T / baseline_random_organ).T"
   ]
  },
  {
   "cell_type": "code",
   "execution_count": null,
   "id": "a661f9a8-d233-40b0-8d91-2da456b774d6",
   "metadata": {
    "tags": []
   },
   "outputs": [],
   "source": [
    "from tqdm import tqdm\n",
    "from sklearn.linear_model import LogisticRegression\n",
    "from sklearn.model_selection import StratifiedKFold\n",
    "from sklearn.metrics import roc_curve, auc, precision_recall_curve\n",
    "# define the data, mean\n",
    "xs = df_z.mean(0)\n",
    "ys = 1 * df_z.columns.isin(df_intrxn.index)\n",
    "xs = np.array(xs).reshape(-1, 1); ys = np.array(ys)\n",
    "xs_mean = xs.copy()\n",
    "# setup the data splitter\n",
    "seed = 0; np.random.seed(seed)\n",
    "sss = StratifiedKFold(random_state=0, n_splits=10, shuffle=True)\n",
    "df_stat = pd.DataFrame(columns=['auroc','auprc','auroc_rand','auprc_rand','method'])\n",
    "# setup the random seed and loop\n",
    "for idxs, idys in tqdm(sss.split(xs, ys), total=10):\n",
    "    data = xs[idxs].copy(), ys[idxs].copy()\n",
    "    # train the model\n",
    "    clf = LogisticRegression(random_state=seed)\n",
    "    clf.fit(*data)\n",
    "    # get the predictions\n",
    "    preds = clf.predict_proba(xs[idys])\n",
    "    preds = preds[:, clf.classes_ == 1][:, 0]\n",
    "    preds_bin = clf.predict(xs[idys])\n",
    "    auroc = auc(*roc_curve(1 * (ys[idys] == 1), preds)[:-1])\n",
    "    auprc = auc(*precision_recall_curve(1 * (ys[idys] == 1), preds)[:-1][::-1])\n",
    "    # retrieve random predictions\n",
    "    np.random.shuffle(preds)\n",
    "    np.random.shuffle(preds_bin)\n",
    "    auroc_rand = auc(*roc_curve(1 * (ys[idys] == 1), preds)[:-1])\n",
    "    auprc_rand = auc(*precision_recall_curve(1 * (ys[idys] == 1), preds)[:-1][::-1])\n",
    "    df_stat.loc[df_stat.shape[0]] = auroc, auprc, auroc_rand, auprc_rand, 'mean'"
   ]
  },
  {
   "cell_type": "code",
   "execution_count": null,
   "id": "718fc1de-c12c-4245-a892-34fccf3d0b4e",
   "metadata": {
    "tags": []
   },
   "outputs": [],
   "source": [
    "# define the data, max\n",
    "xs = df_z.max(0)\n",
    "ys = 1 * df_z.columns.isin(df_intrxn.index)\n",
    "xs = np.array(xs).reshape(-1, 1); ys = np.array(ys)\n",
    "xs_max = xs.copy()\n",
    "# setup the data splitter\n",
    "seed = 0; np.random.seed(seed)\n",
    "sss = StratifiedKFold(random_state=0, n_splits=10, shuffle=True)\n",
    "# setup the random seed and loop\n",
    "for idxs, idys in tqdm(sss.split(xs, ys), total=10):\n",
    "    data = xs[idxs].copy(), ys[idxs].copy()\n",
    "    # train the model\n",
    "    clf = LogisticRegression(random_state=seed)\n",
    "    clf.fit(*data)\n",
    "    # get the predictions\n",
    "    preds = clf.predict_proba(xs[idys])\n",
    "    preds = preds[:, clf.classes_ == 1][:, 0]\n",
    "    preds_bin = clf.predict(xs[idys])\n",
    "    auroc = auc(*roc_curve(1 * (ys[idys] == 1), preds)[:-1])\n",
    "    auprc = auc(*precision_recall_curve(1 * (ys[idys] == 1), preds)[:-1][::-1])\n",
    "    # retrieve random predictions\n",
    "    np.random.shuffle(preds)\n",
    "    np.random.shuffle(preds_bin)\n",
    "    auroc_rand = auc(*roc_curve(1 * (ys[idys] == 1), preds)[:-1])\n",
    "    auprc_rand = auc(*precision_recall_curve(1 * (ys[idys] == 1), preds)[:-1][::-1])\n",
    "    df_stat.loc[df_stat.shape[0]] = auroc, auprc, auroc_rand, auprc_rand, 'max'"
   ]
  },
  {
   "cell_type": "code",
   "execution_count": null,
   "id": "110ba2f6-240b-42dc-936e-5138544d395f",
   "metadata": {},
   "outputs": [],
   "source": [
    "# print statistics for the above data\n",
    "print(df_stat.groupby('method').mean())\n",
    "print(df_stat.groupby('method').std() / np.sqrt(10))"
   ]
  },
  {
   "cell_type": "code",
   "execution_count": null,
   "id": "225821a1-0eb0-4e75-83ff-d82834c8e57a",
   "metadata": {
    "tags": []
   },
   "outputs": [],
   "source": [
    "import statsmodels.api as sm\n",
    "# define the data, obsmexp\n",
    "model = sm.OLS(exog=sm.add_constant(df_z.mean(0).reset_index().set_index('index')[0]),\n",
    "               endog=df_z.max(0).reset_index().set_index('index')[0])\n",
    "model = model.fit()\n",
    "summary = model.summary()\n",
    "exp = model.predict(sm.add_constant(df_z.mean(0).reset_index().set_index('index')[0]))\n",
    "xs = df_z.max(0).reset_index().set_index('index')[0] - exp\n",
    "ys = 1 * df_z.columns.isin(df_intrxn.index)\n",
    "xs = np.array(xs).reshape(-1, 1); ys = np.array(ys)\n",
    "xs_obsmexp = xs.copy()\n",
    "# setup the data splitter\n",
    "seed = 0; np.random.seed(seed)\n",
    "sss = StratifiedKFold(random_state=0, n_splits=10, shuffle=True)\n",
    "# setup the random seed and loop\n",
    "for idxs, idys in tqdm(sss.split(xs, ys), total=10):\n",
    "    data = xs[idxs].copy(), ys[idxs].copy()\n",
    "    # train the model\n",
    "    clf = LogisticRegression(random_state=seed)\n",
    "    clf.fit(*data)\n",
    "    # get the predictions\n",
    "    preds = clf.predict_proba(xs[idys])\n",
    "    preds = preds[:, clf.classes_ == 1][:, 0]\n",
    "    preds_bin = clf.predict(xs[idys])\n",
    "    auroc = auc(*roc_curve(1 * (ys[idys] == 1), preds)[:-1])\n",
    "    auprc = auc(*precision_recall_curve(1 * (ys[idys] == 1), preds)[:-1][::-1])\n",
    "    # retrieve random predictions\n",
    "    np.random.shuffle(preds)\n",
    "    np.random.shuffle(preds_bin)\n",
    "    auroc_rand = auc(*roc_curve(1 * (ys[idys] == 1), preds)[:-1])\n",
    "    auprc_rand = auc(*precision_recall_curve(1 * (ys[idys] == 1), preds)[:-1][::-1])\n",
    "    df_stat.loc[df_stat.shape[0]] = auroc, auprc, auroc_rand, auprc_rand, 'obsmexp'"
   ]
  },
  {
   "cell_type": "code",
   "execution_count": null,
   "id": "9cbf16ae-ded1-437c-89db-b9a961e35341",
   "metadata": {
    "tags": []
   },
   "outputs": [],
   "source": [
    "# melt the data and plot accordingly\n",
    "data = df_stat.melt(id_vars='method')\n",
    "fig, ax = plt.subplots(figsize=[2, 4]); ax.grid(False)\n",
    "sns.boxplot(x='method', y='value', hue='variable', data=data, hue_order=['auprc','auprc_rand'],\n",
    "            order=['mean','max'], palette=['xkcd:bright lilac','lightgray'], saturation=1, linewidth=1.5, linecolor='k')\n",
    "ax.legend(bbox_to_anchor=(.99, 1.05), bbox_transform=ax.transAxes, loc='upper left', frameon=False)\n",
    "# add some extra space on top and compute p-values\n",
    "ylim = ax.get_ylim(); yrange = ylim[1] - ylim[0]; ax.set_ylim(ylim[0], ylim[1]+yrange*0.1)\n",
    "# compute p-values\n",
    "for method in ['mean','max']:\n",
    "    p = ss.mannwhitneyu(data.loc[(data['method'] == method)&(data['variable'] == 'auprc'), 'value'],\n",
    "                        data.loc[(data['method'] == method)&(data['variable'] == 'auprc_rand'), 'value'])[1]\n",
    "    print(method, p)\n",
    "for n in range(2, 4):\n",
    "    ax.patches[n].set_hatch('//')\n",
    "ax.set_xticklabels(['Mean','Max'])\n",
    "ax.set_xlabel('Metric utilized')\n",
    "ax.set_ylabel('Area under precision-\\nrecall curve (AUPRC)')\n",
    "# change name and color\n",
    "children = ax.legend_.get_children()[0].get_children()[-1].get_children()[0].get_children()\n",
    "children[0].get_children()[-1].get_children()[0].set_text('Observed')\n",
    "children[-1].get_children()[-1].get_children()[0].set_text('Randomly\\nshuffled')\n",
    "children[-1].get_children()[0].get_children()[0].set_hatch('//')"
   ]
  },
  {
   "cell_type": "code",
   "execution_count": null,
   "id": "5d6b93f2-6716-4360-a4ee-9ae3794d7bf8",
   "metadata": {
    "tags": []
   },
   "outputs": [],
   "source": [
    "# melt the data and plot accordingly\n",
    "data = df_stat.melt(id_vars='method')\n",
    "fig, ax = plt.subplots(figsize=[2, 4]); ax.grid(False)\n",
    "sns.boxplot(x='method', y='value', hue='variable', data=data, hue_order=['auroc','auroc_rand'],\n",
    "            order=['mean','max'], palette=['xkcd:bright lilac','lightgray'], saturation=1, linewidth=1.5, linecolor='k')\n",
    "ax.legend(bbox_to_anchor=(.99, 1.05), bbox_transform=ax.transAxes, loc='upper left', frameon=False)\n",
    "# add some extra space on top and compute p-values\n",
    "ylim = ax.get_ylim(); yrange = ylim[1] - ylim[0]; ax.set_ylim(ylim[0], ylim[1]+yrange*0.1)\n",
    "# compute p-values\n",
    "for method in ['mean','max']:\n",
    "    p = ss.mannwhitneyu(data.loc[(data['method'] == method)&(data['variable'] == 'auroc'), 'value'],\n",
    "                        data.loc[(data['method'] == method)&(data['variable'] == 'auroc_rand'), 'value'])[1]\n",
    "    print(method, p)\n",
    "for n in range(2, 4):\n",
    "    ax.patches[n].set_hatch('//')\n",
    "ax.set_xticklabels(['Mean','Max'])\n",
    "ax.set_xlabel('Metric utilized')\n",
    "ax.set_ylabel('Area under receiver operating\\ncharacteristic curve (AUROC)')\n",
    "# change name and color\n",
    "children = ax.legend_.get_children()[0].get_children()[-1].get_children()[0].get_children()\n",
    "children[0].get_children()[-1].get_children()[0].set_text('Observed')\n",
    "children[-1].get_children()[-1].get_children()[0].set_text('Randomly\\nshuffled')\n",
    "children[-1].get_children()[0].get_children()[0].set_hatch('//')"
   ]
  },
  {
   "cell_type": "code",
   "execution_count": null,
   "id": "e0c53ba3-b0c7-4b96-b711-b562cf231900",
   "metadata": {
    "tags": []
   },
   "outputs": [],
   "source": [
    "# compute seperately per ligand\n",
    "df_stat_overall = df_stat.copy()"
   ]
  },
  {
   "cell_type": "markdown",
   "id": "52ea97d2-61d8-418f-8f66-d88558f3f7d5",
   "metadata": {},
   "source": [
    "### stratify deorphanization capacity by ligand-receptor class"
   ]
  },
  {
   "cell_type": "code",
   "execution_count": null,
   "id": "6b8f8e79-9b04-42c7-80ea-5a79d4f30929",
   "metadata": {},
   "outputs": [],
   "source": [
    "# derive the relevant receptors involved in certain interactions\n",
    "metab_receptors = df_intrxn_gpcrs['receptor'][~df_intrxn_gpcrs['is_ppi']].unique()\n",
    "secr_receptors = df_intrxn_gpcrs['receptor'][(df_intrxn_gpcrs['is_ppi'])&(df_intrxn_gpcrs['annotation'] == 'Secretion')&(df_intrxn_gpcrs['annotation'] != 'Adhesion-Adhesion')].unique()\n",
    "nonsecr_receptors = df_intrxn_gpcrs['receptor'][(df_intrxn_gpcrs['is_ppi'])&(df_intrxn_gpcrs['annotation'] != 'Secretion')&(df_intrxn_gpcrs['annotation'] != 'Adhesion-Adhesion')].unique()\n",
    "adhes_receptors = df_intrxn_gpcrs['receptor'][(df_intrxn_gpcrs['directionality'] == 'Adhesion-Adhesion')].unique()"
   ]
  },
  {
   "cell_type": "code",
   "execution_count": null,
   "id": "364ef577-0e48-4ac4-b346-9184717a4c6e",
   "metadata": {
    "tags": []
   },
   "outputs": [],
   "source": [
    "# define the lrs\n",
    "lrs = df_z.columns.to_series().str.split(':', expand=True)\n",
    "df_stat = pd.DataFrame(columns=['auroc','auprc','auroc_rand','auprc_rand','method','receptor_type'])\n",
    "params = [[metab_receptors, 'metab'], [secr_receptors, 'secr'],\n",
    "          [nonsecr_receptors, 'nonsecr'], [adhes_receptors, 'adhes']]\n",
    "for receptors, name in params:\n",
    "    # define the data, mean\n",
    "    mask = lrs[1].isin(receptors)\n",
    "    xs = df_z.loc[:, mask].mean(0)\n",
    "    ys = 1 * df_z.columns[mask].isin(df_intrxn.index)\n",
    "    xs = np.array(xs).reshape(-1, 1); ys = np.array(ys)\n",
    "    # setup the data splitter\n",
    "    seed = 0; np.random.seed(seed)\n",
    "    sss = StratifiedKFold(random_state=0, n_splits=10, shuffle=True)\n",
    "    # setup the random seed and loop\n",
    "    for idxs, idys in tqdm(sss.split(xs, ys), total=10):\n",
    "        data = xs[idxs].copy(), ys[idxs].copy()\n",
    "        # train the model\n",
    "        clf = LogisticRegression(random_state=seed)\n",
    "        clf.fit(*data)\n",
    "        # get the predictions\n",
    "        preds = clf.predict_proba(xs[idys])\n",
    "        preds = preds[:, clf.classes_ == 1][:, 0]\n",
    "        preds_bin = clf.predict(xs[idys])\n",
    "        auroc = auc(*roc_curve(1 * (ys[idys] == 1), preds)[:-1])\n",
    "        auprc = auc(*precision_recall_curve(1 * (ys[idys] == 1), preds)[:-1][::-1])\n",
    "        # retrieve random predictions\n",
    "        np.random.shuffle(preds)\n",
    "        np.random.shuffle(preds_bin)\n",
    "        auroc_rand = auc(*roc_curve(1 * (ys[idys] == 1), preds)[:-1])\n",
    "        auprc_rand = auc(*precision_recall_curve(1 * (ys[idys] == 1), preds)[:-1][::-1])\n",
    "        df_stat.loc[df_stat.shape[0]] = auroc, auprc, auroc_rand, auprc_rand, 'mean', name"
   ]
  },
  {
   "cell_type": "code",
   "execution_count": null,
   "id": "a1c699a7-001d-450f-bab0-900b66168335",
   "metadata": {
    "tags": []
   },
   "outputs": [],
   "source": [
    "# melt the data and plot accordingly\n",
    "data = df_stat.melt(id_vars=['receptor_type','method'])\n",
    "fig, ax = plt.subplots(figsize=[4, 4]); ax.grid(False)\n",
    "sns.boxplot(x='receptor_type', y='value', hue='variable', data=data, hue_order=['auprc','auprc_rand'],\n",
    "            palette=['xkcd:bright lilac','lightgray'], saturation=1, linewidth=1.5, linecolor='k')\n",
    "ax.legend(bbox_to_anchor=(.99, .5), bbox_transform=ax.transAxes, loc='center left', frameon=False)\n",
    "# add some extra space on top and compute p-values\n",
    "ylim = ax.get_ylim(); yrange = ylim[1] - ylim[0]; ax.set_ylim(ylim[0], ylim[1]+yrange*0.1)\n",
    "# compute p-values\n",
    "for name in ['metab','secr','nonsecr','adhes']:\n",
    "    p = ss.mannwhitneyu(data.loc[(data['receptor_type'] == name)&(data['variable'] == 'auprc'), 'value'],\n",
    "                        data.loc[(data['receptor_type'] == name)&(data['variable'] == 'auprc_rand'), 'value'])[1]\n",
    "    print(name, p)\n",
    "for n, c in zip(range(4), ['#cc78bc', '#56b4e9', '#de8f05', '#0173b2']):\n",
    "    ax.patches[n].set_color(c)\n",
    "    ax.patches[n].set_edgecolor('k')\n",
    "for n in range(4, 8):\n",
    "    ax.patches[n].set_hatch('//')\n",
    "ax.set_xticklabels(['Metabolite\\n(Secreted)','Protein\\n(Secreted)','Protein\\n(Non-Secreted)', 'Protein\\n(Adhesion)'])\n",
    "ax.tick_params(axis='x', labelrotation=90)\n",
    "ax.set(xlabel='Ligand-receptor class', ylabel='Area under precision-\\nrecall curve (AUPRC)')"
   ]
  },
  {
   "cell_type": "code",
   "execution_count": null,
   "id": "c7187900-27e6-4d64-8821-2a727896cc5e",
   "metadata": {
    "tags": []
   },
   "outputs": [],
   "source": [
    "# melt the data and plot accordingly\n",
    "data = df_stat.melt(id_vars=['receptor_type','method'])\n",
    "fig, ax = plt.subplots(figsize=[4, 4]); ax.grid(False)\n",
    "sns.boxplot(x='receptor_type', y='value', hue='variable', data=data, hue_order=['auroc','auroc_rand'],\n",
    "            palette=['xkcd:bright lilac','lightgray'], saturation=1, linewidth=1.5, linecolor='k')\n",
    "ax.legend(bbox_to_anchor=(.99, .5), bbox_transform=ax.transAxes, loc='center left', frameon=False)\n",
    "# add some extra space on top and compute p-values\n",
    "ylim = ax.get_ylim(); yrange = ylim[1] - ylim[0]; ax.set_ylim(ylim[0], ylim[1]+yrange*0.1)\n",
    "# compute p-values\n",
    "for name in ['metab','secr','nonsecr','adhes']:\n",
    "    p = ss.mannwhitneyu(data.loc[(data['receptor_type'] == name)&(data['variable'] == 'auroc'), 'value'],\n",
    "                        data.loc[(data['receptor_type'] == name)&(data['variable'] == 'auroc_rand'), 'value'])[1]\n",
    "    print(name, p)\n",
    "for n, c in zip(range(4), ['#cc78bc', '#56b4e9', '#de8f05', '#0173b2']):\n",
    "    ax.patches[n].set_color(c)\n",
    "    ax.patches[n].set_edgecolor('k')\n",
    "for n in range(4, 8):\n",
    "    ax.patches[n].set_hatch('//')\n",
    "ax.set_xticklabels(['Metabolite\\n(Secreted)','Protein\\n(Secreted)','Protein\\n(Non-Secreted)', 'Protein\\n(Adhesion)'])\n",
    "ax.tick_params(axis='x', labelrotation=90)\n",
    "ax.set(xlabel='Ligand-receptor class', ylabel='Area under receiver operating\\ncharacteristic curve (AUROC)')"
   ]
  },
  {
   "cell_type": "code",
   "execution_count": null,
   "id": "db89e85c-0219-4469-ac4e-c27aac871d73",
   "metadata": {
    "tags": []
   },
   "outputs": [],
   "source": [
    "# print statistics\n",
    "print(df_stat.groupby(['method','receptor_type']).mean())\n",
    "print(df_stat.groupby(['method','receptor_type']).std() / np.sqrt(10))\n",
    "# save receptor type\n",
    "df_stat_rtype = df_stat.copy()"
   ]
  },
  {
   "cell_type": "markdown",
   "id": "4e922e02-a0a7-4b6d-9c3e-f4a3b115e0fb",
   "metadata": {
    "tags": []
   },
   "source": [
    "### quantify deorphanization capacity by spatial transcriptomic dataset"
   ]
  },
  {
   "cell_type": "code",
   "execution_count": null,
   "id": "c503cb19-4f5c-4651-8ae0-da02c5e2a479",
   "metadata": {
    "tags": []
   },
   "outputs": [],
   "source": [
    "# keep track of predictions\n",
    "df_stat = pd.DataFrame(columns=['auroc','auprc','auroc_rand','auprc_rand','method','dataset']); preds_ = []\n",
    "for dataset in tqdm(df_z.index):\n",
    "    # define the data, mean\n",
    "    xs = df_z.loc[dataset]\n",
    "    ys = 1 * df_z.columns.isin(df_intrxn.index)\n",
    "    xs = np.array(xs).reshape(-1, 1); ys = np.array(ys)\n",
    "    # setup the data splitter\n",
    "    seed = 0; np.random.seed(seed)\n",
    "    sss = StratifiedKFold(random_state=0, n_splits=10, shuffle=True)\n",
    "    # setup the random seed and loop\n",
    "    for idxs, idys in sss.split(xs, ys):\n",
    "        data = xs[idxs].copy(), ys[idxs].copy()\n",
    "        # train the model\n",
    "        clf = LogisticRegression(random_state=seed)\n",
    "        clf.fit(*data)\n",
    "        # get the predictions\n",
    "        preds = clf.predict_proba(xs[idys])\n",
    "        preds = preds[:, clf.classes_ == 1][:, 0]\n",
    "        preds_.append(pd.Series(preds, index=df_z.columns[idys], name=dataset))\n",
    "        preds_bin = clf.predict(xs[idys])\n",
    "        auroc = auc(*roc_curve(1 * (ys[idys] == 1), preds)[:-1])\n",
    "        auprc = auc(*precision_recall_curve(1 * (ys[idys] == 1), preds)[:-1][::-1])\n",
    "        # retrieve random predictions\n",
    "        np.random.shuffle(preds)\n",
    "        np.random.shuffle(preds_bin)\n",
    "        auroc_rand = auc(*roc_curve(1 * (ys[idys] == 1), preds)[:-1])\n",
    "        auprc_rand = auc(*precision_recall_curve(1 * (ys[idys] == 1), preds)[:-1][::-1])\n",
    "        df_stat.loc[df_stat.shape[0]] = auroc, auprc, auroc_rand, auprc_rand, 'mean', dataset"
   ]
  },
  {
   "cell_type": "code",
   "execution_count": null,
   "id": "374f51f5-57d0-4e21-a4b8-75938e357214",
   "metadata": {
    "tags": []
   },
   "outputs": [],
   "source": [
    "from matplotlib.cm import get_cmap\n",
    "from matplotlib.colors import to_hex\n",
    "# derive a color palette\n",
    "cmap = get_cmap('Purples')\n",
    "# melt the data and plot accordingly\n",
    "fig, ax = plt.subplots(figsize=[8, 4]); ax.grid(False)\n",
    "values = df_stat.groupby('dataset').mean(numeric_only=True)['auprc'].sort_values()\n",
    "# derive colors and order\n",
    "order = values.index; vmin = values.min(); vmax = values.max(); print(vmin, vmax)\n",
    "sns.boxplot(x='dataset', y='auprc', data=df_stat, saturation=1, linewidth=1.5, linecolor='k',\n",
    "            order=order[::-1], palette=[to_hex(cmap((x-vmin)/(vmax-vmin))) for x in values[::-1]])\n",
    "ax.legend(bbox_to_anchor=(.99, .5), bbox_transform=ax.transAxes, loc='center left', frameon=False)\n",
    "# add some extra space on top and compute p-values\n",
    "ax.set_xlim(-1, df_z.shape[0]); ax.tick_params(axis='x', labelrotation=90)\n",
    "ylim = ax.get_ylim(); yrange = ylim[1] - ylim[0]; ax.set_ylim(ylim[0], ylim[1]+yrange*0.1)\n",
    "ax.set(xlabel='Tissue', ylabel='Area under precision-\\nrecall curve (AUPRC)')\n",
    "labels = values.index.str.capitalize().str.replace(' – ', ' in ')\\\n",
    ".str.replace('Cns','CNS').str.replace('avn','atrioventricular node').str.replace('Prostate','Reproductive (prostate)')\n",
    "ax.set_xticklabels(labels[::-1])"
   ]
  },
  {
   "cell_type": "code",
   "execution_count": null,
   "id": "272e40ce-0647-4744-9057-43f464f71ea4",
   "metadata": {
    "tags": []
   },
   "outputs": [],
   "source": [
    "# melt the data and plot accordingly\n",
    "fig, ax = plt.subplots(figsize=[8, 4]); ax.grid(False)\n",
    "values = df_stat.groupby('dataset').mean(numeric_only=True)['auroc'].sort_values()\n",
    "# derive colors and order\n",
    "order = values.index; vmin = values.min(); vmax = values.max(); print(vmin, vmax)\n",
    "sns.boxplot(x='dataset', y='auroc', data=df_stat, saturation=1, linewidth=1.5, linecolor='k',\n",
    "            order=order[::-1], palette=[to_hex(cmap((x-vmin)/(vmax-vmin))) for x in values[::-1]])\n",
    "ax.legend(bbox_to_anchor=(.99, .5), bbox_transform=ax.transAxes, loc='center left', frameon=False)\n",
    "# add some extra space on top and compute p-values\n",
    "ax.plot([-1, df_z.shape[0]], [0.5]*2, color='k', linestyle='--')\n",
    "ax.set_xlim(-1, df_z.shape[0]); ax.tick_params(axis='x', labelrotation=90)\n",
    "ylim = ax.get_ylim(); yrange = ylim[1] - ylim[0]; ax.set_ylim(ylim[0], ylim[1]+yrange*0.1)"
   ]
  },
  {
   "cell_type": "code",
   "execution_count": null,
   "id": "96f53583-ef57-44e3-b822-119facd83f4d",
   "metadata": {
    "tags": []
   },
   "outputs": [],
   "source": [
    "# look at the predictions\n",
    "preds = pd.concat(preds_, axis=1).T.reset_index()\n",
    "preds = preds.groupby('index').mean().T\n",
    "df_p = preds.corr(method=get_p).astype(float)\n",
    "for idx in df_p.index: df_p.loc[idx, idx] = 0\n",
    "mask = df_p.astype(float) >= 0.05"
   ]
  },
  {
   "cell_type": "code",
   "execution_count": null,
   "id": "7e09c170-0fd0-4e4d-b649-9a2f2b4c7fe0",
   "metadata": {
    "tags": []
   },
   "outputs": [],
   "source": [
    "# demostrate organ to organ similarity\n",
    "g = sns.clustermap(preds.corr(), cmap='magma', method='ward', cbar_pos=(0, 1, .01, .1), mask=mask,\n",
    "                   figsize=[8, 8], dendrogram_ratio=.2, xticklabels=1, yticklabels=1, vmax=0.8, vmin=-0.2)\n",
    "g.ax_heatmap.grid(False); g.ax_cbar.grid(False)\n",
    "g.ax_heatmap.tick_params(labelsize=10); g.ax_heatmap.set_facecolor('lightgray')"
   ]
  },
  {
   "cell_type": "code",
   "execution_count": null,
   "id": "63542b01-91b1-40aa-81f3-4b5ed03d987a",
   "metadata": {
    "tags": []
   },
   "outputs": [],
   "source": [
    "# add on the extra information\n",
    "anno_tmp = anno.copy()\n",
    "anno_tmp['tmp'] = anno[['tag','organ']].value_counts().reset_index().set_index('tag')['organ'].values\n",
    "anno_tmp['tmp'] += ':' + anno[['tag','age_cat']].value_counts().reset_index().set_index('tag')['age_cat'].values\n",
    "anno_tmp['tmp'] = anno_tmp['tmp'].str.replace('Adult (≥60)', 'adult').str.replace('Adult (<60)', 'adult').str.replace('Unknown (likely adult)','adult').str.replace('Fetal','fetal').str.replace(':', ' – ')"
   ]
  },
  {
   "cell_type": "code",
   "execution_count": null,
   "id": "f4f57052-fa6f-432a-9f35-ce1f1233d707",
   "metadata": {
    "tags": []
   },
   "outputs": [],
   "source": [
    "# derive coefficients of variation\n",
    "df_info['coef_of_var'] = np.nan\n",
    "for idx in tqdm(range(len(adatas)), total=len(adatas)):\n",
    "    try: coef_of_var = np.nanmean(np.sqrt(adatas[idx].X.mean(axis=0).A1) / adatas[idx].X.toarray().var(axis=0))\n",
    "    except: coef_of_var = np.nanmean(np.sqrt(adatas[idx].X.mean(axis=0)) / adatas[idx].X.var(axis=0))\n",
    "    df_info.loc[idx, 'coef_of_var'] = coef_of_var\n",
    "anno_tmp['coef_of_var'] = anno_tmp['tag'].map(df_info.set_index('tag')['coef_of_var'])"
   ]
  },
  {
   "cell_type": "code",
   "execution_count": null,
   "id": "e2b91ab0-6443-40da-8798-ceb9eee6fa86",
   "metadata": {
    "tags": []
   },
   "outputs": [],
   "source": [
    "# calculate sparsity\n",
    "df_info['sparsity'] = np.nan\n",
    "for idx in tqdm(range(len(adatas)), total=len(adatas)):\n",
    "    df_info.loc[idx, 'sparsity'] = 1 - np.mean(adatas[idx].X != 0)\n",
    "anno_tmp['sparsity'] = anno_tmp['tag'].map(df_info.set_index('tag')['sparsity'])"
   ]
  },
  {
   "cell_type": "code",
   "execution_count": null,
   "id": "eb988014-5094-48b4-8f9c-a085ac5fb051",
   "metadata": {
    "tags": []
   },
   "outputs": [],
   "source": [
    "from scipy.spatial.distance import pdist\n",
    "# calculate connectivity\n",
    "df_info['connectivity'] = np.nan\n",
    "for idx in tqdm(range(len(adatas)), total=len(adatas)):\n",
    "    df_info.loc[idx, 'connectivity'] = np.mean(pdist(adatas[idx].obsm['spatial']) < 2.5)\n",
    "anno_tmp['connectivity'] = anno_tmp['tag'].map(df_info.set_index('tag')['connectivity'])"
   ]
  },
  {
   "cell_type": "code",
   "execution_count": null,
   "id": "49b2aa74-f7df-4272-b6f7-fb8aa96fd025",
   "metadata": {},
   "outputs": [],
   "source": [
    "# compile the results for z-score of known LRs with rand LRs as control\n",
    "df_zs = []\n",
    "for result, tag in zip(results, df_info['tag']):\n",
    "    if result is None: continue\n",
    "    # grab the file id\n",
    "    file_id = list(result.keys())[0]\n",
    "    # grab the result object\n",
    "    result = result[file_id]\n",
    "    # retrieve the proper dataframe\n",
    "    known, rand = result['known']['z'].copy(), result['rand']['z'].copy()\n",
    "    known.index += '}{KNOWN'; rand.index += '}{RAND'\n",
    "    df_z = pd.concat([known, rand], axis=0).copy()\n",
    "    df_z.name = tag\n",
    "    df_zs.append(df_z)"
   ]
  },
  {
   "cell_type": "code",
   "execution_count": null,
   "id": "1f86d1c0-f72e-4ce6-bb39-faaa8ece00ee",
   "metadata": {
    "scrolled": true
   },
   "outputs": [],
   "source": [
    "# compute the expression profiles\n",
    "df_z = pd.concat(df_zs, axis=1).T.fillna(0)\n",
    "df_z_known, df_z_test = df_z.loc[:, df_z.columns.str.endswith('}{KNOWN')], df_z.loc[:, df_z.columns.str.endswith('}{RAND')]\n",
    "df_z_known.columns = df_z_known.columns.str.slice(0, -7)\n",
    "df_z_test.columns = df_z_test.columns.str.slice(0, -6)\n",
    "# derive a baseline based on random\n",
    "baseline_random = df_z_test.mean(1)\n",
    "# and normalize data with it\n",
    "df_z_known = (df_z_known.T / baseline_random).T"
   ]
  },
  {
   "cell_type": "markdown",
   "id": "8a603b5a-d7ea-40fe-a5b0-b699d0070858",
   "metadata": {},
   "source": [
    "### repeat this per dataset stratification at higher resolution"
   ]
  },
  {
   "cell_type": "code",
   "execution_count": null,
   "id": "b5a5c203-0f60-495b-9331-36484085116a",
   "metadata": {
    "tags": []
   },
   "outputs": [],
   "source": [
    "# keep track of predictions\n",
    "df_stat_hires = pd.DataFrame(columns=['auroc','auprc','auroc_rand','auprc_rand','method','dataset']); preds_ = []\n",
    "for dataset in tqdm(df_z_known.index):\n",
    "    # define the data, mean\n",
    "    xs = df_z_known.loc[dataset]\n",
    "    ys = 1 * df_z_known.columns.isin(df_intrxn.index)\n",
    "    xs = np.array(xs).reshape(-1, 1); ys = np.array(ys)\n",
    "    # setup the data splitter\n",
    "    seed = 0; np.random.seed(seed)\n",
    "    sss = StratifiedKFold(random_state=0, n_splits=10, shuffle=True)\n",
    "    # setup the random seed and loop\n",
    "    for idxs, idys in sss.split(xs, ys):\n",
    "        data = xs[idxs].copy(), ys[idxs].copy()\n",
    "        # train the model\n",
    "        clf = LogisticRegression(random_state=seed)\n",
    "        clf.fit(*data)\n",
    "        # get the predictions\n",
    "        preds = clf.predict_proba(xs[idys])\n",
    "        preds = preds[:, clf.classes_ == 1][:, 0]\n",
    "        preds_.append(pd.Series(preds, index=df_z_known.columns[idys], name=dataset))\n",
    "        preds_bin = clf.predict(xs[idys])\n",
    "        auroc = auc(*roc_curve(1 * (ys[idys] == 1), preds)[:-1])\n",
    "        auprc = auc(*precision_recall_curve(1 * (ys[idys] == 1), preds)[:-1][::-1])\n",
    "        # retrieve random predictions\n",
    "        np.random.shuffle(preds)\n",
    "        np.random.shuffle(preds_bin)\n",
    "        auroc_rand = auc(*roc_curve(1 * (ys[idys] == 1), preds)[:-1])\n",
    "        auprc_rand = auc(*precision_recall_curve(1 * (ys[idys] == 1), preds)[:-1][::-1])\n",
    "        df_stat_hires.loc[df_stat_hires.shape[0]] = auroc, auprc, auroc_rand, auprc_rand, 'mean', dataset"
   ]
  },
  {
   "cell_type": "code",
   "execution_count": null,
   "id": "22aee3ff-d6ae-4617-b012-962a502c88aa",
   "metadata": {
    "tags": []
   },
   "outputs": [],
   "source": [
    "# look at correlations\n",
    "anno_mean = anno_tmp[anno_tmp['tag'].isin(df_stat_hires['dataset'])].copy()\n",
    "anno_mean['auroc'] = anno_mean['tag'].map(df_stat_hires.groupby('dataset').mean(numeric_only=True)['auroc']).values\n",
    "anno_mean['auprc'] = anno_mean['tag'].map(df_stat_hires.groupby('dataset').mean(numeric_only=True)['auprc']).values\n",
    "# check the correlation\n",
    "cols = ['n-spots', 'coef_of_var',  'sparsity', 'connectivity', 'auroc', 'auprc']\n",
    "g = sns.clustermap(anno_mean[cols].corr(method='pearson'), vmin=-0.5, vmax=1, cmap='magma', method='ward', figsize=[5, 5],\n",
    "                   dendrogram_ratio=.2, cbar_pos=(0, 1, .01, .1))\n",
    "g.ax_heatmap.grid(False)"
   ]
  },
  {
   "cell_type": "code",
   "execution_count": null,
   "id": "edf3a5bb-a525-4c9c-b6b6-65fe08f30518",
   "metadata": {
    "tags": []
   },
   "outputs": [],
   "source": [
    "# measure against n-spots\n",
    "fig, ax = plt.subplots(figsize=[4, 4]); ax.grid(False)\n",
    "xs, ys = anno_mean['auroc'], anno_mean['n-spots']\n",
    "ax.scatter(xs, ys, lw=1.5, alpha=0.75,\n",
    "           edgecolor='xkcd:bright lilac', color='xkcd:pale lavender', s=20)\n",
    "model = np.polynomial.Polynomial(0)\n",
    "model = model.fit(xs, ys, 1)\n",
    "xlim, ylim = ax.get_xlim(), ax.get_ylim()\n",
    "xl, yl = model.linspace(domain=xlim)\n",
    "ax.plot(xl, yl, color='k')\n",
    "ax.set_xlim(*xlim); ax.set_ylim(*ylim)\n",
    "ax.set(xlabel='AUROC', ylabel='# of spots')\n",
    "ss.pearsonr(xs, ys)"
   ]
  },
  {
   "cell_type": "code",
   "execution_count": null,
   "id": "fdad8ae0-0d71-43d2-9cd0-813a3acb856c",
   "metadata": {
    "tags": []
   },
   "outputs": [],
   "source": [
    "# repeat the visualization by AUPRC\n",
    "fig, ax = plt.subplots(figsize=[4, 4]); ax.grid(False)\n",
    "xs, ys = anno_mean['auprc'], anno_mean['n-spots']\n",
    "ax.scatter(xs, ys, lw=1.5, alpha=0.75,\n",
    "           edgecolor='xkcd:bright lilac', color='xkcd:pale lavender', s=20)\n",
    "model = np.polynomial.Polynomial(0)\n",
    "model = model.fit(xs, ys, 1)\n",
    "xlim, ylim = ax.get_xlim(), ax.get_ylim()\n",
    "xl, yl = model.linspace(domain=xlim)\n",
    "ax.plot(xl, yl, color='k')\n",
    "ax.set_xlim(*xlim); ax.set_ylim(*ylim)\n",
    "ax.set(xlabel='Area under precision-\\nrecall curve (AUPRC)', ylabel='# of observations / dataset')\n",
    "ss.pearsonr(xs, ys)"
   ]
  },
  {
   "cell_type": "code",
   "execution_count": null,
   "id": "a0f7e76e-18e3-4ee3-b6b2-4d7d7d792a73",
   "metadata": {
    "tags": []
   },
   "outputs": [],
   "source": [
    "# as well as sparsity\n",
    "fig, ax = plt.subplots(figsize=[4, 4]); ax.grid(False)\n",
    "xs, ys = anno_mean['auroc'], anno_mean['sparsity']\n",
    "ax.scatter(xs, ys, lw=1.5, alpha=0.75,\n",
    "           edgecolor='xkcd:bright lilac', color='xkcd:pale lavender', s=20)\n",
    "model = np.polynomial.Polynomial(0)\n",
    "model = model.fit(xs, ys, 1)\n",
    "xlim, ylim = ax.get_xlim(), ax.get_ylim()\n",
    "xl, yl = model.linspace(domain=xlim)\n",
    "ax.plot(xl, yl, color='k')\n",
    "ax.set_xlim(*xlim); ax.set_ylim(*ylim)\n",
    "ax.set(xlabel='AUROC', ylabel='sparsity')\n",
    "ss.pearsonr(xs, ys)"
   ]
  },
  {
   "cell_type": "code",
   "execution_count": null,
   "id": "d996caaa-d9d2-443c-a628-d354cc2584a8",
   "metadata": {
    "tags": []
   },
   "outputs": [],
   "source": [
    "# as well as sparsity\n",
    "fig, ax = plt.subplots(figsize=[4, 4]); ax.grid(False)\n",
    "xs, ys = anno_mean['auprc'], anno_mean['sparsity']\n",
    "ax.scatter(xs, ys, lw=1.5, alpha=0.75,\n",
    "           edgecolor='xkcd:bright lilac', color='xkcd:pale lavender', s=20)\n",
    "model = np.polynomial.Polynomial(0)\n",
    "model = model.fit(xs, ys, 1)\n",
    "xlim, ylim = ax.get_xlim(), ax.get_ylim()\n",
    "xl, yl = model.linspace(domain=xlim)\n",
    "ax.plot(xl, yl, color='k')\n",
    "ax.set_xlim(*xlim); ax.set_ylim(*ylim)\n",
    "ax.set(xlabel='Area under precision-\\nrecall curve (AUPRC)', ylabel='Sparsity of counts')\n",
    "ss.pearsonr(xs, ys)"
   ]
  },
  {
   "cell_type": "markdown",
   "id": "262feeba-248e-4f36-b8fb-711fd6d7ed09",
   "metadata": {},
   "source": [
    "### examine spatial dynamics of promiscuous ligands and receptors"
   ]
  },
  {
   "cell_type": "code",
   "execution_count": null,
   "id": "b1422da0-7d3a-45c3-9b43-6639181f6d9f",
   "metadata": {
    "tags": []
   },
   "outputs": [],
   "source": [
    "# compile the results for z-score of gpcr screen LRs\n",
    "df_zs = []\n",
    "for result, tag in zip(results, df_info['tag']):\n",
    "    if result is None: continue\n",
    "    # grab the file id\n",
    "    file_id = list(result.keys())[0]\n",
    "    # grab the result object\n",
    "    result = result[file_id]\n",
    "    # retrieve the proper dataframe\n",
    "    df_z = result['known']['z'].copy()\n",
    "    df_z.name = tag\n",
    "    df_zs.append(df_z)\n",
    "# average per organ\n",
    "df_z = pd.concat(df_zs, axis=1).T.fillna(0)\n",
    "df_z['organ'] = df_z.index.map(anno[['tag','organ']].value_counts().reset_index().set_index('tag')['organ'])\n",
    "df_z['organ'] += ':' + df_z.index.map(anno[['tag','age_cat']].value_counts().reset_index().set_index('tag')['age_cat'])\n",
    "df_z['organ'] = df_z['organ'].str.replace('Adult (≥60)', 'adult').str.replace('Adult (<60)', 'adult').str.replace('Unknown (likely adult)','adult').str.replace('Fetal','fetal').str.replace(':', ' – ')\n",
    "df_z = df_z.groupby('organ').mean()\n",
    "df_z = (df_z.T / baseline_random_organ).T"
   ]
  },
  {
   "cell_type": "code",
   "execution_count": null,
   "id": "7daeac9b-9e02-4b05-bd1c-155577e582c5",
   "metadata": {
    "tags": []
   },
   "outputs": [],
   "source": [
    "from scipy.spatial.distance import cdist, pdist, squareform\n",
    "# retrieve ligands with multiple receptors\n",
    "ligands = df_intrxn_gpcrs['ligand'].value_counts().index[df_intrxn_gpcrs['ligand'].value_counts() >= 2]\n",
    "# compute the distance in spatial patterning\n",
    "df_dist = pd.DataFrame(columns=['ligand','in','out','n'])\n",
    "for ligand in ligands:\n",
    "    if sum(df_z.columns.str.startswith(ligand) & df_z.columns.isin(df_intrxn.index)) < 2: continue\n",
    "    if sum(df_z.columns.str.startswith(ligand) & (~df_z.columns.isin(df_intrxn.index))) < 2: continue\n",
    "    d_in = pdist(df_z[df_z.columns[df_z.columns.str.startswith(ligand) & df_z.columns.isin(df_intrxn.index)]].T).mean()\n",
    "    d_ou = cdist(df_z[df_z.columns[df_z.columns.str.startswith(ligand) & df_z.columns.isin(df_intrxn.index)]].T,\n",
    "                 df_z[df_z.columns[df_z.columns.str.startswith(ligand) & (~df_z.columns.isin(df_intrxn.index))]].T).mean()\n",
    "    df_dist.loc[df_dist.shape[0]] = ligand, d_in, d_ou, sum(df_z.columns.str.startswith(ligand) & df_z.columns.isin(df_intrxn.index))"
   ]
  },
  {
   "cell_type": "code",
   "execution_count": null,
   "id": "323632d5-0bb6-4216-b1ed-5f02f55933f9",
   "metadata": {
    "tags": []
   },
   "outputs": [],
   "source": [
    "# derive the relevant ligands involved in certain interactions\n",
    "metab_ligands = df_intrxn_gpcrs['ligand'][~df_intrxn_gpcrs['is_ppi']].unique()\n",
    "secr_ligands = df_intrxn_gpcrs['ligand'][(df_intrxn_gpcrs['is_ppi'])&(df_intrxn_gpcrs['annotation'] == 'Secretion')&(df_intrxn_gpcrs['annotation'] != 'Adhesion-Adhesion')].unique()\n",
    "nonsecr_ligands = df_intrxn_gpcrs['ligand'][(df_intrxn_gpcrs['is_ppi'])&(df_intrxn_gpcrs['annotation'] != 'Secretion')&(df_intrxn_gpcrs['annotation'] != 'Adhesion-Adhesion')].unique()\n",
    "adhes_ligands = df_intrxn_gpcrs['ligand'][(df_intrxn_gpcrs['directionality'] == 'Adhesion-Adhesion')].unique()"
   ]
  },
  {
   "cell_type": "code",
   "execution_count": null,
   "id": "16b2f888-76d1-4cd5-98b7-0c6a8e743698",
   "metadata": {
    "tags": []
   },
   "outputs": [],
   "source": [
    "# adhesions do not have enough 1LMR\n",
    "df_metab = df_dist[df_dist['ligand'].isin(metab_ligands)].melt(id_vars=['ligand'])\n",
    "df_metab['annotation'] = 'Metabolite (Secreted)'\n",
    "df_secr = df_dist[df_dist['ligand'].isin(secr_ligands)].melt(id_vars=['ligand'])\n",
    "df_secr['annotation'] = 'Protein (Secreted)'\n",
    "df_nonsecr = df_dist[df_dist['ligand'].isin(nonsecr_ligands)].melt(id_vars=['ligand'])\n",
    "df_nonsecr['annotation'] = 'Protein (Non-Secreted)'\n",
    "df_adhes = df_dist[df_dist['ligand'].isin(adhes_ligands)].melt(id_vars=['ligand'])\n",
    "df_adhes['annotation'] = 'Protein (Adhesion)'\n",
    "df = pd.concat([df_metab, df_secr, df_nonsecr, df_adhes], axis=0)"
   ]
  },
  {
   "cell_type": "code",
   "execution_count": null,
   "id": "9a994a75-aa89-46c8-8085-0840c74f8116",
   "metadata": {
    "tags": []
   },
   "outputs": [],
   "source": [
    "# save the values\n",
    "df_dist_spatial, df_spatial = df_dist.copy(), df.copy()"
   ]
  },
  {
   "cell_type": "code",
   "execution_count": null,
   "id": "5a5a855c-2d38-4fbe-ae57-616922903472",
   "metadata": {
    "tags": []
   },
   "outputs": [],
   "source": [
    "# retrieve ligands with multiple receptors\n",
    "ligands = df_intrxn_gpcrs['ligand'].value_counts().index[df_intrxn_gpcrs['ligand'].value_counts() >= 2]\n",
    "# compare maximal interaction scores\n",
    "df_dist = pd.DataFrame(columns=['ligand','in','out','n'])\n",
    "for ligand in tqdm(ligands):\n",
    "    if sum(df_z.columns.str.startswith(ligand) & df_z.columns.isin(df_intrxn.index)) < 2: continue\n",
    "    if sum(df_z.columns.str.startswith(ligand) & (~df_z.columns.isin(df_intrxn.index))) < 2: continue\n",
    "    d_in = pdist(df_z[df_z.columns[df_z.columns.str.startswith(ligand) & df_z.columns.isin(df_intrxn.index)]].max(0).values.reshape(-1, 1)).mean()\n",
    "    d_ou = cdist(df_z[df_z.columns[df_z.columns.str.startswith(ligand) & df_z.columns.isin(df_intrxn.index)]].max(0).values.reshape(-1, 1),\n",
    "                 df_z[df_z.columns[df_z.columns.str.startswith(ligand) & (~df_z.columns.isin(df_intrxn.index))]].max(0).values.reshape(-1, 1)).mean()\n",
    "    df_dist.loc[df_dist.shape[0]] = ligand, d_in, d_ou, sum(df_z.columns.str.startswith(ligand) & df_z.columns.isin(df_intrxn.index))"
   ]
  },
  {
   "cell_type": "code",
   "execution_count": null,
   "id": "67fbb05f-f889-4a4c-b05e-d096bbbb5ccd",
   "metadata": {
    "tags": []
   },
   "outputs": [],
   "source": [
    "# adhesions do not have enough 1LMR\n",
    "df_metab = df_dist[df_dist['ligand'].isin(metab_ligands)].melt(id_vars=['ligand'])\n",
    "df_metab['annotation'] = 'Metabolite (Secreted)'\n",
    "df_secr = df_dist[df_dist['ligand'].isin(secr_ligands)].melt(id_vars=['ligand'])\n",
    "df_secr['annotation'] = 'Protein (Secreted)'\n",
    "df_nonsecr = df_dist[df_dist['ligand'].isin(nonsecr_ligands)].melt(id_vars=['ligand'])\n",
    "df_nonsecr['annotation'] = 'Protein (Non-Secreted)'\n",
    "df_adhes = df_dist[df_dist['ligand'].isin(adhes_ligands)].melt(id_vars=['ligand'])\n",
    "df_adhes['annotation'] = 'Protein (Adhesion)'\n",
    "df = pd.concat([df_metab, df_secr, df_nonsecr, df_adhes], axis=0)"
   ]
  },
  {
   "cell_type": "code",
   "execution_count": null,
   "id": "f08be1ca-0468-43ec-83a5-9be87d693764",
   "metadata": {
    "tags": []
   },
   "outputs": [],
   "source": [
    "# save the values\n",
    "df_dist_max, df_max = df_dist.copy(), df.copy()"
   ]
  },
  {
   "cell_type": "code",
   "execution_count": null,
   "id": "ee0dba47-481f-41ed-a06d-a81b825e5207",
   "metadata": {
    "tags": []
   },
   "outputs": [],
   "source": [
    "# look at the broad distribution\n",
    "fig, ax = plt.subplots(figsize=[1, 4]); ax.grid(False)\n",
    "sns.boxplot(np.log2(df_dist_spatial['in'] / df_dist_spatial['out']), color='xkcd:bright lilac', linecolor='k', linewidth=1.5)\n",
    "ax.plot([-1, 1], [0]*2, color='k', linestyle='--', zorder=0); ax.set_xlim(-1, 1)\n",
    "ax.tick_params(axis='x', bottom=False, which='both')\n",
    "ax.set_ylabel('Cross-organ interaction\\npattern distance')\n",
    "# calculate statistics\n",
    "counts = (1 * (np.log2(df_dist_spatial['in'] / df_dist_spatial['out']) < 0)).value_counts().loc[[1, 0]]\n",
    "exp_avg = counts.sum() / 2\n",
    "exp = [exp_avg] * 2\n",
    "p = ss.fisher_exact(np.array([exp, counts]))[1]\n",
    "print(p)\n",
    "# show the percent that are less than 0\n",
    "fig, ax = plt.subplots(figsize=[4, 4]); ax.grid(False)\n",
    "_ = ax.pie(counts, colors=['xkcd:bright lilac','lightgray'], hatch=['','//'])\n",
    "print(np.mean(np.log2(df_dist_spatial['in'] / df_dist_spatial['out']) < 0)); np.log2(df_dist_spatial['in'] / df_dist_spatial['out']).describe()"
   ]
  },
  {
   "cell_type": "code",
   "execution_count": null,
   "id": "a44f1a93-bbcf-4ce7-9d2e-345a0c7645ca",
   "metadata": {
    "tags": []
   },
   "outputs": [],
   "source": [
    "# look at the broad distribution\n",
    "fig, ax = plt.subplots(figsize=[1, 4]); ax.grid(False)\n",
    "sns.boxplot(np.log2(df_dist_max['in'] / df_dist_max['out']), color='xkcd:bright lilac', linecolor='k', linewidth=1.5)\n",
    "ax.plot([-1, 1], [0]*2, color='k', linestyle='--', zorder=0); ax.set_xlim(-1, 1)\n",
    "ax.tick_params(axis='x', bottom=False, which='both')\n",
    "ax.set_ylabel('Interaction intensity distance')\n",
    "# calculate statistics\n",
    "counts = (1 * (np.log2(df_dist_max['in'] / df_dist_max['out']) < 0)).value_counts().loc[[1, 0]]\n",
    "exp_avg = counts.sum() / 2\n",
    "exp = [exp_avg] * 2\n",
    "p = ss.fisher_exact(np.array([exp, counts]))[1]\n",
    "print(p)\n",
    "# show the percent that are less than 0\n",
    "fig, ax = plt.subplots(figsize=[4, 4]); ax.grid(False)\n",
    "_ = ax.pie(counts, colors=['xkcd:bright lilac','lightgray'], hatch=['','//'])\n",
    "print(np.mean(np.log2(df_dist_max['in'] / df_dist_max['out']) < 0)); np.log2(df_dist_max['in'] / df_dist_max['out']).describe()"
   ]
  },
  {
   "cell_type": "code",
   "execution_count": null,
   "id": "da935d2c-c579-43d3-8528-cf458016e677",
   "metadata": {
    "tags": []
   },
   "outputs": [],
   "source": [
    "# compare intra and inter differences in terms of spatial patterning\n",
    "fig, ax = plt.subplots(figsize=[4, 4]); ax.grid(False)\n",
    "sns.boxplot(x='annotation', y='value', hue='variable', data=df_spatial[df_spatial['variable'].isin(['in','out'])],\n",
    "            saturation=1, hue_order=['in','out'], linewidth=1.5, linecolor='k', palette=['xkcd:bright lilac','lightgray'])\n",
    "ax.set_xlim(-1, 4); ax.tick_params(axis='x', labelrotation=90)\n",
    "for x in df_spatial['annotation'].unique():\n",
    "    p = ss.mannwhitneyu(df_spatial.loc[(df_spatial['annotation'] == x)&(df_spatial['variable'] == 'in'), 'value'],\n",
    "                        df_spatial.loc[(df_spatial['annotation'] == x)&(df_spatial['variable'] == 'out'), 'value'])[1]\n",
    "    print(method, p)\n",
    "for n in range(4, 8):\n",
    "    ax.patches[n].set_hatch('//')\n",
    "ylim = ax.get_ylim(); yrange = ylim[1] - ylim[0]; ax.set_ylim(ylim[0], ylim[1]+yrange*0.15)\n",
    "ax.set(xlabel='Ligand-receptor class', ylabel='Cross-organ interaction\\npattern distance')\n",
    "ax.legend(labels=['Binds the\\nsame ligand','Binds any\\nother ligands'],\n",
    "          bbox_to_anchor=(.99, 1.05), bbox_transform=ax.transAxes, frameon=False, loc='upper left')"
   ]
  },
  {
   "cell_type": "code",
   "execution_count": null,
   "id": "8ccfb6a3-9062-41d4-8851-5bf016ef0d1f",
   "metadata": {
    "tags": []
   },
   "outputs": [],
   "source": [
    "# compare intra and inter differences in terms of spatial patterning\n",
    "fig, ax = plt.subplots(figsize=[4, 4]); ax.grid(False)\n",
    "sns.boxplot(x='annotation', y='value', hue='variable', data=df_max[df_max['variable'].isin(['in','out'])],\n",
    "            saturation=1, hue_order=['in','out'], linewidth=1.5, linecolor='k', palette=['xkcd:bright lilac','lightgray'])\n",
    "ax.set_xlim(-1, 4); ax.tick_params(axis='x', labelrotation=90)\n",
    "ax.legend(bbox_to_anchor=(.99, .5), bbox_transform=ax.transAxes, frameon=False, loc='center left')\n",
    "for x in df_max['annotation'].unique():\n",
    "    p = ss.mannwhitneyu(df_max.loc[(df_max['annotation'] == x)&(df_max['variable'] == 'in'), 'value'],\n",
    "                        df_max.loc[(df_max['annotation'] == x)&(df_max['variable'] == 'out'), 'value'])[1]\n",
    "    print(method, p)\n",
    "for n in range(4, 8):\n",
    "    ax.patches[n].set_hatch('//')\n",
    "ylim = ax.get_ylim(); yrange = ylim[1] - ylim[0]; ax.set_ylim(ylim[0], ylim[1]+yrange*0.15)\n",
    "ax.set(xlabel='Ligand-receptor class', ylabel='Interaction intensity distance')\n",
    "ax.legend(labels=['Binds the\\nsame ligand','Binds any\\nother ligands'],\n",
    "          bbox_to_anchor=(.99, 1.05), bbox_transform=ax.transAxes, frameon=False, loc='upper left')"
   ]
  },
  {
   "cell_type": "markdown",
   "id": "466fb4b7-13fd-4e47-af02-fa71ab64485b",
   "metadata": {},
   "source": [
    "### examine how spatial interactions change as a function of tissue size"
   ]
  },
  {
   "cell_type": "code",
   "execution_count": null,
   "id": "ed1dfb1d-4499-427e-ace6-90d7b0854d52",
   "metadata": {
    "tags": []
   },
   "outputs": [],
   "source": [
    "# read in an example anndata object\n",
    "adata = sc.read_visium('/home/dchen2/LITERATURE/10X_VISIUM/CytAssist_11mm_FFPE_Human_Glioblastoma')\n",
    "adata.var_names_make_unique()\n",
    "sc.pp.normalize_total(adata, target_sum=1e4)\n",
    "sc.pp.log1p(adata)\n",
    "sc.pp.filter_genes(adata, min_cells=1)\n",
    "adata.shape"
   ]
  },
  {
   "cell_type": "code",
   "execution_count": null,
   "id": "39c1ce5d-8f3d-4692-83ad-1a68a58abb1f",
   "metadata": {
    "tags": []
   },
   "outputs": [],
   "source": [
    "import spatialdm as sdm\n",
    "# make sure everything is unique\n",
    "adata.var_names = adata.var_names.astype(str)\n",
    "sc.pp.filter_genes(adata, min_cells=10)\n",
    "adata.var_names_make_unique()\n",
    "adata.shape"
   ]
  },
  {
   "cell_type": "code",
   "execution_count": null,
   "id": "fefd3fda-ed79-48ac-a525-7b1b8a8dfc02",
   "metadata": {
    "tags": []
   },
   "outputs": [],
   "source": [
    "# read in the mapping file for GPCRdb to filter for GPCRs\n",
    "gpcr_mapping = pd.read_table('gpcrdb_mapping.txt', header=None, sep=' ')\n",
    "gpcr_mapping.columns = ['uniprot','name']\n",
    "gpcr_mapping[['name','species']] = gpcr_mapping['name'].str.split('_', expand=True)\n",
    "# keep human uniprot IDs\n",
    "uniprots = gpcr_mapping.loc[gpcr_mapping['species'] == 'human', 'uniprot'].tolist()\n",
    "\n",
    "# retrieve uniprot to gene name mapping\n",
    "df_conv = pd.read_csv('/home/dchen2/PACKAGES/cellphonedb-data-5.0.0/data/gene_input.csv')\n",
    "df_conv = df_conv[['uniprot','gene_name']].value_counts().reset_index()\n",
    "assert df_conv['uniprot'].value_counts().max() == 1\n",
    "uniprot2genename = df_conv.set_index('uniprot')['gene_name']\n",
    "# read in and process the complex\n",
    "df_complex = pd.read_csv('/home/dchen2/PACKAGES/cellphonedb-data-5.0.0/data/complex_input.csv', index_col=0)\n",
    "assert df_complex.index.value_counts().max() == 1; df_complex.index.name = None\n",
    "df_complex = df_complex.loc[:, df_complex.columns.str.startswith('uniprot')]\n",
    "df_complex.columns = df_complex.columns.str.replace('uniprot','subunit')\n",
    "for col in df_complex.columns: df_complex[col] = df_complex[col].map(uniprot2genename)\n",
    "# read in and process the interaction pairings\n",
    "df_intrxn = pd.read_csv('/home/dchen2/PACKAGES/cellphonedb-data-5.0.0/data/interaction_input.csv')\n",
    "for col, new_col in zip(['partner_a','partner_b'], ['ligand','receptor']):\n",
    "    conv = df_intrxn[col].map(uniprot2genename)\n",
    "    conv[conv.isna()] = df_intrxn.loc[conv.isna(), col]\n",
    "    df_intrxn[new_col] = conv\n",
    "df_intrxn['interaction_name'] = df_intrxn[['ligand','receptor']].agg(':'.join, axis=1)\n",
    "df_intrxn.index = df_intrxn['interaction_name']\n",
    "df_intrxn = df_intrxn[['interaction_name','ligand','receptor','is_ppi','directionality']]\n",
    "# identify secreted proteins to differentiate\n",
    "secreted_proteins = pd.read_csv('/home/dchen2/PACKAGES/cellphonedb-data-5.0.0/data/protein_input.csv', index_col=0)['secreted']\n",
    "secreted_complexes = pd.read_csv('/home/dchen2/PACKAGES/cellphonedb-data-5.0.0/data/complex_input.csv', index_col=0)['secreted']\n",
    "secreted_proteins.index = secreted_proteins.index.map(uniprot2genename)\n",
    "secreted = pd.concat([secreted_proteins, secreted_complexes], axis=0)\n",
    "secreted = secreted.index[secreted]\n",
    "df_intrxn['annotation'] = 'No Secretion'\n",
    "df_intrxn.loc[df_intrxn['ligand'].isin(secreted) | df_intrxn['receptor'].isin(secreted), 'annotation'] = 'Secretion'\n",
    "# reset name of the index\n",
    "df_intrxn.index.name = None\n",
    "# adjust to remove duplicates\n",
    "df_intrxn = df_intrxn.value_counts().reset_index().iloc[:, :-1]\n",
    "df_intrxn.index = df_intrxn['interaction_name'].values\n",
    "# derive a GPCR only subset\n",
    "assert df_complex.index[df_complex.isin(uniprots).any(axis=1)].shape[0] == 0\n",
    "df_conv_gpcrs = df_conv.loc[df_conv['uniprot'].isin(uniprots)]\n",
    "# derive a list of the interactions with GPCRs\n",
    "mask = df_intrxn['receptor'].isin(df_conv_gpcrs['gene_name'].unique())\n",
    "df_intrxn_gpcrs = df_intrxn.loc[mask]"
   ]
  },
  {
   "cell_type": "code",
   "execution_count": null,
   "id": "4a411343-e511-434a-808d-bade51b5dd4a",
   "metadata": {
    "tags": []
   },
   "outputs": [],
   "source": [
    "from scipy.spatial.distance import pdist, cdist, squareform\n",
    "# determine the distances\n",
    "dist = squareform(pdist(adata.obsm['spatial']))\n",
    "dist = pd.DataFrame(dist, index=adata.obs.index, columns=adata.obs.index)\n",
    "# look at the distances\n",
    "np.random.seed(0)\n",
    "xs = np.random.choice(dist.values.flatten(), size=1000, replace=False)\n",
    "fig, ax = plt.subplots(figsize=[4, 2]); ax.grid(False)\n",
    "sns.kdeplot(xs, lw=2, fill=True, color='dodgerblue')\n",
    "ax.set_xlabel('Spot-Spot Distance')\n",
    "# print out the smallest distance, to derive the conversion between µm and coordinates\n",
    "dist.values.flatten()[(dist.values.flatten() < 500) & (dist.values.flatten() > 0)]"
   ]
  },
  {
   "cell_type": "code",
   "execution_count": null,
   "id": "dcd47f2b-cfc5-432b-8d51-e51a0fc67558",
   "metadata": {
    "tags": []
   },
   "outputs": [],
   "source": [
    "from tqdm import tqdm\n",
    "# drive the cutoff\n",
    "zs = []\n",
    "for cutoff in range(1000, 20000+1000, 1000):\n",
    "    for seed in tqdm(range(1, 10+1, 1)):\n",
    "        np.random.seed(seed)\n",
    "        # choose a random spot\n",
    "        idx = np.random.choice(adata.obs.index, size=1)[0]\n",
    "        adata.obs['chosen'] = 1 * (adata.obs.index == idx)\n",
    "        # sc.pl.spatial(adata, color=['chosen'], cmap='Reds', library_id=sample, s=12.5)\n",
    "        idxs = dist.index[dist[idx] < cutoff]\n",
    "        adata_tmp = adata[idxs].copy()\n",
    "        df_lr = df_intrxn_gpcrs.copy()\n",
    "\n",
    "        # define the weight matrix for the kernel\n",
    "        sdm.weight_matrix(adata_tmp, l=1.2, cutoff=0.2, single_cell=False, n_nearest_neighbors=6, n_neighbors=6)\n",
    "\n",
    "        # define the minimum number of spots\n",
    "        n_spots = 1\n",
    "        # assemble expression values of complexes\n",
    "        genes = df_complex.values.flatten().astype(str)[df_complex.values.flatten().astype(str) != 'nan']\n",
    "        genes = adata_tmp.var.index.intersection(genes)\n",
    "        df_gex = sc.get.obs_df(adata_tmp, keys=genes.tolist())\n",
    "        expr_complexs = []\n",
    "        for idx in df_complex.index:\n",
    "            genes = adata_tmp.var.index.intersection(df_complex.loc[idx].dropna())\n",
    "            if len(genes) == 0: continue\n",
    "            expr_complex = df_gex[genes].mean(1)\n",
    "            expr_complex.name = idx\n",
    "            expr_complexs.append(expr_complex)\n",
    "        expr_complex = pd.concat(expr_complexs, axis=1)\n",
    "        valid_complexes = expr_complex.columns[(expr_complex > 0).sum(0) >= n_spots]\n",
    "\n",
    "        # perform rapid filtering (known)\n",
    "        ligands = df_lr['ligand'].unique()\n",
    "        ligands = adata_tmp.var.index.intersection(ligands)\n",
    "        try: valid_ligands = ligands[(adata_tmp[:, ligands].X > 0).sum(0).A1 >= n_spots].tolist()\n",
    "        except: valid_ligands = ligands[(adata_tmp[:, ligands].X > 0).sum(0) >= n_spots].tolist()\n",
    "        valid_ligands = valid_ligands + [x for x in df_lr['ligand'].unique() if x in valid_complexes]\n",
    "        receptors = df_lr['receptor'].unique()\n",
    "        receptors = adata_tmp.var.index.intersection(receptors)\n",
    "        try: valid_receptors = receptors[(adata_tmp[:, receptors].X > 0).sum(0).A1 >= n_spots].tolist()\n",
    "        except: valid_receptors = receptors[(adata_tmp[:, receptors].X > 0).sum(0) >= n_spots].tolist()\n",
    "        valid_receptors = valid_receptors + [x for x in df_lr['receptor'].unique() if x in valid_complexes]\n",
    "        df_lr_ = df_lr.loc[df_lr['ligand'].isin(valid_ligands) &\\\n",
    "        df_lr['receptor'].isin(valid_receptors)].copy()\n",
    "        # extract and compute Z-scores for the known ligand-receptor pairs\n",
    "        sdm.extract_lr(adata_tmp, 'human', min_cell=1, datahost='user', df_intrxn=df_lr_, df_complex=df_complex.copy())\n",
    "        sdm.spatialdm_global(adata_tmp, specified_ind=None, method='z-score', nproc=1)\n",
    "        zpval_known, z_known = adata_tmp.uns['global_res']['z_pval'], adata_tmp.uns['global_res']['z']\n",
    "\n",
    "        # combine into the data\n",
    "        z_known = pd.DataFrame(z_known)\n",
    "        z_known.columns = ['z']\n",
    "        zpval_known = pd.DataFrame(zpval_known)\n",
    "        zpval_known.columns = ['p']\n",
    "        z = pd.concat([z_known, zpval_known], axis=1)\n",
    "        z['cutoff'] = cutoff\n",
    "        z['seed'] = seed\n",
    "        zs.append(z.reset_index())"
   ]
  },
  {
   "cell_type": "code",
   "execution_count": null,
   "id": "305ca855-9b81-42ac-b6d4-371572ee40d2",
   "metadata": {
    "tags": []
   },
   "outputs": [],
   "source": [
    "# assemble the data together\n",
    "df_z = pd.concat(zs, axis=0)\n",
    "# average them together\n",
    "df_z_mean = df_z.pivot_table(index='index', columns='cutoff', values='z', aggfunc=np.mean)\n",
    "mask = df_z_mean.isna(); df_z_mean = df_z_mean.fillna(0)"
   ]
  },
  {
   "cell_type": "code",
   "execution_count": null,
   "id": "63008181-f937-441e-b8e8-c61da96717bc",
   "metadata": {
    "tags": []
   },
   "outputs": [],
   "source": [
    "# look at the annotations\n",
    "anno_row = pd.DataFrame(index=df_z_mean.index, columns=['adhesion','gap_junction','secreted','membrane','metabolite'])\n",
    "anno_row['membrane'] = 1 * anno_row.index.isin(df_intrxn_gpcrs.index[df_intrxn_gpcrs['is_ppi']])\n",
    "anno_row['metabolite'] = 1 * anno_row.index.isin(df_intrxn_gpcrs.index[~df_intrxn_gpcrs['is_ppi']])\n",
    "anno_row['secreted'] = 1 * anno_row.index.isin(df_intrxn_gpcrs.index[df_intrxn_gpcrs['annotation'] == 'Secretion'])\n",
    "anno_row['secreted'][anno_row['membrane'] == 0] = 0\n",
    "anno_row['adhesion'] = 1 * anno_row.index.isin(df_intrxn_gpcrs.index[df_intrxn_gpcrs['directionality'] == 'Adhesion-Adhesion'])\n",
    "anno_row['gap_junction'] = 1 * anno_row.index.isin(df_intrxn_gpcrs.index[df_intrxn_gpcrs['directionality'] == 'Receptor-Receptor'])\n",
    "anno_row['membrane'][anno_row['adhesion'] == 1] = 0\n",
    "anno_row['membrane'][anno_row['secreted'] == 1] = 0\n",
    "anno_row['membrane'][anno_row['adhesion'] == 1] = 0\n",
    "anno_row[anno_row == 0] = 'whitesmoke'\n",
    "anno_row[anno_row == 1] = 'k'"
   ]
  },
  {
   "cell_type": "code",
   "execution_count": null,
   "id": "d82a0459-69a3-4d70-97bc-89f595293e7f",
   "metadata": {
    "tags": []
   },
   "outputs": [],
   "source": [
    "from sklearn.metrics import silhouette_score\n",
    "from scipy.cluster.hierarchy import fcluster, dendrogram, linkage\n",
    "# derive a clustering\n",
    "Z = linkage(df_z_mean, method='ward')\n",
    "scores = pd.Series()\n",
    "for t in range(5, 20+1, 1):\n",
    "    clustering = fcluster(Z, criterion='maxclust', t=t)\n",
    "    scores.loc[t] = silhouette_score(df_z_mean, clustering)"
   ]
  },
  {
   "cell_type": "code",
   "execution_count": null,
   "id": "3a1d426e-7d51-4651-9cfc-f59bc69afe2b",
   "metadata": {
    "tags": []
   },
   "outputs": [],
   "source": [
    "# color on the silhouette score\n",
    "fig, ax = plt.subplots(figsize=[4, 4]); ax.grid(False)\n",
    "ax.scatter(scores.index, scores, color='dodgerblue')\n",
    "ax.plot(scores.index, scores, color='dodgerblue')\n",
    "ax.set(xlabel='# of Clusters', ylabel='Silhouette Score')"
   ]
  },
  {
   "cell_type": "code",
   "execution_count": null,
   "id": "9967e399-fb62-4b2f-b7d9-e40acb898676",
   "metadata": {
    "tags": []
   },
   "outputs": [],
   "source": [
    "# cluster according to the above\n",
    "t = 8\n",
    "clustering = fcluster(Z, criterion='maxclust', t=t)\n",
    "clustering = pd.Series(clustering, index=df_z_mean.index)\n",
    "i2c = {i+1:c for i,c in enumerate(sns.color_palette('hls', t).as_hex())}\n",
    "clustering_colors = clustering.map(i2c)\n",
    "row_colors = anno_row.copy()\n",
    "row_colors['cluster'] = clustering_colors"
   ]
  },
  {
   "cell_type": "code",
   "execution_count": null,
   "id": "852f5a22-ce72-4500-9339-926d0985a118",
   "metadata": {
    "tags": []
   },
   "outputs": [],
   "source": [
    "# assemble into a heatmap\n",
    "g = sns.clustermap(df_z_mean, col_cluster=False, cmap='seismic',\n",
    "                   method='ward', cbar_pos=(0, .8, .01, .08), mask=mask,\n",
    "                   row_colors=row_colors, colors_ratio=(.04, 0), vmin=-4, vmax=4)\n",
    "g.ax_heatmap.set_facecolor('lightgray')\n",
    "g.ax_heatmap.grid(False)\n",
    "g.ax_heatmap.tick_params(axis='x', labelrotation=90)\n",
    "g.ax_cbar.grid(False)\n",
    "g.ax_row_colors.grid(False)"
   ]
  },
  {
   "cell_type": "code",
   "execution_count": null,
   "id": "051c9266-f218-4d6a-b54d-f0960ce6fc7e",
   "metadata": {
    "tags": []
   },
   "outputs": [],
   "source": [
    "# color on the clusters\n",
    "for i in range(1, t+1, 1):\n",
    "    # grab the data\n",
    "    means = df_z_mean.loc[clustering.index[clustering == i]].mean(0)\n",
    "    ci95s = df_z_mean.loc[clustering.index[clustering == i]].std(0) / np.sqrt(10) * 1.96\n",
    "    # plot the data\n",
    "    fig, ax = plt.subplots(figsize=[4, 4]); ax.grid(False)\n",
    "    color = i2c[i]\n",
    "    ax.scatter(means.index, means, color=color)\n",
    "    ax.plot(means.index, means, color=color)\n",
    "    for idx in means.index:\n",
    "        y = means.loc[idx]\n",
    "        ci95 = ci95s.loc[idx]\n",
    "        ax.plot([idx]*2, [y-ci95, y+ci95], color=color)\n",
    "    ax.axhline(0, color='k')\n",
    "    ax.set(xlabel='Radius Considered', ylabel='Interaction Score', title=f'Spatial Interaction Cluster {i}')"
   ]
  },
  {
   "cell_type": "code",
   "execution_count": null,
   "id": "099abd83-d61d-40d8-b2de-d70c85265a5c",
   "metadata": {
    "tags": []
   },
   "outputs": [],
   "source": [
    "# color on representative genes from GABA and RSPO:LGR interactions\n",
    "genes = ['GAD1','SLC6A6','GABBR1','RSPO3','LGR4','LGR5']\n",
    "sc.pl.spatial(adata, color=genes, use_raw=False, s=6)"
   ]
  },
  {
   "cell_type": "markdown",
   "id": "2890839e-0236-44cb-931e-262f20df9b1e",
   "metadata": {},
   "source": [
    "#### derive baseline values for random receptors to allow for testing of deorphanization capacity"
   ]
  },
  {
   "cell_type": "code",
   "execution_count": null,
   "id": "32761e29-06ba-4a13-ae31-69147af59b65",
   "metadata": {
    "tags": []
   },
   "outputs": [],
   "source": [
    "from tqdm import tqdm\n",
    "# get a list of the unique ligands from the entire database, we care about known for paralog\n",
    "ligands = pd.Index(df_intrxn['ligand'].unique())\n",
    "# receptors are known GPCRs, read in from GPCRdb\n",
    "receptors = df_intrxn_gpcrs['receptor'].unique()\n",
    "# fill in the possible interactions beyond known interactions\n",
    "np.random.seed(0)\n",
    "df_intrxn_gpcrvsall = pd.DataFrame(columns=['ligand','receptor'])\n",
    "for receptor in tqdm(receptors):\n",
    "    ligands_for_receptor = df_intrxn_gpcrs.loc[df_intrxn_gpcrs['receptor'] == receptor, 'ligand']\n",
    "    for ligand in np.random.choice(ligands[~ligands.isin(ligands_for_receptor)], len(ligands_for_receptor), replace=False):\n",
    "        df_intrxn_gpcrvsall.loc[df_intrxn_gpcrvsall.shape[0]] = ligand, receptor\n",
    "df_intrxn_gpcrvsall.insert(0, 'interaction_name', df_intrxn_gpcrvsall[['ligand','receptor']].agg(':'.join, axis=1))\n",
    "df_intrxn_gpcrvsall.index = df_intrxn_gpcrvsall['interaction_name']\n",
    "df_intrxn_gpcrvsall['annotation'] = 'No Secretion'\n",
    "df_intrxn_gpcrvsall.loc[df_intrxn_gpcrvsall['ligand'].isin(secreted), 'annotation'] = 'Secretion'\n",
    "# reset name of the index\n",
    "df_intrxn_gpcrvsall.index.name = None\n",
    "# adjust to remove duplicates\n",
    "df_intrxn_gpcrvsall = df_intrxn_gpcrvsall.value_counts().reset_index().iloc[:, :-1]\n",
    "df_intrxn_gpcrvsall.index = df_intrxn_gpcrvsall['interaction_name'].values"
   ]
  },
  {
   "cell_type": "code",
   "execution_count": null,
   "id": "a550e2b7-4666-47df-b659-4c9794bd8309",
   "metadata": {
    "tags": []
   },
   "outputs": [],
   "source": [
    "from tqdm import tqdm\n",
    "# drive the cutoff\n",
    "zs_all = []\n",
    "for cutoff in range(1000, 20000+1000, 1000):\n",
    "    for seed in tqdm(range(1, 10+1, 1)):\n",
    "        np.random.seed(seed)\n",
    "        # choose a random spot\n",
    "        idx = np.random.choice(adata.obs.index, size=1)[0]\n",
    "        adata.obs['chosen'] = 1 * (adata.obs.index == idx)\n",
    "        # sc.pl.spatial(adata, color=['chosen'], cmap='Reds', library_id=sample, s=12.5)\n",
    "        idxs = dist.index[dist[idx] < cutoff]\n",
    "        adata_tmp = adata[idxs].copy()\n",
    "        df_lr = df_intrxn_gpcrvsall.copy()\n",
    "\n",
    "        # define the weight matrix for the kernel\n",
    "        sdm.weight_matrix(adata_tmp, l=1.2, cutoff=0.2, single_cell=False, n_nearest_neighbors=6, n_neighbors=6)\n",
    "\n",
    "        # define the minimum number of spots\n",
    "        n_spots = 1\n",
    "        # assemble expression values of complexes\n",
    "        genes = df_complex.values.flatten().astype(str)[df_complex.values.flatten().astype(str) != 'nan']\n",
    "        genes = adata_tmp.var.index.intersection(genes)\n",
    "        df_gex = sc.get.obs_df(adata_tmp, keys=genes.tolist())\n",
    "        expr_complexs = []\n",
    "        for idx in df_complex.index:\n",
    "            genes = adata_tmp.var.index.intersection(df_complex.loc[idx].dropna())\n",
    "            if len(genes) == 0: continue\n",
    "            expr_complex = df_gex[genes].mean(1)\n",
    "            expr_complex.name = idx\n",
    "            expr_complexs.append(expr_complex)\n",
    "        expr_complex = pd.concat(expr_complexs, axis=1)\n",
    "        valid_complexes = expr_complex.columns[(expr_complex > 0).sum(0) >= n_spots]\n",
    "\n",
    "        # perform rapid filtering (known)\n",
    "        ligands = df_lr['ligand'].unique()\n",
    "        ligands = adata_tmp.var.index.intersection(ligands)\n",
    "        try: valid_ligands = ligands[(adata_tmp[:, ligands].X > 0).sum(0).A1 >= n_spots].tolist()\n",
    "        except: valid_ligands = ligands[(adata_tmp[:, ligands].X > 0).sum(0) >= n_spots].tolist()\n",
    "        valid_ligands = valid_ligands + [x for x in df_lr['ligand'].unique() if x in valid_complexes]\n",
    "        receptors = df_lr['receptor'].unique()\n",
    "        receptors = adata_tmp.var.index.intersection(receptors)\n",
    "        try: valid_receptors = receptors[(adata_tmp[:, receptors].X > 0).sum(0).A1 >= n_spots].tolist()\n",
    "        except: valid_receptors = receptors[(adata_tmp[:, receptors].X > 0).sum(0) >= n_spots].tolist()\n",
    "        valid_receptors = valid_receptors + [x for x in df_lr['receptor'].unique() if x in valid_complexes]\n",
    "        df_lr_ = df_lr.loc[df_lr['ligand'].isin(valid_ligands) &\\\n",
    "        df_lr['receptor'].isin(valid_receptors)].copy()\n",
    "        # extract and compute Z-scores for the known ligand-receptor pairs\n",
    "        sdm.extract_lr(adata_tmp, 'human', min_cell=1, datahost='user', df_intrxn=df_lr_, df_complex=df_complex.copy())\n",
    "        sdm.spatialdm_global(adata_tmp, specified_ind=None, method='z-score', nproc=1)\n",
    "        zpval_known, z_known = adata_tmp.uns['global_res']['z_pval'], adata_tmp.uns['global_res']['z']\n",
    "\n",
    "        # combine into the data\n",
    "        z_known = pd.DataFrame(z_known)\n",
    "        z_known.columns = ['z']\n",
    "        zpval_known = pd.DataFrame(zpval_known)\n",
    "        zpval_known.columns = ['p']\n",
    "        z = pd.concat([z_known, zpval_known], axis=1)\n",
    "        z['cutoff'] = cutoff\n",
    "        z['seed'] = seed\n",
    "        zs_all.append(z.reset_index())"
   ]
  },
  {
   "cell_type": "code",
   "execution_count": null,
   "id": "c67ab51a-a81a-4750-b41d-8ba0a9231cfe",
   "metadata": {
    "tags": []
   },
   "outputs": [],
   "source": [
    "# dump the data\n",
    "import pickle as pkl\n",
    "!mkdir ../outs/corr_lens\n",
    "with open('../outs/corr_lens/gbmffpe.zs_true.pkl', 'wb') as f: pkl.dump(zs, f)\n",
    "with open('../outs/corr_lens/gbmffpe.zs_rand.pkl', 'wb') as f: pkl.dump(zs_all, f)"
   ]
  },
  {
   "cell_type": "markdown",
   "id": "dd154922-566f-49b0-b8c6-5083528ca975",
   "metadata": {},
   "source": [
    "### quantify deorphanization capacity as a function of tissue size"
   ]
  },
  {
   "cell_type": "code",
   "execution_count": null,
   "id": "ca55c32c-1038-4b37-8faa-5502e4382006",
   "metadata": {
    "tags": []
   },
   "outputs": [],
   "source": [
    "# assemble the data together\n",
    "df_z = pd.concat(zs_all, axis=0)\n",
    "df_z[['ligand','receptor']] = df_z['index'].str.split(':', expand=True)\n",
    "df_z['ground_truth'] = 0\n",
    "df_z_neg = df_z.copy()\n",
    "# assemble the data together\n",
    "df_z = pd.concat(zs, axis=0)\n",
    "df_z[['ligand','receptor']] = df_z['index'].str.split(':', expand=True)\n",
    "df_z['ground_truth'] = 1\n",
    "df_z_pos = df_z.copy()\n",
    "# concatenate the data together\n",
    "df_z = pd.concat([df_z_neg, df_z_pos], axis=0)\n",
    "df_z = df_z.reset_index().iloc[:, 1:]"
   ]
  },
  {
   "cell_type": "code",
   "execution_count": null,
   "id": "00650819-1fae-422a-aff8-d28e346924c2",
   "metadata": {
    "tags": []
   },
   "outputs": [],
   "source": [
    "# repeat with logistic regression\n",
    "def evaluate_lr(receptors):\n",
    "    # retrieve the data\n",
    "    df_stat = pd.DataFrame(columns=['cutoff','auroc','auprc'])\n",
    "    np.random.seed(0)\n",
    "    for cutoff in tqdm(range(1000, 20000+1000, 1000), total=20):\n",
    "        # grab the data\n",
    "        X = df_z.loc[(df_z['cutoff'] == cutoff)&(df_z['receptor'].isin(receptors))].copy()\n",
    "        y = X['ground_truth']\n",
    "        X = X[['z']]\n",
    "        # loop in a cross validated fashion\n",
    "        sss = StratifiedShuffleSplit(random_state=0)\n",
    "        for idxs_train, idxs_test in sss.split(X, y):\n",
    "            clf = LogisticRegression(random_state=0).fit(X.iloc[idxs_train], y.iloc[idxs_train])\n",
    "            probas = clf.predict_proba(X.iloc[idxs_test])[:, clf.classes_ == 1][:, 0]\n",
    "            truths = y.iloc[idxs_test]\n",
    "            df_stat.loc[df_stat.shape[0]] = cutoff, auc(*roc_curve(truths, probas)[:-1]), auc(*precision_recall_curve(truths, probas)[:-1][::-1])\n",
    "    # round the cutoffs\n",
    "    df_stat['cutoff'] = df_stat['cutoff'].apply(round)\n",
    "\n",
    "    # plot the results\n",
    "    np.random.seed(0)\n",
    "    # plot the boxes\n",
    "    fig, ax = plt.subplots(figsize=[6, 4]); ax.grid(False)\n",
    "    sns.boxplot(x='cutoff', y='auroc', data=df_stat, color='xkcd:pale lavender',\n",
    "                saturation=1, linecolor='xkcd:bright lilac', linewidth=1.5, showfliers=False, zorder=1)\n",
    "    # plot the strip profile\n",
    "    sns.stripplot(x='cutoff', y='auroc', data=df_stat, color='xkcd:pale lavender',\n",
    "                  edgecolor='xkcd:bright lilac', linewidth=1.5, jitter=0.25, alpha=0.9, zorder=1)\n",
    "    # adjust the axes\n",
    "    ax.tick_params(axis='x', labelrotation=90)\n",
    "    ax.set_xlim(-1, 20)\n",
    "    ax.axhline(0.5, color='k', linestyle='--', zorder=0)\n",
    "    ax.set_ylabel('AUROC')\n",
    "    # model the data\n",
    "    model = np.polynomial.Polynomial(0)\n",
    "    model = model.fit((df_stat['cutoff'].astype(float) - 1000) / 1000, df_stat['auroc'], 2)\n",
    "    xl, yl = model.linspace(domain=(-1, 20))\n",
    "    ax.plot(xl, yl, color='purple', linestyle='--', lw=2, zorder=2)\n",
    "\n",
    "    # plot the results\n",
    "    np.random.seed(0)\n",
    "    # plot the boxes\n",
    "    fig, ax = plt.subplots(figsize=[6, 4]); ax.grid(False)\n",
    "    sns.boxplot(x='cutoff', y='auprc', data=df_stat, color='xkcd:pale lavender',\n",
    "                saturation=1, linecolor='xkcd:bright lilac', linewidth=1.5, showfliers=False, zorder=1)\n",
    "    # plot the strip profile\n",
    "    sns.stripplot(x='cutoff', y='auprc', data=df_stat, color='xkcd:pale lavender',\n",
    "                  edgecolor='xkcd:bright lilac', linewidth=1.5, jitter=0.25, alpha=0.9, zorder=1)\n",
    "    # adjust the axes\n",
    "    ax.tick_params(axis='x', labelrotation=90)\n",
    "    ax.set_xlim(-1, 20)\n",
    "    ax.axhline(0.5, color='k', linestyle='--', zorder=0)\n",
    "    ax.set_ylabel('AUPRC')\n",
    "    # model the data\n",
    "    model = np.polynomial.Polynomial(0)\n",
    "    model = model.fit((df_stat['cutoff'].astype(float) - 1000) / 1000, df_stat['auprc'], 2)\n",
    "    xl, yl = model.linspace(domain=(-1, 20))\n",
    "    ax.plot(xl, yl, color='purple', linestyle='--', lw=2, zorder=2)\n",
    "\n",
    "    print(df_stat.groupby('cutoff').mean())\n",
    "    print(df_stat.groupby('cutoff').std() / np.sqrt(10) * 1.96)"
   ]
  },
  {
   "cell_type": "code",
   "execution_count": null,
   "id": "e6717047-87ae-439f-8a21-26ad411e30a9",
   "metadata": {
    "tags": []
   },
   "outputs": [],
   "source": [
    "from sklearn.linear_model import LogisticRegression\n",
    "from sklearn.ensemble import RandomForestClassifier\n",
    "from sklearn.model_selection import StratifiedShuffleSplit\n",
    "from sklearn.metrics import auc, roc_curve, precision_recall_curve, f1_score, accuracy_score\n",
    "from tqdm import tqdm\n",
    "# evaluate the receptors with 100 estimators\n",
    "evaluate_lr(df_z['receptor'].unique().tolist())"
   ]
  },
  {
   "cell_type": "markdown",
   "id": "9a1bea64-305e-4bb9-abe3-0ad3aeefe8bf",
   "metadata": {},
   "source": [
    "#### stratify by ligand-receptor class"
   ]
  },
  {
   "cell_type": "code",
   "execution_count": null,
   "id": "16c64735-3eb0-4885-b62d-1d3aa4a12aa8",
   "metadata": {},
   "outputs": [],
   "source": [
    "# evaluate the membrane receptors\n",
    "evaluate_lr(membrane_receptors)"
   ]
  },
  {
   "cell_type": "code",
   "execution_count": null,
   "id": "f4f4ae91-b99b-4300-be3a-da2ee9a486b4",
   "metadata": {
    "tags": []
   },
   "outputs": [],
   "source": [
    "# evaluate the metabolite receptors\n",
    "evaluate_lr(metab_receptors)"
   ]
  },
  {
   "cell_type": "code",
   "execution_count": null,
   "id": "eb84f494-fc10-4e57-bb78-0a845fb6d93f",
   "metadata": {
    "tags": []
   },
   "outputs": [],
   "source": [
    "# evaluate the secreted protein\n",
    "evaluate_lr(secreted_receptors)"
   ]
  },
  {
   "cell_type": "code",
   "execution_count": null,
   "id": "e6959a21-ee70-4f78-8da6-ba7298320145",
   "metadata": {
    "tags": []
   },
   "outputs": [],
   "source": [
    "# evaluate the adhesion protein (only one)\n",
    "evaluate_lr(adhesion_receptors)"
   ]
  },
  {
   "cell_type": "markdown",
   "id": "eb14da29-3c86-4d0e-b04a-13380348d20f",
   "metadata": {},
   "source": [
    "### compare the spatial dynamics of each GPCR"
   ]
  },
  {
   "cell_type": "code",
   "execution_count": null,
   "id": "5f8ac498-47c6-4d0f-916b-f5eb351f3f60",
   "metadata": {
    "tags": []
   },
   "outputs": [],
   "source": [
    "# repeat with logistic regression\n",
    "def evaluate_lr_stat(receptor):\n",
    "    # retrieve the data\n",
    "    df_stat = pd.DataFrame(columns=['cutoff','auroc','auprc'])\n",
    "    np.random.seed(0)\n",
    "    for cutoff in range(1000, 20000+1000, 1000):\n",
    "        # grab the data\n",
    "        X = df_z.loc[(df_z['cutoff'] == cutoff)&(df_z['receptor'] == receptor)].copy()\n",
    "        y = X['ground_truth']\n",
    "        X = X[['z']]\n",
    "        # loop in a cross validated fashion\n",
    "        sss = StratifiedShuffleSplit(random_state=0)\n",
    "        for idxs_train, idxs_test in sss.split(X, y):\n",
    "            clf = LogisticRegression(random_state=0).fit(X.iloc[idxs_train], y.iloc[idxs_train])\n",
    "            probas = clf.predict_proba(X.iloc[idxs_test])[:, clf.classes_ == 1][:, 0]\n",
    "            truths = y.iloc[idxs_test]\n",
    "            df_stat.loc[df_stat.shape[0]] = cutoff, auc(*roc_curve(truths, probas)[:-1]), auc(*precision_recall_curve(truths, probas)[:-1][::-1])\n",
    "    # round the cutoffs\n",
    "    df_stat['cutoff'] = df_stat['cutoff'].apply(round)\n",
    "    return df_stat"
   ]
  },
  {
   "cell_type": "code",
   "execution_count": null,
   "id": "c7cece6d-c7ba-443d-bbc6-20096e381b9c",
   "metadata": {
    "tags": []
   },
   "outputs": [],
   "source": [
    "# extract a number of features\n",
    "def extract_it(df_stat, metric):\n",
    "    # derive average profiles\n",
    "    avgs = df_stat.groupby('cutoff').mean(numeric_only=True)[metric]\n",
    "    avgs.index = 'AVG-' + avgs.index.astype(str)\n",
    "    # derive timeseries profiles\n",
    "    # > corrs\n",
    "    cors = pd.Series()\n",
    "    cors.loc['CORR-PEARSON'] = ss.pearsonr(df_stat['cutoff'], df_stat[metric])[0]\n",
    "    cors.loc['CORR-SPEARMAN'] = ss.spearmanr(df_stat['cutoff'], df_stat[metric])[0]\n",
    "    # > rmses\n",
    "    model = np.polynomial.Polynomial(0)\n",
    "    model = model.fit(df_stat['cutoff'], df_stat[metric], 1)\n",
    "    cors.loc['RMSE-DEG1'] = np.sqrt(np.mean((model(df_stat['cutoff']) - df_stat[metric]) ** 2))\n",
    "    model = np.polynomial.Polynomial(0)\n",
    "    model = model.fit(df_stat['cutoff'], df_stat[metric], 2)\n",
    "    cors.loc['RMSE-DEG2'] = np.sqrt(np.mean((model(df_stat['cutoff']) - df_stat[metric]) ** 2))\n",
    "    # > difference between endpoints and midpoint\n",
    "    cors.loc['DIFF-ENDmSTART'] = avgs.loc['AVG-20000'] - avgs.loc['AVG-1000']\n",
    "    cors.loc['DIFF-ENDmMID'] = avgs.loc['AVG-20000'] - avgs.loc['AVG-10000']\n",
    "    cors.loc['DIFF-MIDmSTART'] = avgs.loc['AVG-10000'] - avgs.loc['AVG-1000']\n",
    "    # concatenate the features\n",
    "    features = pd.concat([avgs, cors], axis=0)\n",
    "    return features"
   ]
  },
  {
   "cell_type": "code",
   "execution_count": null,
   "id": "53b79386-b7bf-4f5f-87d2-17e723dabe6b",
   "metadata": {
    "tags": []
   },
   "outputs": [],
   "source": [
    "# instantiate tracking object for results\n",
    "r2p = {}\n",
    "# loop through each receptor\n",
    "receptors = df_intrxn_gpcrs['receptor'].unique()\n",
    "for receptor in tqdm(receptors):\n",
    "    try:\n",
    "        # compute the statistics\n",
    "        df_stat = evaluate_lr_stat(receptor)\n",
    "        # derive the features\n",
    "        feat_auroc = extract_it(df_stat, 'auroc')\n",
    "        feat_auprc = extract_it(df_stat, 'auprc')\n",
    "        r2p[receptor] = df_stat, feat_auroc, feat_auprc\n",
    "    except:\n",
    "        print(receptor)\n",
    "# dump the data\n",
    "with open('../outs/corr_lens/gbmffpe.r2p.pkl', 'wb') as f: pkl.dump(r2p, f)"
   ]
  },
  {
   "cell_type": "code",
   "execution_count": null,
   "id": "60cfdbaf-d518-4a52-91db-73811822166b",
   "metadata": {
    "tags": []
   },
   "outputs": [],
   "source": [
    "# retrieve auroc results\n",
    "ps = []\n",
    "for r, p in r2p.items():\n",
    "    ps.append(pd.Series(p[1], name=r))\n",
    "# compile into anndata object\n",
    "from anndata import AnnData\n",
    "a_p = AnnData(pd.concat(ps, axis=1).T)\n",
    "# normalize the data \n",
    "a_p.raw = a_p.copy()\n",
    "sc.pp.scale(a_p)"
   ]
  },
  {
   "cell_type": "code",
   "execution_count": null,
   "id": "ddeec0c1-e38b-4842-8862-01078b43182f",
   "metadata": {
    "tags": []
   },
   "outputs": [],
   "source": [
    "# compute PCA\n",
    "sc.tl.pca(a_p)\n",
    "sc.pl.pca_variance_ratio(a_p)\n",
    "# compute UMAP on the PCs\n",
    "sc.pp.neighbors(a_p, n_neighbors=5, use_rep='X_pca')\n",
    "sc.tl.umap(a_p)"
   ]
  },
  {
   "cell_type": "code",
   "execution_count": null,
   "id": "21fdd2ec-b408-4767-b516-610f00e243c7",
   "metadata": {
    "tags": []
   },
   "outputs": [],
   "source": [
    "# examine the predictive capacities\n",
    "sc.pl.umap(a_p, color=['AVG-1000', 'AVG-10000', 'AVG-20000'])\n",
    "sc.pl.umap(a_p, color=['CORR-PEARSON'], cmap='coolwarm', ncols=3)"
   ]
  },
  {
   "cell_type": "code",
   "execution_count": null,
   "id": "ee628e90-c601-40a6-bfb6-16534fbe1fe0",
   "metadata": {
    "tags": []
   },
   "outputs": [],
   "source": [
    "# color on the family\n",
    "a_p.obs['family'] = np.nan\n",
    "a_p.obs.loc[a_p.obs.index.str.startswith('NPY'), 'family'] = 'Neuropeptide Y'\n",
    "a_p.obs.loc[a_p.obs.index.str.startswith('GABBR'), 'family'] = 'GABA'\n",
    "a_p.obs.loc[a_p.obs.index.str.startswith('GRM'), 'family'] = 'Glutamate'\n",
    "a_p.obs.loc[a_p.obs.index.str.startswith('CHRM'), 'family'] = 'Acetylcholine'\n",
    "a_p.obs.loc[a_p.obs.index.str.startswith('CCR'), 'family'] = 'CCR Family'\n",
    "a_p.obs.loc[a_p.obs.index.str.startswith('CXCR'), 'family'] = 'CXCR Family'\n",
    "a_p.obs.loc[a_p.obs.index.str.startswith('ACKR'), 'family'] = 'ACKR Family'\n",
    "a_p.obs.loc[a_p.obs.index.str.startswith('ADOR'), 'family'] = 'Adenosine'\n",
    "a_p.obs.loc[a_p.obs.index.str.startswith('ADR'), 'family'] = 'Adrenaline'\n",
    "a_p.obs.loc[a_p.obs.index.str.startswith('AVPR'), 'family'] = 'Vasopressin'\n",
    "a_p.obs.loc[a_p.obs.index.str.startswith('C3'), 'family'] = 'Complement'\n",
    "a_p.obs.loc[a_p.obs.index.str.startswith('C5'), 'family'] = 'Complement'\n",
    "a_p.obs.loc[a_p.obs.index.str.startswith('DRD'), 'family'] = 'Dopamine'\n",
    "a_p.obs.loc[a_p.obs.index.str.startswith('GALR'), 'family'] = 'Galanin'\n",
    "a_p.obs.loc[a_p.obs.index.str.startswith('FPR'), 'family'] = 'Formyl'\n",
    "a_p.obs.loc[a_p.obs.index.str.startswith('HRH'), 'family'] = 'Histamine'\n",
    "a_p.obs.loc[a_p.obs.index.str.startswith('HTR'), 'family'] = 'Serotonin'\n",
    "a_p.obs.loc[a_p.obs.index.str.startswith('LGR'), 'family'] = 'LGR Family'\n",
    "sc.pl.umap(a_p, color=['family'])"
   ]
  },
  {
   "cell_type": "code",
   "execution_count": null,
   "id": "27067f65-bd4f-42a1-b6b1-f87e57b5dc94",
   "metadata": {
    "tags": []
   },
   "outputs": [],
   "source": [
    "# view leiden clusters of proteins\n",
    "sc.tl.leiden(a_p, resolution=0.8)\n",
    "a_p.uns['leiden_colors'] = sns.color_palette('Set2', 6).as_hex()\n",
    "sc.pl.umap(a_p, color=['leiden'])"
   ]
  },
  {
   "cell_type": "code",
   "execution_count": null,
   "id": "cb2d5f52-46c5-4aac-a1db-77edb6db2c31",
   "metadata": {
    "tags": []
   },
   "outputs": [],
   "source": [
    "# switch the colors to a more pleasing transition\n",
    "def switch_it(x1, x2):\n",
    "    cats = a_p.obs['leiden'].cat.categories.tolist()\n",
    "    i1, i2 = cats.index(x1), cats.index(x2)\n",
    "    c1, c2 = a_p.uns['leiden_colors'][i1], a_p.uns['leiden_colors'][i2]\n",
    "    a_p.uns['leiden_colors'][i1], a_p.uns['leiden_colors'][i2] = c2, c1\n",
    "switch_it('2', '3')\n",
    "switch_it('2', '4')\n",
    "switch_it('1', '4')\n",
    "switch_it('3', '0')\n",
    "sc.pl.umap(a_p, color=['leiden'])"
   ]
  },
  {
   "cell_type": "code",
   "execution_count": null,
   "id": "1a42ce12-48f7-453a-ae1d-e90687273e08",
   "metadata": {
    "tags": []
   },
   "outputs": [],
   "source": [
    "# write the data\n",
    "a_p.uns['leiden_colors'] = list(a_p.uns['leiden_colors'])\n",
    "a_p.write('../outs/corr_lens/gbmffpe.r2p.h5ad')"
   ]
  },
  {
   "cell_type": "markdown",
   "id": "13e09320-fdff-4ae1-aac5-f9a2e6e4d530",
   "metadata": {},
   "source": [
    "### examine LGR ligand expression as a function of distance"
   ]
  },
  {
   "cell_type": "code",
   "execution_count": null,
   "id": "2ee9b9fb-0e5e-49f5-bf16-18fffc25e518",
   "metadata": {
    "tags": []
   },
   "outputs": [],
   "source": [
    "# derive data\n",
    "ligands = df_intrxn_gpcrs['ligand'][df_intrxn_gpcrs['ligand'].str.startswith('RSPO')].unique()\n",
    "receptors = df_intrxn_gpcrs['receptor'][df_intrxn_gpcrs['ligand'].str.startswith('RSPO')].unique()\n",
    "ligands_v2 = df_intrxn_gpcrs['ligand'][df_intrxn_gpcrs['receptor'].isin(receptors)].unique()\n",
    "assert all(ligands == ligands_v2)"
   ]
  },
  {
   "cell_type": "code",
   "execution_count": null,
   "id": "2d0c9eb1-b7f0-48ae-82fa-56b6487e9882",
   "metadata": {
    "tags": []
   },
   "outputs": [],
   "source": [
    "# retrieve the expression\n",
    "genes = sorted(ligands)+sorted(receptors)\n",
    "genes += ['GAD1','GAD2','SLC6A1','SLC6A6','SLC6A8','SLC6A11','SLC6A12','SLC6A13','SLC32A1','GABBR1','GABBR2']\n",
    "genes += ['GLS','GLS2','SLC1A1','SLC1A2','SLC1A3','SLC1A6','SLC1A7','SLC17A6','SLC17A7','SLC17A8','GRM1','GRM2','GRM3','GRM4','GRM5','GRM6','GRM7','GRM8']\n",
    "df_gex = sc.get.obs_df(adata, keys=genes+['leiden'], use_raw=False)\n",
    "df_gex_mean = df_gex.groupby('leiden').mean()"
   ]
  },
  {
   "cell_type": "code",
   "execution_count": null,
   "id": "0a2e33b7-f825-49b5-8b6f-31ed1650be23",
   "metadata": {
    "tags": []
   },
   "outputs": [],
   "source": [
    "# assemble the data\n",
    "rows = []\n",
    "for cutoff in range(500, 20000+500, 500):\n",
    "    mask = dist[(dist > cutoff-500) & (dist <= cutoff)]\n",
    "    for idx in tqdm(mask.index):\n",
    "        idxs = mask.loc[idx].dropna().index\n",
    "        row = df_gex.loc[idxs, genes].mean(0).reset_index()\n",
    "        row.columns = ['gene','mean']\n",
    "        row['ci95'] = (df_gex.loc[idxs, genes].std(0) / np.sqrt(len(idxs)) * 1.96).values\n",
    "        row['cell'] = idx\n",
    "        row['bin_max'] = cutoff\n",
    "        row['bin_min'] = cutoff - 500\n",
    "        rows.append(row)"
   ]
  },
  {
   "cell_type": "code",
   "execution_count": null,
   "id": "2cbaf21a-8d47-4dd1-aee2-4c97f18439dd",
   "metadata": {
    "tags": []
   },
   "outputs": [],
   "source": [
    "# assemble rows together and map on leidens\n",
    "df_row = pd.concat(rows, axis=0)\n",
    "df_row = df_row.dropna()\n",
    "df_row = df_row.loc[df_row['bin_max'] <= 8000]"
   ]
  },
  {
   "cell_type": "code",
   "execution_count": null,
   "id": "d0373785-6dc0-4010-91bc-3f39403b73cb",
   "metadata": {
    "tags": []
   },
   "outputs": [],
   "source": [
    "ligand, receptor = ['RSPO3'], 'LGR5'\n",
    "\n",
    "# gather the data\n",
    "cells = df_gex.index[df_gex[receptor] > 0]\n",
    "mask = df_row['cell'].isin(cells)\n",
    "mask = mask & (df_row['gene'].isin(ligand))\n",
    "# acquire the values\n",
    "means = df_row.loc[mask].groupby('bin_max').mean(numeric_only=True)['mean']\n",
    "ci95s = df_row.loc[mask].groupby('bin_max').std(numeric_only=True)['mean'] * 1.96\n",
    "ci95s /= np.sqrt(df_row.loc[mask, 'bin_max'].value_counts())\n",
    "# present the data\n",
    "fig, ax = plt.subplots(figsize=[4, 4]); ax.grid(False)\n",
    "ax.scatter(means.index, means.values, color='xkcd:bright lilac')\n",
    "ax.plot(means.index, means.values, color='xkcd:bright lilac')\n",
    "for idx in means.index:\n",
    "    y = means[idx]\n",
    "    e = ci95s[idx]\n",
    "    ax.plot([idx]*2, [y-e, y+e], color='xkcd:bright lilac')\n",
    "ax.set_xticks([])\n",
    "ax.set(xlabel=f'Distance from ${receptor}$\\nexpressing spots →',\n",
    "       ylabel=f'${ligand[0]}$ gene expression')"
   ]
  },
  {
   "cell_type": "code",
   "execution_count": null,
   "id": "64d15cf0-1ce0-4991-8ab1-ef082b2a499b",
   "metadata": {
    "tags": []
   },
   "outputs": [],
   "source": [
    "ligand, receptor = ['RSPO2'], 'LGR4'\n",
    "\n",
    "# gather the data\n",
    "cells = df_gex.index[df_gex[receptor] > 0]\n",
    "mask = df_row['cell'].isin(cells)\n",
    "mask = mask & (df_row['gene'].isin(ligand))\n",
    "# acquire the values\n",
    "means = df_row.loc[mask].groupby('bin_max').mean(numeric_only=True)['mean']\n",
    "ci95s = df_row.loc[mask].groupby('bin_max').std(numeric_only=True)['mean'] * 1.96\n",
    "ci95s /= np.sqrt(df_row.loc[mask, 'bin_max'].value_counts())\n",
    "# present the data\n",
    "fig, ax = plt.subplots(figsize=[4, 4]); ax.grid(False)\n",
    "ax.scatter(means.index, means.values, color='xkcd:bright lilac')\n",
    "ax.plot(means.index, means.values, color='xkcd:bright lilac')\n",
    "for idx in means.index:\n",
    "    y = means[idx]\n",
    "    e = ci95s[idx]\n",
    "    ax.plot([idx]*2, [y-e, y+e], color='xkcd:bright lilac')\n",
    "ax.set_xticks([])\n",
    "ax.set(xlabel=f'Distance from ${receptor}$\\nexpressing spots →',\n",
    "       ylabel=f'${ligand[0]}$ gene expression')"
   ]
  },
  {
   "cell_type": "code",
   "execution_count": null,
   "id": "c81dae86-ae90-408a-ad60-86c87c6f4edf",
   "metadata": {
    "tags": []
   },
   "outputs": [],
   "source": [
    "# examine the over-arching behavior of ligands and receptors\n",
    "df_row_stat = pd.DataFrame(columns=['ligand','receptor','mean_min','mean_start','mean_end'])\n",
    "for ligand in ligands:\n",
    "    for receptor in receptors:\n",
    "        # define the masks\n",
    "        cells = df_gex.index[df_gex[receptor] > 0]\n",
    "        mask = df_row['cell'].isin(cells)\n",
    "        mask = mask & (df_row['gene'] == ligand)\n",
    "        # retrieve the average expressions\n",
    "        means = df_row.loc[mask].groupby('bin_max').mean(numeric_only=True)['mean']\n",
    "        # grab statistics of the behavior\n",
    "        df_row_stat.loc[df_row_stat.shape[0]] = ligand, receptor, means.min(), means.loc[1000], means.loc[8000]"
   ]
  },
  {
   "cell_type": "code",
   "execution_count": null,
   "id": "af82c6f2-77fe-4096-8e00-bf49b438552d",
   "metadata": {
    "tags": []
   },
   "outputs": [],
   "source": [
    "# derive the average df_z_mean at a small tissue size\n",
    "mask = df_z['ligand'].isin(ligands) | df_z['receptor'].isin(receptors)\n",
    "mask = mask & (df_z['ground_truth'] == 1) & (df_z['cutoff'] == 1000)\n",
    "df_z_mean_s = df_z.loc[mask].pivot_table(index='ligand', columns='receptor', values='z')\n",
    "# derive the average df_z_mean at a large tissue size\n",
    "mask = df_z['ligand'].isin(ligands) | df_z['receptor'].isin(receptors)\n",
    "mask = mask & (df_z['ground_truth'] == 1) & (df_z['cutoff'] == 8000)\n",
    "df_z_mean_l = df_z.loc[mask].pivot_table(index='ligand', columns='receptor', values='z')\n",
    "df_z_mean = df_z_mean_l"
   ]
  },
  {
   "cell_type": "code",
   "execution_count": null,
   "id": "0ac42f89-414f-4ee1-bf6f-574c9b642407",
   "metadata": {
    "tags": []
   },
   "outputs": [],
   "source": [
    "from matplotlib.cm import get_cmap\n",
    "from matplotlib.colors import to_hex\n",
    "# retrieve the values\n",
    "xs = df_row_stat['mean_start'] - df_row_stat['mean_min']\n",
    "# xs -= xs.mean(); xs /= xs.std()\n",
    "ys = df_row_stat['mean_end'] - df_row_stat['mean_min']\n",
    "# ys -= ys.mean(); ys /= ys.std()\n",
    "cmap = get_cmap('seismic')\n",
    "# plot the data\n",
    "fig, ax = plt.subplots(figsize=[4, 4])\n",
    "ax.grid(False)\n",
    "for idx in df_row_stat.index:\n",
    "    ligand, receptor = df_row_stat.loc[idx, ['ligand','receptor']].tolist()\n",
    "    c = cmap((df_z_mean.loc[ligand, receptor] + 4) / 8)\n",
    "    ax.scatter(xs[idx], ys[idx], c=c, s=30, edgecolor='k', linewidth=0.5, alpha=0.9)\n",
    "ax.set(xlabel='RSPO expr. proximal\\nto LGR+ spots (normalized)')\n",
    "ax.set(ylabel='RSPO expr. distant\\nto LGR+ spots (normalized)')\n",
    "ss.spearmanr(xs, ys)"
   ]
  },
  {
   "cell_type": "markdown",
   "id": "4858256a-e0cc-4dec-aa24-16cf1481b249",
   "metadata": {},
   "source": [
    "### examine GRM ligand expression as a function of distance"
   ]
  },
  {
   "cell_type": "code",
   "execution_count": null,
   "id": "78dce0ac-a00d-4542-bb3e-bea3c4674035",
   "metadata": {
    "tags": []
   },
   "outputs": [],
   "source": [
    "ligand, receptor = ['GLS','SLC1A3'], 'GRM6'\n",
    "\n",
    "# gather the data\n",
    "cells = df_gex.index[df_gex[receptor] > 0]\n",
    "mask = df_row['cell'].isin(cells)\n",
    "mask = mask & (df_row['gene'].isin(ligand))\n",
    "# acquire the values\n",
    "means = df_row.loc[mask].groupby('bin_max').mean(numeric_only=True)['mean']\n",
    "ci95s = df_row.loc[mask].groupby('bin_max').std(numeric_only=True)['mean'] * 1.96\n",
    "ci95s /= np.sqrt(df_row.loc[mask, 'bin_max'].value_counts())\n",
    "# present the data\n",
    "fig, ax = plt.subplots(figsize=[4, 4]); ax.grid(False)\n",
    "ax.scatter(means.index, means.values, color='xkcd:bright lilac')\n",
    "ax.plot(means.index, means.values, color='xkcd:bright lilac')\n",
    "for idx in means.index:\n",
    "    y = means[idx]\n",
    "    e = ci95s[idx]\n",
    "    ax.plot([idx]*2, [y-e, y+e], color='xkcd:bright lilac')\n",
    "ax.set_xticks([])\n",
    "ax.set(xlabel=f'Distance from ${receptor}$\\nexpressing spots →',\n",
    "       ylabel=f'Glutamate (${ligand[0]}$, ${ligand[1]}$)\\ngene expression')"
   ]
  },
  {
   "cell_type": "code",
   "execution_count": null,
   "id": "8acca213-e5ef-4ebc-9512-b8b55ef29409",
   "metadata": {
    "tags": []
   },
   "outputs": [],
   "source": [
    "ligand, receptor = ['GLS','SLC1A3'], 'GRM2'\n",
    "\n",
    "# gather the data\n",
    "cells = df_gex.index[df_gex[receptor] > 0]\n",
    "mask = df_row['cell'].isin(cells)\n",
    "mask = mask & (df_row['gene'].isin(ligand))\n",
    "# acquire the values\n",
    "means = df_row.loc[mask].groupby('bin_max').mean(numeric_only=True)['mean']\n",
    "ci95s = df_row.loc[mask].groupby('bin_max').std(numeric_only=True)['mean'] * 1.96\n",
    "ci95s /= np.sqrt(df_row.loc[mask, 'bin_max'].value_counts())\n",
    "# present the data\n",
    "fig, ax = plt.subplots(figsize=[4, 4]); ax.grid(False)\n",
    "ax.scatter(means.index, means.values, color='xkcd:bright lilac')\n",
    "ax.plot(means.index, means.values, color='xkcd:bright lilac')\n",
    "for idx in means.index:\n",
    "    y = means[idx]\n",
    "    e = ci95s[idx]\n",
    "    ax.plot([idx]*2, [y-e, y+e], color='xkcd:bright lilac')\n",
    "ax.set_xticks([])\n",
    "ax.set(xlabel=f'Distance from ${receptor}$\\nexpressing spots →',\n",
    "       ylabel=f'Glutamate (${ligand[0]}$, ${ligand[1]}$)\\ngene expression')"
   ]
  },
  {
   "cell_type": "code",
   "execution_count": null,
   "id": "a69dfeba-cf4b-4de4-abcd-f45d718c7800",
   "metadata": {
    "tags": []
   },
   "outputs": [],
   "source": [
    "# examine the over-arching behavior of ligands and receptors\n",
    "df_row_stat = pd.DataFrame(columns=['ligand','receptor','mean_min','mean_start','mean_end'])\n",
    "ligands_ = ['Glutamate_byGLS_and_SLC1A2', 'Glutamate_byGLS_and_SLC1A3',\n",
    " 'Glutamate_byGLS_and_SLC1A6', 'Glutamate_byGLS2_and_SLC1A1',\n",
    " 'Glutamate_byGLS2_and_SLC1A2', 'Glutamate_byGLS_and_SLC17A7',\n",
    " 'Glutamate_byGLS_and_SLC17A8', 'Glutamate_byGLS2_and_SLC17A7',\n",
    " 'Glutamate_byGLS2_and_SLC17A8', 'Glutamate_byGLS_and_SLC17A6',\n",
    " 'Glutamate_byGLS2_and_SLC17A6', 'Glutamate_byGLS_and_SLC1A7',\n",
    " 'Glutamate_byGLS_and_SLC1A1', 'Glutamate_byGLS2_and_SLC1A7',\n",
    " 'Glutamate_byGLS2_and_SLC1A6', 'Glutamate_byGLS2_and_SLC1A3']\n",
    "receptors_ = ['GRM1','GRM2','GRM3','GRM4','GRM5','GRM6','GRM7','GRM8']\n",
    "for ligand in ligands_:\n",
    "    for receptor in receptors_:\n",
    "        # define the masks\n",
    "        cells = df_gex.index[df_gex[receptor] > 0]\n",
    "        mask = df_row['cell'].isin(cells)\n",
    "        ligand_ = ligand.split('_by')[-1].split('_and_')\n",
    "        mask = mask & (df_row['gene'].isin(ligand_))\n",
    "        # retrieve the average expressions\n",
    "        means = df_row.loc[mask].groupby('bin_max').mean(numeric_only=True)['mean']\n",
    "        # grab statistics of the behavior\n",
    "        df_row_stat.loc[df_row_stat.shape[0]] = ligand, receptor, means.min(), means.loc[1000], means.loc[8000]"
   ]
  },
  {
   "cell_type": "code",
   "execution_count": null,
   "id": "64c5c3be-a870-4782-a066-7916f30dc83f",
   "metadata": {
    "tags": []
   },
   "outputs": [],
   "source": [
    "# derive the average df_z_mean at a small tissue size\n",
    "mask = df_z['ligand'].isin(ligands_) | df_z['receptor'].isin(receptors_)\n",
    "mask = mask & (df_z['ground_truth'] == 1) & (df_z['cutoff'] == 1000)\n",
    "df_z_mean_s = df_z.loc[mask].pivot_table(index='ligand', columns='receptor', values='z')\n",
    "# derive the average df_z_mean at a large tissue size\n",
    "mask = df_z['ligand'].isin(ligands_) | df_z['receptor'].isin(receptors_)\n",
    "mask = mask & (df_z['ground_truth'] == 1) & (df_z['cutoff'] == 8000)\n",
    "df_z_mean_l = df_z.loc[mask].pivot_table(index='ligand', columns='receptor', values='z')\n",
    "df_z_mean = df_z_mean_l"
   ]
  },
  {
   "cell_type": "code",
   "execution_count": null,
   "id": "e560a5d1-a47a-46e5-8b9a-5b79dfeca426",
   "metadata": {
    "tags": []
   },
   "outputs": [],
   "source": [
    "# retrieve the values\n",
    "xs = df_row_stat['mean_start'] - df_row_stat['mean_min']\n",
    "# xs -= xs.mean(); xs /= xs.std()\n",
    "ys = df_row_stat['mean_end'] - df_row_stat['mean_min']\n",
    "# ys -= ys.mean(); ys /= ys.std()\n",
    "cmap = get_cmap('seismic')\n",
    "# plot the data\n",
    "fig, ax = plt.subplots(figsize=[4, 4])\n",
    "ax.grid(False)\n",
    "for idx in df_row_stat.index:\n",
    "    ligand, receptor = df_row_stat.loc[idx, ['ligand','receptor']].tolist()\n",
    "    c = cmap((df_z_mean.loc[ligand, receptor] + 4) / 8)\n",
    "    ax.scatter(xs[idx], ys[idx], c=c, s=30, edgecolor='k', linewidth=0.5, alpha=0.9)\n",
    "ax.set(xlabel='Glutamate expr. proximal\\nto GRM+ spots (normalized)')\n",
    "ax.set(ylabel='Glutamate expr. distant\\nto GRM+ spots (normalized)')\n",
    "ss.spearmanr(xs, ys)"
   ]
  },
  {
   "cell_type": "markdown",
   "id": "0b488041-3b50-4f6a-ac2c-8f28132ffa91",
   "metadata": {},
   "source": [
    "### examine correlation between the expression profiles of GPCRs from LGR and GRM families"
   ]
  },
  {
   "cell_type": "code",
   "execution_count": null,
   "id": "6eb8b644-50b4-478c-9f70-f8c81bdb14b6",
   "metadata": {},
   "outputs": [],
   "source": [
    "# define the genes to examine\n",
    "genes = ['LGR4','LGR5','LGR6']\n",
    "df_gex = sc.get.obs_df(adata, keys=genes, use_raw=False)\n",
    "# compute the correlations\n",
    "df_r = df_gex[genes].corr()\n",
    "def get_p(xs, ys): return ss.pearsonr(xs, ys)[1]\n",
    "df_p = df_gex[genes].corr(method=get_p)\n",
    "for idx in df_p.index:\n",
    "    df_p.loc[idx, idx] = 0\n",
    "# plot on clustermap\n",
    "g = sns.clustermap(df_r, vmin=-0.1, vmax=0.1, cmap='seismic', mask=df_p >= 0.05, method='ward',\n",
    "                   figsize=[3, 3], cbar_pos=(0, .85, .023, .13), fmt='.2f', annot=True)\n",
    "g.ax_heatmap.grid(False); g.ax_cbar.grid(False)\n",
    "g.ax_heatmap.set_facecolor('lightgray')\n",
    "g.ax_heatmap.tick_params(labelrotation=0)"
   ]
  },
  {
   "cell_type": "code",
   "execution_count": null,
   "id": "ef93427a-46fc-4b99-88de-0f96cc84fbee",
   "metadata": {
    "tags": []
   },
   "outputs": [],
   "source": [
    "# # define the genes to examine\n",
    "# genes = ['GRM1','GRM2','GRM3','GRM4','GRM5','GRM6','GRM7','GRM8']\n",
    "# df_gex = sc.get.obs_df(adata, keys=genes, use_raw=False)\n",
    "# # compute the correlations\n",
    "# df_r = df_gex[genes].corr()\n",
    "# df_p = df_gex[genes].corr(method=get_p)\n",
    "# for idx in df_p.index:\n",
    "#     df_p.loc[idx, idx] = 0\n",
    "# plot on clustermap\n",
    "g = sns.clustermap(df_r, vmin=-0.1, vmax=0.1, cmap='seismic', mask=df_p >= 0.05, method='ward',\n",
    "                   figsize=[6, 6], cbar_pos=(-0.02, .87, .015, .09), fmt='.2f', annot=True,\n",
    "                   dendrogram_ratio=(.1, .1))\n",
    "g.ax_heatmap.grid(False); g.ax_cbar.grid(False)\n",
    "g.ax_heatmap.set_facecolor('lightgray')"
   ]
  },
  {
   "cell_type": "markdown",
   "id": "e9cb3073-4bb0-4202-a6f3-f346c1388c4d",
   "metadata": {},
   "source": [
    "### examine how protein sequence links to a receptor's spatial dynamics"
   ]
  },
  {
   "cell_type": "code",
   "execution_count": null,
   "id": "39762b32-5117-4b0c-8df5-2a5e290d9de1",
   "metadata": {
    "tags": []
   },
   "outputs": [],
   "source": [
    "# read in the data\n",
    "a_gbm = sc.read_h5ad('../outs/corr_lens/gbmffpe.r2p.h5ad')"
   ]
  },
  {
   "cell_type": "code",
   "execution_count": null,
   "id": "dbbcaf4b-216b-478a-9176-e0bbe3516092",
   "metadata": {
    "tags": []
   },
   "outputs": [],
   "source": [
    "from esm.sdk.forge import ESM3ForgeInferenceClient\n",
    "from esm.sdk.api import ESMProtein, LogitsConfig\n",
    "from esm.sdk import batch_executor\n",
    "\n",
    "def embed_sequence(client: ESM3ForgeInferenceClient, sequence: str):\n",
    "    protein = ESMProtein(sequence=sequence)\n",
    "    protein_tensor = client.encode(protein)\n",
    "    output = client.logits(protein_tensor, LogitsConfig(sequence=True, return_embeddings=True))\n",
    "    return output\n",
    "\n",
    "# define the sequences for GBM\n",
    "sequences = a_gbm.obs['sequence'].tolist()\n",
    "token = '2igyRQLG8JXwkqDAB5cBlb'\n",
    "client =  ESM3ForgeInferenceClient(model='esmc-6b-2024-12', token=token)\n",
    "\n",
    "with batch_executor() as executor:\n",
    "    outputs = executor.execute_batch(user_func=embed_sequence, client=client, sequence=sequences)\n",
    "print('finished calling...')\n",
    "outputs = np.array([[0]*2560 if isinstance(x, ValueError) else x.embeddings.mean(1)[0].numpy() for x in outputs])\n",
    "outputs = pd.DataFrame(outputs, index=sequences)"
   ]
  },
  {
   "cell_type": "code",
   "execution_count": null,
   "id": "6a7fe2a3-23c5-410c-a6d3-a767418fccf9",
   "metadata": {
    "tags": []
   },
   "outputs": [],
   "source": [
    "# exceeds maximum sequence length\n",
    "sequences_backup = outputs.index[outputs.sum(1) == 0]\n",
    "print(sequences_backup.shape[0])"
   ]
  },
  {
   "cell_type": "code",
   "execution_count": null,
   "id": "993e634b-df70-4b49-9c1d-555bb86d4d52",
   "metadata": {
    "tags": []
   },
   "outputs": [],
   "source": [
    "# skip that sequence\n",
    "print(outputs.shape[0])\n",
    "outputs = outputs.loc[outputs.sum(1) != 0]\n",
    "print(outputs.shape[0])"
   ]
  },
  {
   "cell_type": "code",
   "execution_count": null,
   "id": "1b6fd751-371c-4d61-bbf9-69f2f4b9f133",
   "metadata": {
    "tags": []
   },
   "outputs": [],
   "source": [
    "# add on the ESM3-C embedding\n",
    "a_gbm_ = a_gbm[a_gbm.obs['sequence'].isin(outputs.index)].copy()\n",
    "a_gbm_.obsm['X_esm'] = outputs.values"
   ]
  },
  {
   "cell_type": "markdown",
   "id": "9515a1f6-2168-46f6-9c0b-cff5dc52230c",
   "metadata": {},
   "source": [
    "#### create a PCA projection of ESM features"
   ]
  },
  {
   "cell_type": "code",
   "execution_count": null,
   "id": "12b80a69-cb69-43b7-949f-912f05744193",
   "metadata": {
    "tags": []
   },
   "outputs": [],
   "source": [
    "from sklearn.decomposition import PCA\n",
    "# compute PCs\n",
    "pca = PCA(n_components=50)\n",
    "pca.fit(a_gbm_.obsm['X_esm'].T)\n",
    "a_gbm_.obsm['X_pca_esm'] = pca.components_.T"
   ]
  },
  {
   "cell_type": "code",
   "execution_count": null,
   "id": "2bbfc1f4-b96c-4988-a070-0c0e08cefb2c",
   "metadata": {
    "tags": []
   },
   "outputs": [],
   "source": [
    "# examine the data with log\n",
    "fig, ax = plt.subplots(figsize=[4, 4]); ax.grid(False)\n",
    "ax.scatter(range(1, 50+1, 1), np.log10(pca.explained_variance_ratio_), color='k')\n",
    "ax.plot(range(1, 50+1, 1), np.log10(pca.explained_variance_ratio_), color='k')\n",
    "ax.set(xlabel='PCs', ylabel='log$_{10}$(Explained Variance Ratio)')"
   ]
  },
  {
   "cell_type": "code",
   "execution_count": null,
   "id": "26107400-c0b7-404f-acd8-900a7c47b2a1",
   "metadata": {
    "tags": []
   },
   "outputs": [],
   "source": [
    "# examine the data\n",
    "fig, ax = plt.subplots(figsize=[4, 4]); ax.grid(False)\n",
    "ax.scatter(range(1, 50+1, 1), pca.explained_variance_ratio_, color='k')\n",
    "ax.plot(range(1, 50+1, 1), pca.explained_variance_ratio_, color='k')\n",
    "ax.set(xlabel='PCs', ylabel='Explained Variance Ratio')"
   ]
  },
  {
   "cell_type": "code",
   "execution_count": null,
   "id": "2874c07c-c599-48fd-96a8-fbf47bc2a15a",
   "metadata": {
    "tags": []
   },
   "outputs": [],
   "source": [
    "# recompute UMAP based on ESM3-C embedding\n",
    "sc.pp.neighbors(a_gbm_, use_rep='X_pca_esm', n_pcs=30, n_neighbors=10)\n",
    "sc.tl.umap(a_gbm_)"
   ]
  },
  {
   "cell_type": "markdown",
   "id": "a34dd718-6cbf-43d1-a887-f047d5e0302b",
   "metadata": {},
   "source": [
    "#### project spatial dynamic clusters onto the protein sequence derived embedding"
   ]
  },
  {
   "cell_type": "code",
   "execution_count": null,
   "id": "487e5497-7920-4b77-9dc0-1028d086cb1c",
   "metadata": {
    "tags": []
   },
   "outputs": [],
   "source": [
    "# examine spatial markings on the protein embeddings\n",
    "sc.pl.umap(a_gbm_, color=['leiden'])"
   ]
  },
  {
   "cell_type": "code",
   "execution_count": null,
   "id": "26e678e0-d8a8-48d0-891c-1f60218bd81f",
   "metadata": {
    "tags": []
   },
   "outputs": [],
   "source": [
    "# examine the density of the clusters\n",
    "sc.tl.embedding_density(a_gbm_, groupby='leiden')\n",
    "sc.pl.embedding_density(a_gbm_, key='umap_density_leiden', color_map='Blues', ncols=3, bg_dotsize=4e2, fg_dotsize=6e2)"
   ]
  }
 ],
 "metadata": {
  "kernelspec": {
   "display_name": "Environment (base_py39)",
   "language": "python",
   "name": "base_py39"
  },
  "language_info": {
   "codemirror_mode": {
    "name": "ipython",
    "version": 3
   },
   "file_extension": ".py",
   "mimetype": "text/x-python",
   "name": "python",
   "nbconvert_exporter": "python",
   "pygments_lexer": "ipython3",
   "version": "3.9.18"
  }
 },
 "nbformat": 4,
 "nbformat_minor": 5
}
